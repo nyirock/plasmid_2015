{
 "cells": [
  {
   "cell_type": "markdown",
   "metadata": {},
   "source": [
    "#Fire up GraphLab Create"
   ]
  },
  {
   "cell_type": "code",
   "execution_count": 1,
   "metadata": {
    "collapsed": false
   },
   "outputs": [
    {
     "name": "stderr",
     "output_type": "stream",
     "text": [
      "A newer version of GraphLab Create (v1.7.1) is available! Your current version is v1.6.1.\n",
      "\n",
      "You can use pip to upgrade the graphlab-create package. For more information see https://dato.com/products/create/upgrade.\n"
     ]
    }
   ],
   "source": [
    "import graphlab\n",
    "import pandas\n",
    "from Bio import SeqIO"
   ]
  },
  {
   "cell_type": "markdown",
   "metadata": {},
   "source": [
    "#Load a tabular data set"
   ]
  },
  {
   "cell_type": "code",
   "execution_count": 2,
   "metadata": {
    "collapsed": false
   },
   "outputs": [
    {
     "name": "stderr",
     "output_type": "stream",
     "text": [
      "[INFO] This non-commercial license of GraphLab Create is assigned to andriy.sheremet@ucalgary.ca and will expire on October 26, 2016. For commercial licensing options, visit https://dato.com/buy/.\n",
      "\n",
      "[INFO] Start server at: ipc:///tmp/graphlab_server-11240 - Server binary: C:\\Anaconda\\lib\\site-packages\\graphlab\\unity_server.exe - Server log: C:\\Users\\Andriy\\AppData\\Local\\Temp\\graphlab_server_1448140378.log.0\n",
      "[INFO] GraphLab Server Version: 1.6.1\n"
     ]
    },
    {
     "name": "stdout",
     "output_type": "stream",
     "text": [
      "PROGRESS: Finished parsing file D:\\library\\lessons\\CMMB 637 Advanced Topics in Molecular Microbiology\\genome_annot\\people-example.csv\n",
      "PROGRESS: Parsing completed. Parsed 7 lines in 0.03125 secs.\n",
      "------------------------------------------------------\n",
      "Inferred types from first line of file as \n",
      "column_type_hints=[str,str,str,long]\n",
      "If parsing fails due to incorrect types, you can correct\n",
      "the inferred type list above and pass it to read_csv in\n",
      "the column_type_hints argument\n",
      "------------------------------------------------------\n",
      "PROGRESS: Finished parsing file D:\\library\\lessons\\CMMB 637 Advanced Topics in Molecular Microbiology\\genome_annot\\people-example.csv\n",
      "PROGRESS: Parsing completed. Parsed 7 lines in 0.015637 secs.\n",
      "PROGRESS: Finished parsing file D:\\library\\lessons\\CMMB 637 Advanced Topics in Molecular Microbiology\\genome_annot\\table1.tsv\n",
      "PROGRESS: Parsing completed. Parsed 100 lines in 0.015624 secs.\n",
      "------------------------------------------------------\n",
      "Inferred types from first line of file as \n",
      "column_type_hints=[str,str,str,long,long,long,str,long,str,str,str,str]\n",
      "If parsing fails due to incorrect types, you can correct\n",
      "the inferred type list above and pass it to read_csv in\n",
      "the column_type_hints argument\n",
      "------------------------------------------------------\n",
      "PROGRESS: Finished parsing file D:\\library\\lessons\\CMMB 637 Advanced Topics in Molecular Microbiology\\genome_annot\\table1.tsv\n",
      "PROGRESS: Parsing completed. Parsed 1575 lines in 0.015625 secs.\n"
     ]
    }
   ],
   "source": [
    "sf=graphlab.SFrame('people-example.csv')\n",
    "table1=graphlab.SFrame('table1.tsv')\n",
    "hand_nt=open('1648.160_nt.fna', 'r')\n",
    "hand_aa=open('1648.160.faa', 'r')\n",
    "\n",
    "table1_nt=hand_nt.read()\n",
    "table1_aa=hand_aa.read()\n",
    "\n",
    "hand_nt.close()\n",
    "hand_aa.close()\n"
   ]
  },
  {
   "cell_type": "markdown",
   "metadata": {},
   "source": [
    "##Defining user functions"
   ]
  },
  {
   "cell_type": "code",
   "execution_count": 12,
   "metadata": {
    "collapsed": true
   },
   "outputs": [],
   "source": [
    "def returnLen(text):\n",
    "    return len(text)\n",
    "\n",
    "def gc(dna):\n",
    "    \"This function computes the GC ratio of a dna sequence\"\n",
    "    nbases=dna.count('n')+dna.count('N')\n",
    "    gc_cont=float(dna.count('c')+dna.count('C')+dna.count('g')+dna.count('G'))/(len(dna)-nbases)\n",
    "    return gc_cont"
   ]
  },
  {
   "cell_type": "markdown",
   "metadata": {},
   "source": [
    "#Processing FastA files"
   ]
  },
  {
   "cell_type": "code",
   "execution_count": 30,
   "metadata": {
    "collapsed": false
   },
   "outputs": [],
   "source": [
    "sf #we can view first few lines of the table\n",
    "#table1_aa\n",
    "#table1_nt\n",
    "lst_aa=table1_aa.split('>')\n",
    "lst_nt=table1_nt.split('>')\n",
    "lst_nt=lst_nt[1:]#first (No. 0) list item is empty\n",
    "#dict_nt\n",
    "lst_aa=lst_aa[1:]# the same for amino acids"
   ]
  },
  {
   "cell_type": "markdown",
   "metadata": {},
   "source": [
    "#Converting gbk-file"
   ]
  },
  {
   "cell_type": "code",
   "execution_count": 3,
   "metadata": {
    "collapsed": false
   },
   "outputs": [
    {
     "data": {
      "text/plain": [
       "723"
      ]
     },
     "execution_count": 3,
     "metadata": {},
     "output_type": "execute_result"
    }
   ],
   "source": [
    "SeqIO.convert(\"1648.160.gbk\", \"genbank\", \"1648.160_To_FastA.fna\", \"fasta\") #output is not so friendly"
   ]
  },
  {
   "cell_type": "markdown",
   "metadata": {},
   "source": [
    "###Trying to improve\n",
    "<http://www2.warwick.ac.uk/fac/sci/moac/people/students/peter_cock/python/genbank2fasta/>"
   ]
  },
  {
   "cell_type": "code",
   "execution_count": 7,
   "metadata": {
    "collapsed": false
   },
   "outputs": [],
   "source": [
    "\n",
    "#hand_gb=open('1648.160.gbk','r')\n",
    "#out_file = \"1648.160_To_FastA_parced.fna\"\n",
    "#hand_out = open(out_file, \"w\")\n",
    "\n",
    "#for seq_record in SeqIO.parse(hand_gb, \"genbank\") :\n",
    "#    print \"Dealing with GenBank record %s\" % seq_record.id\n",
    "#    hand_out.write(\">%s %s\\n%s\\n\" % (\n",
    "#           seq_record.id,\n",
    "#           seq_record.description,\n",
    "#           seq_record.seq))\n",
    "\n",
    "#hand_out.close()\n",
    "#hand_gb.close()"
   ]
  },
  {
   "cell_type": "markdown",
   "metadata": {},
   "source": [
    "##This seems even better that all I've done before: there's one file containing all the data\n",
    "tab separated text format"
   ]
  },
  {
   "cell_type": "code",
   "execution_count": 2,
   "metadata": {
    "collapsed": false,
    "scrolled": true
   },
   "outputs": [
    {
     "name": "stderr",
     "output_type": "stream",
     "text": [
      "[INFO] This non-commercial license of GraphLab Create is assigned to andriy.sheremet@ucalgary.ca and will expire on October 26, 2016. For commercial licensing options, visit https://dato.com/buy/.\n",
      "\n",
      "[INFO] Start server at: ipc:///tmp/graphlab_server-10556 - Server binary: C:\\Anaconda\\lib\\site-packages\\graphlab\\unity_server.exe - Server log: C:\\Users\\Andriy\\AppData\\Local\\Temp\\graphlab_server_1448764274.log.0\n",
      "[INFO] GraphLab Server Version: 1.6.1\n"
     ]
    },
    {
     "name": "stdout",
     "output_type": "stream",
     "text": [
      "PROGRESS: Finished parsing file D:\\library\\lessons\\CMMB 549 Microbial Genetics\\plasmidAnnot\\plasmid_2015\\6666666.156894.tsv\n",
      "PROGRESS: Parsing completed. Parsed 100 lines in 0.02802 secs.\n",
      "------------------------------------------------------\n",
      "Inferred types from first line of file as \n",
      "column_type_hints=[str,str,str,str,long,long,str,str,str,str,str,str,str]\n",
      "If parsing fails due to incorrect types, you can correct\n",
      "the inferred type list above and pass it to read_csv in\n",
      "the column_type_hints argument\n",
      "------------------------------------------------------\n",
      "PROGRESS: Finished parsing file D:\\library\\lessons\\CMMB 549 Microbial Genetics\\plasmidAnnot\\plasmid_2015\\6666666.156894.tsv\n",
      "PROGRESS: Parsing completed. Parsed 576 lines in 0.017013 secs.\n",
      "Canvas is accessible via web browser at the URL: http://localhost:64154/index.html\n",
      "Opening Canvas in default web browser.\n"
     ]
    }
   ],
   "source": [
    "Banks969_Li_SFrame=graphlab.SFrame('6666666.156894.tsv')\n",
    "Banks969_Li_SFrame\n",
    "Banks969_Li_SFrame.show()"
   ]
  },
  {
   "cell_type": "markdown",
   "metadata": {},
   "source": [
    "##Adding new columns: Nt_length, GC content, Aa_length\n",
    "!Attention: if used this way, RNA data, specifically, GC content will be included in the calculations\n",
    "filter it out if it isn't needed, or use data obtained from convertion of fastA files"
   ]
  },
  {
   "cell_type": "code",
   "execution_count": 23,
   "metadata": {
    "collapsed": false
   },
   "outputs": [
    {
     "data": {
      "text/html": [
       "<div style=\"max-height:1000px;max-width:1500px;overflow:auto;\"><table frame=\"box\" rules=\"cols\">\n",
       "    <tr>\n",
       "        <th style=\"padding-left: 1em; padding-right: 1em; text-align: center\">contig_id</th>\n",
       "        <th style=\"padding-left: 1em; padding-right: 1em; text-align: center\">feature_id</th>\n",
       "        <th style=\"padding-left: 1em; padding-right: 1em; text-align: center\">type</th>\n",
       "        <th style=\"padding-left: 1em; padding-right: 1em; text-align: center\">location</th>\n",
       "        <th style=\"padding-left: 1em; padding-right: 1em; text-align: center\">start</th>\n",
       "        <th style=\"padding-left: 1em; padding-right: 1em; text-align: center\">stop</th>\n",
       "        <th style=\"padding-left: 1em; padding-right: 1em; text-align: center\">strand</th>\n",
       "    </tr>\n",
       "    <tr>\n",
       "        <td style=\"padding-left: 1em; padding-right: 1em; text-align: center; vertical-align: top\">NODE_100_length_4674_cov_<br>7.14051_ID_199 ...</td>\n",
       "        <td style=\"padding-left: 1em; padding-right: 1em; text-align: center; vertical-align: top\">fig|1648.160.peg.1</td>\n",
       "        <td style=\"padding-left: 1em; padding-right: 1em; text-align: center; vertical-align: top\">peg</td>\n",
       "        <td style=\"padding-left: 1em; padding-right: 1em; text-align: center; vertical-align: top\">NODE_100_length_4674_cov_<br>7.14051_ID_199_39_530 ...</td>\n",
       "        <td style=\"padding-left: 1em; padding-right: 1em; text-align: center; vertical-align: top\">39</td>\n",
       "        <td style=\"padding-left: 1em; padding-right: 1em; text-align: center; vertical-align: top\">530</td>\n",
       "        <td style=\"padding-left: 1em; padding-right: 1em; text-align: center; vertical-align: top\">+</td>\n",
       "    </tr>\n",
       "    <tr>\n",
       "        <td style=\"padding-left: 1em; padding-right: 1em; text-align: center; vertical-align: top\">NODE_100_length_4674_cov_<br>7.14051_ID_199 ...</td>\n",
       "        <td style=\"padding-left: 1em; padding-right: 1em; text-align: center; vertical-align: top\">fig|1648.160.peg.2</td>\n",
       "        <td style=\"padding-left: 1em; padding-right: 1em; text-align: center; vertical-align: top\">peg</td>\n",
       "        <td style=\"padding-left: 1em; padding-right: 1em; text-align: center; vertical-align: top\">NODE_100_length_4674_cov_<br>7.14051_ID_199_693_1601 ...</td>\n",
       "        <td style=\"padding-left: 1em; padding-right: 1em; text-align: center; vertical-align: top\">693</td>\n",
       "        <td style=\"padding-left: 1em; padding-right: 1em; text-align: center; vertical-align: top\">1601</td>\n",
       "        <td style=\"padding-left: 1em; padding-right: 1em; text-align: center; vertical-align: top\">+</td>\n",
       "    </tr>\n",
       "    <tr>\n",
       "        <td style=\"padding-left: 1em; padding-right: 1em; text-align: center; vertical-align: top\">NODE_100_length_4674_cov_<br>7.14051_ID_199 ...</td>\n",
       "        <td style=\"padding-left: 1em; padding-right: 1em; text-align: center; vertical-align: top\">fig|1648.160.peg.3</td>\n",
       "        <td style=\"padding-left: 1em; padding-right: 1em; text-align: center; vertical-align: top\">peg</td>\n",
       "        <td style=\"padding-left: 1em; padding-right: 1em; text-align: center; vertical-align: top\">NODE_100_length_4674_cov_<br>7.14051_ID_199_1594_2829 ...</td>\n",
       "        <td style=\"padding-left: 1em; padding-right: 1em; text-align: center; vertical-align: top\">1594</td>\n",
       "        <td style=\"padding-left: 1em; padding-right: 1em; text-align: center; vertical-align: top\">2829</td>\n",
       "        <td style=\"padding-left: 1em; padding-right: 1em; text-align: center; vertical-align: top\">+</td>\n",
       "    </tr>\n",
       "    <tr>\n",
       "        <td style=\"padding-left: 1em; padding-right: 1em; text-align: center; vertical-align: top\">NODE_100_length_4674_cov_<br>7.14051_ID_199 ...</td>\n",
       "        <td style=\"padding-left: 1em; padding-right: 1em; text-align: center; vertical-align: top\">fig|1648.160.peg.4</td>\n",
       "        <td style=\"padding-left: 1em; padding-right: 1em; text-align: center; vertical-align: top\">peg</td>\n",
       "        <td style=\"padding-left: 1em; padding-right: 1em; text-align: center; vertical-align: top\">NODE_100_length_4674_cov_<br>7.14051_ID_199_3666_2881 ...</td>\n",
       "        <td style=\"padding-left: 1em; padding-right: 1em; text-align: center; vertical-align: top\">3666</td>\n",
       "        <td style=\"padding-left: 1em; padding-right: 1em; text-align: center; vertical-align: top\">2881</td>\n",
       "        <td style=\"padding-left: 1em; padding-right: 1em; text-align: center; vertical-align: top\">-</td>\n",
       "    </tr>\n",
       "    <tr>\n",
       "        <td style=\"padding-left: 1em; padding-right: 1em; text-align: center; vertical-align: top\">NODE_100_length_4674_cov_<br>7.14051_ID_199 ...</td>\n",
       "        <td style=\"padding-left: 1em; padding-right: 1em; text-align: center; vertical-align: top\">fig|1648.160.peg.5</td>\n",
       "        <td style=\"padding-left: 1em; padding-right: 1em; text-align: center; vertical-align: top\">peg</td>\n",
       "        <td style=\"padding-left: 1em; padding-right: 1em; text-align: center; vertical-align: top\">NODE_100_length_4674_cov_<br>7.14051_ID_199_4297_3758 ...</td>\n",
       "        <td style=\"padding-left: 1em; padding-right: 1em; text-align: center; vertical-align: top\">4297</td>\n",
       "        <td style=\"padding-left: 1em; padding-right: 1em; text-align: center; vertical-align: top\">3758</td>\n",
       "        <td style=\"padding-left: 1em; padding-right: 1em; text-align: center; vertical-align: top\">-</td>\n",
       "    </tr>\n",
       "    <tr>\n",
       "        <td style=\"padding-left: 1em; padding-right: 1em; text-align: center; vertical-align: top\">NODE_101_length_4672_cov_<br>9.29831_ID_201 ...</td>\n",
       "        <td style=\"padding-left: 1em; padding-right: 1em; text-align: center; vertical-align: top\">fig|1648.160.peg.6</td>\n",
       "        <td style=\"padding-left: 1em; padding-right: 1em; text-align: center; vertical-align: top\">peg</td>\n",
       "        <td style=\"padding-left: 1em; padding-right: 1em; text-align: center; vertical-align: top\">NODE_101_length_4672_cov_<br>9.29831_ID_201_4524_3769 ...</td>\n",
       "        <td style=\"padding-left: 1em; padding-right: 1em; text-align: center; vertical-align: top\">4524</td>\n",
       "        <td style=\"padding-left: 1em; padding-right: 1em; text-align: center; vertical-align: top\">3769</td>\n",
       "        <td style=\"padding-left: 1em; padding-right: 1em; text-align: center; vertical-align: top\">-</td>\n",
       "    </tr>\n",
       "    <tr>\n",
       "        <td style=\"padding-left: 1em; padding-right: 1em; text-align: center; vertical-align: top\">NODE_102_length_4655_cov_<br>7.745_ID_203 ...</td>\n",
       "        <td style=\"padding-left: 1em; padding-right: 1em; text-align: center; vertical-align: top\">fig|1648.160.peg.7</td>\n",
       "        <td style=\"padding-left: 1em; padding-right: 1em; text-align: center; vertical-align: top\">peg</td>\n",
       "        <td style=\"padding-left: 1em; padding-right: 1em; text-align: center; vertical-align: top\">NODE_102_length_4655_cov_<br>7.745_ID_203_1744_830 ...</td>\n",
       "        <td style=\"padding-left: 1em; padding-right: 1em; text-align: center; vertical-align: top\">1744</td>\n",
       "        <td style=\"padding-left: 1em; padding-right: 1em; text-align: center; vertical-align: top\">830</td>\n",
       "        <td style=\"padding-left: 1em; padding-right: 1em; text-align: center; vertical-align: top\">-</td>\n",
       "    </tr>\n",
       "    <tr>\n",
       "        <td style=\"padding-left: 1em; padding-right: 1em; text-align: center; vertical-align: top\">NODE_102_length_4655_cov_<br>7.745_ID_203 ...</td>\n",
       "        <td style=\"padding-left: 1em; padding-right: 1em; text-align: center; vertical-align: top\">fig|1648.160.peg.8</td>\n",
       "        <td style=\"padding-left: 1em; padding-right: 1em; text-align: center; vertical-align: top\">peg</td>\n",
       "        <td style=\"padding-left: 1em; padding-right: 1em; text-align: center; vertical-align: top\">NODE_102_length_4655_cov_<br>7.745_ID_203_2906_1728 ...</td>\n",
       "        <td style=\"padding-left: 1em; padding-right: 1em; text-align: center; vertical-align: top\">2906</td>\n",
       "        <td style=\"padding-left: 1em; padding-right: 1em; text-align: center; vertical-align: top\">1728</td>\n",
       "        <td style=\"padding-left: 1em; padding-right: 1em; text-align: center; vertical-align: top\">-</td>\n",
       "    </tr>\n",
       "    <tr>\n",
       "        <td style=\"padding-left: 1em; padding-right: 1em; text-align: center; vertical-align: top\">NODE_102_length_4655_cov_<br>7.745_ID_203 ...</td>\n",
       "        <td style=\"padding-left: 1em; padding-right: 1em; text-align: center; vertical-align: top\">fig|1648.160.peg.9</td>\n",
       "        <td style=\"padding-left: 1em; padding-right: 1em; text-align: center; vertical-align: top\">peg</td>\n",
       "        <td style=\"padding-left: 1em; padding-right: 1em; text-align: center; vertical-align: top\">NODE_102_length_4655_cov_<br>7.745_ID_203_4549_2894 ...</td>\n",
       "        <td style=\"padding-left: 1em; padding-right: 1em; text-align: center; vertical-align: top\">4549</td>\n",
       "        <td style=\"padding-left: 1em; padding-right: 1em; text-align: center; vertical-align: top\">2894</td>\n",
       "        <td style=\"padding-left: 1em; padding-right: 1em; text-align: center; vertical-align: top\">-</td>\n",
       "    </tr>\n",
       "    <tr>\n",
       "        <td style=\"padding-left: 1em; padding-right: 1em; text-align: center; vertical-align: top\">NODE_103_length_4645_cov_<br>7.86383_ID_205 ...</td>\n",
       "        <td style=\"padding-left: 1em; padding-right: 1em; text-align: center; vertical-align: top\">fig|1648.160.peg.10</td>\n",
       "        <td style=\"padding-left: 1em; padding-right: 1em; text-align: center; vertical-align: top\">peg</td>\n",
       "        <td style=\"padding-left: 1em; padding-right: 1em; text-align: center; vertical-align: top\">NODE_103_length_4645_cov_<br>7.86383_ID_205_674_1138 ...</td>\n",
       "        <td style=\"padding-left: 1em; padding-right: 1em; text-align: center; vertical-align: top\">674</td>\n",
       "        <td style=\"padding-left: 1em; padding-right: 1em; text-align: center; vertical-align: top\">1138</td>\n",
       "        <td style=\"padding-left: 1em; padding-right: 1em; text-align: center; vertical-align: top\">+</td>\n",
       "    </tr>\n",
       "</table>\n",
       "<table frame=\"box\" rules=\"cols\">\n",
       "    <tr>\n",
       "        <th style=\"padding-left: 1em; padding-right: 1em; text-align: center\">function</th>\n",
       "        <th style=\"padding-left: 1em; padding-right: 1em; text-align: center\">aliases</th>\n",
       "        <th style=\"padding-left: 1em; padding-right: 1em; text-align: center\">figfam</th>\n",
       "        <th style=\"padding-left: 1em; padding-right: 1em; text-align: center\">evidence_codes</th>\n",
       "        <th style=\"padding-left: 1em; padding-right: 1em; text-align: center\">nucleotide_sequence</th>\n",
       "    </tr>\n",
       "    <tr>\n",
       "        <td style=\"padding-left: 1em; padding-right: 1em; text-align: center; vertical-align: top\">Putative hemagglutinin<br>/hemolysin-related ...</td>\n",
       "        <td style=\"padding-left: 1em; padding-right: 1em; text-align: center; vertical-align: top\"></td>\n",
       "        <td style=\"padding-left: 1em; padding-right: 1em; text-align: center; vertical-align: top\"></td>\n",
       "        <td style=\"padding-left: 1em; padding-right: 1em; text-align: center; vertical-align: top\"></td>\n",
       "        <td style=\"padding-left: 1em; padding-right: 1em; text-align: center; vertical-align: top\">atgactgttaacgaggatgttacac<br>tttatgcacaatggaaaaaat ...</td>\n",
       "    </tr>\n",
       "    <tr>\n",
       "        <td style=\"padding-left: 1em; padding-right: 1em; text-align: center; vertical-align: top\">ABC transporter, ATP-<br>binding protein ...</td>\n",
       "        <td style=\"padding-left: 1em; padding-right: 1em; text-align: center; vertical-align: top\"></td>\n",
       "        <td style=\"padding-left: 1em; padding-right: 1em; text-align: center; vertical-align: top\">FIG00744535</td>\n",
       "        <td style=\"padding-left: 1em; padding-right: 1em; text-align: center; vertical-align: top\">ff</td>\n",
       "        <td style=\"padding-left: 1em; padding-right: 1em; text-align: center; vertical-align: top\">atgaaattagaatttaatcaaatca<br>ataagttttttgacgaacatc ...</td>\n",
       "    </tr>\n",
       "    <tr>\n",
       "        <td style=\"padding-left: 1em; padding-right: 1em; text-align: center; vertical-align: top\">ABC transporter, permease<br>protein (putative) ...</td>\n",
       "        <td style=\"padding-left: 1em; padding-right: 1em; text-align: center; vertical-align: top\"></td>\n",
       "        <td style=\"padding-left: 1em; padding-right: 1em; text-align: center; vertical-align: top\"></td>\n",
       "        <td style=\"padding-left: 1em; padding-right: 1em; text-align: center; vertical-align: top\"></td>\n",
       "        <td style=\"padding-left: 1em; padding-right: 1em; text-align: center; vertical-align: top\">atgaataaactcaaaacggttttta<br>aatttgaatttttagaaatgt ...</td>\n",
       "    </tr>\n",
       "    <tr>\n",
       "        <td style=\"padding-left: 1em; padding-right: 1em; text-align: center; vertical-align: top\">L-Aspartate dehydrogenase<br>(EC 1.4.1.21) homolog ...</td>\n",
       "        <td style=\"padding-left: 1em; padding-right: 1em; text-align: center; vertical-align: top\"></td>\n",
       "        <td style=\"padding-left: 1em; padding-right: 1em; text-align: center; vertical-align: top\">FIG01308195</td>\n",
       "        <td style=\"padding-left: 1em; padding-right: 1em; text-align: center; vertical-align: top\">ff</td>\n",
       "        <td style=\"padding-left: 1em; padding-right: 1em; text-align: center; vertical-align: top\">atgaaaaaattaaaattagcgttaa<br>ttgggccaggatttctcaacg ...</td>\n",
       "    </tr>\n",
       "    <tr>\n",
       "        <td style=\"padding-left: 1em; padding-right: 1em; text-align: center; vertical-align: top\">hypothetical protein</td>\n",
       "        <td style=\"padding-left: 1em; padding-right: 1em; text-align: center; vertical-align: top\"></td>\n",
       "        <td style=\"padding-left: 1em; padding-right: 1em; text-align: center; vertical-align: top\"></td>\n",
       "        <td style=\"padding-left: 1em; padding-right: 1em; text-align: center; vertical-align: top\"></td>\n",
       "        <td style=\"padding-left: 1em; padding-right: 1em; text-align: center; vertical-align: top\">atggaaaatcacgtaattatctatc<br>aaacaaaagagcccaaacttc ...</td>\n",
       "    </tr>\n",
       "    <tr>\n",
       "        <td style=\"padding-left: 1em; padding-right: 1em; text-align: center; vertical-align: top\">COG1242: Predicted Fe-S<br>oxidoreductase ...</td>\n",
       "        <td style=\"padding-left: 1em; padding-right: 1em; text-align: center; vertical-align: top\"></td>\n",
       "        <td style=\"padding-left: 1em; padding-right: 1em; text-align: center; vertical-align: top\">FIG00001867</td>\n",
       "        <td style=\"padding-left: 1em; padding-right: 1em; text-align: center; vertical-align: top\">isu;An_Fe-S_oxireductase_<br>coupled_with_a_methyl ...</td>\n",
       "        <td style=\"padding-left: 1em; padding-right: 1em; text-align: center; vertical-align: top\">atgattttaaaaaatccagacttag<br>ataagcaaatcgagcacagtg ...</td>\n",
       "    </tr>\n",
       "    <tr>\n",
       "        <td style=\"padding-left: 1em; padding-right: 1em; text-align: center; vertical-align: top\">Site-specific recombinase<br>XerD ...</td>\n",
       "        <td style=\"padding-left: 1em; padding-right: 1em; text-align: center; vertical-align: top\"></td>\n",
       "        <td style=\"padding-left: 1em; padding-right: 1em; text-align: center; vertical-align: top\"></td>\n",
       "        <td style=\"padding-left: 1em; padding-right: 1em; text-align: center; vertical-align: top\"></td>\n",
       "        <td style=\"padding-left: 1em; padding-right: 1em; text-align: center; vertical-align: top\">atgaaaaacaaagctaatgatttta<br>ttcactacctccaatttattg ...</td>\n",
       "    </tr>\n",
       "    <tr>\n",
       "        <td style=\"padding-left: 1em; padding-right: 1em; text-align: center; vertical-align: top\">DNA polymerase IV (EC<br>2.7.7.7) ...</td>\n",
       "        <td style=\"padding-left: 1em; padding-right: 1em; text-align: center; vertical-align: top\"></td>\n",
       "        <td style=\"padding-left: 1em; padding-right: 1em; text-align: center; vertical-align: top\">FIG00023943</td>\n",
       "        <td style=\"padding-left: 1em; padding-right: 1em; text-align: center; vertical-align: top\">icw(1);DNA_repair,_bacter<br>ial ...</td>\n",
       "        <td style=\"padding-left: 1em; padding-right: 1em; text-align: center; vertical-align: top\">atggcacaagtaatatttcatatag<br>atattaacgcgttttatgcaa ...</td>\n",
       "    </tr>\n",
       "    <tr>\n",
       "        <td style=\"padding-left: 1em; padding-right: 1em; text-align: center; vertical-align: top\">DNA repair protein RecN</td>\n",
       "        <td style=\"padding-left: 1em; padding-right: 1em; text-align: center; vertical-align: top\"></td>\n",
       "        <td style=\"padding-left: 1em; padding-right: 1em; text-align: center; vertical-align: top\">FIG00000317</td>\n",
       "        <td style=\"padding-left: 1em; padding-right: 1em; text-align: center; vertical-align: top\">isu;DNA-replication<br>isu;DNA_repair,_bacte ...</td>\n",
       "        <td style=\"padding-left: 1em; padding-right: 1em; text-align: center; vertical-align: top\">atgcttactcatttaacgatagata<br>attttgttttgattcatcata ...</td>\n",
       "    </tr>\n",
       "    <tr>\n",
       "        <td style=\"padding-left: 1em; padding-right: 1em; text-align: center; vertical-align: top\">Phage protein</td>\n",
       "        <td style=\"padding-left: 1em; padding-right: 1em; text-align: center; vertical-align: top\"></td>\n",
       "        <td style=\"padding-left: 1em; padding-right: 1em; text-align: center; vertical-align: top\"></td>\n",
       "        <td style=\"padding-left: 1em; padding-right: 1em; text-align: center; vertical-align: top\"></td>\n",
       "        <td style=\"padding-left: 1em; padding-right: 1em; text-align: center; vertical-align: top\">atgtcaaataagagaggtaaatacg<br>taaaatggcttgaacctaaaa ...</td>\n",
       "    </tr>\n",
       "</table>\n",
       "<table frame=\"box\" rules=\"cols\">\n",
       "    <tr>\n",
       "        <th style=\"padding-left: 1em; padding-right: 1em; text-align: center\">aa_sequence</th>\n",
       "        <th style=\"padding-left: 1em; padding-right: 1em; text-align: center\">Calculated_length_nt</th>\n",
       "        <th style=\"padding-left: 1em; padding-right: 1em; text-align: center\">Gene_GC</th>\n",
       "        <th style=\"padding-left: 1em; padding-right: 1em; text-align: center\">Calculated_length_aa</th>\n",
       "    </tr>\n",
       "    <tr>\n",
       "        <td style=\"padding-left: 1em; padding-right: 1em; text-align: center; vertical-align: top\">MTVNEDVTLYAQWKKLIVVVDTYTV<br>VYDGNGNTSGNAPIDSHPYEK ...</td>\n",
       "        <td style=\"padding-left: 1em; padding-right: 1em; text-align: center; vertical-align: top\">492</td>\n",
       "        <td style=\"padding-left: 1em; padding-right: 1em; text-align: center; vertical-align: top\">0.355691056911</td>\n",
       "        <td style=\"padding-left: 1em; padding-right: 1em; text-align: center; vertical-align: top\">163</td>\n",
       "    </tr>\n",
       "    <tr>\n",
       "        <td style=\"padding-left: 1em; padding-right: 1em; text-align: center; vertical-align: top\">MKLEFNQINKFFDEHHVLKDISFEV<br>NSGQIFGYLGRNGAGKTTSIR ...</td>\n",
       "        <td style=\"padding-left: 1em; padding-right: 1em; text-align: center; vertical-align: top\">909</td>\n",
       "        <td style=\"padding-left: 1em; padding-right: 1em; text-align: center; vertical-align: top\">0.324532453245</td>\n",
       "        <td style=\"padding-left: 1em; padding-right: 1em; text-align: center; vertical-align: top\">302</td>\n",
       "    </tr>\n",
       "    <tr>\n",
       "        <td style=\"padding-left: 1em; padding-right: 1em; text-align: center; vertical-align: top\">MNKLKTVFKFEFLEMLRKRSVKVTT<br>LILCIAVLLITSVPTIQSVFM ...</td>\n",
       "        <td style=\"padding-left: 1em; padding-right: 1em; text-align: center; vertical-align: top\">1236</td>\n",
       "        <td style=\"padding-left: 1em; padding-right: 1em; text-align: center; vertical-align: top\">0.330906148867</td>\n",
       "        <td style=\"padding-left: 1em; padding-right: 1em; text-align: center; vertical-align: top\">411</td>\n",
       "    </tr>\n",
       "    <tr>\n",
       "        <td style=\"padding-left: 1em; padding-right: 1em; text-align: center; vertical-align: top\">MKKLKLALIGPGFLNDIVAQAWVDG<br>YLPEYELVGVLGRNPIRTAAF ...</td>\n",
       "        <td style=\"padding-left: 1em; padding-right: 1em; text-align: center; vertical-align: top\">786</td>\n",
       "        <td style=\"padding-left: 1em; padding-right: 1em; text-align: center; vertical-align: top\">0.40203562341</td>\n",
       "        <td style=\"padding-left: 1em; padding-right: 1em; text-align: center; vertical-align: top\">261</td>\n",
       "    </tr>\n",
       "    <tr>\n",
       "        <td style=\"padding-left: 1em; padding-right: 1em; text-align: center; vertical-align: top\">MENHVIIYQTKEPKLHTLDACIQDF<br>TKRYKLDNTWYLYKTANGKPI ...</td>\n",
       "        <td style=\"padding-left: 1em; padding-right: 1em; text-align: center; vertical-align: top\">540</td>\n",
       "        <td style=\"padding-left: 1em; padding-right: 1em; text-align: center; vertical-align: top\">0.322222222222</td>\n",
       "        <td style=\"padding-left: 1em; padding-right: 1em; text-align: center; vertical-align: top\">179</td>\n",
       "    </tr>\n",
       "    <tr>\n",
       "        <td style=\"padding-left: 1em; padding-right: 1em; text-align: center; vertical-align: top\">MILKNPDLDKQIEHSENIMLQKWPN<br>AAKIAYFQAYSNTHDSLKNLK ...</td>\n",
       "        <td style=\"padding-left: 1em; padding-right: 1em; text-align: center; vertical-align: top\">756</td>\n",
       "        <td style=\"padding-left: 1em; padding-right: 1em; text-align: center; vertical-align: top\">0.382275132275</td>\n",
       "        <td style=\"padding-left: 1em; padding-right: 1em; text-align: center; vertical-align: top\">251</td>\n",
       "    </tr>\n",
       "    <tr>\n",
       "        <td style=\"padding-left: 1em; padding-right: 1em; text-align: center; vertical-align: top\">MKNKANDFIHYLQFIDPKAALTVAS<br>YRNDLNQYIEYLEHESVSSLE ...</td>\n",
       "        <td style=\"padding-left: 1em; padding-right: 1em; text-align: center; vertical-align: top\">915</td>\n",
       "        <td style=\"padding-left: 1em; padding-right: 1em; text-align: center; vertical-align: top\">0.343169398907</td>\n",
       "        <td style=\"padding-left: 1em; padding-right: 1em; text-align: center; vertical-align: top\">304</td>\n",
       "    </tr>\n",
       "    <tr>\n",
       "        <td style=\"padding-left: 1em; padding-right: 1em; text-align: center; vertical-align: top\">MAQVIFHIDINAFYASAHLITDSSL<br>YGKPVVVCSNQRGSVVTTASY ...</td>\n",
       "        <td style=\"padding-left: 1em; padding-right: 1em; text-align: center; vertical-align: top\">1179</td>\n",
       "        <td style=\"padding-left: 1em; padding-right: 1em; text-align: center; vertical-align: top\">0.367260390161</td>\n",
       "        <td style=\"padding-left: 1em; padding-right: 1em; text-align: center; vertical-align: top\">392</td>\n",
       "    </tr>\n",
       "    <tr>\n",
       "        <td style=\"padding-left: 1em; padding-right: 1em; text-align: center; vertical-align: top\">MLTHLTIDNFVLIHHISVDFSDRFN<br>VFTGETGAGKSLLVDALNFVS ...</td>\n",
       "        <td style=\"padding-left: 1em; padding-right: 1em; text-align: center; vertical-align: top\">1656</td>\n",
       "        <td style=\"padding-left: 1em; padding-right: 1em; text-align: center; vertical-align: top\">0.362922705314</td>\n",
       "        <td style=\"padding-left: 1em; padding-right: 1em; text-align: center; vertical-align: top\">551</td>\n",
       "    </tr>\n",
       "    <tr>\n",
       "        <td style=\"padding-left: 1em; padding-right: 1em; text-align: center; vertical-align: top\">MSNKRGKYVKWLEPKNLLLLESWAR<br>KISNEQIAANIGIAPKTLYAW ...</td>\n",
       "        <td style=\"padding-left: 1em; padding-right: 1em; text-align: center; vertical-align: top\">465</td>\n",
       "        <td style=\"padding-left: 1em; padding-right: 1em; text-align: center; vertical-align: top\">0.406451612903</td>\n",
       "        <td style=\"padding-left: 1em; padding-right: 1em; text-align: center; vertical-align: top\">154</td>\n",
       "    </tr>\n",
       "</table>\n",
       "[1575 rows x 16 columns]<br/>Note: Only the head of the SFrame is printed.<br/>You can use print_rows(num_rows=m, num_columns=n) to print more rows and columns.\n",
       "</div>"
      ],
      "text/plain": [
       "Columns:\n",
       "\tcontig_id\tstr\n",
       "\tfeature_id\tstr\n",
       "\ttype\tstr\n",
       "\tlocation\tstr\n",
       "\tstart\tint\n",
       "\tstop\tint\n",
       "\tstrand\tstr\n",
       "\tfunction\tstr\n",
       "\taliases\tstr\n",
       "\tfigfam\tstr\n",
       "\tevidence_codes\tstr\n",
       "\tnucleotide_sequence\tstr\n",
       "\taa_sequence\tstr\n",
       "\tCalculated_length_nt\tint\n",
       "\tGene_GC\tfloat\n",
       "\tCalculated_length_aa\tint\n",
       "\n",
       "Rows: 1575\n",
       "\n",
       "Data:\n",
       "+-------------------------------+---------------------+------+\n",
       "|           contig_id           |      feature_id     | type |\n",
       "+-------------------------------+---------------------+------+\n",
       "| NODE_100_length_4674_cov_7... |  fig|1648.160.peg.1 | peg  |\n",
       "| NODE_100_length_4674_cov_7... |  fig|1648.160.peg.2 | peg  |\n",
       "| NODE_100_length_4674_cov_7... |  fig|1648.160.peg.3 | peg  |\n",
       "| NODE_100_length_4674_cov_7... |  fig|1648.160.peg.4 | peg  |\n",
       "| NODE_100_length_4674_cov_7... |  fig|1648.160.peg.5 | peg  |\n",
       "| NODE_101_length_4672_cov_9... |  fig|1648.160.peg.6 | peg  |\n",
       "| NODE_102_length_4655_cov_7... |  fig|1648.160.peg.7 | peg  |\n",
       "| NODE_102_length_4655_cov_7... |  fig|1648.160.peg.8 | peg  |\n",
       "| NODE_102_length_4655_cov_7... |  fig|1648.160.peg.9 | peg  |\n",
       "| NODE_103_length_4645_cov_7... | fig|1648.160.peg.10 | peg  |\n",
       "+-------------------------------+---------------------+------+\n",
       "+-------------------------------+-------+------+--------+\n",
       "|            location           | start | stop | strand |\n",
       "+-------------------------------+-------+------+--------+\n",
       "| NODE_100_length_4674_cov_7... |   39  | 530  |   +    |\n",
       "| NODE_100_length_4674_cov_7... |  693  | 1601 |   +    |\n",
       "| NODE_100_length_4674_cov_7... |  1594 | 2829 |   +    |\n",
       "| NODE_100_length_4674_cov_7... |  3666 | 2881 |   -    |\n",
       "| NODE_100_length_4674_cov_7... |  4297 | 3758 |   -    |\n",
       "| NODE_101_length_4672_cov_9... |  4524 | 3769 |   -    |\n",
       "| NODE_102_length_4655_cov_7... |  1744 | 830  |   -    |\n",
       "| NODE_102_length_4655_cov_7... |  2906 | 1728 |   -    |\n",
       "| NODE_102_length_4655_cov_7... |  4549 | 2894 |   -    |\n",
       "| NODE_103_length_4645_cov_7... |  674  | 1138 |   +    |\n",
       "+-------------------------------+-------+------+--------+\n",
       "+--------------------------------+---------+-------------+\n",
       "|            function            | aliases |    figfam   |\n",
       "+--------------------------------+---------+-------------+\n",
       "| Putative hemagglutinin/hem...  |         |             |\n",
       "| ABC transporter, ATP-bindi...  |         | FIG00744535 |\n",
       "| ABC transporter, permease ...  |         |             |\n",
       "| L-Aspartate dehydrogenase ...  |         | FIG01308195 |\n",
       "|      hypothetical protein      |         |             |\n",
       "| COG1242: Predicted Fe-S ox...  |         | FIG00001867 |\n",
       "| Site-specific recombinase XerD |         |             |\n",
       "| DNA polymerase IV (EC 2.7.7.7) |         | FIG00023943 |\n",
       "|    DNA repair protein RecN     |         | FIG00000317 |\n",
       "|         Phage protein          |         |             |\n",
       "+--------------------------------+---------+-------------+\n",
       "+-------------------------------+-------------------------------+\n",
       "|         evidence_codes        |      nucleotide_sequence      |\n",
       "+-------------------------------+-------------------------------+\n",
       "|                               | atgactgttaacgaggatgttacact... |\n",
       "|               ff              | atgaaattagaatttaatcaaatcaa... |\n",
       "|                               | atgaataaactcaaaacggtttttaa... |\n",
       "|               ff              | atgaaaaaattaaaattagcgttaat... |\n",
       "|                               | atggaaaatcacgtaattatctatca... |\n",
       "| isu;An_Fe-S_oxireductase_c... | atgattttaaaaaatccagacttaga... |\n",
       "|                               | atgaaaaacaaagctaatgattttat... |\n",
       "|  icw(1);DNA_repair,_bacterial | atggcacaagtaatatttcatataga... |\n",
       "| isu;DNA-replication isu;DN... | atgcttactcatttaacgatagataa... |\n",
       "|                               | atgtcaaataagagaggtaaatacgt... |\n",
       "+-------------------------------+-------------------------------+\n",
       "+-------------------------------+----------------------+----------------+----------------------+\n",
       "|          aa_sequence          | Calculated_length_nt |    Gene_GC     | Calculated_length_aa |\n",
       "+-------------------------------+----------------------+----------------+----------------------+\n",
       "| MTVNEDVTLYAQWKKLIVVVDTYTVV... |         492          | 0.355691056911 |         163          |\n",
       "| MKLEFNQINKFFDEHHVLKDISFEVN... |         909          | 0.324532453245 |         302          |\n",
       "| MNKLKTVFKFEFLEMLRKRSVKVTTL... |         1236         | 0.330906148867 |         411          |\n",
       "| MKKLKLALIGPGFLNDIVAQAWVDGY... |         786          | 0.40203562341  |         261          |\n",
       "| MENHVIIYQTKEPKLHTLDACIQDFT... |         540          | 0.322222222222 |         179          |\n",
       "| MILKNPDLDKQIEHSENIMLQKWPNA... |         756          | 0.382275132275 |         251          |\n",
       "| MKNKANDFIHYLQFIDPKAALTVASY... |         915          | 0.343169398907 |         304          |\n",
       "| MAQVIFHIDINAFYASAHLITDSSLY... |         1179         | 0.367260390161 |         392          |\n",
       "| MLTHLTIDNFVLIHHISVDFSDRFNV... |         1656         | 0.362922705314 |         551          |\n",
       "| MSNKRGKYVKWLEPKNLLLLESWARK... |         465          | 0.406451612903 |         154          |\n",
       "+-------------------------------+----------------------+----------------+----------------------+\n",
       "[1575 rows x 16 columns]\n",
       "Note: Only the head of the SFrame is printed.\n",
       "You can use print_rows(num_rows=m, num_columns=n) to print more rows and columns."
      ]
     },
     "execution_count": 23,
     "metadata": {},
     "output_type": "execute_result"
    }
   ],
   "source": [
    "Banks969_Li_SFrame[\"Calculated_length_nt\"]=Banks969_Li_SFrame['nucleotide_sequence'].apply(returnLen)\n",
    "Banks969_Li_SFrame[\"Gene_GC\"]=Banks969_Li_SFrame['nucleotide_sequence'].apply(gc)\n",
    "Banks969_Li_SFrame[\"Calculated_length_aa\"]=Banks969_Li_SFrame['aa_sequence'].apply(returnLen)\n",
    "Banks969_Li_SFrame"
   ]
  },
  {
   "cell_type": "markdown",
   "metadata": {},
   "source": [
    "###Separating RNA records"
   ]
  },
  {
   "cell_type": "code",
   "execution_count": 25,
   "metadata": {
    "collapsed": false
   },
   "outputs": [
    {
     "data": {
      "text/html": [
       "<div style=\"max-height:1000px;max-width:1500px;overflow:auto;\"><table frame=\"box\" rules=\"cols\">\n",
       "    <tr>\n",
       "        <th style=\"padding-left: 1em; padding-right: 1em; text-align: center\">contig_id</th>\n",
       "        <th style=\"padding-left: 1em; padding-right: 1em; text-align: center\">feature_id</th>\n",
       "        <th style=\"padding-left: 1em; padding-right: 1em; text-align: center\">type</th>\n",
       "        <th style=\"padding-left: 1em; padding-right: 1em; text-align: center\">location</th>\n",
       "        <th style=\"padding-left: 1em; padding-right: 1em; text-align: center\">start</th>\n",
       "        <th style=\"padding-left: 1em; padding-right: 1em; text-align: center\">stop</th>\n",
       "        <th style=\"padding-left: 1em; padding-right: 1em; text-align: center\">strand</th>\n",
       "    </tr>\n",
       "    <tr>\n",
       "        <td style=\"padding-left: 1em; padding-right: 1em; text-align: center; vertical-align: top\">NODE_11_length_9738_cov_8<br>.40958_ID_21 ...</td>\n",
       "        <td style=\"padding-left: 1em; padding-right: 1em; text-align: center; vertical-align: top\">fig|1648.160.rna.1</td>\n",
       "        <td style=\"padding-left: 1em; padding-right: 1em; text-align: center; vertical-align: top\">rna</td>\n",
       "        <td style=\"padding-left: 1em; padding-right: 1em; text-align: center; vertical-align: top\">NODE_11_length_9738_cov_8<br>.40958_ID_21_9726_9656 ...</td>\n",
       "        <td style=\"padding-left: 1em; padding-right: 1em; text-align: center; vertical-align: top\">9726</td>\n",
       "        <td style=\"padding-left: 1em; padding-right: 1em; text-align: center; vertical-align: top\">9656</td>\n",
       "        <td style=\"padding-left: 1em; padding-right: 1em; text-align: center; vertical-align: top\">-</td>\n",
       "    </tr>\n",
       "    <tr>\n",
       "        <td style=\"padding-left: 1em; padding-right: 1em; text-align: center; vertical-align: top\">NODE_155_length_3642_cov_<br>7.81071_ID_309 ...</td>\n",
       "        <td style=\"padding-left: 1em; padding-right: 1em; text-align: center; vertical-align: top\">fig|1648.160.rna.2</td>\n",
       "        <td style=\"padding-left: 1em; padding-right: 1em; text-align: center; vertical-align: top\">rna</td>\n",
       "        <td style=\"padding-left: 1em; padding-right: 1em; text-align: center; vertical-align: top\">NODE_155_length_3642_cov_<br>7.81071_ID_309_3325_3395 ...</td>\n",
       "        <td style=\"padding-left: 1em; padding-right: 1em; text-align: center; vertical-align: top\">3325</td>\n",
       "        <td style=\"padding-left: 1em; padding-right: 1em; text-align: center; vertical-align: top\">3395</td>\n",
       "        <td style=\"padding-left: 1em; padding-right: 1em; text-align: center; vertical-align: top\">+</td>\n",
       "    </tr>\n",
       "    <tr>\n",
       "        <td style=\"padding-left: 1em; padding-right: 1em; text-align: center; vertical-align: top\">NODE_160_length_3510_cov_<br>8.02605_ID_319 ...</td>\n",
       "        <td style=\"padding-left: 1em; padding-right: 1em; text-align: center; vertical-align: top\">fig|1648.160.rna.3</td>\n",
       "        <td style=\"padding-left: 1em; padding-right: 1em; text-align: center; vertical-align: top\">rna</td>\n",
       "        <td style=\"padding-left: 1em; padding-right: 1em; text-align: center; vertical-align: top\">NODE_160_length_3510_cov_<br>8.02605_ID_319_2002_1930 ...</td>\n",
       "        <td style=\"padding-left: 1em; padding-right: 1em; text-align: center; vertical-align: top\">2002</td>\n",
       "        <td style=\"padding-left: 1em; padding-right: 1em; text-align: center; vertical-align: top\">1930</td>\n",
       "        <td style=\"padding-left: 1em; padding-right: 1em; text-align: center; vertical-align: top\">-</td>\n",
       "    </tr>\n",
       "    <tr>\n",
       "        <td style=\"padding-left: 1em; padding-right: 1em; text-align: center; vertical-align: top\">NODE_183_length_3178_cov_<br>10.617_ID_365 ...</td>\n",
       "        <td style=\"padding-left: 1em; padding-right: 1em; text-align: center; vertical-align: top\">fig|1648.160.rna.4</td>\n",
       "        <td style=\"padding-left: 1em; padding-right: 1em; text-align: center; vertical-align: top\">rna</td>\n",
       "        <td style=\"padding-left: 1em; padding-right: 1em; text-align: center; vertical-align: top\">NODE_183_length_3178_cov_<br>10.617_ID_365_2494_2422 ...</td>\n",
       "        <td style=\"padding-left: 1em; padding-right: 1em; text-align: center; vertical-align: top\">2494</td>\n",
       "        <td style=\"padding-left: 1em; padding-right: 1em; text-align: center; vertical-align: top\">2422</td>\n",
       "        <td style=\"padding-left: 1em; padding-right: 1em; text-align: center; vertical-align: top\">-</td>\n",
       "    </tr>\n",
       "    <tr>\n",
       "        <td style=\"padding-left: 1em; padding-right: 1em; text-align: center; vertical-align: top\">NODE_183_length_3178_cov_<br>10.617_ID_365 ...</td>\n",
       "        <td style=\"padding-left: 1em; padding-right: 1em; text-align: center; vertical-align: top\">fig|1648.160.rna.5</td>\n",
       "        <td style=\"padding-left: 1em; padding-right: 1em; text-align: center; vertical-align: top\">rna</td>\n",
       "        <td style=\"padding-left: 1em; padding-right: 1em; text-align: center; vertical-align: top\">NODE_183_length_3178_cov_<br>10.617_ID_365_2577_2505 ...</td>\n",
       "        <td style=\"padding-left: 1em; padding-right: 1em; text-align: center; vertical-align: top\">2577</td>\n",
       "        <td style=\"padding-left: 1em; padding-right: 1em; text-align: center; vertical-align: top\">2505</td>\n",
       "        <td style=\"padding-left: 1em; padding-right: 1em; text-align: center; vertical-align: top\">-</td>\n",
       "    </tr>\n",
       "    <tr>\n",
       "        <td style=\"padding-left: 1em; padding-right: 1em; text-align: center; vertical-align: top\">NODE_183_length_3178_cov_<br>10.617_ID_365 ...</td>\n",
       "        <td style=\"padding-left: 1em; padding-right: 1em; text-align: center; vertical-align: top\">fig|1648.160.rna.6</td>\n",
       "        <td style=\"padding-left: 1em; padding-right: 1em; text-align: center; vertical-align: top\">rna</td>\n",
       "        <td style=\"padding-left: 1em; padding-right: 1em; text-align: center; vertical-align: top\">NODE_183_length_3178_cov_<br>10.617_ID_365_2827_2755 ...</td>\n",
       "        <td style=\"padding-left: 1em; padding-right: 1em; text-align: center; vertical-align: top\">2827</td>\n",
       "        <td style=\"padding-left: 1em; padding-right: 1em; text-align: center; vertical-align: top\">2755</td>\n",
       "        <td style=\"padding-left: 1em; padding-right: 1em; text-align: center; vertical-align: top\">-</td>\n",
       "    </tr>\n",
       "    <tr>\n",
       "        <td style=\"padding-left: 1em; padding-right: 1em; text-align: center; vertical-align: top\">NODE_183_length_3178_cov_<br>10.617_ID_365 ...</td>\n",
       "        <td style=\"padding-left: 1em; padding-right: 1em; text-align: center; vertical-align: top\">fig|1648.160.rna.7</td>\n",
       "        <td style=\"padding-left: 1em; padding-right: 1em; text-align: center; vertical-align: top\">rna</td>\n",
       "        <td style=\"padding-left: 1em; padding-right: 1em; text-align: center; vertical-align: top\">NODE_183_length_3178_cov_<br>10.617_ID_365_2910_2838 ...</td>\n",
       "        <td style=\"padding-left: 1em; padding-right: 1em; text-align: center; vertical-align: top\">2910</td>\n",
       "        <td style=\"padding-left: 1em; padding-right: 1em; text-align: center; vertical-align: top\">2838</td>\n",
       "        <td style=\"padding-left: 1em; padding-right: 1em; text-align: center; vertical-align: top\">-</td>\n",
       "    </tr>\n",
       "    <tr>\n",
       "        <td style=\"padding-left: 1em; padding-right: 1em; text-align: center; vertical-align: top\">NODE_184_length_3174_cov_<br>6.24174_ID_367 ...</td>\n",
       "        <td style=\"padding-left: 1em; padding-right: 1em; text-align: center; vertical-align: top\">fig|1648.160.rna.8</td>\n",
       "        <td style=\"padding-left: 1em; padding-right: 1em; text-align: center; vertical-align: top\">rna</td>\n",
       "        <td style=\"padding-left: 1em; padding-right: 1em; text-align: center; vertical-align: top\">NODE_184_length_3174_cov_<br>6.24174_ID_367_3041_2969 ...</td>\n",
       "        <td style=\"padding-left: 1em; padding-right: 1em; text-align: center; vertical-align: top\">3041</td>\n",
       "        <td style=\"padding-left: 1em; padding-right: 1em; text-align: center; vertical-align: top\">2969</td>\n",
       "        <td style=\"padding-left: 1em; padding-right: 1em; text-align: center; vertical-align: top\">-</td>\n",
       "    </tr>\n",
       "    <tr>\n",
       "        <td style=\"padding-left: 1em; padding-right: 1em; text-align: center; vertical-align: top\">NODE_197_length_2970_cov_<br>11.1692_ID_393 ...</td>\n",
       "        <td style=\"padding-left: 1em; padding-right: 1em; text-align: center; vertical-align: top\">fig|1648.160.rna.9</td>\n",
       "        <td style=\"padding-left: 1em; padding-right: 1em; text-align: center; vertical-align: top\">rna</td>\n",
       "        <td style=\"padding-left: 1em; padding-right: 1em; text-align: center; vertical-align: top\">NODE_197_length_2970_cov_<br>11.1692_ID_393_1043_971 ...</td>\n",
       "        <td style=\"padding-left: 1em; padding-right: 1em; text-align: center; vertical-align: top\">1043</td>\n",
       "        <td style=\"padding-left: 1em; padding-right: 1em; text-align: center; vertical-align: top\">971</td>\n",
       "        <td style=\"padding-left: 1em; padding-right: 1em; text-align: center; vertical-align: top\">-</td>\n",
       "    </tr>\n",
       "    <tr>\n",
       "        <td style=\"padding-left: 1em; padding-right: 1em; text-align: center; vertical-align: top\">NODE_197_length_2970_cov_<br>11.1692_ID_393 ...</td>\n",
       "        <td style=\"padding-left: 1em; padding-right: 1em; text-align: center; vertical-align: top\">fig|1648.160.rna.10</td>\n",
       "        <td style=\"padding-left: 1em; padding-right: 1em; text-align: center; vertical-align: top\">rna</td>\n",
       "        <td style=\"padding-left: 1em; padding-right: 1em; text-align: center; vertical-align: top\">NODE_197_length_2970_cov_<br>11.1692_ID_393_1143_1070 ...</td>\n",
       "        <td style=\"padding-left: 1em; padding-right: 1em; text-align: center; vertical-align: top\">1143</td>\n",
       "        <td style=\"padding-left: 1em; padding-right: 1em; text-align: center; vertical-align: top\">1070</td>\n",
       "        <td style=\"padding-left: 1em; padding-right: 1em; text-align: center; vertical-align: top\">-</td>\n",
       "    </tr>\n",
       "</table>\n",
       "<table frame=\"box\" rules=\"cols\">\n",
       "    <tr>\n",
       "        <th style=\"padding-left: 1em; padding-right: 1em; text-align: center\">function</th>\n",
       "        <th style=\"padding-left: 1em; padding-right: 1em; text-align: center\">aliases</th>\n",
       "        <th style=\"padding-left: 1em; padding-right: 1em; text-align: center\">figfam</th>\n",
       "        <th style=\"padding-left: 1em; padding-right: 1em; text-align: center\">evidence_codes</th>\n",
       "        <th style=\"padding-left: 1em; padding-right: 1em; text-align: center\">nucleotide_sequence</th>\n",
       "        <th style=\"padding-left: 1em; padding-right: 1em; text-align: center\">aa_sequence</th>\n",
       "        <th style=\"padding-left: 1em; padding-right: 1em; text-align: center\">Calculated_length_nt</th>\n",
       "    </tr>\n",
       "    <tr>\n",
       "        <td style=\"padding-left: 1em; padding-right: 1em; text-align: center; vertical-align: top\">tRNA-Thr-GGT</td>\n",
       "        <td style=\"padding-left: 1em; padding-right: 1em; text-align: center; vertical-align: top\"></td>\n",
       "        <td style=\"padding-left: 1em; padding-right: 1em; text-align: center; vertical-align: top\"></td>\n",
       "        <td style=\"padding-left: 1em; padding-right: 1em; text-align: center; vertical-align: top\"></td>\n",
       "        <td style=\"padding-left: 1em; padding-right: 1em; text-align: center; vertical-align: top\">gccgccatagttcaatggtaaaata<br>gagcaatggtaatgctcagtt ...</td>\n",
       "        <td style=\"padding-left: 1em; padding-right: 1em; text-align: center; vertical-align: top\"></td>\n",
       "        <td style=\"padding-left: 1em; padding-right: 1em; text-align: center; vertical-align: top\">71</td>\n",
       "    </tr>\n",
       "    <tr>\n",
       "        <td style=\"padding-left: 1em; padding-right: 1em; text-align: center; vertical-align: top\">tRNA-Trp-CCA</td>\n",
       "        <td style=\"padding-left: 1em; padding-right: 1em; text-align: center; vertical-align: top\"></td>\n",
       "        <td style=\"padding-left: 1em; padding-right: 1em; text-align: center; vertical-align: top\"></td>\n",
       "        <td style=\"padding-left: 1em; padding-right: 1em; text-align: center; vertical-align: top\"></td>\n",
       "        <td style=\"padding-left: 1em; padding-right: 1em; text-align: center; vertical-align: top\">aggggtatagttcaatggtagagca<br>acggtctccaaaaccgttaat ...</td>\n",
       "        <td style=\"padding-left: 1em; padding-right: 1em; text-align: center; vertical-align: top\"></td>\n",
       "        <td style=\"padding-left: 1em; padding-right: 1em; text-align: center; vertical-align: top\">71</td>\n",
       "    </tr>\n",
       "    <tr>\n",
       "        <td style=\"padding-left: 1em; padding-right: 1em; text-align: center; vertical-align: top\">tRNA-Thr-CGT</td>\n",
       "        <td style=\"padding-left: 1em; padding-right: 1em; text-align: center; vertical-align: top\"></td>\n",
       "        <td style=\"padding-left: 1em; padding-right: 1em; text-align: center; vertical-align: top\"></td>\n",
       "        <td style=\"padding-left: 1em; padding-right: 1em; text-align: center; vertical-align: top\"></td>\n",
       "        <td style=\"padding-left: 1em; padding-right: 1em; text-align: center; vertical-align: top\">gccggcttagctcaattggtagagc<br>aactgaatcgtaatcagtagg ...</td>\n",
       "        <td style=\"padding-left: 1em; padding-right: 1em; text-align: center; vertical-align: top\"></td>\n",
       "        <td style=\"padding-left: 1em; padding-right: 1em; text-align: center; vertical-align: top\">73</td>\n",
       "    </tr>\n",
       "    <tr>\n",
       "        <td style=\"padding-left: 1em; padding-right: 1em; text-align: center; vertical-align: top\">tRNA-Glu-TTC</td>\n",
       "        <td style=\"padding-left: 1em; padding-right: 1em; text-align: center; vertical-align: top\"></td>\n",
       "        <td style=\"padding-left: 1em; padding-right: 1em; text-align: center; vertical-align: top\"></td>\n",
       "        <td style=\"padding-left: 1em; padding-right: 1em; text-align: center; vertical-align: top\"></td>\n",
       "        <td style=\"padding-left: 1em; padding-right: 1em; text-align: center; vertical-align: top\">ggcccgttggagaaacggttaactc<br>acatgcctttcacgcatgcat ...</td>\n",
       "        <td style=\"padding-left: 1em; padding-right: 1em; text-align: center; vertical-align: top\"></td>\n",
       "        <td style=\"padding-left: 1em; padding-right: 1em; text-align: center; vertical-align: top\">73</td>\n",
       "    </tr>\n",
       "    <tr>\n",
       "        <td style=\"padding-left: 1em; padding-right: 1em; text-align: center; vertical-align: top\">tRNA-Asn-GTT</td>\n",
       "        <td style=\"padding-left: 1em; padding-right: 1em; text-align: center; vertical-align: top\"></td>\n",
       "        <td style=\"padding-left: 1em; padding-right: 1em; text-align: center; vertical-align: top\"></td>\n",
       "        <td style=\"padding-left: 1em; padding-right: 1em; text-align: center; vertical-align: top\"></td>\n",
       "        <td style=\"padding-left: 1em; padding-right: 1em; text-align: center; vertical-align: top\">gcttgtttagctcagtcggtagagc<br>aactggctgttaaccagtggg ...</td>\n",
       "        <td style=\"padding-left: 1em; padding-right: 1em; text-align: center; vertical-align: top\"></td>\n",
       "        <td style=\"padding-left: 1em; padding-right: 1em; text-align: center; vertical-align: top\">73</td>\n",
       "    </tr>\n",
       "    <tr>\n",
       "        <td style=\"padding-left: 1em; padding-right: 1em; text-align: center; vertical-align: top\">tRNA-Glu-TTC</td>\n",
       "        <td style=\"padding-left: 1em; padding-right: 1em; text-align: center; vertical-align: top\"></td>\n",
       "        <td style=\"padding-left: 1em; padding-right: 1em; text-align: center; vertical-align: top\"></td>\n",
       "        <td style=\"padding-left: 1em; padding-right: 1em; text-align: center; vertical-align: top\"></td>\n",
       "        <td style=\"padding-left: 1em; padding-right: 1em; text-align: center; vertical-align: top\">ggcccgttggagaaacggttaactc<br>acatgcctttcacgcatgcat ...</td>\n",
       "        <td style=\"padding-left: 1em; padding-right: 1em; text-align: center; vertical-align: top\"></td>\n",
       "        <td style=\"padding-left: 1em; padding-right: 1em; text-align: center; vertical-align: top\">73</td>\n",
       "    </tr>\n",
       "    <tr>\n",
       "        <td style=\"padding-left: 1em; padding-right: 1em; text-align: center; vertical-align: top\">tRNA-Asn-GTT</td>\n",
       "        <td style=\"padding-left: 1em; padding-right: 1em; text-align: center; vertical-align: top\"></td>\n",
       "        <td style=\"padding-left: 1em; padding-right: 1em; text-align: center; vertical-align: top\"></td>\n",
       "        <td style=\"padding-left: 1em; padding-right: 1em; text-align: center; vertical-align: top\"></td>\n",
       "        <td style=\"padding-left: 1em; padding-right: 1em; text-align: center; vertical-align: top\">gcttgtttagctcagtcggtagagc<br>aactggctgttaaccagtggg ...</td>\n",
       "        <td style=\"padding-left: 1em; padding-right: 1em; text-align: center; vertical-align: top\"></td>\n",
       "        <td style=\"padding-left: 1em; padding-right: 1em; text-align: center; vertical-align: top\">73</td>\n",
       "    </tr>\n",
       "    <tr>\n",
       "        <td style=\"padding-left: 1em; padding-right: 1em; text-align: center; vertical-align: top\">tRNA-Lys-CTT</td>\n",
       "        <td style=\"padding-left: 1em; padding-right: 1em; text-align: center; vertical-align: top\"></td>\n",
       "        <td style=\"padding-left: 1em; padding-right: 1em; text-align: center; vertical-align: top\"></td>\n",
       "        <td style=\"padding-left: 1em; padding-right: 1em; text-align: center; vertical-align: top\"></td>\n",
       "        <td style=\"padding-left: 1em; padding-right: 1em; text-align: center; vertical-align: top\">gctccgttagctcagtcggtagagc<br>aactgactcttaatcagtggg ...</td>\n",
       "        <td style=\"padding-left: 1em; padding-right: 1em; text-align: center; vertical-align: top\"></td>\n",
       "        <td style=\"padding-left: 1em; padding-right: 1em; text-align: center; vertical-align: top\">73</td>\n",
       "    </tr>\n",
       "    <tr>\n",
       "        <td style=\"padding-left: 1em; padding-right: 1em; text-align: center; vertical-align: top\">tRNA-Ala-TGC</td>\n",
       "        <td style=\"padding-left: 1em; padding-right: 1em; text-align: center; vertical-align: top\"></td>\n",
       "        <td style=\"padding-left: 1em; padding-right: 1em; text-align: center; vertical-align: top\"></td>\n",
       "        <td style=\"padding-left: 1em; padding-right: 1em; text-align: center; vertical-align: top\"></td>\n",
       "        <td style=\"padding-left: 1em; padding-right: 1em; text-align: center; vertical-align: top\">ggggttttagctcagctgggagagc<br>gcctgccttgcacgcaggagg ...</td>\n",
       "        <td style=\"padding-left: 1em; padding-right: 1em; text-align: center; vertical-align: top\"></td>\n",
       "        <td style=\"padding-left: 1em; padding-right: 1em; text-align: center; vertical-align: top\">73</td>\n",
       "    </tr>\n",
       "    <tr>\n",
       "        <td style=\"padding-left: 1em; padding-right: 1em; text-align: center; vertical-align: top\">tRNA-Ile-GAT</td>\n",
       "        <td style=\"padding-left: 1em; padding-right: 1em; text-align: center; vertical-align: top\"></td>\n",
       "        <td style=\"padding-left: 1em; padding-right: 1em; text-align: center; vertical-align: top\"></td>\n",
       "        <td style=\"padding-left: 1em; padding-right: 1em; text-align: center; vertical-align: top\"></td>\n",
       "        <td style=\"padding-left: 1em; padding-right: 1em; text-align: center; vertical-align: top\">gggcctgtagctcagttggttagag<br>cgcacccctgataagggtgag ...</td>\n",
       "        <td style=\"padding-left: 1em; padding-right: 1em; text-align: center; vertical-align: top\"></td>\n",
       "        <td style=\"padding-left: 1em; padding-right: 1em; text-align: center; vertical-align: top\">74</td>\n",
       "    </tr>\n",
       "</table>\n",
       "<table frame=\"box\" rules=\"cols\">\n",
       "    <tr>\n",
       "        <th style=\"padding-left: 1em; padding-right: 1em; text-align: center\">Gene_GC</th>\n",
       "        <th style=\"padding-left: 1em; padding-right: 1em; text-align: center\">Calculated_length_aa</th>\n",
       "    </tr>\n",
       "    <tr>\n",
       "        <td style=\"padding-left: 1em; padding-right: 1em; text-align: center; vertical-align: top\">0.492957746479</td>\n",
       "        <td style=\"padding-left: 1em; padding-right: 1em; text-align: center; vertical-align: top\">0</td>\n",
       "    </tr>\n",
       "    <tr>\n",
       "        <td style=\"padding-left: 1em; padding-right: 1em; text-align: center; vertical-align: top\">0.507042253521</td>\n",
       "        <td style=\"padding-left: 1em; padding-right: 1em; text-align: center; vertical-align: top\">0</td>\n",
       "    </tr>\n",
       "    <tr>\n",
       "        <td style=\"padding-left: 1em; padding-right: 1em; text-align: center; vertical-align: top\">0.520547945205</td>\n",
       "        <td style=\"padding-left: 1em; padding-right: 1em; text-align: center; vertical-align: top\">0</td>\n",
       "    </tr>\n",
       "    <tr>\n",
       "        <td style=\"padding-left: 1em; padding-right: 1em; text-align: center; vertical-align: top\">0.547945205479</td>\n",
       "        <td style=\"padding-left: 1em; padding-right: 1em; text-align: center; vertical-align: top\">0</td>\n",
       "    </tr>\n",
       "    <tr>\n",
       "        <td style=\"padding-left: 1em; padding-right: 1em; text-align: center; vertical-align: top\">0.547945205479</td>\n",
       "        <td style=\"padding-left: 1em; padding-right: 1em; text-align: center; vertical-align: top\">0</td>\n",
       "    </tr>\n",
       "    <tr>\n",
       "        <td style=\"padding-left: 1em; padding-right: 1em; text-align: center; vertical-align: top\">0.547945205479</td>\n",
       "        <td style=\"padding-left: 1em; padding-right: 1em; text-align: center; vertical-align: top\">0</td>\n",
       "    </tr>\n",
       "    <tr>\n",
       "        <td style=\"padding-left: 1em; padding-right: 1em; text-align: center; vertical-align: top\">0.547945205479</td>\n",
       "        <td style=\"padding-left: 1em; padding-right: 1em; text-align: center; vertical-align: top\">0</td>\n",
       "    </tr>\n",
       "    <tr>\n",
       "        <td style=\"padding-left: 1em; padding-right: 1em; text-align: center; vertical-align: top\">0.575342465753</td>\n",
       "        <td style=\"padding-left: 1em; padding-right: 1em; text-align: center; vertical-align: top\">0</td>\n",
       "    </tr>\n",
       "    <tr>\n",
       "        <td style=\"padding-left: 1em; padding-right: 1em; text-align: center; vertical-align: top\">0.602739726027</td>\n",
       "        <td style=\"padding-left: 1em; padding-right: 1em; text-align: center; vertical-align: top\">0</td>\n",
       "    </tr>\n",
       "    <tr>\n",
       "        <td style=\"padding-left: 1em; padding-right: 1em; text-align: center; vertical-align: top\">0.581081081081</td>\n",
       "        <td style=\"padding-left: 1em; padding-right: 1em; text-align: center; vertical-align: top\">0</td>\n",
       "    </tr>\n",
       "</table>\n",
       "[55 rows x 16 columns]<br/>Note: Only the head of the SFrame is printed.<br/>You can use print_rows(num_rows=m, num_columns=n) to print more rows and columns.\n",
       "</div>"
      ],
      "text/plain": [
       "Columns:\n",
       "\tcontig_id\tstr\n",
       "\tfeature_id\tstr\n",
       "\ttype\tstr\n",
       "\tlocation\tstr\n",
       "\tstart\tint\n",
       "\tstop\tint\n",
       "\tstrand\tstr\n",
       "\tfunction\tstr\n",
       "\taliases\tstr\n",
       "\tfigfam\tstr\n",
       "\tevidence_codes\tstr\n",
       "\tnucleotide_sequence\tstr\n",
       "\taa_sequence\tstr\n",
       "\tCalculated_length_nt\tint\n",
       "\tGene_GC\tfloat\n",
       "\tCalculated_length_aa\tint\n",
       "\n",
       "Rows: 55\n",
       "\n",
       "Data:\n",
       "+-------------------------------+---------------------+------+\n",
       "|           contig_id           |      feature_id     | type |\n",
       "+-------------------------------+---------------------+------+\n",
       "| NODE_11_length_9738_cov_8.... |  fig|1648.160.rna.1 | rna  |\n",
       "| NODE_155_length_3642_cov_7... |  fig|1648.160.rna.2 | rna  |\n",
       "| NODE_160_length_3510_cov_8... |  fig|1648.160.rna.3 | rna  |\n",
       "| NODE_183_length_3178_cov_1... |  fig|1648.160.rna.4 | rna  |\n",
       "| NODE_183_length_3178_cov_1... |  fig|1648.160.rna.5 | rna  |\n",
       "| NODE_183_length_3178_cov_1... |  fig|1648.160.rna.6 | rna  |\n",
       "| NODE_183_length_3178_cov_1... |  fig|1648.160.rna.7 | rna  |\n",
       "| NODE_184_length_3174_cov_6... |  fig|1648.160.rna.8 | rna  |\n",
       "| NODE_197_length_2970_cov_1... |  fig|1648.160.rna.9 | rna  |\n",
       "| NODE_197_length_2970_cov_1... | fig|1648.160.rna.10 | rna  |\n",
       "+-------------------------------+---------------------+------+\n",
       "+-------------------------------+-------+------+--------+--------------+---------+\n",
       "|            location           | start | stop | strand |   function   | aliases |\n",
       "+-------------------------------+-------+------+--------+--------------+---------+\n",
       "| NODE_11_length_9738_cov_8.... |  9726 | 9656 |   -    | tRNA-Thr-GGT |         |\n",
       "| NODE_155_length_3642_cov_7... |  3325 | 3395 |   +    | tRNA-Trp-CCA |         |\n",
       "| NODE_160_length_3510_cov_8... |  2002 | 1930 |   -    | tRNA-Thr-CGT |         |\n",
       "| NODE_183_length_3178_cov_1... |  2494 | 2422 |   -    | tRNA-Glu-TTC |         |\n",
       "| NODE_183_length_3178_cov_1... |  2577 | 2505 |   -    | tRNA-Asn-GTT |         |\n",
       "| NODE_183_length_3178_cov_1... |  2827 | 2755 |   -    | tRNA-Glu-TTC |         |\n",
       "| NODE_183_length_3178_cov_1... |  2910 | 2838 |   -    | tRNA-Asn-GTT |         |\n",
       "| NODE_184_length_3174_cov_6... |  3041 | 2969 |   -    | tRNA-Lys-CTT |         |\n",
       "| NODE_197_length_2970_cov_1... |  1043 | 971  |   -    | tRNA-Ala-TGC |         |\n",
       "| NODE_197_length_2970_cov_1... |  1143 | 1070 |   -    | tRNA-Ile-GAT |         |\n",
       "+-------------------------------+-------+------+--------+--------------+---------+\n",
       "+--------+----------------+-------------------------------+-------------+----------------------+\n",
       "| figfam | evidence_codes |      nucleotide_sequence      | aa_sequence | Calculated_length_nt |\n",
       "+--------+----------------+-------------------------------+-------------+----------------------+\n",
       "|        |                | gccgccatagttcaatggtaaaatag... |             |          71          |\n",
       "|        |                | aggggtatagttcaatggtagagcaa... |             |          71          |\n",
       "|        |                | gccggcttagctcaattggtagagca... |             |          73          |\n",
       "|        |                | ggcccgttggagaaacggttaactca... |             |          73          |\n",
       "|        |                | gcttgtttagctcagtcggtagagca... |             |          73          |\n",
       "|        |                | ggcccgttggagaaacggttaactca... |             |          73          |\n",
       "|        |                | gcttgtttagctcagtcggtagagca... |             |          73          |\n",
       "|        |                | gctccgttagctcagtcggtagagca... |             |          73          |\n",
       "|        |                | ggggttttagctcagctgggagagcg... |             |          73          |\n",
       "|        |                | gggcctgtagctcagttggttagagc... |             |          74          |\n",
       "+--------+----------------+-------------------------------+-------------+----------------------+\n",
       "+----------------+----------------------+\n",
       "|    Gene_GC     | Calculated_length_aa |\n",
       "+----------------+----------------------+\n",
       "| 0.492957746479 |          0           |\n",
       "| 0.507042253521 |          0           |\n",
       "| 0.520547945205 |          0           |\n",
       "| 0.547945205479 |          0           |\n",
       "| 0.547945205479 |          0           |\n",
       "| 0.547945205479 |          0           |\n",
       "| 0.547945205479 |          0           |\n",
       "| 0.575342465753 |          0           |\n",
       "| 0.602739726027 |          0           |\n",
       "| 0.581081081081 |          0           |\n",
       "+----------------+----------------------+\n",
       "[55 rows x 16 columns]\n",
       "Note: Only the head of the SFrame is printed.\n",
       "You can use print_rows(num_rows=m, num_columns=n) to print more rows and columns."
      ]
     },
     "execution_count": 25,
     "metadata": {},
     "output_type": "execute_result"
    }
   ],
   "source": [
    "rna_Banks969_Li_SFrame=Banks969_Li_SFrame.filter_by('rna','type')\n",
    "rna_Banks969_Li_SFrame"
   ]
  },
  {
   "cell_type": "markdown",
   "metadata": {},
   "source": [
    "###Separating coding records"
   ]
  },
  {
   "cell_type": "code",
   "execution_count": 26,
   "metadata": {
    "collapsed": false
   },
   "outputs": [
    {
     "name": "stdout",
     "output_type": "stream",
     "text": [
      "Canvas is accessible via web browser at the URL: http://localhost:64100/index.html\n",
      "Opening Canvas in default web browser.\n"
     ]
    }
   ],
   "source": [
    "coding_Banks969_Li_SFrame=Banks969_Li_SFrame.filter_by('peg','type')\n",
    "coding_Banks969_Li_SFrame.show()"
   ]
  },
  {
   "cell_type": "markdown",
   "metadata": {},
   "source": [
    "##Exporting Data"
   ]
  },
  {
   "cell_type": "code",
   "execution_count": 30,
   "metadata": {
    "collapsed": false,
    "scrolled": true
   },
   "outputs": [
    {
     "data": {
      "text/html": [
       "<div style=\"max-height:1000px;max-width:1500px;overflow:auto;\"><table frame=\"box\" rules=\"cols\">\n",
       "    <tr>\n",
       "        <th style=\"padding-left: 1em; padding-right: 1em; text-align: center\">feature_id</th>\n",
       "        <th style=\"padding-left: 1em; padding-right: 1em; text-align: center\">Calculated_length_nt</th>\n",
       "        <th style=\"padding-left: 1em; padding-right: 1em; text-align: center\">Gene_GC</th>\n",
       "    </tr>\n",
       "    <tr>\n",
       "        <td style=\"padding-left: 1em; padding-right: 1em; text-align: center; vertical-align: top\">fig|1648.160.peg.1</td>\n",
       "        <td style=\"padding-left: 1em; padding-right: 1em; text-align: center; vertical-align: top\">492</td>\n",
       "        <td style=\"padding-left: 1em; padding-right: 1em; text-align: center; vertical-align: top\">0.355691056911</td>\n",
       "    </tr>\n",
       "    <tr>\n",
       "        <td style=\"padding-left: 1em; padding-right: 1em; text-align: center; vertical-align: top\">fig|1648.160.peg.2</td>\n",
       "        <td style=\"padding-left: 1em; padding-right: 1em; text-align: center; vertical-align: top\">909</td>\n",
       "        <td style=\"padding-left: 1em; padding-right: 1em; text-align: center; vertical-align: top\">0.324532453245</td>\n",
       "    </tr>\n",
       "    <tr>\n",
       "        <td style=\"padding-left: 1em; padding-right: 1em; text-align: center; vertical-align: top\">fig|1648.160.peg.3</td>\n",
       "        <td style=\"padding-left: 1em; padding-right: 1em; text-align: center; vertical-align: top\">1236</td>\n",
       "        <td style=\"padding-left: 1em; padding-right: 1em; text-align: center; vertical-align: top\">0.330906148867</td>\n",
       "    </tr>\n",
       "    <tr>\n",
       "        <td style=\"padding-left: 1em; padding-right: 1em; text-align: center; vertical-align: top\">fig|1648.160.peg.4</td>\n",
       "        <td style=\"padding-left: 1em; padding-right: 1em; text-align: center; vertical-align: top\">786</td>\n",
       "        <td style=\"padding-left: 1em; padding-right: 1em; text-align: center; vertical-align: top\">0.40203562341</td>\n",
       "    </tr>\n",
       "    <tr>\n",
       "        <td style=\"padding-left: 1em; padding-right: 1em; text-align: center; vertical-align: top\">fig|1648.160.peg.5</td>\n",
       "        <td style=\"padding-left: 1em; padding-right: 1em; text-align: center; vertical-align: top\">540</td>\n",
       "        <td style=\"padding-left: 1em; padding-right: 1em; text-align: center; vertical-align: top\">0.322222222222</td>\n",
       "    </tr>\n",
       "    <tr>\n",
       "        <td style=\"padding-left: 1em; padding-right: 1em; text-align: center; vertical-align: top\">fig|1648.160.peg.6</td>\n",
       "        <td style=\"padding-left: 1em; padding-right: 1em; text-align: center; vertical-align: top\">756</td>\n",
       "        <td style=\"padding-left: 1em; padding-right: 1em; text-align: center; vertical-align: top\">0.382275132275</td>\n",
       "    </tr>\n",
       "    <tr>\n",
       "        <td style=\"padding-left: 1em; padding-right: 1em; text-align: center; vertical-align: top\">fig|1648.160.peg.7</td>\n",
       "        <td style=\"padding-left: 1em; padding-right: 1em; text-align: center; vertical-align: top\">915</td>\n",
       "        <td style=\"padding-left: 1em; padding-right: 1em; text-align: center; vertical-align: top\">0.343169398907</td>\n",
       "    </tr>\n",
       "    <tr>\n",
       "        <td style=\"padding-left: 1em; padding-right: 1em; text-align: center; vertical-align: top\">fig|1648.160.peg.8</td>\n",
       "        <td style=\"padding-left: 1em; padding-right: 1em; text-align: center; vertical-align: top\">1179</td>\n",
       "        <td style=\"padding-left: 1em; padding-right: 1em; text-align: center; vertical-align: top\">0.367260390161</td>\n",
       "    </tr>\n",
       "    <tr>\n",
       "        <td style=\"padding-left: 1em; padding-right: 1em; text-align: center; vertical-align: top\">fig|1648.160.peg.9</td>\n",
       "        <td style=\"padding-left: 1em; padding-right: 1em; text-align: center; vertical-align: top\">1656</td>\n",
       "        <td style=\"padding-left: 1em; padding-right: 1em; text-align: center; vertical-align: top\">0.362922705314</td>\n",
       "    </tr>\n",
       "    <tr>\n",
       "        <td style=\"padding-left: 1em; padding-right: 1em; text-align: center; vertical-align: top\">fig|1648.160.peg.10</td>\n",
       "        <td style=\"padding-left: 1em; padding-right: 1em; text-align: center; vertical-align: top\">465</td>\n",
       "        <td style=\"padding-left: 1em; padding-right: 1em; text-align: center; vertical-align: top\">0.406451612903</td>\n",
       "    </tr>\n",
       "</table>\n",
       "[1520 rows x 3 columns]<br/>Note: Only the head of the SFrame is printed.<br/>You can use print_rows(num_rows=m, num_columns=n) to print more rows and columns.\n",
       "</div>"
      ],
      "text/plain": [
       "Columns:\n",
       "\tfeature_id\tstr\n",
       "\tCalculated_length_nt\tint\n",
       "\tGene_GC\tfloat\n",
       "\n",
       "Rows: 1520\n",
       "\n",
       "Data:\n",
       "+---------------------+----------------------+----------------+\n",
       "|      feature_id     | Calculated_length_nt |    Gene_GC     |\n",
       "+---------------------+----------------------+----------------+\n",
       "|  fig|1648.160.peg.1 |         492          | 0.355691056911 |\n",
       "|  fig|1648.160.peg.2 |         909          | 0.324532453245 |\n",
       "|  fig|1648.160.peg.3 |         1236         | 0.330906148867 |\n",
       "|  fig|1648.160.peg.4 |         786          | 0.40203562341  |\n",
       "|  fig|1648.160.peg.5 |         540          | 0.322222222222 |\n",
       "|  fig|1648.160.peg.6 |         756          | 0.382275132275 |\n",
       "|  fig|1648.160.peg.7 |         915          | 0.343169398907 |\n",
       "|  fig|1648.160.peg.8 |         1179         | 0.367260390161 |\n",
       "|  fig|1648.160.peg.9 |         1656         | 0.362922705314 |\n",
       "| fig|1648.160.peg.10 |         465          | 0.406451612903 |\n",
       "+---------------------+----------------------+----------------+\n",
       "[1520 rows x 3 columns]\n",
       "Note: Only the head of the SFrame is printed.\n",
       "You can use print_rows(num_rows=m, num_columns=n) to print more rows and columns."
      ]
     },
     "execution_count": 30,
     "metadata": {},
     "output_type": "execute_result"
    }
   ],
   "source": [
    "gene_Banks969_Li_gc_SFrame=coding_Banks969_Li_SFrame.select_columns(['feature_id','Calculated_length_nt','Gene_GC'])\n",
    "gene_Banks969_Li_gc_SFrame"
   ]
  },
  {
   "cell_type": "markdown",
   "metadata": {},
   "source": [
    "##Exporting to csv"
   ]
  },
  {
   "cell_type": "code",
   "execution_count": 31,
   "metadata": {
    "collapsed": true
   },
   "outputs": [],
   "source": [
    "gene_Banks969_Li_gc_SFrame.export_csv('gene_Banks969_Li_gc.tsv','\\t')"
   ]
  },
  {
   "cell_type": "markdown",
   "metadata": {},
   "source": [
    "##Exporting to dictionary/fastA file"
   ]
  },
  {
   "cell_type": "code",
   "execution_count": 33,
   "metadata": {
    "collapsed": false
   },
   "outputs": [
    {
     "data": {
      "text/plain": [
       "{'Calculated_length_nt': 492L,\n",
       " 'Gene_GC': 0.3556910569105691,\n",
       " 'feature_id': 'fig|1648.160.peg.1'}"
      ]
     },
     "execution_count": 33,
     "metadata": {},
     "output_type": "execute_result"
    }
   ],
   "source": [
    "gene_Banks969_Li_gc_SFrame[0]"
   ]
  },
  {
   "cell_type": "markdown",
   "metadata": {},
   "source": [
    "Forming a record of the following pattern: \">ID| function| [Strain]"
   ]
  },
  {
   "cell_type": "code",
   "execution_count": 56,
   "metadata": {
    "collapsed": false
   },
   "outputs": [
    {
     "ename": "SyntaxError",
     "evalue": "invalid syntax (<ipython-input-56-aa03a4ea185d>, line 7)",
     "output_type": "error",
     "traceback": [
      "\u001b[1;36m  File \u001b[1;32m\"<ipython-input-56-aa03a4ea185d>\"\u001b[1;36m, line \u001b[1;32m7\u001b[0m\n\u001b[1;33m    print coding_Banks969_Li_aa_dict[][i]\u001b[0m\n\u001b[1;37m                                     ^\u001b[0m\n\u001b[1;31mSyntaxError\u001b[0m\u001b[1;31m:\u001b[0m invalid syntax\n"
     ]
    }
   ],
   "source": [
    "coding_Banks969_Li_aa_dict={}\n",
    "for item in coding_Banks969_Li_SFrame:\n",
    "    coding_Banks969_Li_aa_dict['>'+item['feature_id']+'| '+item['function']+'| '+'[Erysipelothrix rhusiopathiae Banks969-Li]']=item['aa_sequence']\n",
    "    #print item['function']\n",
    "\n",
    "for i in range(len(coding_Banks969_Li_aa_dict)):\n",
    "    print coding_Banks969_Li_aa_dict[][i]"
   ]
  },
  {
   "cell_type": "markdown",
   "metadata": {},
   "source": [
    "##Writing to a faa file"
   ]
  },
  {
   "cell_type": "code",
   "execution_count": 60,
   "metadata": {
    "collapsed": false
   },
   "outputs": [
    {
     "name": "stdout",
     "output_type": "stream",
     "text": [
      "1520 <type 'dict'>\n"
     ]
    }
   ],
   "source": [
    "out_file='Banks969_Li_annotated.faa'\n",
    "hand_out=open(out_file,'w')\n",
    "\n",
    "for item in coding_Banks969_Li_aa_dict:\n",
    "   hand_out.write(item+'\\n'+coding_Banks969_Li_aa_dict[item])\n",
    "hand_out.close()\n",
    "print len(coding_Banks969_Li_aa_dict), type(coding_Banks969_Li_aa_dict)"
   ]
  },
  {
   "cell_type": "code",
   "execution_count": 61,
   "metadata": {
    "collapsed": false
   },
   "outputs": [
    {
     "name": "stdout",
     "output_type": "stream",
     "text": [
      "1520 <type 'dict'>\n",
      "1520 <type 'list'>\n",
      "1520 <type 'list'>\n"
     ]
    }
   ],
   "source": [
    "out_file='Banks969_Li_annotated_1.faa'\n",
    "hand_out=open(out_file,'w')\n",
    "coding_Banks969_Li_aa_headers=coding_Banks969_Li_aa_dict.keys()\n",
    "coding_Banks969_Li_aa_sequences=coding_Banks969_Li_aa_dict.values()\n",
    "for i in range(len(coding_Banks969_Li_aa_dict)):\n",
    "    hand_out.write(coding_Banks969_Li_aa_headers[i]+'\\n'+coding_Banks969_Li_aa_sequences[i])\n",
    "hand_out.close()\n",
    "print len(coding_Banks969_Li_aa_dict), type(coding_Banks969_Li_aa_dict)\n",
    "print len(coding_Banks969_Li_aa_headers), type(coding_Banks969_Li_aa_headers)\n",
    "print len(coding_Banks969_Li_aa_sequences), type(coding_Banks969_Li_aa_sequences)"
   ]
  },
  {
   "cell_type": "markdown",
   "metadata": {},
   "source": [
    "##Correcting for the newline characters between the entries but not after the last line"
   ]
  },
  {
   "cell_type": "code",
   "execution_count": 65,
   "metadata": {
    "collapsed": false
   },
   "outputs": [
    {
     "name": "stdout",
     "output_type": "stream",
     "text": [
      "1520 <type 'dict'>\n",
      "1520 <type 'list'>\n",
      "1520 <type 'list'>\n"
     ]
    }
   ],
   "source": [
    "out_file='Banks969_Li_annotated_optimized.faa'\n",
    "hand_out=open(out_file,'w')\n",
    "coding_Banks969_Li_aa_headers=coding_Banks969_Li_aa_dict.keys()\n",
    "coding_Banks969_Li_aa_sequences=coding_Banks969_Li_aa_dict.values()\n",
    "for i in range(len(coding_Banks969_Li_aa_dict)):\n",
    "    if (i<(len(coding_Banks969_Li_aa_dict)-1)):\n",
    "        hand_out.write(coding_Banks969_Li_aa_headers[i]+'\\n'+coding_Banks969_Li_aa_sequences[i]+'\\n')\n",
    "    else:\n",
    "        hand_out.write(coding_Banks969_Li_aa_headers[i]+'\\n'+coding_Banks969_Li_aa_sequences[i])\n",
    "hand_out.close()\n",
    "print len(coding_Banks969_Li_aa_dict), type(coding_Banks969_Li_aa_dict)\n",
    "print len(coding_Banks969_Li_aa_headers), type(coding_Banks969_Li_aa_headers)\n",
    "print len(coding_Banks969_Li_aa_sequences), type(coding_Banks969_Li_aa_sequences)"
   ]
  },
  {
   "cell_type": "code",
   "execution_count": null,
   "metadata": {
    "collapsed": true
   },
   "outputs": [],
   "source": []
  },
  {
   "cell_type": "markdown",
   "metadata": {},
   "source": [
    "### Create a dictionary containing the data"
   ]
  },
  {
   "cell_type": "code",
   "execution_count": 31,
   "metadata": {
    "collapsed": false
   },
   "outputs": [],
   "source": [
    "dict_nt={}\n",
    "\n",
    "for item in lst_nt:\n",
    "    lst_item=item.split('\\n')\n",
    "    dict_nt[lst_item[0].strip()]=''.join(lst_item[1:]).strip()\n",
    "#dict_nt ##looks ok but too large to display"
   ]
  },
  {
   "cell_type": "code",
   "execution_count": 33,
   "metadata": {
    "collapsed": false
   },
   "outputs": [],
   "source": [
    "dict_aa={}\n",
    "for item in lst_aa:\n",
    "    lst_item=item.split('\\n')\n",
    "    dict_aa[lst_item[0].strip()]=''.join(lst_item[1:]).strip()\n",
    "#dict_aa ###too large to display"
   ]
  },
  {
   "cell_type": "markdown",
   "metadata": {},
   "source": [
    "###Creating index for table1 to insert nucleotides: indexed_df = df.set_index(['A', 'B'])"
   ]
  },
  {
   "cell_type": "code",
   "execution_count": 13,
   "metadata": {
    "collapsed": false
   },
   "outputs": [],
   "source": [
    "\n",
    "\n",
    "#table1_addedColumn=table1\n",
    "#table1_addedColumn['Seq_nt']=table1_addedColumn['NCBI GI']#just creating an empty column\n",
    "#indexed_table1=table1.to_dataframe()#converting to Dataframe and indexing\n",
    "#indexed_table1.set_index('Feature ID')"
   ]
  },
  {
   "cell_type": "code",
   "execution_count": 48,
   "metadata": {
    "collapsed": false
   },
   "outputs": [
    {
     "data": {
      "text/html": [
       "<div style=\"max-height:1000px;max-width:1500px;overflow:auto;\"><table frame=\"box\" rules=\"cols\">\n",
       "    <tr>\n",
       "        <th style=\"padding-left: 1em; padding-right: 1em; text-align: center\">Feature ID</th>\n",
       "        <th style=\"padding-left: 1em; padding-right: 1em; text-align: center\">Seq_aa</th>\n",
       "    </tr>\n",
       "    <tr>\n",
       "        <td style=\"padding-left: 1em; padding-right: 1em; text-align: center; vertical-align: top\">fig|1648.160.peg.1398</td>\n",
       "        <td style=\"padding-left: 1em; padding-right: 1em; text-align: center; vertical-align: top\">MKLTDKQLKIIETYGADTPESFLMV<br>FPYRYERLEAKPRDAWRPGDT ...</td>\n",
       "    </tr>\n",
       "    <tr>\n",
       "        <td style=\"padding-left: 1em; padding-right: 1em; text-align: center; vertical-align: top\">fig|1648.160.peg.1399</td>\n",
       "        <td style=\"padding-left: 1em; padding-right: 1em; text-align: center; vertical-align: top\">MTKWDLLDSMKIPYFNKDLINNAFI<br>HSSYVNEAEELLEDNERLEFM ...</td>\n",
       "    </tr>\n",
       "    <tr>\n",
       "        <td style=\"padding-left: 1em; padding-right: 1em; text-align: center; vertical-align: top\">fig|1648.160.peg.1428</td>\n",
       "        <td style=\"padding-left: 1em; padding-right: 1em; text-align: center; vertical-align: top\">MVIHFDLAQKEAKIKELESEMVEDG<br>FWDDHRHSSQHIQKLNQLKKV ...</td>\n",
       "    </tr>\n",
       "    <tr>\n",
       "        <td style=\"padding-left: 1em; padding-right: 1em; text-align: center; vertical-align: top\">fig|1648.160.peg.1429</td>\n",
       "        <td style=\"padding-left: 1em; padding-right: 1em; text-align: center; vertical-align: top\">MAGFLSNLFSGDRKILNEIEKIAHE<br>IDALADETRALSDEALKEKTN ...</td>\n",
       "    </tr>\n",
       "    <tr>\n",
       "        <td style=\"padding-left: 1em; padding-right: 1em; text-align: center; vertical-align: top\">fig|1648.160.peg.1394</td>\n",
       "        <td style=\"padding-left: 1em; padding-right: 1em; text-align: center; vertical-align: top\">MPKLDILNLEGKSLRELELNEAVFG<br>IEPNNQTIFEAVVMQQASLRQ ...</td>\n",
       "    </tr>\n",
       "    <tr>\n",
       "        <td style=\"padding-left: 1em; padding-right: 1em; text-align: center; vertical-align: top\">fig|1648.160.peg.1395</td>\n",
       "        <td style=\"padding-left: 1em; padding-right: 1em; text-align: center; vertical-align: top\">MKGLLGRKLGMTQVFTTDGKLIPVS<br>VVEVLPNVVLQKKTMESDNYE ...</td>\n",
       "    </tr>\n",
       "    <tr>\n",
       "        <td style=\"padding-left: 1em; padding-right: 1em; text-align: center; vertical-align: top\">fig|1648.160.peg.1396</td>\n",
       "        <td style=\"padding-left: 1em; padding-right: 1em; text-align: center; vertical-align: top\">MAKNFIRIRLKAYEHRTIDSAAQKI<br>VQAANDHGAQKVVGPVPLPTE ...</td>\n",
       "    </tr>\n",
       "    <tr>\n",
       "        <td style=\"padding-left: 1em; padding-right: 1em; text-align: center; vertical-align: top\">fig|1648.160.peg.1397</td>\n",
       "        <td style=\"padding-left: 1em; padding-right: 1em; text-align: center; vertical-align: top\">MAAKQAQDICEDKDIHVIETKTIPQ<br>GLSACVMFNPDVDVEDNLTEM ...</td>\n",
       "    </tr>\n",
       "    <tr>\n",
       "        <td style=\"padding-left: 1em; padding-right: 1em; text-align: center; vertical-align: top\">fig|1648.160.peg.1422</td>\n",
       "        <td style=\"padding-left: 1em; padding-right: 1em; text-align: center; vertical-align: top\">MVPYESTVFTNYQTIARLGLLNTYT<br>ALIVPSLASVFYIFYLKGYLT ...</td>\n",
       "    </tr>\n",
       "    <tr>\n",
       "        <td style=\"padding-left: 1em; padding-right: 1em; text-align: center; vertical-align: top\">fig|1648.160.peg.1391</td>\n",
       "        <td style=\"padding-left: 1em; padding-right: 1em; text-align: center; vertical-align: top\">MSRSLKKGPFCDLHLMNKVEKLNAE<br>SKKEVIKTWSRRSTIFPQFVE ...</td>\n",
       "    </tr>\n",
       "</table>\n",
       "[1520 rows x 2 columns]<br/>Note: Only the head of the SFrame is printed.<br/>You can use print_rows(num_rows=m, num_columns=n) to print more rows and columns.\n",
       "</div>"
      ],
      "text/plain": [
       "Columns:\n",
       "\tFeature ID\tstr\n",
       "\tSeq_aa\tstr\n",
       "\n",
       "Rows: 1520\n",
       "\n",
       "Data:\n",
       "+-----------------------+-------------------------------+\n",
       "|       Feature ID      |             Seq_aa            |\n",
       "+-----------------------+-------------------------------+\n",
       "| fig|1648.160.peg.1398 | MKLTDKQLKIIETYGADTPESFLMVF... |\n",
       "| fig|1648.160.peg.1399 | MTKWDLLDSMKIPYFNKDLINNAFIH... |\n",
       "| fig|1648.160.peg.1428 | MVIHFDLAQKEAKIKELESEMVEDGF... |\n",
       "| fig|1648.160.peg.1429 | MAGFLSNLFSGDRKILNEIEKIAHEI... |\n",
       "| fig|1648.160.peg.1394 | MPKLDILNLEGKSLRELELNEAVFGI... |\n",
       "| fig|1648.160.peg.1395 | MKGLLGRKLGMTQVFTTDGKLIPVSV... |\n",
       "| fig|1648.160.peg.1396 | MAKNFIRIRLKAYEHRTIDSAAQKIV... |\n",
       "| fig|1648.160.peg.1397 | MAAKQAQDICEDKDIHVIETKTIPQG... |\n",
       "| fig|1648.160.peg.1422 | MVPYESTVFTNYQTIARLGLLNTYTA... |\n",
       "| fig|1648.160.peg.1391 | MSRSLKKGPFCDLHLMNKVEKLNAES... |\n",
       "+-----------------------+-------------------------------+\n",
       "[1520 rows x 2 columns]\n",
       "Note: Only the head of the SFrame is printed.\n",
       "You can use print_rows(num_rows=m, num_columns=n) to print more rows and columns."
      ]
     },
     "execution_count": 48,
     "metadata": {},
     "output_type": "execute_result"
    }
   ],
   "source": [
    "sf=graphlab.SFrame({'Feature ID':dict_nt.keys(),'Seq_nt':dict_nt.values()})\n",
    "#sf['Feature ID']\n",
    "aa_SFrame=graphlab.SFrame({'Feature ID':dict_aa.keys(),'Seq_aa':dict_aa.values()})\n",
    "aa_SFrame"
   ]
  },
  {
   "cell_type": "code",
   "execution_count": null,
   "metadata": {
    "collapsed": true
   },
   "outputs": [],
   "source": []
  },
  {
   "cell_type": "code",
   "execution_count": null,
   "metadata": {
    "collapsed": true
   },
   "outputs": [],
   "source": []
  },
  {
   "cell_type": "code",
   "execution_count": null,
   "metadata": {
    "collapsed": true
   },
   "outputs": [],
   "source": []
  },
  {
   "cell_type": "code",
   "execution_count": null,
   "metadata": {
    "collapsed": true
   },
   "outputs": [],
   "source": []
  },
  {
   "cell_type": "code",
   "execution_count": null,
   "metadata": {
    "collapsed": true
   },
   "outputs": [],
   "source": []
  },
  {
   "cell_type": "code",
   "execution_count": null,
   "metadata": {
    "collapsed": true
   },
   "outputs": [],
   "source": []
  },
  {
   "cell_type": "markdown",
   "metadata": {},
   "source": [
    "###Adding a column and inserting nucleotide data"
   ]
  },
  {
   "cell_type": "markdown",
   "metadata": {},
   "source": []
  },
  {
   "cell_type": "code",
   "execution_count": 49,
   "metadata": {
    "collapsed": false
   },
   "outputs": [],
   "source": [
    "table1_merge=table1\n",
    "#table1_merge['Feature ID']"
   ]
  },
  {
   "cell_type": "code",
   "execution_count": 50,
   "metadata": {
    "collapsed": false
   },
   "outputs": [
    {
     "data": {
      "text/html": [
       "<div style=\"max-height:1000px;max-width:1500px;overflow:auto;\"><table frame=\"box\" rules=\"cols\">\n",
       "    <tr>\n",
       "        <th style=\"padding-left: 1em; padding-right: 1em; text-align: center\">Feature ID</th>\n",
       "        <th style=\"padding-left: 1em; padding-right: 1em; text-align: center\">Seq_nt</th>\n",
       "    </tr>\n",
       "    <tr>\n",
       "        <td style=\"padding-left: 1em; padding-right: 1em; text-align: center; vertical-align: top\">fig|1648.160.peg.1398</td>\n",
       "        <td style=\"padding-left: 1em; padding-right: 1em; text-align: center; vertical-align: top\">atgaaactcacggataaacaattaa<br>aaattattgaaacttatggtg ...</td>\n",
       "    </tr>\n",
       "    <tr>\n",
       "        <td style=\"padding-left: 1em; padding-right: 1em; text-align: center; vertical-align: top\">fig|1648.160.peg.1399</td>\n",
       "        <td style=\"padding-left: 1em; padding-right: 1em; text-align: center; vertical-align: top\">atgacaaaatgggatttattggatt<br>ctatgaagattccatacttta ...</td>\n",
       "    </tr>\n",
       "    <tr>\n",
       "        <td style=\"padding-left: 1em; padding-right: 1em; text-align: center; vertical-align: top\">fig|1648.160.peg.1428</td>\n",
       "        <td style=\"padding-left: 1em; padding-right: 1em; text-align: center; vertical-align: top\">ttggtgattcactttgacttagctc<br>aaaaagaagctaaaatcaaag ...</td>\n",
       "    </tr>\n",
       "    <tr>\n",
       "        <td style=\"padding-left: 1em; padding-right: 1em; text-align: center; vertical-align: top\">fig|1648.160.peg.1429</td>\n",
       "        <td style=\"padding-left: 1em; padding-right: 1em; text-align: center; vertical-align: top\">atggctggatttttaagtaatcttt<br>ttagtggcgatcgtaagattt ...</td>\n",
       "    </tr>\n",
       "    <tr>\n",
       "        <td style=\"padding-left: 1em; padding-right: 1em; text-align: center; vertical-align: top\">fig|1648.160.peg.1394</td>\n",
       "        <td style=\"padding-left: 1em; padding-right: 1em; text-align: center; vertical-align: top\">atgcctaagttagatattttaaacc<br>ttgaaggcaagagtcttcgtg ...</td>\n",
       "    </tr>\n",
       "    <tr>\n",
       "        <td style=\"padding-left: 1em; padding-right: 1em; text-align: center; vertical-align: top\">fig|1648.160.peg.1395</td>\n",
       "        <td style=\"padding-left: 1em; padding-right: 1em; text-align: center; vertical-align: top\">atgaaaggattactaggacgtaaat<br>taggaatgacacaagtcttca ...</td>\n",
       "    </tr>\n",
       "    <tr>\n",
       "        <td style=\"padding-left: 1em; padding-right: 1em; text-align: center; vertical-align: top\">fig|1648.160.peg.1396</td>\n",
       "        <td style=\"padding-left: 1em; padding-right: 1em; text-align: center; vertical-align: top\">atggcaaagaattttattcgtattc<br>gtttaaaagcttatgaacacc ...</td>\n",
       "    </tr>\n",
       "    <tr>\n",
       "        <td style=\"padding-left: 1em; padding-right: 1em; text-align: center; vertical-align: top\">fig|1648.160.peg.1397</td>\n",
       "        <td style=\"padding-left: 1em; padding-right: 1em; text-align: center; vertical-align: top\">atggctgcaaaacaagctcaagata<br>tttgtgaagacaaagatatac ...</td>\n",
       "    </tr>\n",
       "    <tr>\n",
       "        <td style=\"padding-left: 1em; padding-right: 1em; text-align: center; vertical-align: top\">fig|1648.160.peg.1390</td>\n",
       "        <td style=\"padding-left: 1em; padding-right: 1em; text-align: center; vertical-align: top\">atggaagtaaaagctatagttaaaa<br>cagttcgtgttactccacgta ...</td>\n",
       "    </tr>\n",
       "    <tr>\n",
       "        <td style=\"padding-left: 1em; padding-right: 1em; text-align: center; vertical-align: top\">fig|1648.160.peg.1391</td>\n",
       "        <td style=\"padding-left: 1em; padding-right: 1em; text-align: center; vertical-align: top\">atgagtcgtagtttaaaaaaaggac<br>cattttgtgatcttcatttaa ...</td>\n",
       "    </tr>\n",
       "</table>\n",
       "[1520 rows x 2 columns]<br/>Note: Only the head of the SFrame is printed.<br/>You can use print_rows(num_rows=m, num_columns=n) to print more rows and columns.\n",
       "</div>"
      ],
      "text/plain": [
       "Columns:\n",
       "\tFeature ID\tstr\n",
       "\tSeq_nt\tstr\n",
       "\n",
       "Rows: 1520\n",
       "\n",
       "Data:\n",
       "+-----------------------+-------------------------------+\n",
       "|       Feature ID      |             Seq_nt            |\n",
       "+-----------------------+-------------------------------+\n",
       "| fig|1648.160.peg.1398 | atgaaactcacggataaacaattaaa... |\n",
       "| fig|1648.160.peg.1399 | atgacaaaatgggatttattggattc... |\n",
       "| fig|1648.160.peg.1428 | ttggtgattcactttgacttagctca... |\n",
       "| fig|1648.160.peg.1429 | atggctggatttttaagtaatctttt... |\n",
       "| fig|1648.160.peg.1394 | atgcctaagttagatattttaaacct... |\n",
       "| fig|1648.160.peg.1395 | atgaaaggattactaggacgtaaatt... |\n",
       "| fig|1648.160.peg.1396 | atggcaaagaattttattcgtattcg... |\n",
       "| fig|1648.160.peg.1397 | atggctgcaaaacaagctcaagatat... |\n",
       "| fig|1648.160.peg.1390 | atggaagtaaaagctatagttaaaac... |\n",
       "| fig|1648.160.peg.1391 | atgagtcgtagtttaaaaaaaggacc... |\n",
       "+-----------------------+-------------------------------+\n",
       "[1520 rows x 2 columns]\n",
       "Note: Only the head of the SFrame is printed.\n",
       "You can use print_rows(num_rows=m, num_columns=n) to print more rows and columns."
      ]
     },
     "execution_count": 50,
     "metadata": {},
     "output_type": "execute_result"
    }
   ],
   "source": [
    "sf"
   ]
  },
  {
   "cell_type": "markdown",
   "metadata": {},
   "source": [
    "###Trying to merge"
   ]
  },
  {
   "cell_type": "code",
   "execution_count": 51,
   "metadata": {
    "collapsed": false
   },
   "outputs": [
    {
     "name": "stdout",
     "output_type": "stream",
     "text": [
      "Canvas is updated and available in a tab in the default browser.\n"
     ]
    }
   ],
   "source": [
    "mergedTbl1=table1.join(sf, how='left')\n",
    "mergedTbl1.show()"
   ]
  },
  {
   "cell_type": "markdown",
   "metadata": {},
   "source": [
    "#Defining user functions"
   ]
  },
  {
   "cell_type": "code",
   "execution_count": 52,
   "metadata": {
    "collapsed": true
   },
   "outputs": [],
   "source": []
  },
  {
   "cell_type": "code",
   "execution_count": 53,
   "metadata": {
    "collapsed": false
   },
   "outputs": [
    {
     "data": {
      "text/html": [
       "<div style=\"max-height:1000px;max-width:1500px;overflow:auto;\"><table frame=\"box\" rules=\"cols\">\n",
       "    <tr>\n",
       "        <th style=\"padding-left: 1em; padding-right: 1em; text-align: center\">Feature ID</th>\n",
       "        <th style=\"padding-left: 1em; padding-right: 1em; text-align: center\">Type</th>\n",
       "        <th style=\"padding-left: 1em; padding-right: 1em; text-align: center\">Contig</th>\n",
       "        <th style=\"padding-left: 1em; padding-right: 1em; text-align: center\">Start</th>\n",
       "        <th style=\"padding-left: 1em; padding-right: 1em; text-align: center\">Stop</th>\n",
       "        <th style=\"padding-left: 1em; padding-right: 1em; text-align: center\">Frame</th>\n",
       "        <th style=\"padding-left: 1em; padding-right: 1em; text-align: center\">Strand</th>\n",
       "        <th style=\"padding-left: 1em; padding-right: 1em; text-align: center\">Length (bp)</th>\n",
       "    </tr>\n",
       "    <tr>\n",
       "        <td style=\"padding-left: 1em; padding-right: 1em; text-align: center; vertical-align: top\">fig|1648.160.peg.1</td>\n",
       "        <td style=\"padding-left: 1em; padding-right: 1em; text-align: center; vertical-align: top\">CDS</td>\n",
       "        <td style=\"padding-left: 1em; padding-right: 1em; text-align: center; vertical-align: top\">NODE_100_length_4674_cov_<br>7.14051_ID_199 ...</td>\n",
       "        <td style=\"padding-left: 1em; padding-right: 1em; text-align: center; vertical-align: top\">39</td>\n",
       "        <td style=\"padding-left: 1em; padding-right: 1em; text-align: center; vertical-align: top\">530</td>\n",
       "        <td style=\"padding-left: 1em; padding-right: 1em; text-align: center; vertical-align: top\">3</td>\n",
       "        <td style=\"padding-left: 1em; padding-right: 1em; text-align: center; vertical-align: top\">+</td>\n",
       "        <td style=\"padding-left: 1em; padding-right: 1em; text-align: center; vertical-align: top\">492</td>\n",
       "    </tr>\n",
       "    <tr>\n",
       "        <td style=\"padding-left: 1em; padding-right: 1em; text-align: center; vertical-align: top\">fig|1648.160.peg.2</td>\n",
       "        <td style=\"padding-left: 1em; padding-right: 1em; text-align: center; vertical-align: top\">CDS</td>\n",
       "        <td style=\"padding-left: 1em; padding-right: 1em; text-align: center; vertical-align: top\">NODE_100_length_4674_cov_<br>7.14051_ID_199 ...</td>\n",
       "        <td style=\"padding-left: 1em; padding-right: 1em; text-align: center; vertical-align: top\">693</td>\n",
       "        <td style=\"padding-left: 1em; padding-right: 1em; text-align: center; vertical-align: top\">1601</td>\n",
       "        <td style=\"padding-left: 1em; padding-right: 1em; text-align: center; vertical-align: top\">3</td>\n",
       "        <td style=\"padding-left: 1em; padding-right: 1em; text-align: center; vertical-align: top\">+</td>\n",
       "        <td style=\"padding-left: 1em; padding-right: 1em; text-align: center; vertical-align: top\">909</td>\n",
       "    </tr>\n",
       "    <tr>\n",
       "        <td style=\"padding-left: 1em; padding-right: 1em; text-align: center; vertical-align: top\">fig|1648.160.peg.3</td>\n",
       "        <td style=\"padding-left: 1em; padding-right: 1em; text-align: center; vertical-align: top\">CDS</td>\n",
       "        <td style=\"padding-left: 1em; padding-right: 1em; text-align: center; vertical-align: top\">NODE_100_length_4674_cov_<br>7.14051_ID_199 ...</td>\n",
       "        <td style=\"padding-left: 1em; padding-right: 1em; text-align: center; vertical-align: top\">1594</td>\n",
       "        <td style=\"padding-left: 1em; padding-right: 1em; text-align: center; vertical-align: top\">2829</td>\n",
       "        <td style=\"padding-left: 1em; padding-right: 1em; text-align: center; vertical-align: top\">1</td>\n",
       "        <td style=\"padding-left: 1em; padding-right: 1em; text-align: center; vertical-align: top\">+</td>\n",
       "        <td style=\"padding-left: 1em; padding-right: 1em; text-align: center; vertical-align: top\">1236</td>\n",
       "    </tr>\n",
       "    <tr>\n",
       "        <td style=\"padding-left: 1em; padding-right: 1em; text-align: center; vertical-align: top\">fig|1648.160.peg.4</td>\n",
       "        <td style=\"padding-left: 1em; padding-right: 1em; text-align: center; vertical-align: top\">CDS</td>\n",
       "        <td style=\"padding-left: 1em; padding-right: 1em; text-align: center; vertical-align: top\">NODE_100_length_4674_cov_<br>7.14051_ID_199 ...</td>\n",
       "        <td style=\"padding-left: 1em; padding-right: 1em; text-align: center; vertical-align: top\">3666</td>\n",
       "        <td style=\"padding-left: 1em; padding-right: 1em; text-align: center; vertical-align: top\">2881</td>\n",
       "        <td style=\"padding-left: 1em; padding-right: 1em; text-align: center; vertical-align: top\">-3</td>\n",
       "        <td style=\"padding-left: 1em; padding-right: 1em; text-align: center; vertical-align: top\">-</td>\n",
       "        <td style=\"padding-left: 1em; padding-right: 1em; text-align: center; vertical-align: top\">786</td>\n",
       "    </tr>\n",
       "    <tr>\n",
       "        <td style=\"padding-left: 1em; padding-right: 1em; text-align: center; vertical-align: top\">fig|1648.160.peg.5</td>\n",
       "        <td style=\"padding-left: 1em; padding-right: 1em; text-align: center; vertical-align: top\">CDS</td>\n",
       "        <td style=\"padding-left: 1em; padding-right: 1em; text-align: center; vertical-align: top\">NODE_100_length_4674_cov_<br>7.14051_ID_199 ...</td>\n",
       "        <td style=\"padding-left: 1em; padding-right: 1em; text-align: center; vertical-align: top\">4297</td>\n",
       "        <td style=\"padding-left: 1em; padding-right: 1em; text-align: center; vertical-align: top\">3758</td>\n",
       "        <td style=\"padding-left: 1em; padding-right: 1em; text-align: center; vertical-align: top\">-1</td>\n",
       "        <td style=\"padding-left: 1em; padding-right: 1em; text-align: center; vertical-align: top\">-</td>\n",
       "        <td style=\"padding-left: 1em; padding-right: 1em; text-align: center; vertical-align: top\">540</td>\n",
       "    </tr>\n",
       "    <tr>\n",
       "        <td style=\"padding-left: 1em; padding-right: 1em; text-align: center; vertical-align: top\">fig|1648.160.peg.6</td>\n",
       "        <td style=\"padding-left: 1em; padding-right: 1em; text-align: center; vertical-align: top\">CDS</td>\n",
       "        <td style=\"padding-left: 1em; padding-right: 1em; text-align: center; vertical-align: top\">NODE_101_length_4672_cov_<br>9.29831_ID_201 ...</td>\n",
       "        <td style=\"padding-left: 1em; padding-right: 1em; text-align: center; vertical-align: top\">4524</td>\n",
       "        <td style=\"padding-left: 1em; padding-right: 1em; text-align: center; vertical-align: top\">3769</td>\n",
       "        <td style=\"padding-left: 1em; padding-right: 1em; text-align: center; vertical-align: top\">-3</td>\n",
       "        <td style=\"padding-left: 1em; padding-right: 1em; text-align: center; vertical-align: top\">-</td>\n",
       "        <td style=\"padding-left: 1em; padding-right: 1em; text-align: center; vertical-align: top\">756</td>\n",
       "    </tr>\n",
       "    <tr>\n",
       "        <td style=\"padding-left: 1em; padding-right: 1em; text-align: center; vertical-align: top\">fig|1648.160.peg.7</td>\n",
       "        <td style=\"padding-left: 1em; padding-right: 1em; text-align: center; vertical-align: top\">CDS</td>\n",
       "        <td style=\"padding-left: 1em; padding-right: 1em; text-align: center; vertical-align: top\">NODE_102_length_4655_cov_<br>7.745_ID_203 ...</td>\n",
       "        <td style=\"padding-left: 1em; padding-right: 1em; text-align: center; vertical-align: top\">1744</td>\n",
       "        <td style=\"padding-left: 1em; padding-right: 1em; text-align: center; vertical-align: top\">830</td>\n",
       "        <td style=\"padding-left: 1em; padding-right: 1em; text-align: center; vertical-align: top\">-1</td>\n",
       "        <td style=\"padding-left: 1em; padding-right: 1em; text-align: center; vertical-align: top\">-</td>\n",
       "        <td style=\"padding-left: 1em; padding-right: 1em; text-align: center; vertical-align: top\">915</td>\n",
       "    </tr>\n",
       "    <tr>\n",
       "        <td style=\"padding-left: 1em; padding-right: 1em; text-align: center; vertical-align: top\">fig|1648.160.peg.8</td>\n",
       "        <td style=\"padding-left: 1em; padding-right: 1em; text-align: center; vertical-align: top\">CDS</td>\n",
       "        <td style=\"padding-left: 1em; padding-right: 1em; text-align: center; vertical-align: top\">NODE_102_length_4655_cov_<br>7.745_ID_203 ...</td>\n",
       "        <td style=\"padding-left: 1em; padding-right: 1em; text-align: center; vertical-align: top\">2906</td>\n",
       "        <td style=\"padding-left: 1em; padding-right: 1em; text-align: center; vertical-align: top\">1728</td>\n",
       "        <td style=\"padding-left: 1em; padding-right: 1em; text-align: center; vertical-align: top\">-2</td>\n",
       "        <td style=\"padding-left: 1em; padding-right: 1em; text-align: center; vertical-align: top\">-</td>\n",
       "        <td style=\"padding-left: 1em; padding-right: 1em; text-align: center; vertical-align: top\">1179</td>\n",
       "    </tr>\n",
       "    <tr>\n",
       "        <td style=\"padding-left: 1em; padding-right: 1em; text-align: center; vertical-align: top\">fig|1648.160.peg.9</td>\n",
       "        <td style=\"padding-left: 1em; padding-right: 1em; text-align: center; vertical-align: top\">CDS</td>\n",
       "        <td style=\"padding-left: 1em; padding-right: 1em; text-align: center; vertical-align: top\">NODE_102_length_4655_cov_<br>7.745_ID_203 ...</td>\n",
       "        <td style=\"padding-left: 1em; padding-right: 1em; text-align: center; vertical-align: top\">4549</td>\n",
       "        <td style=\"padding-left: 1em; padding-right: 1em; text-align: center; vertical-align: top\">2894</td>\n",
       "        <td style=\"padding-left: 1em; padding-right: 1em; text-align: center; vertical-align: top\">-1</td>\n",
       "        <td style=\"padding-left: 1em; padding-right: 1em; text-align: center; vertical-align: top\">-</td>\n",
       "        <td style=\"padding-left: 1em; padding-right: 1em; text-align: center; vertical-align: top\">1656</td>\n",
       "    </tr>\n",
       "    <tr>\n",
       "        <td style=\"padding-left: 1em; padding-right: 1em; text-align: center; vertical-align: top\">fig|1648.160.peg.10</td>\n",
       "        <td style=\"padding-left: 1em; padding-right: 1em; text-align: center; vertical-align: top\">CDS</td>\n",
       "        <td style=\"padding-left: 1em; padding-right: 1em; text-align: center; vertical-align: top\">NODE_103_length_4645_cov_<br>7.86383_ID_205 ...</td>\n",
       "        <td style=\"padding-left: 1em; padding-right: 1em; text-align: center; vertical-align: top\">674</td>\n",
       "        <td style=\"padding-left: 1em; padding-right: 1em; text-align: center; vertical-align: top\">1138</td>\n",
       "        <td style=\"padding-left: 1em; padding-right: 1em; text-align: center; vertical-align: top\">2</td>\n",
       "        <td style=\"padding-left: 1em; padding-right: 1em; text-align: center; vertical-align: top\">+</td>\n",
       "        <td style=\"padding-left: 1em; padding-right: 1em; text-align: center; vertical-align: top\">465</td>\n",
       "    </tr>\n",
       "</table>\n",
       "<table frame=\"box\" rules=\"cols\">\n",
       "    <tr>\n",
       "        <th style=\"padding-left: 1em; padding-right: 1em; text-align: center\">Function</th>\n",
       "        <th style=\"padding-left: 1em; padding-right: 1em; text-align: center\">Subsystem</th>\n",
       "        <th style=\"padding-left: 1em; padding-right: 1em; text-align: center\">NCBI GI</th>\n",
       "        <th style=\"padding-left: 1em; padding-right: 1em; text-align: center\">locus</th>\n",
       "        <th style=\"padding-left: 1em; padding-right: 1em; text-align: center\">Seq_nt</th>\n",
       "        <th style=\"padding-left: 1em; padding-right: 1em; text-align: center\">Calculated_length_nt</th>\n",
       "    </tr>\n",
       "    <tr>\n",
       "        <td style=\"padding-left: 1em; padding-right: 1em; text-align: center; vertical-align: top\">Putative hemagglutinin<br>/hemolysin-related ...</td>\n",
       "        <td style=\"padding-left: 1em; padding-right: 1em; text-align: center; vertical-align: top\">- none -</td>\n",
       "        <td style=\"padding-left: 1em; padding-right: 1em; text-align: center; vertical-align: top\"></td>\n",
       "        <td style=\"padding-left: 1em; padding-right: 1em; text-align: center; vertical-align: top\"></td>\n",
       "        <td style=\"padding-left: 1em; padding-right: 1em; text-align: center; vertical-align: top\">atgactgttaacgaggatgttacac<br>tttatgcacaatggaaaaaat ...</td>\n",
       "        <td style=\"padding-left: 1em; padding-right: 1em; text-align: center; vertical-align: top\">492</td>\n",
       "    </tr>\n",
       "    <tr>\n",
       "        <td style=\"padding-left: 1em; padding-right: 1em; text-align: center; vertical-align: top\">ABC transporter, ATP-<br>binding protein ...</td>\n",
       "        <td style=\"padding-left: 1em; padding-right: 1em; text-align: center; vertical-align: top\">- none -</td>\n",
       "        <td style=\"padding-left: 1em; padding-right: 1em; text-align: center; vertical-align: top\"></td>\n",
       "        <td style=\"padding-left: 1em; padding-right: 1em; text-align: center; vertical-align: top\"></td>\n",
       "        <td style=\"padding-left: 1em; padding-right: 1em; text-align: center; vertical-align: top\">atgaaattagaatttaatcaaatca<br>ataagttttttgacgaacatc ...</td>\n",
       "        <td style=\"padding-left: 1em; padding-right: 1em; text-align: center; vertical-align: top\">909</td>\n",
       "    </tr>\n",
       "    <tr>\n",
       "        <td style=\"padding-left: 1em; padding-right: 1em; text-align: center; vertical-align: top\">ABC transporter, permease<br>protein (putative) ...</td>\n",
       "        <td style=\"padding-left: 1em; padding-right: 1em; text-align: center; vertical-align: top\">- none -</td>\n",
       "        <td style=\"padding-left: 1em; padding-right: 1em; text-align: center; vertical-align: top\"></td>\n",
       "        <td style=\"padding-left: 1em; padding-right: 1em; text-align: center; vertical-align: top\"></td>\n",
       "        <td style=\"padding-left: 1em; padding-right: 1em; text-align: center; vertical-align: top\">atgaataaactcaaaacggttttta<br>aatttgaatttttagaaatgt ...</td>\n",
       "        <td style=\"padding-left: 1em; padding-right: 1em; text-align: center; vertical-align: top\">1236</td>\n",
       "    </tr>\n",
       "    <tr>\n",
       "        <td style=\"padding-left: 1em; padding-right: 1em; text-align: center; vertical-align: top\">L-Aspartate dehydrogenase<br>(EC 1.4.1.21) homolog ...</td>\n",
       "        <td style=\"padding-left: 1em; padding-right: 1em; text-align: center; vertical-align: top\">- none -</td>\n",
       "        <td style=\"padding-left: 1em; padding-right: 1em; text-align: center; vertical-align: top\"></td>\n",
       "        <td style=\"padding-left: 1em; padding-right: 1em; text-align: center; vertical-align: top\"></td>\n",
       "        <td style=\"padding-left: 1em; padding-right: 1em; text-align: center; vertical-align: top\">atgaaaaaattaaaattagcgttaa<br>ttgggccaggatttctcaacg ...</td>\n",
       "        <td style=\"padding-left: 1em; padding-right: 1em; text-align: center; vertical-align: top\">786</td>\n",
       "    </tr>\n",
       "    <tr>\n",
       "        <td style=\"padding-left: 1em; padding-right: 1em; text-align: center; vertical-align: top\">hypothetical protein</td>\n",
       "        <td style=\"padding-left: 1em; padding-right: 1em; text-align: center; vertical-align: top\">- none -</td>\n",
       "        <td style=\"padding-left: 1em; padding-right: 1em; text-align: center; vertical-align: top\"></td>\n",
       "        <td style=\"padding-left: 1em; padding-right: 1em; text-align: center; vertical-align: top\"></td>\n",
       "        <td style=\"padding-left: 1em; padding-right: 1em; text-align: center; vertical-align: top\">atggaaaatcacgtaattatctatc<br>aaacaaaagagcccaaacttc ...</td>\n",
       "        <td style=\"padding-left: 1em; padding-right: 1em; text-align: center; vertical-align: top\">540</td>\n",
       "    </tr>\n",
       "    <tr>\n",
       "        <td style=\"padding-left: 1em; padding-right: 1em; text-align: center; vertical-align: top\">COG1242: Predicted Fe-S<br>oxidoreductase ...</td>\n",
       "        <td style=\"padding-left: 1em; padding-right: 1em; text-align: center; vertical-align: top\">An Fe-S oxireductase<br>coupled with a ...</td>\n",
       "        <td style=\"padding-left: 1em; padding-right: 1em; text-align: center; vertical-align: top\"></td>\n",
       "        <td style=\"padding-left: 1em; padding-right: 1em; text-align: center; vertical-align: top\"></td>\n",
       "        <td style=\"padding-left: 1em; padding-right: 1em; text-align: center; vertical-align: top\">atgattttaaaaaatccagacttag<br>ataagcaaatcgagcacagtg ...</td>\n",
       "        <td style=\"padding-left: 1em; padding-right: 1em; text-align: center; vertical-align: top\">756</td>\n",
       "    </tr>\n",
       "    <tr>\n",
       "        <td style=\"padding-left: 1em; padding-right: 1em; text-align: center; vertical-align: top\">Site-specific recombinase<br>XerD ...</td>\n",
       "        <td style=\"padding-left: 1em; padding-right: 1em; text-align: center; vertical-align: top\">- none -</td>\n",
       "        <td style=\"padding-left: 1em; padding-right: 1em; text-align: center; vertical-align: top\"></td>\n",
       "        <td style=\"padding-left: 1em; padding-right: 1em; text-align: center; vertical-align: top\"></td>\n",
       "        <td style=\"padding-left: 1em; padding-right: 1em; text-align: center; vertical-align: top\">atgaaaaacaaagctaatgatttta<br>ttcactacctccaatttattg ...</td>\n",
       "        <td style=\"padding-left: 1em; padding-right: 1em; text-align: center; vertical-align: top\">915</td>\n",
       "    </tr>\n",
       "    <tr>\n",
       "        <td style=\"padding-left: 1em; padding-right: 1em; text-align: center; vertical-align: top\">DNA polymerase IV (EC<br>2.7.7.7) ...</td>\n",
       "        <td style=\"padding-left: 1em; padding-right: 1em; text-align: center; vertical-align: top\">DNA repair, bacterial</td>\n",
       "        <td style=\"padding-left: 1em; padding-right: 1em; text-align: center; vertical-align: top\"></td>\n",
       "        <td style=\"padding-left: 1em; padding-right: 1em; text-align: center; vertical-align: top\"></td>\n",
       "        <td style=\"padding-left: 1em; padding-right: 1em; text-align: center; vertical-align: top\">atggcacaagtaatatttcatatag<br>atattaacgcgttttatgcaa ...</td>\n",
       "        <td style=\"padding-left: 1em; padding-right: 1em; text-align: center; vertical-align: top\">1179</td>\n",
       "    </tr>\n",
       "    <tr>\n",
       "        <td style=\"padding-left: 1em; padding-right: 1em; text-align: center; vertical-align: top\">DNA repair protein RecN</td>\n",
       "        <td style=\"padding-left: 1em; padding-right: 1em; text-align: center; vertical-align: top\">DNA-replication; &lt;br&gt;DNA<br>repair, bacterial ...</td>\n",
       "        <td style=\"padding-left: 1em; padding-right: 1em; text-align: center; vertical-align: top\"></td>\n",
       "        <td style=\"padding-left: 1em; padding-right: 1em; text-align: center; vertical-align: top\"></td>\n",
       "        <td style=\"padding-left: 1em; padding-right: 1em; text-align: center; vertical-align: top\">atgcttactcatttaacgatagata<br>attttgttttgattcatcata ...</td>\n",
       "        <td style=\"padding-left: 1em; padding-right: 1em; text-align: center; vertical-align: top\">1656</td>\n",
       "    </tr>\n",
       "    <tr>\n",
       "        <td style=\"padding-left: 1em; padding-right: 1em; text-align: center; vertical-align: top\">Phage protein</td>\n",
       "        <td style=\"padding-left: 1em; padding-right: 1em; text-align: center; vertical-align: top\">- none -</td>\n",
       "        <td style=\"padding-left: 1em; padding-right: 1em; text-align: center; vertical-align: top\"></td>\n",
       "        <td style=\"padding-left: 1em; padding-right: 1em; text-align: center; vertical-align: top\"></td>\n",
       "        <td style=\"padding-left: 1em; padding-right: 1em; text-align: center; vertical-align: top\">atgtcaaataagagaggtaaatacg<br>taaaatggcttgaacctaaaa ...</td>\n",
       "        <td style=\"padding-left: 1em; padding-right: 1em; text-align: center; vertical-align: top\">465</td>\n",
       "    </tr>\n",
       "</table>\n",
       "[1575 rows x 14 columns]<br/>Note: Only the head of the SFrame is printed.<br/>You can use print_rows(num_rows=m, num_columns=n) to print more rows and columns.\n",
       "</div>"
      ],
      "text/plain": [
       "Columns:\n",
       "\tFeature ID\tstr\n",
       "\tType\tstr\n",
       "\tContig\tstr\n",
       "\tStart\tint\n",
       "\tStop\tint\n",
       "\tFrame\tint\n",
       "\tStrand\tstr\n",
       "\tLength (bp)\tint\n",
       "\tFunction\tstr\n",
       "\tSubsystem\tstr\n",
       "\tNCBI GI\tstr\n",
       "\tlocus\tstr\n",
       "\tSeq_nt\tstr\n",
       "\tCalculated_length_nt\tint\n",
       "\n",
       "Rows: 1575\n",
       "\n",
       "Data:\n",
       "+---------------------+------+-------------------------------+-------+------+-------+\n",
       "|      Feature ID     | Type |             Contig            | Start | Stop | Frame |\n",
       "+---------------------+------+-------------------------------+-------+------+-------+\n",
       "|  fig|1648.160.peg.1 | CDS  | NODE_100_length_4674_cov_7... |   39  | 530  |   3   |\n",
       "|  fig|1648.160.peg.2 | CDS  | NODE_100_length_4674_cov_7... |  693  | 1601 |   3   |\n",
       "|  fig|1648.160.peg.3 | CDS  | NODE_100_length_4674_cov_7... |  1594 | 2829 |   1   |\n",
       "|  fig|1648.160.peg.4 | CDS  | NODE_100_length_4674_cov_7... |  3666 | 2881 |   -3  |\n",
       "|  fig|1648.160.peg.5 | CDS  | NODE_100_length_4674_cov_7... |  4297 | 3758 |   -1  |\n",
       "|  fig|1648.160.peg.6 | CDS  | NODE_101_length_4672_cov_9... |  4524 | 3769 |   -3  |\n",
       "|  fig|1648.160.peg.7 | CDS  | NODE_102_length_4655_cov_7... |  1744 | 830  |   -1  |\n",
       "|  fig|1648.160.peg.8 | CDS  | NODE_102_length_4655_cov_7... |  2906 | 1728 |   -2  |\n",
       "|  fig|1648.160.peg.9 | CDS  | NODE_102_length_4655_cov_7... |  4549 | 2894 |   -1  |\n",
       "| fig|1648.160.peg.10 | CDS  | NODE_103_length_4645_cov_7... |  674  | 1138 |   2   |\n",
       "+---------------------+------+-------------------------------+-------+------+-------+\n",
       "+--------+-------------+--------------------------------+\n",
       "| Strand | Length (bp) |            Function            |\n",
       "+--------+-------------+--------------------------------+\n",
       "|   +    |     492     | Putative hemagglutinin/hem...  |\n",
       "|   +    |     909     | ABC transporter, ATP-bindi...  |\n",
       "|   +    |     1236    | ABC transporter, permease ...  |\n",
       "|   -    |     786     | L-Aspartate dehydrogenase ...  |\n",
       "|   -    |     540     |      hypothetical protein      |\n",
       "|   -    |     756     | COG1242: Predicted Fe-S ox...  |\n",
       "|   -    |     915     | Site-specific recombinase XerD |\n",
       "|   -    |     1179    | DNA polymerase IV (EC 2.7.7.7) |\n",
       "|   -    |     1656    |    DNA repair protein RecN     |\n",
       "|   +    |     465     |         Phage protein          |\n",
       "+--------+-------------+--------------------------------+\n",
       "+-------------------------------+---------+-------+\n",
       "|           Subsystem           | NCBI GI | locus |\n",
       "+-------------------------------+---------+-------+\n",
       "|            - none -           |         |       |\n",
       "|            - none -           |         |       |\n",
       "|            - none -           |         |       |\n",
       "|            - none -           |         |       |\n",
       "|            - none -           |         |       |\n",
       "| An Fe-S oxireductase coupl... |         |       |\n",
       "|            - none -           |         |       |\n",
       "|     DNA repair, bacterial     |         |       |\n",
       "| DNA-replication; <br>DNA r... |         |       |\n",
       "|            - none -           |         |       |\n",
       "+-------------------------------+---------+-------+\n",
       "+-------------------------------+----------------------+\n",
       "|             Seq_nt            | Calculated_length_nt |\n",
       "+-------------------------------+----------------------+\n",
       "| atgactgttaacgaggatgttacact... |         492          |\n",
       "| atgaaattagaatttaatcaaatcaa... |         909          |\n",
       "| atgaataaactcaaaacggtttttaa... |         1236         |\n",
       "| atgaaaaaattaaaattagcgttaat... |         786          |\n",
       "| atggaaaatcacgtaattatctatca... |         540          |\n",
       "| atgattttaaaaaatccagacttaga... |         756          |\n",
       "| atgaaaaacaaagctaatgattttat... |         915          |\n",
       "| atggcacaagtaatatttcatataga... |         1179         |\n",
       "| atgcttactcatttaacgatagataa... |         1656         |\n",
       "| atgtcaaataagagaggtaaatacgt... |         465          |\n",
       "+-------------------------------+----------------------+\n",
       "[1575 rows x 14 columns]\n",
       "Note: Only the head of the SFrame is printed.\n",
       "You can use print_rows(num_rows=m, num_columns=n) to print more rows and columns."
      ]
     },
     "execution_count": 53,
     "metadata": {},
     "output_type": "execute_result"
    }
   ],
   "source": [
    "mergedTbl1[\"Calculated_length_nt\"]=mergedTbl1['Seq_nt'].apply(returnLen)\n",
    "mergedTbl1"
   ]
  },
  {
   "cell_type": "code",
   "execution_count": null,
   "metadata": {
    "collapsed": true
   },
   "outputs": [],
   "source": []
  },
  {
   "cell_type": "markdown",
   "metadata": {},
   "source": [
    "###Inserting GC content data for every gene"
   ]
  },
  {
   "cell_type": "code",
   "execution_count": 54,
   "metadata": {
    "collapsed": false
   },
   "outputs": [
    {
     "data": {
      "text/html": [
       "<div style=\"max-height:1000px;max-width:1500px;overflow:auto;\"><table frame=\"box\" rules=\"cols\">\n",
       "    <tr>\n",
       "        <th style=\"padding-left: 1em; padding-right: 1em; text-align: center\">Feature ID</th>\n",
       "        <th style=\"padding-left: 1em; padding-right: 1em; text-align: center\">Type</th>\n",
       "        <th style=\"padding-left: 1em; padding-right: 1em; text-align: center\">Contig</th>\n",
       "        <th style=\"padding-left: 1em; padding-right: 1em; text-align: center\">Start</th>\n",
       "        <th style=\"padding-left: 1em; padding-right: 1em; text-align: center\">Stop</th>\n",
       "        <th style=\"padding-left: 1em; padding-right: 1em; text-align: center\">Frame</th>\n",
       "        <th style=\"padding-left: 1em; padding-right: 1em; text-align: center\">Strand</th>\n",
       "        <th style=\"padding-left: 1em; padding-right: 1em; text-align: center\">Length (bp)</th>\n",
       "    </tr>\n",
       "    <tr>\n",
       "        <td style=\"padding-left: 1em; padding-right: 1em; text-align: center; vertical-align: top\">fig|1648.160.peg.1</td>\n",
       "        <td style=\"padding-left: 1em; padding-right: 1em; text-align: center; vertical-align: top\">CDS</td>\n",
       "        <td style=\"padding-left: 1em; padding-right: 1em; text-align: center; vertical-align: top\">NODE_100_length_4674_cov_<br>7.14051_ID_199 ...</td>\n",
       "        <td style=\"padding-left: 1em; padding-right: 1em; text-align: center; vertical-align: top\">39</td>\n",
       "        <td style=\"padding-left: 1em; padding-right: 1em; text-align: center; vertical-align: top\">530</td>\n",
       "        <td style=\"padding-left: 1em; padding-right: 1em; text-align: center; vertical-align: top\">3</td>\n",
       "        <td style=\"padding-left: 1em; padding-right: 1em; text-align: center; vertical-align: top\">+</td>\n",
       "        <td style=\"padding-left: 1em; padding-right: 1em; text-align: center; vertical-align: top\">492</td>\n",
       "    </tr>\n",
       "    <tr>\n",
       "        <td style=\"padding-left: 1em; padding-right: 1em; text-align: center; vertical-align: top\">fig|1648.160.peg.2</td>\n",
       "        <td style=\"padding-left: 1em; padding-right: 1em; text-align: center; vertical-align: top\">CDS</td>\n",
       "        <td style=\"padding-left: 1em; padding-right: 1em; text-align: center; vertical-align: top\">NODE_100_length_4674_cov_<br>7.14051_ID_199 ...</td>\n",
       "        <td style=\"padding-left: 1em; padding-right: 1em; text-align: center; vertical-align: top\">693</td>\n",
       "        <td style=\"padding-left: 1em; padding-right: 1em; text-align: center; vertical-align: top\">1601</td>\n",
       "        <td style=\"padding-left: 1em; padding-right: 1em; text-align: center; vertical-align: top\">3</td>\n",
       "        <td style=\"padding-left: 1em; padding-right: 1em; text-align: center; vertical-align: top\">+</td>\n",
       "        <td style=\"padding-left: 1em; padding-right: 1em; text-align: center; vertical-align: top\">909</td>\n",
       "    </tr>\n",
       "    <tr>\n",
       "        <td style=\"padding-left: 1em; padding-right: 1em; text-align: center; vertical-align: top\">fig|1648.160.peg.3</td>\n",
       "        <td style=\"padding-left: 1em; padding-right: 1em; text-align: center; vertical-align: top\">CDS</td>\n",
       "        <td style=\"padding-left: 1em; padding-right: 1em; text-align: center; vertical-align: top\">NODE_100_length_4674_cov_<br>7.14051_ID_199 ...</td>\n",
       "        <td style=\"padding-left: 1em; padding-right: 1em; text-align: center; vertical-align: top\">1594</td>\n",
       "        <td style=\"padding-left: 1em; padding-right: 1em; text-align: center; vertical-align: top\">2829</td>\n",
       "        <td style=\"padding-left: 1em; padding-right: 1em; text-align: center; vertical-align: top\">1</td>\n",
       "        <td style=\"padding-left: 1em; padding-right: 1em; text-align: center; vertical-align: top\">+</td>\n",
       "        <td style=\"padding-left: 1em; padding-right: 1em; text-align: center; vertical-align: top\">1236</td>\n",
       "    </tr>\n",
       "    <tr>\n",
       "        <td style=\"padding-left: 1em; padding-right: 1em; text-align: center; vertical-align: top\">fig|1648.160.peg.4</td>\n",
       "        <td style=\"padding-left: 1em; padding-right: 1em; text-align: center; vertical-align: top\">CDS</td>\n",
       "        <td style=\"padding-left: 1em; padding-right: 1em; text-align: center; vertical-align: top\">NODE_100_length_4674_cov_<br>7.14051_ID_199 ...</td>\n",
       "        <td style=\"padding-left: 1em; padding-right: 1em; text-align: center; vertical-align: top\">3666</td>\n",
       "        <td style=\"padding-left: 1em; padding-right: 1em; text-align: center; vertical-align: top\">2881</td>\n",
       "        <td style=\"padding-left: 1em; padding-right: 1em; text-align: center; vertical-align: top\">-3</td>\n",
       "        <td style=\"padding-left: 1em; padding-right: 1em; text-align: center; vertical-align: top\">-</td>\n",
       "        <td style=\"padding-left: 1em; padding-right: 1em; text-align: center; vertical-align: top\">786</td>\n",
       "    </tr>\n",
       "    <tr>\n",
       "        <td style=\"padding-left: 1em; padding-right: 1em; text-align: center; vertical-align: top\">fig|1648.160.peg.5</td>\n",
       "        <td style=\"padding-left: 1em; padding-right: 1em; text-align: center; vertical-align: top\">CDS</td>\n",
       "        <td style=\"padding-left: 1em; padding-right: 1em; text-align: center; vertical-align: top\">NODE_100_length_4674_cov_<br>7.14051_ID_199 ...</td>\n",
       "        <td style=\"padding-left: 1em; padding-right: 1em; text-align: center; vertical-align: top\">4297</td>\n",
       "        <td style=\"padding-left: 1em; padding-right: 1em; text-align: center; vertical-align: top\">3758</td>\n",
       "        <td style=\"padding-left: 1em; padding-right: 1em; text-align: center; vertical-align: top\">-1</td>\n",
       "        <td style=\"padding-left: 1em; padding-right: 1em; text-align: center; vertical-align: top\">-</td>\n",
       "        <td style=\"padding-left: 1em; padding-right: 1em; text-align: center; vertical-align: top\">540</td>\n",
       "    </tr>\n",
       "    <tr>\n",
       "        <td style=\"padding-left: 1em; padding-right: 1em; text-align: center; vertical-align: top\">fig|1648.160.peg.6</td>\n",
       "        <td style=\"padding-left: 1em; padding-right: 1em; text-align: center; vertical-align: top\">CDS</td>\n",
       "        <td style=\"padding-left: 1em; padding-right: 1em; text-align: center; vertical-align: top\">NODE_101_length_4672_cov_<br>9.29831_ID_201 ...</td>\n",
       "        <td style=\"padding-left: 1em; padding-right: 1em; text-align: center; vertical-align: top\">4524</td>\n",
       "        <td style=\"padding-left: 1em; padding-right: 1em; text-align: center; vertical-align: top\">3769</td>\n",
       "        <td style=\"padding-left: 1em; padding-right: 1em; text-align: center; vertical-align: top\">-3</td>\n",
       "        <td style=\"padding-left: 1em; padding-right: 1em; text-align: center; vertical-align: top\">-</td>\n",
       "        <td style=\"padding-left: 1em; padding-right: 1em; text-align: center; vertical-align: top\">756</td>\n",
       "    </tr>\n",
       "    <tr>\n",
       "        <td style=\"padding-left: 1em; padding-right: 1em; text-align: center; vertical-align: top\">fig|1648.160.peg.7</td>\n",
       "        <td style=\"padding-left: 1em; padding-right: 1em; text-align: center; vertical-align: top\">CDS</td>\n",
       "        <td style=\"padding-left: 1em; padding-right: 1em; text-align: center; vertical-align: top\">NODE_102_length_4655_cov_<br>7.745_ID_203 ...</td>\n",
       "        <td style=\"padding-left: 1em; padding-right: 1em; text-align: center; vertical-align: top\">1744</td>\n",
       "        <td style=\"padding-left: 1em; padding-right: 1em; text-align: center; vertical-align: top\">830</td>\n",
       "        <td style=\"padding-left: 1em; padding-right: 1em; text-align: center; vertical-align: top\">-1</td>\n",
       "        <td style=\"padding-left: 1em; padding-right: 1em; text-align: center; vertical-align: top\">-</td>\n",
       "        <td style=\"padding-left: 1em; padding-right: 1em; text-align: center; vertical-align: top\">915</td>\n",
       "    </tr>\n",
       "    <tr>\n",
       "        <td style=\"padding-left: 1em; padding-right: 1em; text-align: center; vertical-align: top\">fig|1648.160.peg.8</td>\n",
       "        <td style=\"padding-left: 1em; padding-right: 1em; text-align: center; vertical-align: top\">CDS</td>\n",
       "        <td style=\"padding-left: 1em; padding-right: 1em; text-align: center; vertical-align: top\">NODE_102_length_4655_cov_<br>7.745_ID_203 ...</td>\n",
       "        <td style=\"padding-left: 1em; padding-right: 1em; text-align: center; vertical-align: top\">2906</td>\n",
       "        <td style=\"padding-left: 1em; padding-right: 1em; text-align: center; vertical-align: top\">1728</td>\n",
       "        <td style=\"padding-left: 1em; padding-right: 1em; text-align: center; vertical-align: top\">-2</td>\n",
       "        <td style=\"padding-left: 1em; padding-right: 1em; text-align: center; vertical-align: top\">-</td>\n",
       "        <td style=\"padding-left: 1em; padding-right: 1em; text-align: center; vertical-align: top\">1179</td>\n",
       "    </tr>\n",
       "    <tr>\n",
       "        <td style=\"padding-left: 1em; padding-right: 1em; text-align: center; vertical-align: top\">fig|1648.160.peg.9</td>\n",
       "        <td style=\"padding-left: 1em; padding-right: 1em; text-align: center; vertical-align: top\">CDS</td>\n",
       "        <td style=\"padding-left: 1em; padding-right: 1em; text-align: center; vertical-align: top\">NODE_102_length_4655_cov_<br>7.745_ID_203 ...</td>\n",
       "        <td style=\"padding-left: 1em; padding-right: 1em; text-align: center; vertical-align: top\">4549</td>\n",
       "        <td style=\"padding-left: 1em; padding-right: 1em; text-align: center; vertical-align: top\">2894</td>\n",
       "        <td style=\"padding-left: 1em; padding-right: 1em; text-align: center; vertical-align: top\">-1</td>\n",
       "        <td style=\"padding-left: 1em; padding-right: 1em; text-align: center; vertical-align: top\">-</td>\n",
       "        <td style=\"padding-left: 1em; padding-right: 1em; text-align: center; vertical-align: top\">1656</td>\n",
       "    </tr>\n",
       "    <tr>\n",
       "        <td style=\"padding-left: 1em; padding-right: 1em; text-align: center; vertical-align: top\">fig|1648.160.peg.10</td>\n",
       "        <td style=\"padding-left: 1em; padding-right: 1em; text-align: center; vertical-align: top\">CDS</td>\n",
       "        <td style=\"padding-left: 1em; padding-right: 1em; text-align: center; vertical-align: top\">NODE_103_length_4645_cov_<br>7.86383_ID_205 ...</td>\n",
       "        <td style=\"padding-left: 1em; padding-right: 1em; text-align: center; vertical-align: top\">674</td>\n",
       "        <td style=\"padding-left: 1em; padding-right: 1em; text-align: center; vertical-align: top\">1138</td>\n",
       "        <td style=\"padding-left: 1em; padding-right: 1em; text-align: center; vertical-align: top\">2</td>\n",
       "        <td style=\"padding-left: 1em; padding-right: 1em; text-align: center; vertical-align: top\">+</td>\n",
       "        <td style=\"padding-left: 1em; padding-right: 1em; text-align: center; vertical-align: top\">465</td>\n",
       "    </tr>\n",
       "</table>\n",
       "<table frame=\"box\" rules=\"cols\">\n",
       "    <tr>\n",
       "        <th style=\"padding-left: 1em; padding-right: 1em; text-align: center\">Function</th>\n",
       "        <th style=\"padding-left: 1em; padding-right: 1em; text-align: center\">Subsystem</th>\n",
       "        <th style=\"padding-left: 1em; padding-right: 1em; text-align: center\">NCBI GI</th>\n",
       "        <th style=\"padding-left: 1em; padding-right: 1em; text-align: center\">locus</th>\n",
       "        <th style=\"padding-left: 1em; padding-right: 1em; text-align: center\">Seq_nt</th>\n",
       "        <th style=\"padding-left: 1em; padding-right: 1em; text-align: center\">Calculated_length_nt</th>\n",
       "    </tr>\n",
       "    <tr>\n",
       "        <td style=\"padding-left: 1em; padding-right: 1em; text-align: center; vertical-align: top\">Putative hemagglutinin<br>/hemolysin-related ...</td>\n",
       "        <td style=\"padding-left: 1em; padding-right: 1em; text-align: center; vertical-align: top\">- none -</td>\n",
       "        <td style=\"padding-left: 1em; padding-right: 1em; text-align: center; vertical-align: top\"></td>\n",
       "        <td style=\"padding-left: 1em; padding-right: 1em; text-align: center; vertical-align: top\"></td>\n",
       "        <td style=\"padding-left: 1em; padding-right: 1em; text-align: center; vertical-align: top\">atgactgttaacgaggatgttacac<br>tttatgcacaatggaaaaaat ...</td>\n",
       "        <td style=\"padding-left: 1em; padding-right: 1em; text-align: center; vertical-align: top\">492</td>\n",
       "    </tr>\n",
       "    <tr>\n",
       "        <td style=\"padding-left: 1em; padding-right: 1em; text-align: center; vertical-align: top\">ABC transporter, ATP-<br>binding protein ...</td>\n",
       "        <td style=\"padding-left: 1em; padding-right: 1em; text-align: center; vertical-align: top\">- none -</td>\n",
       "        <td style=\"padding-left: 1em; padding-right: 1em; text-align: center; vertical-align: top\"></td>\n",
       "        <td style=\"padding-left: 1em; padding-right: 1em; text-align: center; vertical-align: top\"></td>\n",
       "        <td style=\"padding-left: 1em; padding-right: 1em; text-align: center; vertical-align: top\">atgaaattagaatttaatcaaatca<br>ataagttttttgacgaacatc ...</td>\n",
       "        <td style=\"padding-left: 1em; padding-right: 1em; text-align: center; vertical-align: top\">909</td>\n",
       "    </tr>\n",
       "    <tr>\n",
       "        <td style=\"padding-left: 1em; padding-right: 1em; text-align: center; vertical-align: top\">ABC transporter, permease<br>protein (putative) ...</td>\n",
       "        <td style=\"padding-left: 1em; padding-right: 1em; text-align: center; vertical-align: top\">- none -</td>\n",
       "        <td style=\"padding-left: 1em; padding-right: 1em; text-align: center; vertical-align: top\"></td>\n",
       "        <td style=\"padding-left: 1em; padding-right: 1em; text-align: center; vertical-align: top\"></td>\n",
       "        <td style=\"padding-left: 1em; padding-right: 1em; text-align: center; vertical-align: top\">atgaataaactcaaaacggttttta<br>aatttgaatttttagaaatgt ...</td>\n",
       "        <td style=\"padding-left: 1em; padding-right: 1em; text-align: center; vertical-align: top\">1236</td>\n",
       "    </tr>\n",
       "    <tr>\n",
       "        <td style=\"padding-left: 1em; padding-right: 1em; text-align: center; vertical-align: top\">L-Aspartate dehydrogenase<br>(EC 1.4.1.21) homolog ...</td>\n",
       "        <td style=\"padding-left: 1em; padding-right: 1em; text-align: center; vertical-align: top\">- none -</td>\n",
       "        <td style=\"padding-left: 1em; padding-right: 1em; text-align: center; vertical-align: top\"></td>\n",
       "        <td style=\"padding-left: 1em; padding-right: 1em; text-align: center; vertical-align: top\"></td>\n",
       "        <td style=\"padding-left: 1em; padding-right: 1em; text-align: center; vertical-align: top\">atgaaaaaattaaaattagcgttaa<br>ttgggccaggatttctcaacg ...</td>\n",
       "        <td style=\"padding-left: 1em; padding-right: 1em; text-align: center; vertical-align: top\">786</td>\n",
       "    </tr>\n",
       "    <tr>\n",
       "        <td style=\"padding-left: 1em; padding-right: 1em; text-align: center; vertical-align: top\">hypothetical protein</td>\n",
       "        <td style=\"padding-left: 1em; padding-right: 1em; text-align: center; vertical-align: top\">- none -</td>\n",
       "        <td style=\"padding-left: 1em; padding-right: 1em; text-align: center; vertical-align: top\"></td>\n",
       "        <td style=\"padding-left: 1em; padding-right: 1em; text-align: center; vertical-align: top\"></td>\n",
       "        <td style=\"padding-left: 1em; padding-right: 1em; text-align: center; vertical-align: top\">atggaaaatcacgtaattatctatc<br>aaacaaaagagcccaaacttc ...</td>\n",
       "        <td style=\"padding-left: 1em; padding-right: 1em; text-align: center; vertical-align: top\">540</td>\n",
       "    </tr>\n",
       "    <tr>\n",
       "        <td style=\"padding-left: 1em; padding-right: 1em; text-align: center; vertical-align: top\">COG1242: Predicted Fe-S<br>oxidoreductase ...</td>\n",
       "        <td style=\"padding-left: 1em; padding-right: 1em; text-align: center; vertical-align: top\">An Fe-S oxireductase<br>coupled with a ...</td>\n",
       "        <td style=\"padding-left: 1em; padding-right: 1em; text-align: center; vertical-align: top\"></td>\n",
       "        <td style=\"padding-left: 1em; padding-right: 1em; text-align: center; vertical-align: top\"></td>\n",
       "        <td style=\"padding-left: 1em; padding-right: 1em; text-align: center; vertical-align: top\">atgattttaaaaaatccagacttag<br>ataagcaaatcgagcacagtg ...</td>\n",
       "        <td style=\"padding-left: 1em; padding-right: 1em; text-align: center; vertical-align: top\">756</td>\n",
       "    </tr>\n",
       "    <tr>\n",
       "        <td style=\"padding-left: 1em; padding-right: 1em; text-align: center; vertical-align: top\">Site-specific recombinase<br>XerD ...</td>\n",
       "        <td style=\"padding-left: 1em; padding-right: 1em; text-align: center; vertical-align: top\">- none -</td>\n",
       "        <td style=\"padding-left: 1em; padding-right: 1em; text-align: center; vertical-align: top\"></td>\n",
       "        <td style=\"padding-left: 1em; padding-right: 1em; text-align: center; vertical-align: top\"></td>\n",
       "        <td style=\"padding-left: 1em; padding-right: 1em; text-align: center; vertical-align: top\">atgaaaaacaaagctaatgatttta<br>ttcactacctccaatttattg ...</td>\n",
       "        <td style=\"padding-left: 1em; padding-right: 1em; text-align: center; vertical-align: top\">915</td>\n",
       "    </tr>\n",
       "    <tr>\n",
       "        <td style=\"padding-left: 1em; padding-right: 1em; text-align: center; vertical-align: top\">DNA polymerase IV (EC<br>2.7.7.7) ...</td>\n",
       "        <td style=\"padding-left: 1em; padding-right: 1em; text-align: center; vertical-align: top\">DNA repair, bacterial</td>\n",
       "        <td style=\"padding-left: 1em; padding-right: 1em; text-align: center; vertical-align: top\"></td>\n",
       "        <td style=\"padding-left: 1em; padding-right: 1em; text-align: center; vertical-align: top\"></td>\n",
       "        <td style=\"padding-left: 1em; padding-right: 1em; text-align: center; vertical-align: top\">atggcacaagtaatatttcatatag<br>atattaacgcgttttatgcaa ...</td>\n",
       "        <td style=\"padding-left: 1em; padding-right: 1em; text-align: center; vertical-align: top\">1179</td>\n",
       "    </tr>\n",
       "    <tr>\n",
       "        <td style=\"padding-left: 1em; padding-right: 1em; text-align: center; vertical-align: top\">DNA repair protein RecN</td>\n",
       "        <td style=\"padding-left: 1em; padding-right: 1em; text-align: center; vertical-align: top\">DNA-replication; &lt;br&gt;DNA<br>repair, bacterial ...</td>\n",
       "        <td style=\"padding-left: 1em; padding-right: 1em; text-align: center; vertical-align: top\"></td>\n",
       "        <td style=\"padding-left: 1em; padding-right: 1em; text-align: center; vertical-align: top\"></td>\n",
       "        <td style=\"padding-left: 1em; padding-right: 1em; text-align: center; vertical-align: top\">atgcttactcatttaacgatagata<br>attttgttttgattcatcata ...</td>\n",
       "        <td style=\"padding-left: 1em; padding-right: 1em; text-align: center; vertical-align: top\">1656</td>\n",
       "    </tr>\n",
       "    <tr>\n",
       "        <td style=\"padding-left: 1em; padding-right: 1em; text-align: center; vertical-align: top\">Phage protein</td>\n",
       "        <td style=\"padding-left: 1em; padding-right: 1em; text-align: center; vertical-align: top\">- none -</td>\n",
       "        <td style=\"padding-left: 1em; padding-right: 1em; text-align: center; vertical-align: top\"></td>\n",
       "        <td style=\"padding-left: 1em; padding-right: 1em; text-align: center; vertical-align: top\"></td>\n",
       "        <td style=\"padding-left: 1em; padding-right: 1em; text-align: center; vertical-align: top\">atgtcaaataagagaggtaaatacg<br>taaaatggcttgaacctaaaa ...</td>\n",
       "        <td style=\"padding-left: 1em; padding-right: 1em; text-align: center; vertical-align: top\">465</td>\n",
       "    </tr>\n",
       "</table>\n",
       "<table frame=\"box\" rules=\"cols\">\n",
       "    <tr>\n",
       "        <th style=\"padding-left: 1em; padding-right: 1em; text-align: center\">Gene_GC</th>\n",
       "    </tr>\n",
       "    <tr>\n",
       "        <td style=\"padding-left: 1em; padding-right: 1em; text-align: center; vertical-align: top\">0.355691056911</td>\n",
       "    </tr>\n",
       "    <tr>\n",
       "        <td style=\"padding-left: 1em; padding-right: 1em; text-align: center; vertical-align: top\">0.324532453245</td>\n",
       "    </tr>\n",
       "    <tr>\n",
       "        <td style=\"padding-left: 1em; padding-right: 1em; text-align: center; vertical-align: top\">0.330906148867</td>\n",
       "    </tr>\n",
       "    <tr>\n",
       "        <td style=\"padding-left: 1em; padding-right: 1em; text-align: center; vertical-align: top\">0.40203562341</td>\n",
       "    </tr>\n",
       "    <tr>\n",
       "        <td style=\"padding-left: 1em; padding-right: 1em; text-align: center; vertical-align: top\">0.322222222222</td>\n",
       "    </tr>\n",
       "    <tr>\n",
       "        <td style=\"padding-left: 1em; padding-right: 1em; text-align: center; vertical-align: top\">0.382275132275</td>\n",
       "    </tr>\n",
       "    <tr>\n",
       "        <td style=\"padding-left: 1em; padding-right: 1em; text-align: center; vertical-align: top\">0.343169398907</td>\n",
       "    </tr>\n",
       "    <tr>\n",
       "        <td style=\"padding-left: 1em; padding-right: 1em; text-align: center; vertical-align: top\">0.367260390161</td>\n",
       "    </tr>\n",
       "    <tr>\n",
       "        <td style=\"padding-left: 1em; padding-right: 1em; text-align: center; vertical-align: top\">0.362922705314</td>\n",
       "    </tr>\n",
       "    <tr>\n",
       "        <td style=\"padding-left: 1em; padding-right: 1em; text-align: center; vertical-align: top\">0.406451612903</td>\n",
       "    </tr>\n",
       "</table>\n",
       "[1575 rows x 15 columns]<br/>Note: Only the head of the SFrame is printed.<br/>You can use print_rows(num_rows=m, num_columns=n) to print more rows and columns.\n",
       "</div>"
      ],
      "text/plain": [
       "Columns:\n",
       "\tFeature ID\tstr\n",
       "\tType\tstr\n",
       "\tContig\tstr\n",
       "\tStart\tint\n",
       "\tStop\tint\n",
       "\tFrame\tint\n",
       "\tStrand\tstr\n",
       "\tLength (bp)\tint\n",
       "\tFunction\tstr\n",
       "\tSubsystem\tstr\n",
       "\tNCBI GI\tstr\n",
       "\tlocus\tstr\n",
       "\tSeq_nt\tstr\n",
       "\tCalculated_length_nt\tint\n",
       "\tGene_GC\tfloat\n",
       "\n",
       "Rows: 1575\n",
       "\n",
       "Data:\n",
       "+---------------------+------+-------------------------------+-------+------+-------+\n",
       "|      Feature ID     | Type |             Contig            | Start | Stop | Frame |\n",
       "+---------------------+------+-------------------------------+-------+------+-------+\n",
       "|  fig|1648.160.peg.1 | CDS  | NODE_100_length_4674_cov_7... |   39  | 530  |   3   |\n",
       "|  fig|1648.160.peg.2 | CDS  | NODE_100_length_4674_cov_7... |  693  | 1601 |   3   |\n",
       "|  fig|1648.160.peg.3 | CDS  | NODE_100_length_4674_cov_7... |  1594 | 2829 |   1   |\n",
       "|  fig|1648.160.peg.4 | CDS  | NODE_100_length_4674_cov_7... |  3666 | 2881 |   -3  |\n",
       "|  fig|1648.160.peg.5 | CDS  | NODE_100_length_4674_cov_7... |  4297 | 3758 |   -1  |\n",
       "|  fig|1648.160.peg.6 | CDS  | NODE_101_length_4672_cov_9... |  4524 | 3769 |   -3  |\n",
       "|  fig|1648.160.peg.7 | CDS  | NODE_102_length_4655_cov_7... |  1744 | 830  |   -1  |\n",
       "|  fig|1648.160.peg.8 | CDS  | NODE_102_length_4655_cov_7... |  2906 | 1728 |   -2  |\n",
       "|  fig|1648.160.peg.9 | CDS  | NODE_102_length_4655_cov_7... |  4549 | 2894 |   -1  |\n",
       "| fig|1648.160.peg.10 | CDS  | NODE_103_length_4645_cov_7... |  674  | 1138 |   2   |\n",
       "+---------------------+------+-------------------------------+-------+------+-------+\n",
       "+--------+-------------+--------------------------------+\n",
       "| Strand | Length (bp) |            Function            |\n",
       "+--------+-------------+--------------------------------+\n",
       "|   +    |     492     | Putative hemagglutinin/hem...  |\n",
       "|   +    |     909     | ABC transporter, ATP-bindi...  |\n",
       "|   +    |     1236    | ABC transporter, permease ...  |\n",
       "|   -    |     786     | L-Aspartate dehydrogenase ...  |\n",
       "|   -    |     540     |      hypothetical protein      |\n",
       "|   -    |     756     | COG1242: Predicted Fe-S ox...  |\n",
       "|   -    |     915     | Site-specific recombinase XerD |\n",
       "|   -    |     1179    | DNA polymerase IV (EC 2.7.7.7) |\n",
       "|   -    |     1656    |    DNA repair protein RecN     |\n",
       "|   +    |     465     |         Phage protein          |\n",
       "+--------+-------------+--------------------------------+\n",
       "+-------------------------------+---------+-------+\n",
       "|           Subsystem           | NCBI GI | locus |\n",
       "+-------------------------------+---------+-------+\n",
       "|            - none -           |         |       |\n",
       "|            - none -           |         |       |\n",
       "|            - none -           |         |       |\n",
       "|            - none -           |         |       |\n",
       "|            - none -           |         |       |\n",
       "| An Fe-S oxireductase coupl... |         |       |\n",
       "|            - none -           |         |       |\n",
       "|     DNA repair, bacterial     |         |       |\n",
       "| DNA-replication; <br>DNA r... |         |       |\n",
       "|            - none -           |         |       |\n",
       "+-------------------------------+---------+-------+\n",
       "+-------------------------------+----------------------+----------------+\n",
       "|             Seq_nt            | Calculated_length_nt |    Gene_GC     |\n",
       "+-------------------------------+----------------------+----------------+\n",
       "| atgactgttaacgaggatgttacact... |         492          | 0.355691056911 |\n",
       "| atgaaattagaatttaatcaaatcaa... |         909          | 0.324532453245 |\n",
       "| atgaataaactcaaaacggtttttaa... |         1236         | 0.330906148867 |\n",
       "| atgaaaaaattaaaattagcgttaat... |         786          | 0.40203562341  |\n",
       "| atggaaaatcacgtaattatctatca... |         540          | 0.322222222222 |\n",
       "| atgattttaaaaaatccagacttaga... |         756          | 0.382275132275 |\n",
       "| atgaaaaacaaagctaatgattttat... |         915          | 0.343169398907 |\n",
       "| atggcacaagtaatatttcatataga... |         1179         | 0.367260390161 |\n",
       "| atgcttactcatttaacgatagataa... |         1656         | 0.362922705314 |\n",
       "| atgtcaaataagagaggtaaatacgt... |         465          | 0.406451612903 |\n",
       "+-------------------------------+----------------------+----------------+\n",
       "[1575 rows x 15 columns]\n",
       "Note: Only the head of the SFrame is printed.\n",
       "You can use print_rows(num_rows=m, num_columns=n) to print more rows and columns."
      ]
     },
     "execution_count": 54,
     "metadata": {},
     "output_type": "execute_result"
    }
   ],
   "source": [
    "mergedTbl1[\"Gene_GC\"]=mergedTbl1['Seq_nt'].apply(gc)\n",
    "mergedTbl1"
   ]
  },
  {
   "cell_type": "markdown",
   "metadata": {},
   "source": [
    "##Adding Amino Acid records"
   ]
  },
  {
   "cell_type": "markdown",
   "metadata": {},
   "source": [
    "###Merging two SFrames"
   ]
  },
  {
   "cell_type": "code",
   "execution_count": 55,
   "metadata": {
    "collapsed": false
   },
   "outputs": [
    {
     "data": {
      "text/html": [
       "<div style=\"max-height:1000px;max-width:1500px;overflow:auto;\"><table frame=\"box\" rules=\"cols\">\n",
       "    <tr>\n",
       "        <th style=\"padding-left: 1em; padding-right: 1em; text-align: center\">Feature ID</th>\n",
       "        <th style=\"padding-left: 1em; padding-right: 1em; text-align: center\">Type</th>\n",
       "        <th style=\"padding-left: 1em; padding-right: 1em; text-align: center\">Contig</th>\n",
       "        <th style=\"padding-left: 1em; padding-right: 1em; text-align: center\">Start</th>\n",
       "        <th style=\"padding-left: 1em; padding-right: 1em; text-align: center\">Stop</th>\n",
       "        <th style=\"padding-left: 1em; padding-right: 1em; text-align: center\">Frame</th>\n",
       "        <th style=\"padding-left: 1em; padding-right: 1em; text-align: center\">Strand</th>\n",
       "        <th style=\"padding-left: 1em; padding-right: 1em; text-align: center\">Length (bp)</th>\n",
       "    </tr>\n",
       "    <tr>\n",
       "        <td style=\"padding-left: 1em; padding-right: 1em; text-align: center; vertical-align: top\">fig|1648.160.peg.1</td>\n",
       "        <td style=\"padding-left: 1em; padding-right: 1em; text-align: center; vertical-align: top\">CDS</td>\n",
       "        <td style=\"padding-left: 1em; padding-right: 1em; text-align: center; vertical-align: top\">NODE_100_length_4674_cov_<br>7.14051_ID_199 ...</td>\n",
       "        <td style=\"padding-left: 1em; padding-right: 1em; text-align: center; vertical-align: top\">39</td>\n",
       "        <td style=\"padding-left: 1em; padding-right: 1em; text-align: center; vertical-align: top\">530</td>\n",
       "        <td style=\"padding-left: 1em; padding-right: 1em; text-align: center; vertical-align: top\">3</td>\n",
       "        <td style=\"padding-left: 1em; padding-right: 1em; text-align: center; vertical-align: top\">+</td>\n",
       "        <td style=\"padding-left: 1em; padding-right: 1em; text-align: center; vertical-align: top\">492</td>\n",
       "    </tr>\n",
       "    <tr>\n",
       "        <td style=\"padding-left: 1em; padding-right: 1em; text-align: center; vertical-align: top\">fig|1648.160.peg.2</td>\n",
       "        <td style=\"padding-left: 1em; padding-right: 1em; text-align: center; vertical-align: top\">CDS</td>\n",
       "        <td style=\"padding-left: 1em; padding-right: 1em; text-align: center; vertical-align: top\">NODE_100_length_4674_cov_<br>7.14051_ID_199 ...</td>\n",
       "        <td style=\"padding-left: 1em; padding-right: 1em; text-align: center; vertical-align: top\">693</td>\n",
       "        <td style=\"padding-left: 1em; padding-right: 1em; text-align: center; vertical-align: top\">1601</td>\n",
       "        <td style=\"padding-left: 1em; padding-right: 1em; text-align: center; vertical-align: top\">3</td>\n",
       "        <td style=\"padding-left: 1em; padding-right: 1em; text-align: center; vertical-align: top\">+</td>\n",
       "        <td style=\"padding-left: 1em; padding-right: 1em; text-align: center; vertical-align: top\">909</td>\n",
       "    </tr>\n",
       "    <tr>\n",
       "        <td style=\"padding-left: 1em; padding-right: 1em; text-align: center; vertical-align: top\">fig|1648.160.peg.3</td>\n",
       "        <td style=\"padding-left: 1em; padding-right: 1em; text-align: center; vertical-align: top\">CDS</td>\n",
       "        <td style=\"padding-left: 1em; padding-right: 1em; text-align: center; vertical-align: top\">NODE_100_length_4674_cov_<br>7.14051_ID_199 ...</td>\n",
       "        <td style=\"padding-left: 1em; padding-right: 1em; text-align: center; vertical-align: top\">1594</td>\n",
       "        <td style=\"padding-left: 1em; padding-right: 1em; text-align: center; vertical-align: top\">2829</td>\n",
       "        <td style=\"padding-left: 1em; padding-right: 1em; text-align: center; vertical-align: top\">1</td>\n",
       "        <td style=\"padding-left: 1em; padding-right: 1em; text-align: center; vertical-align: top\">+</td>\n",
       "        <td style=\"padding-left: 1em; padding-right: 1em; text-align: center; vertical-align: top\">1236</td>\n",
       "    </tr>\n",
       "    <tr>\n",
       "        <td style=\"padding-left: 1em; padding-right: 1em; text-align: center; vertical-align: top\">fig|1648.160.peg.4</td>\n",
       "        <td style=\"padding-left: 1em; padding-right: 1em; text-align: center; vertical-align: top\">CDS</td>\n",
       "        <td style=\"padding-left: 1em; padding-right: 1em; text-align: center; vertical-align: top\">NODE_100_length_4674_cov_<br>7.14051_ID_199 ...</td>\n",
       "        <td style=\"padding-left: 1em; padding-right: 1em; text-align: center; vertical-align: top\">3666</td>\n",
       "        <td style=\"padding-left: 1em; padding-right: 1em; text-align: center; vertical-align: top\">2881</td>\n",
       "        <td style=\"padding-left: 1em; padding-right: 1em; text-align: center; vertical-align: top\">-3</td>\n",
       "        <td style=\"padding-left: 1em; padding-right: 1em; text-align: center; vertical-align: top\">-</td>\n",
       "        <td style=\"padding-left: 1em; padding-right: 1em; text-align: center; vertical-align: top\">786</td>\n",
       "    </tr>\n",
       "    <tr>\n",
       "        <td style=\"padding-left: 1em; padding-right: 1em; text-align: center; vertical-align: top\">fig|1648.160.peg.5</td>\n",
       "        <td style=\"padding-left: 1em; padding-right: 1em; text-align: center; vertical-align: top\">CDS</td>\n",
       "        <td style=\"padding-left: 1em; padding-right: 1em; text-align: center; vertical-align: top\">NODE_100_length_4674_cov_<br>7.14051_ID_199 ...</td>\n",
       "        <td style=\"padding-left: 1em; padding-right: 1em; text-align: center; vertical-align: top\">4297</td>\n",
       "        <td style=\"padding-left: 1em; padding-right: 1em; text-align: center; vertical-align: top\">3758</td>\n",
       "        <td style=\"padding-left: 1em; padding-right: 1em; text-align: center; vertical-align: top\">-1</td>\n",
       "        <td style=\"padding-left: 1em; padding-right: 1em; text-align: center; vertical-align: top\">-</td>\n",
       "        <td style=\"padding-left: 1em; padding-right: 1em; text-align: center; vertical-align: top\">540</td>\n",
       "    </tr>\n",
       "    <tr>\n",
       "        <td style=\"padding-left: 1em; padding-right: 1em; text-align: center; vertical-align: top\">fig|1648.160.peg.6</td>\n",
       "        <td style=\"padding-left: 1em; padding-right: 1em; text-align: center; vertical-align: top\">CDS</td>\n",
       "        <td style=\"padding-left: 1em; padding-right: 1em; text-align: center; vertical-align: top\">NODE_101_length_4672_cov_<br>9.29831_ID_201 ...</td>\n",
       "        <td style=\"padding-left: 1em; padding-right: 1em; text-align: center; vertical-align: top\">4524</td>\n",
       "        <td style=\"padding-left: 1em; padding-right: 1em; text-align: center; vertical-align: top\">3769</td>\n",
       "        <td style=\"padding-left: 1em; padding-right: 1em; text-align: center; vertical-align: top\">-3</td>\n",
       "        <td style=\"padding-left: 1em; padding-right: 1em; text-align: center; vertical-align: top\">-</td>\n",
       "        <td style=\"padding-left: 1em; padding-right: 1em; text-align: center; vertical-align: top\">756</td>\n",
       "    </tr>\n",
       "    <tr>\n",
       "        <td style=\"padding-left: 1em; padding-right: 1em; text-align: center; vertical-align: top\">fig|1648.160.peg.7</td>\n",
       "        <td style=\"padding-left: 1em; padding-right: 1em; text-align: center; vertical-align: top\">CDS</td>\n",
       "        <td style=\"padding-left: 1em; padding-right: 1em; text-align: center; vertical-align: top\">NODE_102_length_4655_cov_<br>7.745_ID_203 ...</td>\n",
       "        <td style=\"padding-left: 1em; padding-right: 1em; text-align: center; vertical-align: top\">1744</td>\n",
       "        <td style=\"padding-left: 1em; padding-right: 1em; text-align: center; vertical-align: top\">830</td>\n",
       "        <td style=\"padding-left: 1em; padding-right: 1em; text-align: center; vertical-align: top\">-1</td>\n",
       "        <td style=\"padding-left: 1em; padding-right: 1em; text-align: center; vertical-align: top\">-</td>\n",
       "        <td style=\"padding-left: 1em; padding-right: 1em; text-align: center; vertical-align: top\">915</td>\n",
       "    </tr>\n",
       "    <tr>\n",
       "        <td style=\"padding-left: 1em; padding-right: 1em; text-align: center; vertical-align: top\">fig|1648.160.peg.8</td>\n",
       "        <td style=\"padding-left: 1em; padding-right: 1em; text-align: center; vertical-align: top\">CDS</td>\n",
       "        <td style=\"padding-left: 1em; padding-right: 1em; text-align: center; vertical-align: top\">NODE_102_length_4655_cov_<br>7.745_ID_203 ...</td>\n",
       "        <td style=\"padding-left: 1em; padding-right: 1em; text-align: center; vertical-align: top\">2906</td>\n",
       "        <td style=\"padding-left: 1em; padding-right: 1em; text-align: center; vertical-align: top\">1728</td>\n",
       "        <td style=\"padding-left: 1em; padding-right: 1em; text-align: center; vertical-align: top\">-2</td>\n",
       "        <td style=\"padding-left: 1em; padding-right: 1em; text-align: center; vertical-align: top\">-</td>\n",
       "        <td style=\"padding-left: 1em; padding-right: 1em; text-align: center; vertical-align: top\">1179</td>\n",
       "    </tr>\n",
       "    <tr>\n",
       "        <td style=\"padding-left: 1em; padding-right: 1em; text-align: center; vertical-align: top\">fig|1648.160.peg.9</td>\n",
       "        <td style=\"padding-left: 1em; padding-right: 1em; text-align: center; vertical-align: top\">CDS</td>\n",
       "        <td style=\"padding-left: 1em; padding-right: 1em; text-align: center; vertical-align: top\">NODE_102_length_4655_cov_<br>7.745_ID_203 ...</td>\n",
       "        <td style=\"padding-left: 1em; padding-right: 1em; text-align: center; vertical-align: top\">4549</td>\n",
       "        <td style=\"padding-left: 1em; padding-right: 1em; text-align: center; vertical-align: top\">2894</td>\n",
       "        <td style=\"padding-left: 1em; padding-right: 1em; text-align: center; vertical-align: top\">-1</td>\n",
       "        <td style=\"padding-left: 1em; padding-right: 1em; text-align: center; vertical-align: top\">-</td>\n",
       "        <td style=\"padding-left: 1em; padding-right: 1em; text-align: center; vertical-align: top\">1656</td>\n",
       "    </tr>\n",
       "    <tr>\n",
       "        <td style=\"padding-left: 1em; padding-right: 1em; text-align: center; vertical-align: top\">fig|1648.160.peg.10</td>\n",
       "        <td style=\"padding-left: 1em; padding-right: 1em; text-align: center; vertical-align: top\">CDS</td>\n",
       "        <td style=\"padding-left: 1em; padding-right: 1em; text-align: center; vertical-align: top\">NODE_103_length_4645_cov_<br>7.86383_ID_205 ...</td>\n",
       "        <td style=\"padding-left: 1em; padding-right: 1em; text-align: center; vertical-align: top\">674</td>\n",
       "        <td style=\"padding-left: 1em; padding-right: 1em; text-align: center; vertical-align: top\">1138</td>\n",
       "        <td style=\"padding-left: 1em; padding-right: 1em; text-align: center; vertical-align: top\">2</td>\n",
       "        <td style=\"padding-left: 1em; padding-right: 1em; text-align: center; vertical-align: top\">+</td>\n",
       "        <td style=\"padding-left: 1em; padding-right: 1em; text-align: center; vertical-align: top\">465</td>\n",
       "    </tr>\n",
       "</table>\n",
       "<table frame=\"box\" rules=\"cols\">\n",
       "    <tr>\n",
       "        <th style=\"padding-left: 1em; padding-right: 1em; text-align: center\">Function</th>\n",
       "        <th style=\"padding-left: 1em; padding-right: 1em; text-align: center\">Subsystem</th>\n",
       "        <th style=\"padding-left: 1em; padding-right: 1em; text-align: center\">NCBI GI</th>\n",
       "        <th style=\"padding-left: 1em; padding-right: 1em; text-align: center\">locus</th>\n",
       "        <th style=\"padding-left: 1em; padding-right: 1em; text-align: center\">Seq_nt</th>\n",
       "        <th style=\"padding-left: 1em; padding-right: 1em; text-align: center\">Calculated_length_nt</th>\n",
       "    </tr>\n",
       "    <tr>\n",
       "        <td style=\"padding-left: 1em; padding-right: 1em; text-align: center; vertical-align: top\">Putative hemagglutinin<br>/hemolysin-related ...</td>\n",
       "        <td style=\"padding-left: 1em; padding-right: 1em; text-align: center; vertical-align: top\">- none -</td>\n",
       "        <td style=\"padding-left: 1em; padding-right: 1em; text-align: center; vertical-align: top\"></td>\n",
       "        <td style=\"padding-left: 1em; padding-right: 1em; text-align: center; vertical-align: top\"></td>\n",
       "        <td style=\"padding-left: 1em; padding-right: 1em; text-align: center; vertical-align: top\">atgactgttaacgaggatgttacac<br>tttatgcacaatggaaaaaat ...</td>\n",
       "        <td style=\"padding-left: 1em; padding-right: 1em; text-align: center; vertical-align: top\">492</td>\n",
       "    </tr>\n",
       "    <tr>\n",
       "        <td style=\"padding-left: 1em; padding-right: 1em; text-align: center; vertical-align: top\">ABC transporter, ATP-<br>binding protein ...</td>\n",
       "        <td style=\"padding-left: 1em; padding-right: 1em; text-align: center; vertical-align: top\">- none -</td>\n",
       "        <td style=\"padding-left: 1em; padding-right: 1em; text-align: center; vertical-align: top\"></td>\n",
       "        <td style=\"padding-left: 1em; padding-right: 1em; text-align: center; vertical-align: top\"></td>\n",
       "        <td style=\"padding-left: 1em; padding-right: 1em; text-align: center; vertical-align: top\">atgaaattagaatttaatcaaatca<br>ataagttttttgacgaacatc ...</td>\n",
       "        <td style=\"padding-left: 1em; padding-right: 1em; text-align: center; vertical-align: top\">909</td>\n",
       "    </tr>\n",
       "    <tr>\n",
       "        <td style=\"padding-left: 1em; padding-right: 1em; text-align: center; vertical-align: top\">ABC transporter, permease<br>protein (putative) ...</td>\n",
       "        <td style=\"padding-left: 1em; padding-right: 1em; text-align: center; vertical-align: top\">- none -</td>\n",
       "        <td style=\"padding-left: 1em; padding-right: 1em; text-align: center; vertical-align: top\"></td>\n",
       "        <td style=\"padding-left: 1em; padding-right: 1em; text-align: center; vertical-align: top\"></td>\n",
       "        <td style=\"padding-left: 1em; padding-right: 1em; text-align: center; vertical-align: top\">atgaataaactcaaaacggttttta<br>aatttgaatttttagaaatgt ...</td>\n",
       "        <td style=\"padding-left: 1em; padding-right: 1em; text-align: center; vertical-align: top\">1236</td>\n",
       "    </tr>\n",
       "    <tr>\n",
       "        <td style=\"padding-left: 1em; padding-right: 1em; text-align: center; vertical-align: top\">L-Aspartate dehydrogenase<br>(EC 1.4.1.21) homolog ...</td>\n",
       "        <td style=\"padding-left: 1em; padding-right: 1em; text-align: center; vertical-align: top\">- none -</td>\n",
       "        <td style=\"padding-left: 1em; padding-right: 1em; text-align: center; vertical-align: top\"></td>\n",
       "        <td style=\"padding-left: 1em; padding-right: 1em; text-align: center; vertical-align: top\"></td>\n",
       "        <td style=\"padding-left: 1em; padding-right: 1em; text-align: center; vertical-align: top\">atgaaaaaattaaaattagcgttaa<br>ttgggccaggatttctcaacg ...</td>\n",
       "        <td style=\"padding-left: 1em; padding-right: 1em; text-align: center; vertical-align: top\">786</td>\n",
       "    </tr>\n",
       "    <tr>\n",
       "        <td style=\"padding-left: 1em; padding-right: 1em; text-align: center; vertical-align: top\">hypothetical protein</td>\n",
       "        <td style=\"padding-left: 1em; padding-right: 1em; text-align: center; vertical-align: top\">- none -</td>\n",
       "        <td style=\"padding-left: 1em; padding-right: 1em; text-align: center; vertical-align: top\"></td>\n",
       "        <td style=\"padding-left: 1em; padding-right: 1em; text-align: center; vertical-align: top\"></td>\n",
       "        <td style=\"padding-left: 1em; padding-right: 1em; text-align: center; vertical-align: top\">atggaaaatcacgtaattatctatc<br>aaacaaaagagcccaaacttc ...</td>\n",
       "        <td style=\"padding-left: 1em; padding-right: 1em; text-align: center; vertical-align: top\">540</td>\n",
       "    </tr>\n",
       "    <tr>\n",
       "        <td style=\"padding-left: 1em; padding-right: 1em; text-align: center; vertical-align: top\">COG1242: Predicted Fe-S<br>oxidoreductase ...</td>\n",
       "        <td style=\"padding-left: 1em; padding-right: 1em; text-align: center; vertical-align: top\">An Fe-S oxireductase<br>coupled with a ...</td>\n",
       "        <td style=\"padding-left: 1em; padding-right: 1em; text-align: center; vertical-align: top\"></td>\n",
       "        <td style=\"padding-left: 1em; padding-right: 1em; text-align: center; vertical-align: top\"></td>\n",
       "        <td style=\"padding-left: 1em; padding-right: 1em; text-align: center; vertical-align: top\">atgattttaaaaaatccagacttag<br>ataagcaaatcgagcacagtg ...</td>\n",
       "        <td style=\"padding-left: 1em; padding-right: 1em; text-align: center; vertical-align: top\">756</td>\n",
       "    </tr>\n",
       "    <tr>\n",
       "        <td style=\"padding-left: 1em; padding-right: 1em; text-align: center; vertical-align: top\">Site-specific recombinase<br>XerD ...</td>\n",
       "        <td style=\"padding-left: 1em; padding-right: 1em; text-align: center; vertical-align: top\">- none -</td>\n",
       "        <td style=\"padding-left: 1em; padding-right: 1em; text-align: center; vertical-align: top\"></td>\n",
       "        <td style=\"padding-left: 1em; padding-right: 1em; text-align: center; vertical-align: top\"></td>\n",
       "        <td style=\"padding-left: 1em; padding-right: 1em; text-align: center; vertical-align: top\">atgaaaaacaaagctaatgatttta<br>ttcactacctccaatttattg ...</td>\n",
       "        <td style=\"padding-left: 1em; padding-right: 1em; text-align: center; vertical-align: top\">915</td>\n",
       "    </tr>\n",
       "    <tr>\n",
       "        <td style=\"padding-left: 1em; padding-right: 1em; text-align: center; vertical-align: top\">DNA polymerase IV (EC<br>2.7.7.7) ...</td>\n",
       "        <td style=\"padding-left: 1em; padding-right: 1em; text-align: center; vertical-align: top\">DNA repair, bacterial</td>\n",
       "        <td style=\"padding-left: 1em; padding-right: 1em; text-align: center; vertical-align: top\"></td>\n",
       "        <td style=\"padding-left: 1em; padding-right: 1em; text-align: center; vertical-align: top\"></td>\n",
       "        <td style=\"padding-left: 1em; padding-right: 1em; text-align: center; vertical-align: top\">atggcacaagtaatatttcatatag<br>atattaacgcgttttatgcaa ...</td>\n",
       "        <td style=\"padding-left: 1em; padding-right: 1em; text-align: center; vertical-align: top\">1179</td>\n",
       "    </tr>\n",
       "    <tr>\n",
       "        <td style=\"padding-left: 1em; padding-right: 1em; text-align: center; vertical-align: top\">DNA repair protein RecN</td>\n",
       "        <td style=\"padding-left: 1em; padding-right: 1em; text-align: center; vertical-align: top\">DNA-replication; &lt;br&gt;DNA<br>repair, bacterial ...</td>\n",
       "        <td style=\"padding-left: 1em; padding-right: 1em; text-align: center; vertical-align: top\"></td>\n",
       "        <td style=\"padding-left: 1em; padding-right: 1em; text-align: center; vertical-align: top\"></td>\n",
       "        <td style=\"padding-left: 1em; padding-right: 1em; text-align: center; vertical-align: top\">atgcttactcatttaacgatagata<br>attttgttttgattcatcata ...</td>\n",
       "        <td style=\"padding-left: 1em; padding-right: 1em; text-align: center; vertical-align: top\">1656</td>\n",
       "    </tr>\n",
       "    <tr>\n",
       "        <td style=\"padding-left: 1em; padding-right: 1em; text-align: center; vertical-align: top\">Phage protein</td>\n",
       "        <td style=\"padding-left: 1em; padding-right: 1em; text-align: center; vertical-align: top\">- none -</td>\n",
       "        <td style=\"padding-left: 1em; padding-right: 1em; text-align: center; vertical-align: top\"></td>\n",
       "        <td style=\"padding-left: 1em; padding-right: 1em; text-align: center; vertical-align: top\"></td>\n",
       "        <td style=\"padding-left: 1em; padding-right: 1em; text-align: center; vertical-align: top\">atgtcaaataagagaggtaaatacg<br>taaaatggcttgaacctaaaa ...</td>\n",
       "        <td style=\"padding-left: 1em; padding-right: 1em; text-align: center; vertical-align: top\">465</td>\n",
       "    </tr>\n",
       "</table>\n",
       "<table frame=\"box\" rules=\"cols\">\n",
       "    <tr>\n",
       "        <th style=\"padding-left: 1em; padding-right: 1em; text-align: center\">Gene_GC</th>\n",
       "        <th style=\"padding-left: 1em; padding-right: 1em; text-align: center\">Seq_aa</th>\n",
       "    </tr>\n",
       "    <tr>\n",
       "        <td style=\"padding-left: 1em; padding-right: 1em; text-align: center; vertical-align: top\">0.355691056911</td>\n",
       "        <td style=\"padding-left: 1em; padding-right: 1em; text-align: center; vertical-align: top\">MTVNEDVTLYAQWKKLIVVVDTYTV<br>VYDGNGNTSGNAPIDSHPYEK ...</td>\n",
       "    </tr>\n",
       "    <tr>\n",
       "        <td style=\"padding-left: 1em; padding-right: 1em; text-align: center; vertical-align: top\">0.324532453245</td>\n",
       "        <td style=\"padding-left: 1em; padding-right: 1em; text-align: center; vertical-align: top\">MKLEFNQINKFFDEHHVLKDISFEV<br>NSGQIFGYLGRNGAGKTTSIR ...</td>\n",
       "    </tr>\n",
       "    <tr>\n",
       "        <td style=\"padding-left: 1em; padding-right: 1em; text-align: center; vertical-align: top\">0.330906148867</td>\n",
       "        <td style=\"padding-left: 1em; padding-right: 1em; text-align: center; vertical-align: top\">MNKLKTVFKFEFLEMLRKRSVKVTT<br>LILCIAVLLITSVPTIQSVFM ...</td>\n",
       "    </tr>\n",
       "    <tr>\n",
       "        <td style=\"padding-left: 1em; padding-right: 1em; text-align: center; vertical-align: top\">0.40203562341</td>\n",
       "        <td style=\"padding-left: 1em; padding-right: 1em; text-align: center; vertical-align: top\">MKKLKLALIGPGFLNDIVAQAWVDG<br>YLPEYELVGVLGRNPIRTAAF ...</td>\n",
       "    </tr>\n",
       "    <tr>\n",
       "        <td style=\"padding-left: 1em; padding-right: 1em; text-align: center; vertical-align: top\">0.322222222222</td>\n",
       "        <td style=\"padding-left: 1em; padding-right: 1em; text-align: center; vertical-align: top\">MENHVIIYQTKEPKLHTLDACIQDF<br>TKRYKLDNTWYLYKTANGKPI ...</td>\n",
       "    </tr>\n",
       "    <tr>\n",
       "        <td style=\"padding-left: 1em; padding-right: 1em; text-align: center; vertical-align: top\">0.382275132275</td>\n",
       "        <td style=\"padding-left: 1em; padding-right: 1em; text-align: center; vertical-align: top\">MILKNPDLDKQIEHSENIMLQKWPN<br>AAKIAYFQAYSNTHDSLKNLK ...</td>\n",
       "    </tr>\n",
       "    <tr>\n",
       "        <td style=\"padding-left: 1em; padding-right: 1em; text-align: center; vertical-align: top\">0.343169398907</td>\n",
       "        <td style=\"padding-left: 1em; padding-right: 1em; text-align: center; vertical-align: top\">MKNKANDFIHYLQFIDPKAALTVAS<br>YRNDLNQYIEYLEHESVSSLE ...</td>\n",
       "    </tr>\n",
       "    <tr>\n",
       "        <td style=\"padding-left: 1em; padding-right: 1em; text-align: center; vertical-align: top\">0.367260390161</td>\n",
       "        <td style=\"padding-left: 1em; padding-right: 1em; text-align: center; vertical-align: top\">MAQVIFHIDINAFYASAHLITDSSL<br>YGKPVVVCSNQRGSVVTTASY ...</td>\n",
       "    </tr>\n",
       "    <tr>\n",
       "        <td style=\"padding-left: 1em; padding-right: 1em; text-align: center; vertical-align: top\">0.362922705314</td>\n",
       "        <td style=\"padding-left: 1em; padding-right: 1em; text-align: center; vertical-align: top\">MLTHLTIDNFVLIHHISVDFSDRFN<br>VFTGETGAGKSLLVDALNFVS ...</td>\n",
       "    </tr>\n",
       "    <tr>\n",
       "        <td style=\"padding-left: 1em; padding-right: 1em; text-align: center; vertical-align: top\">0.406451612903</td>\n",
       "        <td style=\"padding-left: 1em; padding-right: 1em; text-align: center; vertical-align: top\">MSNKRGKYVKWLEPKNLLLLESWAR<br>KISNEQIAANIGIAPKTLYAW ...</td>\n",
       "    </tr>\n",
       "</table>\n",
       "[1575 rows x 16 columns]<br/>Note: Only the head of the SFrame is printed.<br/>You can use print_rows(num_rows=m, num_columns=n) to print more rows and columns.\n",
       "</div>"
      ],
      "text/plain": [
       "Columns:\n",
       "\tFeature ID\tstr\n",
       "\tType\tstr\n",
       "\tContig\tstr\n",
       "\tStart\tint\n",
       "\tStop\tint\n",
       "\tFrame\tint\n",
       "\tStrand\tstr\n",
       "\tLength (bp)\tint\n",
       "\tFunction\tstr\n",
       "\tSubsystem\tstr\n",
       "\tNCBI GI\tstr\n",
       "\tlocus\tstr\n",
       "\tSeq_nt\tstr\n",
       "\tCalculated_length_nt\tint\n",
       "\tGene_GC\tfloat\n",
       "\tSeq_aa\tstr\n",
       "\n",
       "Rows: 1575\n",
       "\n",
       "Data:\n",
       "+---------------------+------+-------------------------------+-------+------+-------+\n",
       "|      Feature ID     | Type |             Contig            | Start | Stop | Frame |\n",
       "+---------------------+------+-------------------------------+-------+------+-------+\n",
       "|  fig|1648.160.peg.1 | CDS  | NODE_100_length_4674_cov_7... |   39  | 530  |   3   |\n",
       "|  fig|1648.160.peg.2 | CDS  | NODE_100_length_4674_cov_7... |  693  | 1601 |   3   |\n",
       "|  fig|1648.160.peg.3 | CDS  | NODE_100_length_4674_cov_7... |  1594 | 2829 |   1   |\n",
       "|  fig|1648.160.peg.4 | CDS  | NODE_100_length_4674_cov_7... |  3666 | 2881 |   -3  |\n",
       "|  fig|1648.160.peg.5 | CDS  | NODE_100_length_4674_cov_7... |  4297 | 3758 |   -1  |\n",
       "|  fig|1648.160.peg.6 | CDS  | NODE_101_length_4672_cov_9... |  4524 | 3769 |   -3  |\n",
       "|  fig|1648.160.peg.7 | CDS  | NODE_102_length_4655_cov_7... |  1744 | 830  |   -1  |\n",
       "|  fig|1648.160.peg.8 | CDS  | NODE_102_length_4655_cov_7... |  2906 | 1728 |   -2  |\n",
       "|  fig|1648.160.peg.9 | CDS  | NODE_102_length_4655_cov_7... |  4549 | 2894 |   -1  |\n",
       "| fig|1648.160.peg.10 | CDS  | NODE_103_length_4645_cov_7... |  674  | 1138 |   2   |\n",
       "+---------------------+------+-------------------------------+-------+------+-------+\n",
       "+--------+-------------+--------------------------------+\n",
       "| Strand | Length (bp) |            Function            |\n",
       "+--------+-------------+--------------------------------+\n",
       "|   +    |     492     | Putative hemagglutinin/hem...  |\n",
       "|   +    |     909     | ABC transporter, ATP-bindi...  |\n",
       "|   +    |     1236    | ABC transporter, permease ...  |\n",
       "|   -    |     786     | L-Aspartate dehydrogenase ...  |\n",
       "|   -    |     540     |      hypothetical protein      |\n",
       "|   -    |     756     | COG1242: Predicted Fe-S ox...  |\n",
       "|   -    |     915     | Site-specific recombinase XerD |\n",
       "|   -    |     1179    | DNA polymerase IV (EC 2.7.7.7) |\n",
       "|   -    |     1656    |    DNA repair protein RecN     |\n",
       "|   +    |     465     |         Phage protein          |\n",
       "+--------+-------------+--------------------------------+\n",
       "+-------------------------------+---------+-------+\n",
       "|           Subsystem           | NCBI GI | locus |\n",
       "+-------------------------------+---------+-------+\n",
       "|            - none -           |         |       |\n",
       "|            - none -           |         |       |\n",
       "|            - none -           |         |       |\n",
       "|            - none -           |         |       |\n",
       "|            - none -           |         |       |\n",
       "| An Fe-S oxireductase coupl... |         |       |\n",
       "|            - none -           |         |       |\n",
       "|     DNA repair, bacterial     |         |       |\n",
       "| DNA-replication; <br>DNA r... |         |       |\n",
       "|            - none -           |         |       |\n",
       "+-------------------------------+---------+-------+\n",
       "+-------------------------------+----------------------+----------------+\n",
       "|             Seq_nt            | Calculated_length_nt |    Gene_GC     |\n",
       "+-------------------------------+----------------------+----------------+\n",
       "| atgactgttaacgaggatgttacact... |         492          | 0.355691056911 |\n",
       "| atgaaattagaatttaatcaaatcaa... |         909          | 0.324532453245 |\n",
       "| atgaataaactcaaaacggtttttaa... |         1236         | 0.330906148867 |\n",
       "| atgaaaaaattaaaattagcgttaat... |         786          | 0.40203562341  |\n",
       "| atggaaaatcacgtaattatctatca... |         540          | 0.322222222222 |\n",
       "| atgattttaaaaaatccagacttaga... |         756          | 0.382275132275 |\n",
       "| atgaaaaacaaagctaatgattttat... |         915          | 0.343169398907 |\n",
       "| atggcacaagtaatatttcatataga... |         1179         | 0.367260390161 |\n",
       "| atgcttactcatttaacgatagataa... |         1656         | 0.362922705314 |\n",
       "| atgtcaaataagagaggtaaatacgt... |         465          | 0.406451612903 |\n",
       "+-------------------------------+----------------------+----------------+\n",
       "+-------------------------------+\n",
       "|             Seq_aa            |\n",
       "+-------------------------------+\n",
       "| MTVNEDVTLYAQWKKLIVVVDTYTVV... |\n",
       "| MKLEFNQINKFFDEHHVLKDISFEVN... |\n",
       "| MNKLKTVFKFEFLEMLRKRSVKVTTL... |\n",
       "| MKKLKLALIGPGFLNDIVAQAWVDGY... |\n",
       "| MENHVIIYQTKEPKLHTLDACIQDFT... |\n",
       "| MILKNPDLDKQIEHSENIMLQKWPNA... |\n",
       "| MKNKANDFIHYLQFIDPKAALTVASY... |\n",
       "| MAQVIFHIDINAFYASAHLITDSSLY... |\n",
       "| MLTHLTIDNFVLIHHISVDFSDRFNV... |\n",
       "| MSNKRGKYVKWLEPKNLLLLESWARK... |\n",
       "+-------------------------------+\n",
       "[1575 rows x 16 columns]\n",
       "Note: Only the head of the SFrame is printed.\n",
       "You can use print_rows(num_rows=m, num_columns=n) to print more rows and columns."
      ]
     },
     "execution_count": 55,
     "metadata": {},
     "output_type": "execute_result"
    }
   ],
   "source": [
    "mergedTbl1=mergedTbl1.join(aa_SFrame, how='left')\n",
    "mergedTbl1 #OK"
   ]
  },
  {
   "cell_type": "markdown",
   "metadata": {},
   "source": [
    "###Adding aa length column"
   ]
  },
  {
   "cell_type": "code",
   "execution_count": 56,
   "metadata": {
    "collapsed": false
   },
   "outputs": [
    {
     "data": {
      "text/html": [
       "<div style=\"max-height:1000px;max-width:1500px;overflow:auto;\"><table frame=\"box\" rules=\"cols\">\n",
       "    <tr>\n",
       "        <th style=\"padding-left: 1em; padding-right: 1em; text-align: center\">Feature ID</th>\n",
       "        <th style=\"padding-left: 1em; padding-right: 1em; text-align: center\">Type</th>\n",
       "        <th style=\"padding-left: 1em; padding-right: 1em; text-align: center\">Contig</th>\n",
       "        <th style=\"padding-left: 1em; padding-right: 1em; text-align: center\">Start</th>\n",
       "        <th style=\"padding-left: 1em; padding-right: 1em; text-align: center\">Stop</th>\n",
       "        <th style=\"padding-left: 1em; padding-right: 1em; text-align: center\">Frame</th>\n",
       "        <th style=\"padding-left: 1em; padding-right: 1em; text-align: center\">Strand</th>\n",
       "        <th style=\"padding-left: 1em; padding-right: 1em; text-align: center\">Length (bp)</th>\n",
       "    </tr>\n",
       "    <tr>\n",
       "        <td style=\"padding-left: 1em; padding-right: 1em; text-align: center; vertical-align: top\">fig|1648.160.peg.1</td>\n",
       "        <td style=\"padding-left: 1em; padding-right: 1em; text-align: center; vertical-align: top\">CDS</td>\n",
       "        <td style=\"padding-left: 1em; padding-right: 1em; text-align: center; vertical-align: top\">NODE_100_length_4674_cov_<br>7.14051_ID_199 ...</td>\n",
       "        <td style=\"padding-left: 1em; padding-right: 1em; text-align: center; vertical-align: top\">39</td>\n",
       "        <td style=\"padding-left: 1em; padding-right: 1em; text-align: center; vertical-align: top\">530</td>\n",
       "        <td style=\"padding-left: 1em; padding-right: 1em; text-align: center; vertical-align: top\">3</td>\n",
       "        <td style=\"padding-left: 1em; padding-right: 1em; text-align: center; vertical-align: top\">+</td>\n",
       "        <td style=\"padding-left: 1em; padding-right: 1em; text-align: center; vertical-align: top\">492</td>\n",
       "    </tr>\n",
       "    <tr>\n",
       "        <td style=\"padding-left: 1em; padding-right: 1em; text-align: center; vertical-align: top\">fig|1648.160.peg.2</td>\n",
       "        <td style=\"padding-left: 1em; padding-right: 1em; text-align: center; vertical-align: top\">CDS</td>\n",
       "        <td style=\"padding-left: 1em; padding-right: 1em; text-align: center; vertical-align: top\">NODE_100_length_4674_cov_<br>7.14051_ID_199 ...</td>\n",
       "        <td style=\"padding-left: 1em; padding-right: 1em; text-align: center; vertical-align: top\">693</td>\n",
       "        <td style=\"padding-left: 1em; padding-right: 1em; text-align: center; vertical-align: top\">1601</td>\n",
       "        <td style=\"padding-left: 1em; padding-right: 1em; text-align: center; vertical-align: top\">3</td>\n",
       "        <td style=\"padding-left: 1em; padding-right: 1em; text-align: center; vertical-align: top\">+</td>\n",
       "        <td style=\"padding-left: 1em; padding-right: 1em; text-align: center; vertical-align: top\">909</td>\n",
       "    </tr>\n",
       "    <tr>\n",
       "        <td style=\"padding-left: 1em; padding-right: 1em; text-align: center; vertical-align: top\">fig|1648.160.peg.3</td>\n",
       "        <td style=\"padding-left: 1em; padding-right: 1em; text-align: center; vertical-align: top\">CDS</td>\n",
       "        <td style=\"padding-left: 1em; padding-right: 1em; text-align: center; vertical-align: top\">NODE_100_length_4674_cov_<br>7.14051_ID_199 ...</td>\n",
       "        <td style=\"padding-left: 1em; padding-right: 1em; text-align: center; vertical-align: top\">1594</td>\n",
       "        <td style=\"padding-left: 1em; padding-right: 1em; text-align: center; vertical-align: top\">2829</td>\n",
       "        <td style=\"padding-left: 1em; padding-right: 1em; text-align: center; vertical-align: top\">1</td>\n",
       "        <td style=\"padding-left: 1em; padding-right: 1em; text-align: center; vertical-align: top\">+</td>\n",
       "        <td style=\"padding-left: 1em; padding-right: 1em; text-align: center; vertical-align: top\">1236</td>\n",
       "    </tr>\n",
       "    <tr>\n",
       "        <td style=\"padding-left: 1em; padding-right: 1em; text-align: center; vertical-align: top\">fig|1648.160.peg.4</td>\n",
       "        <td style=\"padding-left: 1em; padding-right: 1em; text-align: center; vertical-align: top\">CDS</td>\n",
       "        <td style=\"padding-left: 1em; padding-right: 1em; text-align: center; vertical-align: top\">NODE_100_length_4674_cov_<br>7.14051_ID_199 ...</td>\n",
       "        <td style=\"padding-left: 1em; padding-right: 1em; text-align: center; vertical-align: top\">3666</td>\n",
       "        <td style=\"padding-left: 1em; padding-right: 1em; text-align: center; vertical-align: top\">2881</td>\n",
       "        <td style=\"padding-left: 1em; padding-right: 1em; text-align: center; vertical-align: top\">-3</td>\n",
       "        <td style=\"padding-left: 1em; padding-right: 1em; text-align: center; vertical-align: top\">-</td>\n",
       "        <td style=\"padding-left: 1em; padding-right: 1em; text-align: center; vertical-align: top\">786</td>\n",
       "    </tr>\n",
       "    <tr>\n",
       "        <td style=\"padding-left: 1em; padding-right: 1em; text-align: center; vertical-align: top\">fig|1648.160.peg.5</td>\n",
       "        <td style=\"padding-left: 1em; padding-right: 1em; text-align: center; vertical-align: top\">CDS</td>\n",
       "        <td style=\"padding-left: 1em; padding-right: 1em; text-align: center; vertical-align: top\">NODE_100_length_4674_cov_<br>7.14051_ID_199 ...</td>\n",
       "        <td style=\"padding-left: 1em; padding-right: 1em; text-align: center; vertical-align: top\">4297</td>\n",
       "        <td style=\"padding-left: 1em; padding-right: 1em; text-align: center; vertical-align: top\">3758</td>\n",
       "        <td style=\"padding-left: 1em; padding-right: 1em; text-align: center; vertical-align: top\">-1</td>\n",
       "        <td style=\"padding-left: 1em; padding-right: 1em; text-align: center; vertical-align: top\">-</td>\n",
       "        <td style=\"padding-left: 1em; padding-right: 1em; text-align: center; vertical-align: top\">540</td>\n",
       "    </tr>\n",
       "    <tr>\n",
       "        <td style=\"padding-left: 1em; padding-right: 1em; text-align: center; vertical-align: top\">fig|1648.160.peg.6</td>\n",
       "        <td style=\"padding-left: 1em; padding-right: 1em; text-align: center; vertical-align: top\">CDS</td>\n",
       "        <td style=\"padding-left: 1em; padding-right: 1em; text-align: center; vertical-align: top\">NODE_101_length_4672_cov_<br>9.29831_ID_201 ...</td>\n",
       "        <td style=\"padding-left: 1em; padding-right: 1em; text-align: center; vertical-align: top\">4524</td>\n",
       "        <td style=\"padding-left: 1em; padding-right: 1em; text-align: center; vertical-align: top\">3769</td>\n",
       "        <td style=\"padding-left: 1em; padding-right: 1em; text-align: center; vertical-align: top\">-3</td>\n",
       "        <td style=\"padding-left: 1em; padding-right: 1em; text-align: center; vertical-align: top\">-</td>\n",
       "        <td style=\"padding-left: 1em; padding-right: 1em; text-align: center; vertical-align: top\">756</td>\n",
       "    </tr>\n",
       "    <tr>\n",
       "        <td style=\"padding-left: 1em; padding-right: 1em; text-align: center; vertical-align: top\">fig|1648.160.peg.7</td>\n",
       "        <td style=\"padding-left: 1em; padding-right: 1em; text-align: center; vertical-align: top\">CDS</td>\n",
       "        <td style=\"padding-left: 1em; padding-right: 1em; text-align: center; vertical-align: top\">NODE_102_length_4655_cov_<br>7.745_ID_203 ...</td>\n",
       "        <td style=\"padding-left: 1em; padding-right: 1em; text-align: center; vertical-align: top\">1744</td>\n",
       "        <td style=\"padding-left: 1em; padding-right: 1em; text-align: center; vertical-align: top\">830</td>\n",
       "        <td style=\"padding-left: 1em; padding-right: 1em; text-align: center; vertical-align: top\">-1</td>\n",
       "        <td style=\"padding-left: 1em; padding-right: 1em; text-align: center; vertical-align: top\">-</td>\n",
       "        <td style=\"padding-left: 1em; padding-right: 1em; text-align: center; vertical-align: top\">915</td>\n",
       "    </tr>\n",
       "    <tr>\n",
       "        <td style=\"padding-left: 1em; padding-right: 1em; text-align: center; vertical-align: top\">fig|1648.160.peg.8</td>\n",
       "        <td style=\"padding-left: 1em; padding-right: 1em; text-align: center; vertical-align: top\">CDS</td>\n",
       "        <td style=\"padding-left: 1em; padding-right: 1em; text-align: center; vertical-align: top\">NODE_102_length_4655_cov_<br>7.745_ID_203 ...</td>\n",
       "        <td style=\"padding-left: 1em; padding-right: 1em; text-align: center; vertical-align: top\">2906</td>\n",
       "        <td style=\"padding-left: 1em; padding-right: 1em; text-align: center; vertical-align: top\">1728</td>\n",
       "        <td style=\"padding-left: 1em; padding-right: 1em; text-align: center; vertical-align: top\">-2</td>\n",
       "        <td style=\"padding-left: 1em; padding-right: 1em; text-align: center; vertical-align: top\">-</td>\n",
       "        <td style=\"padding-left: 1em; padding-right: 1em; text-align: center; vertical-align: top\">1179</td>\n",
       "    </tr>\n",
       "    <tr>\n",
       "        <td style=\"padding-left: 1em; padding-right: 1em; text-align: center; vertical-align: top\">fig|1648.160.peg.9</td>\n",
       "        <td style=\"padding-left: 1em; padding-right: 1em; text-align: center; vertical-align: top\">CDS</td>\n",
       "        <td style=\"padding-left: 1em; padding-right: 1em; text-align: center; vertical-align: top\">NODE_102_length_4655_cov_<br>7.745_ID_203 ...</td>\n",
       "        <td style=\"padding-left: 1em; padding-right: 1em; text-align: center; vertical-align: top\">4549</td>\n",
       "        <td style=\"padding-left: 1em; padding-right: 1em; text-align: center; vertical-align: top\">2894</td>\n",
       "        <td style=\"padding-left: 1em; padding-right: 1em; text-align: center; vertical-align: top\">-1</td>\n",
       "        <td style=\"padding-left: 1em; padding-right: 1em; text-align: center; vertical-align: top\">-</td>\n",
       "        <td style=\"padding-left: 1em; padding-right: 1em; text-align: center; vertical-align: top\">1656</td>\n",
       "    </tr>\n",
       "    <tr>\n",
       "        <td style=\"padding-left: 1em; padding-right: 1em; text-align: center; vertical-align: top\">fig|1648.160.peg.10</td>\n",
       "        <td style=\"padding-left: 1em; padding-right: 1em; text-align: center; vertical-align: top\">CDS</td>\n",
       "        <td style=\"padding-left: 1em; padding-right: 1em; text-align: center; vertical-align: top\">NODE_103_length_4645_cov_<br>7.86383_ID_205 ...</td>\n",
       "        <td style=\"padding-left: 1em; padding-right: 1em; text-align: center; vertical-align: top\">674</td>\n",
       "        <td style=\"padding-left: 1em; padding-right: 1em; text-align: center; vertical-align: top\">1138</td>\n",
       "        <td style=\"padding-left: 1em; padding-right: 1em; text-align: center; vertical-align: top\">2</td>\n",
       "        <td style=\"padding-left: 1em; padding-right: 1em; text-align: center; vertical-align: top\">+</td>\n",
       "        <td style=\"padding-left: 1em; padding-right: 1em; text-align: center; vertical-align: top\">465</td>\n",
       "    </tr>\n",
       "</table>\n",
       "<table frame=\"box\" rules=\"cols\">\n",
       "    <tr>\n",
       "        <th style=\"padding-left: 1em; padding-right: 1em; text-align: center\">Function</th>\n",
       "        <th style=\"padding-left: 1em; padding-right: 1em; text-align: center\">Subsystem</th>\n",
       "        <th style=\"padding-left: 1em; padding-right: 1em; text-align: center\">NCBI GI</th>\n",
       "        <th style=\"padding-left: 1em; padding-right: 1em; text-align: center\">locus</th>\n",
       "        <th style=\"padding-left: 1em; padding-right: 1em; text-align: center\">Seq_nt</th>\n",
       "        <th style=\"padding-left: 1em; padding-right: 1em; text-align: center\">Calculated_length_nt</th>\n",
       "    </tr>\n",
       "    <tr>\n",
       "        <td style=\"padding-left: 1em; padding-right: 1em; text-align: center; vertical-align: top\">Putative hemagglutinin<br>/hemolysin-related ...</td>\n",
       "        <td style=\"padding-left: 1em; padding-right: 1em; text-align: center; vertical-align: top\">- none -</td>\n",
       "        <td style=\"padding-left: 1em; padding-right: 1em; text-align: center; vertical-align: top\"></td>\n",
       "        <td style=\"padding-left: 1em; padding-right: 1em; text-align: center; vertical-align: top\"></td>\n",
       "        <td style=\"padding-left: 1em; padding-right: 1em; text-align: center; vertical-align: top\">atgactgttaacgaggatgttacac<br>tttatgcacaatggaaaaaat ...</td>\n",
       "        <td style=\"padding-left: 1em; padding-right: 1em; text-align: center; vertical-align: top\">492</td>\n",
       "    </tr>\n",
       "    <tr>\n",
       "        <td style=\"padding-left: 1em; padding-right: 1em; text-align: center; vertical-align: top\">ABC transporter, ATP-<br>binding protein ...</td>\n",
       "        <td style=\"padding-left: 1em; padding-right: 1em; text-align: center; vertical-align: top\">- none -</td>\n",
       "        <td style=\"padding-left: 1em; padding-right: 1em; text-align: center; vertical-align: top\"></td>\n",
       "        <td style=\"padding-left: 1em; padding-right: 1em; text-align: center; vertical-align: top\"></td>\n",
       "        <td style=\"padding-left: 1em; padding-right: 1em; text-align: center; vertical-align: top\">atgaaattagaatttaatcaaatca<br>ataagttttttgacgaacatc ...</td>\n",
       "        <td style=\"padding-left: 1em; padding-right: 1em; text-align: center; vertical-align: top\">909</td>\n",
       "    </tr>\n",
       "    <tr>\n",
       "        <td style=\"padding-left: 1em; padding-right: 1em; text-align: center; vertical-align: top\">ABC transporter, permease<br>protein (putative) ...</td>\n",
       "        <td style=\"padding-left: 1em; padding-right: 1em; text-align: center; vertical-align: top\">- none -</td>\n",
       "        <td style=\"padding-left: 1em; padding-right: 1em; text-align: center; vertical-align: top\"></td>\n",
       "        <td style=\"padding-left: 1em; padding-right: 1em; text-align: center; vertical-align: top\"></td>\n",
       "        <td style=\"padding-left: 1em; padding-right: 1em; text-align: center; vertical-align: top\">atgaataaactcaaaacggttttta<br>aatttgaatttttagaaatgt ...</td>\n",
       "        <td style=\"padding-left: 1em; padding-right: 1em; text-align: center; vertical-align: top\">1236</td>\n",
       "    </tr>\n",
       "    <tr>\n",
       "        <td style=\"padding-left: 1em; padding-right: 1em; text-align: center; vertical-align: top\">L-Aspartate dehydrogenase<br>(EC 1.4.1.21) homolog ...</td>\n",
       "        <td style=\"padding-left: 1em; padding-right: 1em; text-align: center; vertical-align: top\">- none -</td>\n",
       "        <td style=\"padding-left: 1em; padding-right: 1em; text-align: center; vertical-align: top\"></td>\n",
       "        <td style=\"padding-left: 1em; padding-right: 1em; text-align: center; vertical-align: top\"></td>\n",
       "        <td style=\"padding-left: 1em; padding-right: 1em; text-align: center; vertical-align: top\">atgaaaaaattaaaattagcgttaa<br>ttgggccaggatttctcaacg ...</td>\n",
       "        <td style=\"padding-left: 1em; padding-right: 1em; text-align: center; vertical-align: top\">786</td>\n",
       "    </tr>\n",
       "    <tr>\n",
       "        <td style=\"padding-left: 1em; padding-right: 1em; text-align: center; vertical-align: top\">hypothetical protein</td>\n",
       "        <td style=\"padding-left: 1em; padding-right: 1em; text-align: center; vertical-align: top\">- none -</td>\n",
       "        <td style=\"padding-left: 1em; padding-right: 1em; text-align: center; vertical-align: top\"></td>\n",
       "        <td style=\"padding-left: 1em; padding-right: 1em; text-align: center; vertical-align: top\"></td>\n",
       "        <td style=\"padding-left: 1em; padding-right: 1em; text-align: center; vertical-align: top\">atggaaaatcacgtaattatctatc<br>aaacaaaagagcccaaacttc ...</td>\n",
       "        <td style=\"padding-left: 1em; padding-right: 1em; text-align: center; vertical-align: top\">540</td>\n",
       "    </tr>\n",
       "    <tr>\n",
       "        <td style=\"padding-left: 1em; padding-right: 1em; text-align: center; vertical-align: top\">COG1242: Predicted Fe-S<br>oxidoreductase ...</td>\n",
       "        <td style=\"padding-left: 1em; padding-right: 1em; text-align: center; vertical-align: top\">An Fe-S oxireductase<br>coupled with a ...</td>\n",
       "        <td style=\"padding-left: 1em; padding-right: 1em; text-align: center; vertical-align: top\"></td>\n",
       "        <td style=\"padding-left: 1em; padding-right: 1em; text-align: center; vertical-align: top\"></td>\n",
       "        <td style=\"padding-left: 1em; padding-right: 1em; text-align: center; vertical-align: top\">atgattttaaaaaatccagacttag<br>ataagcaaatcgagcacagtg ...</td>\n",
       "        <td style=\"padding-left: 1em; padding-right: 1em; text-align: center; vertical-align: top\">756</td>\n",
       "    </tr>\n",
       "    <tr>\n",
       "        <td style=\"padding-left: 1em; padding-right: 1em; text-align: center; vertical-align: top\">Site-specific recombinase<br>XerD ...</td>\n",
       "        <td style=\"padding-left: 1em; padding-right: 1em; text-align: center; vertical-align: top\">- none -</td>\n",
       "        <td style=\"padding-left: 1em; padding-right: 1em; text-align: center; vertical-align: top\"></td>\n",
       "        <td style=\"padding-left: 1em; padding-right: 1em; text-align: center; vertical-align: top\"></td>\n",
       "        <td style=\"padding-left: 1em; padding-right: 1em; text-align: center; vertical-align: top\">atgaaaaacaaagctaatgatttta<br>ttcactacctccaatttattg ...</td>\n",
       "        <td style=\"padding-left: 1em; padding-right: 1em; text-align: center; vertical-align: top\">915</td>\n",
       "    </tr>\n",
       "    <tr>\n",
       "        <td style=\"padding-left: 1em; padding-right: 1em; text-align: center; vertical-align: top\">DNA polymerase IV (EC<br>2.7.7.7) ...</td>\n",
       "        <td style=\"padding-left: 1em; padding-right: 1em; text-align: center; vertical-align: top\">DNA repair, bacterial</td>\n",
       "        <td style=\"padding-left: 1em; padding-right: 1em; text-align: center; vertical-align: top\"></td>\n",
       "        <td style=\"padding-left: 1em; padding-right: 1em; text-align: center; vertical-align: top\"></td>\n",
       "        <td style=\"padding-left: 1em; padding-right: 1em; text-align: center; vertical-align: top\">atggcacaagtaatatttcatatag<br>atattaacgcgttttatgcaa ...</td>\n",
       "        <td style=\"padding-left: 1em; padding-right: 1em; text-align: center; vertical-align: top\">1179</td>\n",
       "    </tr>\n",
       "    <tr>\n",
       "        <td style=\"padding-left: 1em; padding-right: 1em; text-align: center; vertical-align: top\">DNA repair protein RecN</td>\n",
       "        <td style=\"padding-left: 1em; padding-right: 1em; text-align: center; vertical-align: top\">DNA-replication; &lt;br&gt;DNA<br>repair, bacterial ...</td>\n",
       "        <td style=\"padding-left: 1em; padding-right: 1em; text-align: center; vertical-align: top\"></td>\n",
       "        <td style=\"padding-left: 1em; padding-right: 1em; text-align: center; vertical-align: top\"></td>\n",
       "        <td style=\"padding-left: 1em; padding-right: 1em; text-align: center; vertical-align: top\">atgcttactcatttaacgatagata<br>attttgttttgattcatcata ...</td>\n",
       "        <td style=\"padding-left: 1em; padding-right: 1em; text-align: center; vertical-align: top\">1656</td>\n",
       "    </tr>\n",
       "    <tr>\n",
       "        <td style=\"padding-left: 1em; padding-right: 1em; text-align: center; vertical-align: top\">Phage protein</td>\n",
       "        <td style=\"padding-left: 1em; padding-right: 1em; text-align: center; vertical-align: top\">- none -</td>\n",
       "        <td style=\"padding-left: 1em; padding-right: 1em; text-align: center; vertical-align: top\"></td>\n",
       "        <td style=\"padding-left: 1em; padding-right: 1em; text-align: center; vertical-align: top\"></td>\n",
       "        <td style=\"padding-left: 1em; padding-right: 1em; text-align: center; vertical-align: top\">atgtcaaataagagaggtaaatacg<br>taaaatggcttgaacctaaaa ...</td>\n",
       "        <td style=\"padding-left: 1em; padding-right: 1em; text-align: center; vertical-align: top\">465</td>\n",
       "    </tr>\n",
       "</table>\n",
       "<table frame=\"box\" rules=\"cols\">\n",
       "    <tr>\n",
       "        <th style=\"padding-left: 1em; padding-right: 1em; text-align: center\">Gene_GC</th>\n",
       "        <th style=\"padding-left: 1em; padding-right: 1em; text-align: center\">Seq_aa</th>\n",
       "        <th style=\"padding-left: 1em; padding-right: 1em; text-align: center\">Calculated_length_aa</th>\n",
       "    </tr>\n",
       "    <tr>\n",
       "        <td style=\"padding-left: 1em; padding-right: 1em; text-align: center; vertical-align: top\">0.355691056911</td>\n",
       "        <td style=\"padding-left: 1em; padding-right: 1em; text-align: center; vertical-align: top\">MTVNEDVTLYAQWKKLIVVVDTYTV<br>VYDGNGNTSGNAPIDSHPYEK ...</td>\n",
       "        <td style=\"padding-left: 1em; padding-right: 1em; text-align: center; vertical-align: top\">163</td>\n",
       "    </tr>\n",
       "    <tr>\n",
       "        <td style=\"padding-left: 1em; padding-right: 1em; text-align: center; vertical-align: top\">0.324532453245</td>\n",
       "        <td style=\"padding-left: 1em; padding-right: 1em; text-align: center; vertical-align: top\">MKLEFNQINKFFDEHHVLKDISFEV<br>NSGQIFGYLGRNGAGKTTSIR ...</td>\n",
       "        <td style=\"padding-left: 1em; padding-right: 1em; text-align: center; vertical-align: top\">302</td>\n",
       "    </tr>\n",
       "    <tr>\n",
       "        <td style=\"padding-left: 1em; padding-right: 1em; text-align: center; vertical-align: top\">0.330906148867</td>\n",
       "        <td style=\"padding-left: 1em; padding-right: 1em; text-align: center; vertical-align: top\">MNKLKTVFKFEFLEMLRKRSVKVTT<br>LILCIAVLLITSVPTIQSVFM ...</td>\n",
       "        <td style=\"padding-left: 1em; padding-right: 1em; text-align: center; vertical-align: top\">411</td>\n",
       "    </tr>\n",
       "    <tr>\n",
       "        <td style=\"padding-left: 1em; padding-right: 1em; text-align: center; vertical-align: top\">0.40203562341</td>\n",
       "        <td style=\"padding-left: 1em; padding-right: 1em; text-align: center; vertical-align: top\">MKKLKLALIGPGFLNDIVAQAWVDG<br>YLPEYELVGVLGRNPIRTAAF ...</td>\n",
       "        <td style=\"padding-left: 1em; padding-right: 1em; text-align: center; vertical-align: top\">261</td>\n",
       "    </tr>\n",
       "    <tr>\n",
       "        <td style=\"padding-left: 1em; padding-right: 1em; text-align: center; vertical-align: top\">0.322222222222</td>\n",
       "        <td style=\"padding-left: 1em; padding-right: 1em; text-align: center; vertical-align: top\">MENHVIIYQTKEPKLHTLDACIQDF<br>TKRYKLDNTWYLYKTANGKPI ...</td>\n",
       "        <td style=\"padding-left: 1em; padding-right: 1em; text-align: center; vertical-align: top\">179</td>\n",
       "    </tr>\n",
       "    <tr>\n",
       "        <td style=\"padding-left: 1em; padding-right: 1em; text-align: center; vertical-align: top\">0.382275132275</td>\n",
       "        <td style=\"padding-left: 1em; padding-right: 1em; text-align: center; vertical-align: top\">MILKNPDLDKQIEHSENIMLQKWPN<br>AAKIAYFQAYSNTHDSLKNLK ...</td>\n",
       "        <td style=\"padding-left: 1em; padding-right: 1em; text-align: center; vertical-align: top\">251</td>\n",
       "    </tr>\n",
       "    <tr>\n",
       "        <td style=\"padding-left: 1em; padding-right: 1em; text-align: center; vertical-align: top\">0.343169398907</td>\n",
       "        <td style=\"padding-left: 1em; padding-right: 1em; text-align: center; vertical-align: top\">MKNKANDFIHYLQFIDPKAALTVAS<br>YRNDLNQYIEYLEHESVSSLE ...</td>\n",
       "        <td style=\"padding-left: 1em; padding-right: 1em; text-align: center; vertical-align: top\">304</td>\n",
       "    </tr>\n",
       "    <tr>\n",
       "        <td style=\"padding-left: 1em; padding-right: 1em; text-align: center; vertical-align: top\">0.367260390161</td>\n",
       "        <td style=\"padding-left: 1em; padding-right: 1em; text-align: center; vertical-align: top\">MAQVIFHIDINAFYASAHLITDSSL<br>YGKPVVVCSNQRGSVVTTASY ...</td>\n",
       "        <td style=\"padding-left: 1em; padding-right: 1em; text-align: center; vertical-align: top\">392</td>\n",
       "    </tr>\n",
       "    <tr>\n",
       "        <td style=\"padding-left: 1em; padding-right: 1em; text-align: center; vertical-align: top\">0.362922705314</td>\n",
       "        <td style=\"padding-left: 1em; padding-right: 1em; text-align: center; vertical-align: top\">MLTHLTIDNFVLIHHISVDFSDRFN<br>VFTGETGAGKSLLVDALNFVS ...</td>\n",
       "        <td style=\"padding-left: 1em; padding-right: 1em; text-align: center; vertical-align: top\">551</td>\n",
       "    </tr>\n",
       "    <tr>\n",
       "        <td style=\"padding-left: 1em; padding-right: 1em; text-align: center; vertical-align: top\">0.406451612903</td>\n",
       "        <td style=\"padding-left: 1em; padding-right: 1em; text-align: center; vertical-align: top\">MSNKRGKYVKWLEPKNLLLLESWAR<br>KISNEQIAANIGIAPKTLYAW ...</td>\n",
       "        <td style=\"padding-left: 1em; padding-right: 1em; text-align: center; vertical-align: top\">154</td>\n",
       "    </tr>\n",
       "</table>\n",
       "[1575 rows x 17 columns]<br/>Note: Only the head of the SFrame is printed.<br/>You can use print_rows(num_rows=m, num_columns=n) to print more rows and columns.\n",
       "</div>"
      ],
      "text/plain": [
       "Columns:\n",
       "\tFeature ID\tstr\n",
       "\tType\tstr\n",
       "\tContig\tstr\n",
       "\tStart\tint\n",
       "\tStop\tint\n",
       "\tFrame\tint\n",
       "\tStrand\tstr\n",
       "\tLength (bp)\tint\n",
       "\tFunction\tstr\n",
       "\tSubsystem\tstr\n",
       "\tNCBI GI\tstr\n",
       "\tlocus\tstr\n",
       "\tSeq_nt\tstr\n",
       "\tCalculated_length_nt\tint\n",
       "\tGene_GC\tfloat\n",
       "\tSeq_aa\tstr\n",
       "\tCalculated_length_aa\tint\n",
       "\n",
       "Rows: 1575\n",
       "\n",
       "Data:\n",
       "+---------------------+------+-------------------------------+-------+------+-------+\n",
       "|      Feature ID     | Type |             Contig            | Start | Stop | Frame |\n",
       "+---------------------+------+-------------------------------+-------+------+-------+\n",
       "|  fig|1648.160.peg.1 | CDS  | NODE_100_length_4674_cov_7... |   39  | 530  |   3   |\n",
       "|  fig|1648.160.peg.2 | CDS  | NODE_100_length_4674_cov_7... |  693  | 1601 |   3   |\n",
       "|  fig|1648.160.peg.3 | CDS  | NODE_100_length_4674_cov_7... |  1594 | 2829 |   1   |\n",
       "|  fig|1648.160.peg.4 | CDS  | NODE_100_length_4674_cov_7... |  3666 | 2881 |   -3  |\n",
       "|  fig|1648.160.peg.5 | CDS  | NODE_100_length_4674_cov_7... |  4297 | 3758 |   -1  |\n",
       "|  fig|1648.160.peg.6 | CDS  | NODE_101_length_4672_cov_9... |  4524 | 3769 |   -3  |\n",
       "|  fig|1648.160.peg.7 | CDS  | NODE_102_length_4655_cov_7... |  1744 | 830  |   -1  |\n",
       "|  fig|1648.160.peg.8 | CDS  | NODE_102_length_4655_cov_7... |  2906 | 1728 |   -2  |\n",
       "|  fig|1648.160.peg.9 | CDS  | NODE_102_length_4655_cov_7... |  4549 | 2894 |   -1  |\n",
       "| fig|1648.160.peg.10 | CDS  | NODE_103_length_4645_cov_7... |  674  | 1138 |   2   |\n",
       "+---------------------+------+-------------------------------+-------+------+-------+\n",
       "+--------+-------------+--------------------------------+\n",
       "| Strand | Length (bp) |            Function            |\n",
       "+--------+-------------+--------------------------------+\n",
       "|   +    |     492     | Putative hemagglutinin/hem...  |\n",
       "|   +    |     909     | ABC transporter, ATP-bindi...  |\n",
       "|   +    |     1236    | ABC transporter, permease ...  |\n",
       "|   -    |     786     | L-Aspartate dehydrogenase ...  |\n",
       "|   -    |     540     |      hypothetical protein      |\n",
       "|   -    |     756     | COG1242: Predicted Fe-S ox...  |\n",
       "|   -    |     915     | Site-specific recombinase XerD |\n",
       "|   -    |     1179    | DNA polymerase IV (EC 2.7.7.7) |\n",
       "|   -    |     1656    |    DNA repair protein RecN     |\n",
       "|   +    |     465     |         Phage protein          |\n",
       "+--------+-------------+--------------------------------+\n",
       "+-------------------------------+---------+-------+\n",
       "|           Subsystem           | NCBI GI | locus |\n",
       "+-------------------------------+---------+-------+\n",
       "|            - none -           |         |       |\n",
       "|            - none -           |         |       |\n",
       "|            - none -           |         |       |\n",
       "|            - none -           |         |       |\n",
       "|            - none -           |         |       |\n",
       "| An Fe-S oxireductase coupl... |         |       |\n",
       "|            - none -           |         |       |\n",
       "|     DNA repair, bacterial     |         |       |\n",
       "| DNA-replication; <br>DNA r... |         |       |\n",
       "|            - none -           |         |       |\n",
       "+-------------------------------+---------+-------+\n",
       "+-------------------------------+----------------------+----------------+\n",
       "|             Seq_nt            | Calculated_length_nt |    Gene_GC     |\n",
       "+-------------------------------+----------------------+----------------+\n",
       "| atgactgttaacgaggatgttacact... |         492          | 0.355691056911 |\n",
       "| atgaaattagaatttaatcaaatcaa... |         909          | 0.324532453245 |\n",
       "| atgaataaactcaaaacggtttttaa... |         1236         | 0.330906148867 |\n",
       "| atgaaaaaattaaaattagcgttaat... |         786          | 0.40203562341  |\n",
       "| atggaaaatcacgtaattatctatca... |         540          | 0.322222222222 |\n",
       "| atgattttaaaaaatccagacttaga... |         756          | 0.382275132275 |\n",
       "| atgaaaaacaaagctaatgattttat... |         915          | 0.343169398907 |\n",
       "| atggcacaagtaatatttcatataga... |         1179         | 0.367260390161 |\n",
       "| atgcttactcatttaacgatagataa... |         1656         | 0.362922705314 |\n",
       "| atgtcaaataagagaggtaaatacgt... |         465          | 0.406451612903 |\n",
       "+-------------------------------+----------------------+----------------+\n",
       "+-------------------------------+----------------------+\n",
       "|             Seq_aa            | Calculated_length_aa |\n",
       "+-------------------------------+----------------------+\n",
       "| MTVNEDVTLYAQWKKLIVVVDTYTVV... |         163          |\n",
       "| MKLEFNQINKFFDEHHVLKDISFEVN... |         302          |\n",
       "| MNKLKTVFKFEFLEMLRKRSVKVTTL... |         411          |\n",
       "| MKKLKLALIGPGFLNDIVAQAWVDGY... |         261          |\n",
       "| MENHVIIYQTKEPKLHTLDACIQDFT... |         179          |\n",
       "| MILKNPDLDKQIEHSENIMLQKWPNA... |         251          |\n",
       "| MKNKANDFIHYLQFIDPKAALTVASY... |         304          |\n",
       "| MAQVIFHIDINAFYASAHLITDSSLY... |         392          |\n",
       "| MLTHLTIDNFVLIHHISVDFSDRFNV... |         551          |\n",
       "| MSNKRGKYVKWLEPKNLLLLESWARK... |         154          |\n",
       "+-------------------------------+----------------------+\n",
       "[1575 rows x 17 columns]\n",
       "Note: Only the head of the SFrame is printed.\n",
       "You can use print_rows(num_rows=m, num_columns=n) to print more rows and columns."
      ]
     },
     "execution_count": 56,
     "metadata": {},
     "output_type": "execute_result"
    }
   ],
   "source": [
    "mergedTbl1[\"Calculated_length_aa\"]=mergedTbl1['Seq_aa'].apply(returnLen)\n",
    "mergedTbl1"
   ]
  },
  {
   "cell_type": "code",
   "execution_count": null,
   "metadata": {
    "collapsed": true
   },
   "outputs": [],
   "source": []
  },
  {
   "cell_type": "code",
   "execution_count": null,
   "metadata": {
    "collapsed": true
   },
   "outputs": [],
   "source": []
  },
  {
   "cell_type": "code",
   "execution_count": 58,
   "metadata": {
    "collapsed": false
   },
   "outputs": [
    {
     "data": {
      "application/javascript": [
       "$(\"head\").append($(\"<link/>\").attr({\n",
       "  rel:  \"stylesheet\",\n",
       "  type: \"text/css\",\n",
       "  href: \"//cdnjs.cloudflare.com/ajax/libs/font-awesome/4.1.0/css/font-awesome.min.css\"\n",
       "}));\n",
       "$(\"head\").append($(\"<link/>\").attr({\n",
       "  rel:  \"stylesheet\",\n",
       "  type: \"text/css\",\n",
       "  href: \"//dato.com/files/canvas/1.6.1/css/canvas.css\"\n",
       "}));\n",
       "\n",
       "            (function(){\n",
       "\n",
       "                var e = null;\n",
       "                if (typeof element == 'undefined') {\n",
       "                    var scripts = document.getElementsByTagName('script');\n",
       "                    var thisScriptTag = scripts[scripts.length-1];\n",
       "                    var parentDiv = thisScriptTag.parentNode;\n",
       "                    e = document.createElement('div');\n",
       "                    parentDiv.appendChild(e);\n",
       "                } else {\n",
       "                    e = element[0];\n",
       "                }\n",
       "\n",
       "                if (typeof requirejs !== 'undefined') {\n",
       "                    // disable load timeout; ipython_app.js is large and can take a while to load.\n",
       "                    requirejs.config({waitSeconds: 0});\n",
       "                }\n",
       "\n",
       "                require(['//dato.com/files/canvas/1.6.1/js/ipython_app.js'], function(IPythonApp){\n",
       "                    var app = new IPythonApp();\n",
       "                    app.attachView('sarray','Numeric', {\"ipython\": true, \"sketch\": {\"std\": 0.027831887949054154, \"complete\": true, \"min\": 0.2463768115942029, \"max\": 0.4824561403508772, \"quantile\": [0.2463768115942029, 0.2898550724637681, 0.29931972789115646, 0.30654761904761907, 0.31346578366445915, 0.31794871794871793, 0.32222222222222224, 0.32456140350877194, 0.32689556509299, 0.3301282051282051, 0.3333333333333333, 0.33499170812603646, 0.33611111111111114, 0.33760683760683763, 0.3388581952117864, 0.3402777777777778, 0.3418491484184915, 0.34279705573080965, 0.344, 0.3448773448773449, 0.34674329501915707, 0.3477366255144033, 0.3483709273182957, 0.34893617021276596, 0.3502824858757062, 0.3509933774834437, 0.351981351981352, 0.35294117647058826, 0.3544395924308588, 0.3554083885209713, 0.35610766045548653, 0.3570219966159052, 0.35784313725490197, 0.3584905660377358, 0.358974358974359, 0.36009732360097324, 0.36054421768707484, 0.3611774065234686, 0.3617339312406577, 0.36218905472636814, 0.3628536285362854, 0.36341756919374246, 0.3639322916666667, 0.3643926788685524, 0.3647619047619048, 0.36538461538461536, 0.3660606060606061, 0.36666666666666664, 0.3672316384180791, 0.3678013273388996, 0.36855036855036855, 0.3691695108077361, 0.3697916666666667, 0.3706896551724138, 0.3711340206185567, 0.3717948717948718, 0.37235228539576365, 0.37293729372937295, 0.3736434108527132, 0.37424242424242427, 0.375, 0.3756003842459174, 0.3761638733705773, 0.3772609819121447, 0.3779342723004695, 0.37858220211161386, 0.37924151696606784, 0.38006230529595014, 0.38095238095238093, 0.38154484188698806, 0.38227513227513227, 0.3828470380194518, 0.3832199546485261, 0.3839080459770115, 0.385, 0.3855932203389831, 0.386411889596603, 0.3871196036801132, 0.3878787878787879, 0.3888888888888889, 0.3898635477582846, 0.3912175648702595, 0.39191919191919194, 0.3926645091693635, 0.39355742296918766, 0.39464882943143814, 0.3953488372093023, 0.3967828418230563, 0.397719651240778, 0.39849624060150374, 0.4, 0.4011627906976744, 0.4025157232704403, 0.4044943820224719, 0.40636704119850187, 0.40792540792540793, 0.4097222222222222, 0.4146341463414634, 0.4201388888888889, 0.4257990867579909, 0.4824561403508772], \"median\": 0.36855036855036855, \"numeric\": true, \"num_unique\": 1322, \"num_undefined\": 55, \"var\": 0.0007746139868087058, \"progress\": 1.0, \"size\": 1575, \"frequent_items\": {\"0.38671875\": {\"frequency\": 1, \"value\": 0.38671875}, \"0.375\": {\"frequency\": 8, \"value\": 0.375}, \"0.3415977961432507\": {\"frequency\": 1, \"value\": 0.3415977961432507}, \"0.39415204678362575\": {\"frequency\": 1, \"value\": 0.39415204678362575}, \"0.33903133903133903\": {\"frequency\": 1, \"value\": 0.33903133903133903}, \"0.3903133903133903\": {\"frequency\": 1, \"value\": 0.3903133903133903}, \"0.36724806201550386\": {\"frequency\": 1, \"value\": 0.36724806201550386}, \"0.4050314465408805\": {\"frequency\": 1, \"value\": 0.4050314465408805}, \"0.35232067510548526\": {\"frequency\": 1, \"value\": 0.35232067510548526}, \"0.4074074074074074\": {\"frequency\": 2, \"value\": 0.4074074074074074}, \"0.3621140763997907\": {\"frequency\": 1, \"value\": 0.3621140763997907}, \"0.3783783783783784\": {\"frequency\": 1, \"value\": 0.3783783783783784}, \"0.3643926788685524\": {\"frequency\": 1, \"value\": 0.3643926788685524}, \"0.37188208616780044\": {\"frequency\": 1, \"value\": 0.37188208616780044}, \"0.40876436781609193\": {\"frequency\": 1, \"value\": 0.40876436781609193}, \"0.34539473684210525\": {\"frequency\": 1, \"value\": 0.34539473684210525}, \"0.3900709219858156\": {\"frequency\": 1, \"value\": 0.3900709219858156}, \"0.44275582573454914\": {\"frequency\": 1, \"value\": 0.44275582573454914}, \"0.3647342995169082\": {\"frequency\": 1, \"value\": 0.3647342995169082}, \"0.3903281519861831\": {\"frequency\": 1, \"value\": 0.3903281519861831}, \"0.3458904109589041\": {\"frequency\": 1, \"value\": 0.3458904109589041}, \"0.4113018597997139\": {\"frequency\": 1, \"value\": 0.4113018597997139}, \"0.3775811209439528\": {\"frequency\": 2, \"value\": 0.3775811209439528}, \"0.3568075117370892\": {\"frequency\": 1, \"value\": 0.3568075117370892}, \"0.4028776978417266\": {\"frequency\": 1, \"value\": 0.4028776978417266}, \"0.3434343434343434\": {\"frequency\": 2, \"value\": 0.3434343434343434}, \"0.3375796178343949\": {\"frequency\": 1, \"value\": 0.3375796178343949}, \"0.3689655172413793\": {\"frequency\": 1, \"value\": 0.3689655172413793}, \"0.34656084656084657\": {\"frequency\": 1, \"value\": 0.34656084656084657}, \"0.40420819490586934\": {\"frequency\": 1, \"value\": 0.40420819490586934}, \"0.3157894736842105\": {\"frequency\": 2, \"value\": 0.3157894736842105}, \"0.37711442786069654\": {\"frequency\": 1, \"value\": 0.37711442786069654}, \"0.3490566037735849\": {\"frequency\": 1, \"value\": 0.3490566037735849}, \"0.3873179091688089\": {\"frequency\": 1, \"value\": 0.3873179091688089}, \"0.37441643323996265\": {\"frequency\": 1, \"value\": 0.37441643323996265}, \"0.3782267115600449\": {\"frequency\": 1, \"value\": 0.3782267115600449}, \"0.3855421686746988\": {\"frequency\": 1, \"value\": 0.3855421686746988}, \"0.34279705573080965\": {\"frequency\": 1, \"value\": 0.34279705573080965}, \"0.36376811594202896\": {\"frequency\": 1, \"value\": 0.36376811594202896}, \"0.3675564681724846\": {\"frequency\": 1, \"value\": 0.3675564681724846}, \"0.35694444444444445\": {\"frequency\": 1, \"value\": 0.35694444444444445}, \"0.3469945355191257\": {\"frequency\": 1, \"value\": 0.3469945355191257}, \"0.39227642276422764\": {\"frequency\": 1, \"value\": 0.39227642276422764}, \"0.3811965811965812\": {\"frequency\": 1, \"value\": 0.3811965811965812}, \"0.4084388185654008\": {\"frequency\": 1, \"value\": 0.4084388185654008}, \"0.2901960784313726\": {\"frequency\": 1, \"value\": 0.2901960784313726}, \"0.38300653594771245\": {\"frequency\": 1, \"value\": 0.38300653594771245}, \"0.3047619047619048\": {\"frequency\": 2, \"value\": 0.3047619047619048}, \"0.36930455635491605\": {\"frequency\": 1, \"value\": 0.36930455635491605}, \"0.34868421052631576\": {\"frequency\": 1, \"value\": 0.34868421052631576}, \"0.32967032967032966\": {\"frequency\": 1, \"value\": 0.32967032967032966}, \"0.336996336996337\": {\"frequency\": 1, \"value\": 0.336996336996337}, \"0.3779580797836376\": {\"frequency\": 1, \"value\": 0.3779580797836376}, \"0.3438914027149321\": {\"frequency\": 1, \"value\": 0.3438914027149321}, \"0.3371212121212121\": {\"frequency\": 1, \"value\": 0.3371212121212121}, \"0.35294117647058826\": {\"frequency\": 1, \"value\": 0.35294117647058826}, \"0.3712871287128713\": {\"frequency\": 1, \"value\": 0.3712871287128713}, \"0.3619047619047619\": {\"frequency\": 2, \"value\": 0.3619047619047619}, \"0.3633986928104575\": {\"frequency\": 1, \"value\": 0.3633986928104575}, \"0.36923076923076925\": {\"frequency\": 1, \"value\": 0.36923076923076925}, \"0.3711843711843712\": {\"frequency\": 1, \"value\": 0.3711843711843712}, \"0.38095238095238093\": {\"frequency\": 9, \"value\": 0.38095238095238093}, \"0.3582474226804124\": {\"frequency\": 1, \"value\": 0.3582474226804124}, \"0.37884378843788435\": {\"frequency\": 1, \"value\": 0.37884378843788435}, \"0.3711340206185567\": {\"frequency\": 1, \"value\": 0.3711340206185567}, \"0.3706896551724138\": {\"frequency\": 1, \"value\": 0.3706896551724138}, \"0.3314814814814815\": {\"frequency\": 1, \"value\": 0.3314814814814815}, \"0.3821138211382114\": {\"frequency\": 1, \"value\": 0.3821138211382114}, \"0.35340314136125656\": {\"frequency\": 1, \"value\": 0.35340314136125656}, \"0.41263940520446096\": {\"frequency\": 1, \"value\": 0.41263940520446096}, \"0.3536472760849492\": {\"frequency\": 1, \"value\": 0.3536472760849492}, \"0.3983050847457627\": {\"frequency\": 2, \"value\": 0.3983050847457627}, \"0.35850956696878145\": {\"frequency\": 1, \"value\": 0.35850956696878145}, \"0.34778681120144533\": {\"frequency\": 1, \"value\": 0.34778681120144533}, \"0.3603322949117342\": {\"frequency\": 1, \"value\": 0.3603322949117342}, \"0.3477366255144033\": {\"frequency\": 1, \"value\": 0.3477366255144033}, \"0.37910798122065725\": {\"frequency\": 1, \"value\": 0.37910798122065725}, \"0.3851132686084142\": {\"frequency\": 1, \"value\": 0.3851132686084142}, \"0.4020356234096692\": {\"frequency\": 1, \"value\": 0.4020356234096692}, \"0.3908872901678657\": {\"frequency\": 1, \"value\": 0.3908872901678657}, \"0.39625850340136054\": {\"frequency\": 1, \"value\": 0.39625850340136054}, \"0.32659176029962544\": {\"frequency\": 1, \"value\": 0.32659176029962544}, \"0.3669724770642202\": {\"frequency\": 1, \"value\": 0.3669724770642202}, \"0.40550807217473883\": {\"frequency\": 1, \"value\": 0.40550807217473883}, \"0.4013961605584642\": {\"frequency\": 1, \"value\": 0.4013961605584642}, \"0.3629283489096573\": {\"frequency\": 1, \"value\": 0.3629283489096573}, \"0.34234234234234234\": {\"frequency\": 1, \"value\": 0.34234234234234234}, \"0.33767643865363733\": {\"frequency\": 2, \"value\": 0.33767643865363733}, \"0.32616487455197135\": {\"frequency\": 1, \"value\": 0.32616487455197135}, \"0.3761638733705773\": {\"frequency\": 1, \"value\": 0.3761638733705773}, \"0.2703900709219858\": {\"frequency\": 1, \"value\": 0.2703900709219858}, \"0.3765432098765432\": {\"frequency\": 1, \"value\": 0.3765432098765432}, \"0.34216335540838855\": {\"frequency\": 1, \"value\": 0.34216335540838855}, \"0.4155251141552511\": {\"frequency\": 2, \"value\": 0.4155251141552511}, \"0.3680926916221034\": {\"frequency\": 1, \"value\": 0.3680926916221034}, \"0.358843537414966\": {\"frequency\": 1, \"value\": 0.358843537414966}, \"0.3895582329317269\": {\"frequency\": 1, \"value\": 0.3895582329317269}, \"0.3691695108077361\": {\"frequency\": 1, \"value\": 0.3691695108077361}, \"0.3585185185185185\": {\"frequency\": 1, \"value\": 0.3585185185185185}, \"0.30218068535825543\": {\"frequency\": 1, \"value\": 0.30218068535825543}, \"0.4146341463414634\": {\"frequency\": 1, \"value\": 0.4146341463414634}, \"0.36082474226804123\": {\"frequency\": 1, \"value\": 0.36082474226804123}, \"0.3724137931034483\": {\"frequency\": 2, \"value\": 0.3724137931034483}, \"0.3323232323232323\": {\"frequency\": 1, \"value\": 0.3323232323232323}, \"0.40235690235690236\": {\"frequency\": 1, \"value\": 0.40235690235690236}, \"0.3815104166666667\": {\"frequency\": 1, \"value\": 0.3815104166666667}, \"0.3005464480874317\": {\"frequency\": 1, \"value\": 0.3005464480874317}, \"0.3426666666666667\": {\"frequency\": 1, \"value\": 0.3426666666666667}, \"0.33816425120772947\": {\"frequency\": 1, \"value\": 0.33816425120772947}, \"0.37263910158244\": {\"frequency\": 1, \"value\": 0.37263910158244}, \"0.39766081871345027\": {\"frequency\": 1, \"value\": 0.39766081871345027}, \"0.4217687074829932\": {\"frequency\": 1, \"value\": 0.4217687074829932}, \"0.39777247414478917\": {\"frequency\": 1, \"value\": 0.39777247414478917}, \"0.37235228539576365\": {\"frequency\": 1, \"value\": 0.37235228539576365}, \"0.3710462287104623\": {\"frequency\": 1, \"value\": 0.3710462287104623}, \"0.396011396011396\": {\"frequency\": 1, \"value\": 0.396011396011396}, \"0.38657407407407407\": {\"frequency\": 1, \"value\": 0.38657407407407407}, \"0.39477726574500765\": {\"frequency\": 1, \"value\": 0.39477726574500765}, \"0.296969696969697\": {\"frequency\": 2, \"value\": 0.296969696969697}, \"0.3894736842105263\": {\"frequency\": 1, \"value\": 0.3894736842105263}, \"0.340632603406326\": {\"frequency\": 1, \"value\": 0.340632603406326}, \"0.3829787234042553\": {\"frequency\": 2, \"value\": 0.3829787234042553}, \"0.32456140350877194\": {\"frequency\": 2, \"value\": 0.32456140350877194}, \"0.36032093362509116\": {\"frequency\": 1, \"value\": 0.36032093362509116}, \"0.38222222222222224\": {\"frequency\": 1, \"value\": 0.38222222222222224}, \"0.3\": {\"frequency\": 1, \"value\": 0.3}, \"0.4011627906976744\": {\"frequency\": 1, \"value\": 0.4011627906976744}, \"0.34444444444444444\": {\"frequency\": 3, \"value\": 0.34444444444444444}, \"0.38333333333333336\": {\"frequency\": 3, \"value\": 0.38333333333333336}, \"0.38305084745762713\": {\"frequency\": 1, \"value\": 0.38305084745762713}, \"0.3597560975609756\": {\"frequency\": 1, \"value\": 0.3597560975609756}, \"0.38288288288288286\": {\"frequency\": 1, \"value\": 0.38288288288288286}, \"0.34328358208955223\": {\"frequency\": 3, \"value\": 0.34328358208955223}, \"0.3858447488584475\": {\"frequency\": 1, \"value\": 0.3858447488584475}, \"0.3721770551038844\": {\"frequency\": 1, \"value\": 0.3721770551038844}, \"0.4824561403508772\": {\"frequency\": 1, \"value\": 0.4824561403508772}, \"0.37580794090489383\": {\"frequency\": 1, \"value\": 0.37580794090489383}, \"0.3364126250962279\": {\"frequency\": 1, \"value\": 0.3364126250962279}, \"0.3620178041543027\": {\"frequency\": 1, \"value\": 0.3620178041543027}, \"0.32037037037037036\": {\"frequency\": 1, \"value\": 0.32037037037037036}, \"0.4318181818181818\": {\"frequency\": 1, \"value\": 0.4318181818181818}, \"0.42990654205607476\": {\"frequency\": 1, \"value\": 0.42990654205607476}, \"0.3502824858757062\": {\"frequency\": 2, \"value\": 0.3502824858757062}, \"0.37918871252204583\": {\"frequency\": 1, \"value\": 0.37918871252204583}, \"0.3462157809983897\": {\"frequency\": 1, \"value\": 0.3462157809983897}, \"0.3849462365591398\": {\"frequency\": 1, \"value\": 0.3849462365591398}, \"0.3608815426997245\": {\"frequency\": 2, \"value\": 0.3608815426997245}, \"0.3511111111111111\": {\"frequency\": 1, \"value\": 0.3511111111111111}, \"0.3641304347826087\": {\"frequency\": 1, \"value\": 0.3641304347826087}, \"0.38080495356037153\": {\"frequency\": 1, \"value\": 0.38080495356037153}, \"0.3722627737226277\": {\"frequency\": 1, \"value\": 0.3722627737226277}, \"0.35940409683426444\": {\"frequency\": 1, \"value\": 0.35940409683426444}, \"0.38118022328548645\": {\"frequency\": 1, \"value\": 0.38118022328548645}, \"0.3553921568627451\": {\"frequency\": 1, \"value\": 0.3553921568627451}, \"0.35410484668644904\": {\"frequency\": 1, \"value\": 0.35410484668644904}, \"0.3487654320987654\": {\"frequency\": 1, \"value\": 0.3487654320987654}, \"0.35353535353535354\": {\"frequency\": 1, \"value\": 0.35353535353535354}, \"0.39357429718875503\": {\"frequency\": 1, \"value\": 0.39357429718875503}, \"0.3626666666666667\": {\"frequency\": 1, \"value\": 0.3626666666666667}, \"0.36156648451730417\": {\"frequency\": 1, \"value\": 0.36156648451730417}, \"0.35501355013550134\": {\"frequency\": 1, \"value\": 0.35501355013550134}, \"0.3164721141374838\": {\"frequency\": 1, \"value\": 0.3164721141374838}, \"0.42095238095238097\": {\"frequency\": 1, \"value\": 0.42095238095238097}, \"0.38328236493374107\": {\"frequency\": 1, \"value\": 0.38328236493374107}, \"0.34408602150537637\": {\"frequency\": 2, \"value\": 0.34408602150537637}, \"0.4223744292237443\": {\"frequency\": 1, \"value\": 0.4223744292237443}, \"0.3495311167945439\": {\"frequency\": 1, \"value\": 0.3495311167945439}, \"0.3682170542635659\": {\"frequency\": 2, \"value\": 0.3682170542635659}, \"0.3862994350282486\": {\"frequency\": 1, \"value\": 0.3862994350282486}, \"0.31666666666666665\": {\"frequency\": 1, \"value\": 0.31666666666666665}, \"0.3687315634218289\": {\"frequency\": 1, \"value\": 0.3687315634218289}, \"0.2982456140350877\": {\"frequency\": 1, \"value\": 0.2982456140350877}, \"0.3879781420765027\": {\"frequency\": 1, \"value\": 0.3879781420765027}, \"0.3282442748091603\": {\"frequency\": 1, \"value\": 0.3282442748091603}, \"0.30363036303630364\": {\"frequency\": 1, \"value\": 0.30363036303630364}, \"0.3879472693032015\": {\"frequency\": 1, \"value\": 0.3879472693032015}, \"0.35610766045548653\": {\"frequency\": 2, \"value\": 0.35610766045548653}, \"0.39880952380952384\": {\"frequency\": 1, \"value\": 0.39880952380952384}, \"0.34793187347931875\": {\"frequency\": 1, \"value\": 0.34793187347931875}, \"0.34674329501915707\": {\"frequency\": 2, \"value\": 0.34674329501915707}, \"0.31346578366445915\": {\"frequency\": 1, \"value\": 0.31346578366445915}, \"0.35400516795865633\": {\"frequency\": 1, \"value\": 0.35400516795865633}, \"0.3129251700680272\": {\"frequency\": 2, \"value\": 0.3129251700680272}, \"0.3392018779342723\": {\"frequency\": 1, \"value\": 0.3392018779342723}, \"0.36215538847117795\": {\"frequency\": 1, \"value\": 0.36215538847117795}, \"0.39763779527559057\": {\"frequency\": 1, \"value\": 0.39763779527559057}, \"0.33640081799591004\": {\"frequency\": 1, \"value\": 0.33640081799591004}, \"0.3644752018454441\": {\"frequency\": 1, \"value\": 0.3644752018454441}, \"0.40915593705293274\": {\"frequency\": 1, \"value\": 0.40915593705293274}, \"0.37604166666666666\": {\"frequency\": 1, \"value\": 0.37604166666666666}, \"0.3917748917748918\": {\"frequency\": 1, \"value\": 0.3917748917748918}, \"0.3471264367816092\": {\"frequency\": 1, \"value\": 0.3471264367816092}, \"0.36065573770491804\": {\"frequency\": 2, \"value\": 0.36065573770491804}, \"0.26262626262626265\": {\"frequency\": 1, \"value\": 0.26262626262626265}, \"0.39755351681957185\": {\"frequency\": 1, \"value\": 0.39755351681957185}, \"0.40154142581888247\": {\"frequency\": 1, \"value\": 0.40154142581888247}, \"0.3943191311612364\": {\"frequency\": 1, \"value\": 0.3943191311612364}, \"0.36917562724014336\": {\"frequency\": 1, \"value\": 0.36917562724014336}, \"0.38147337709700946\": {\"frequency\": 1, \"value\": 0.38147337709700946}, \"0.35050071530758226\": {\"frequency\": 1, \"value\": 0.35050071530758226}, \"0.40947075208913647\": {\"frequency\": 1, \"value\": 0.40947075208913647}, \"0.3799019607843137\": {\"frequency\": 1, \"value\": 0.3799019607843137}, \"0.35488505747126436\": {\"frequency\": 1, \"value\": 0.35488505747126436}, \"0.37112010796221323\": {\"frequency\": 1, \"value\": 0.37112010796221323}, \"0.40049751243781095\": {\"frequency\": 1, \"value\": 0.40049751243781095}, \"0.36783988957902003\": {\"frequency\": 1, \"value\": 0.36783988957902003}, \"0.3448773448773449\": {\"frequency\": 1, \"value\": 0.3448773448773449}, \"0.3745704467353952\": {\"frequency\": 2, \"value\": 0.3745704467353952}, \"0.3689064558629776\": {\"frequency\": 2, \"value\": 0.3689064558629776}, \"0.39018087855297157\": {\"frequency\": 1, \"value\": 0.39018087855297157}, \"0.3557312252964427\": {\"frequency\": 1, \"value\": 0.3557312252964427}, \"0.364367816091954\": {\"frequency\": 1, \"value\": 0.364367816091954}, \"0.38656838656838655\": {\"frequency\": 1, \"value\": 0.38656838656838655}, \"0.326007326007326\": {\"frequency\": 1, \"value\": 0.326007326007326}, \"0.36039360393603936\": {\"frequency\": 1, \"value\": 0.36039360393603936}, \"0.37099023709902373\": {\"frequency\": 1, \"value\": 0.37099023709902373}, \"0.39377289377289376\": {\"frequency\": 1, \"value\": 0.39377289377289376}, \"0.3779710144927536\": {\"frequency\": 1, \"value\": 0.3779710144927536}, \"0.3611774065234686\": {\"frequency\": 1, \"value\": 0.3611774065234686}, \"0.37142857142857144\": {\"frequency\": 1, \"value\": 0.37142857142857144}, \"0.3755656108597285\": {\"frequency\": 1, \"value\": 0.3755656108597285}, \"0.38276299112801015\": {\"frequency\": 1, \"value\": 0.38276299112801015}, \"0.32211538461538464\": {\"frequency\": 1, \"value\": 0.32211538461538464}, \"0.38006230529595014\": {\"frequency\": 1, \"value\": 0.38006230529595014}, \"0.34782608695652173\": {\"frequency\": 1, \"value\": 0.34782608695652173}, \"0.36427566807313644\": {\"frequency\": 1, \"value\": 0.36427566807313644}, \"0.36298932384341637\": {\"frequency\": 1, \"value\": 0.36298932384341637}, \"0.39166666666666666\": {\"frequency\": 2, \"value\": 0.39166666666666666}, \"0.375886524822695\": {\"frequency\": 1, \"value\": 0.375886524822695}, \"0.36607142857142855\": {\"frequency\": 2, \"value\": 0.36607142857142855}, \"0.3463203463203463\": {\"frequency\": 1, \"value\": 0.3463203463203463}, \"0.34965034965034963\": {\"frequency\": 1, \"value\": 0.34965034965034963}, \"0.38985976267529665\": {\"frequency\": 1, \"value\": 0.38985976267529665}, \"0.36530491415038485\": {\"frequency\": 1, \"value\": 0.36530491415038485}, \"0.3219954648526077\": {\"frequency\": 1, \"value\": 0.3219954648526077}, \"0.3838383838383838\": {\"frequency\": 2, \"value\": 0.3838383838383838}, \"0.3424242424242424\": {\"frequency\": 1, \"value\": 0.3424242424242424}, \"0.39814814814814814\": {\"frequency\": 1, \"value\": 0.39814814814814814}, \"0.4142857142857143\": {\"frequency\": 1, \"value\": 0.4142857142857143}, \"0.3358395989974937\": {\"frequency\": 1, \"value\": 0.3358395989974937}, \"0.3983918128654971\": {\"frequency\": 1, \"value\": 0.3983918128654971}, \"0.32689556509299\": {\"frequency\": 1, \"value\": 0.32689556509299}, \"0.27586206896551724\": {\"frequency\": 1, \"value\": 0.27586206896551724}, \"0.37896825396825395\": {\"frequency\": 1, \"value\": 0.37896825396825395}, \"0.36772486772486773\": {\"frequency\": 1, \"value\": 0.36772486772486773}, \"0.39457831325301207\": {\"frequency\": 1, \"value\": 0.39457831325301207}, \"0.4179357021996616\": {\"frequency\": 1, \"value\": 0.4179357021996616}, \"0.355281207133059\": {\"frequency\": 1, \"value\": 0.355281207133059}, \"0.35688405797101447\": {\"frequency\": 1, \"value\": 0.35688405797101447}, \"0.308868501529052\": {\"frequency\": 1, \"value\": 0.308868501529052}, \"0.31645569620253167\": {\"frequency\": 1, \"value\": 0.31645569620253167}, \"0.3484848484848485\": {\"frequency\": 3, \"value\": 0.3484848484848485}, \"0.348780487804878\": {\"frequency\": 1, \"value\": 0.348780487804878}, \"0.39349112426035504\": {\"frequency\": 1, \"value\": 0.39349112426035504}, \"0.3912175648702595\": {\"frequency\": 1, \"value\": 0.3912175648702595}, \"0.35\": {\"frequency\": 1, \"value\": 0.35}, \"0.3648068669527897\": {\"frequency\": 1, \"value\": 0.3648068669527897}, \"0.34385964912280703\": {\"frequency\": 1, \"value\": 0.34385964912280703}, \"0.3825503355704698\": {\"frequency\": 1, \"value\": 0.3825503355704698}, \"0.3796576032225579\": {\"frequency\": 1, \"value\": 0.3796576032225579}, \"0.4215328467153285\": {\"frequency\": 1, \"value\": 0.4215328467153285}, \"0.4057971014492754\": {\"frequency\": 1, \"value\": 0.4057971014492754}, \"0.3690078037904125\": {\"frequency\": 1, \"value\": 0.3690078037904125}, \"0.35784313725490197\": {\"frequency\": 3, \"value\": 0.35784313725490197}, \"0.30701754385964913\": {\"frequency\": 1, \"value\": 0.30701754385964913}, \"0.40913508260447035\": {\"frequency\": 1, \"value\": 0.40913508260447035}, \"0.40100250626566414\": {\"frequency\": 3, \"value\": 0.40100250626566414}, \"0.3510204081632653\": {\"frequency\": 1, \"value\": 0.3510204081632653}, \"0.3411949685534591\": {\"frequency\": 1, \"value\": 0.3411949685534591}, \"0.3556910569105691\": {\"frequency\": 1, \"value\": 0.3556910569105691}, \"0.36496350364963503\": {\"frequency\": 1, \"value\": 0.36496350364963503}, \"0.34880123743232794\": {\"frequency\": 1, \"value\": 0.34880123743232794}, \"0.408983451536643\": {\"frequency\": 1, \"value\": 0.408983451536643}, \"0.3391812865497076\": {\"frequency\": 2, \"value\": 0.3391812865497076}, \"0.34486545853926415\": {\"frequency\": 1, \"value\": 0.34486545853926415}, \"0.36187563710499493\": {\"frequency\": 1, \"value\": 0.36187563710499493}, \"0.3776167471819646\": {\"frequency\": 1, \"value\": 0.3776167471819646}, \"0.4021164021164021\": {\"frequency\": 1, \"value\": 0.4021164021164021}, \"0.40009675858732463\": {\"frequency\": 1, \"value\": 0.40009675858732463}, \"0.4207650273224044\": {\"frequency\": 1, \"value\": 0.4207650273224044}, \"0.36318407960199006\": {\"frequency\": 1, \"value\": 0.36318407960199006}, \"0.36\": {\"frequency\": 1, \"value\": 0.36}, \"0.34201954397394135\": {\"frequency\": 1, \"value\": 0.34201954397394135}, \"0.3931071620893915\": {\"frequency\": 1, \"value\": 0.3931071620893915}, \"0.3218390804597701\": {\"frequency\": 2, \"value\": 0.3218390804597701}, \"0.3612040133779264\": {\"frequency\": 1, \"value\": 0.3612040133779264}, \"0.3755868544600939\": {\"frequency\": 1, \"value\": 0.3755868544600939}, \"0.3635265700483092\": {\"frequency\": 1, \"value\": 0.3635265700483092}, \"0.38271604938271603\": {\"frequency\": 2, \"value\": 0.38271604938271603}, \"0.3793793793793794\": {\"frequency\": 1, \"value\": 0.3793793793793794}, \"0.3894080996884735\": {\"frequency\": 1, \"value\": 0.3894080996884735}, \"0.3673469387755102\": {\"frequency\": 1, \"value\": 0.3673469387755102}, \"0.3950039032006245\": {\"frequency\": 1, \"value\": 0.3950039032006245}, \"0.36363636363636365\": {\"frequency\": 3, \"value\": 0.36363636363636365}, \"0.32222222222222224\": {\"frequency\": 1, \"value\": 0.32222222222222224}, \"0.33152173913043476\": {\"frequency\": 1, \"value\": 0.33152173913043476}, \"0.3598130841121495\": {\"frequency\": 1, \"value\": 0.3598130841121495}, \"0.33589743589743587\": {\"frequency\": 1, \"value\": 0.33589743589743587}, \"0.3734567901234568\": {\"frequency\": 1, \"value\": 0.3734567901234568}, \"0.36511456023651145\": {\"frequency\": 1, \"value\": 0.36511456023651145}, \"0.36964618249534453\": {\"frequency\": 1, \"value\": 0.36964618249534453}, \"0.3655913978494624\": {\"frequency\": 3, \"value\": 0.3655913978494624}, \"0.36585365853658536\": {\"frequency\": 1, \"value\": 0.36585365853658536}, \"0.3660606060606061\": {\"frequency\": 1, \"value\": 0.3660606060606061}, \"0.37280701754385964\": {\"frequency\": 1, \"value\": 0.37280701754385964}, \"0.3368606701940035\": {\"frequency\": 1, \"value\": 0.3368606701940035}, \"0.3313373253493014\": {\"frequency\": 1, \"value\": 0.3313373253493014}, \"0.3675464320625611\": {\"frequency\": 1, \"value\": 0.3675464320625611}, \"0.376425855513308\": {\"frequency\": 1, \"value\": 0.376425855513308}, \"0.3739130434782609\": {\"frequency\": 1, \"value\": 0.3739130434782609}, \"0.39235412474849096\": {\"frequency\": 1, \"value\": 0.39235412474849096}, \"0.3506172839506173\": {\"frequency\": 1, \"value\": 0.3506172839506173}, \"0.37579617834394907\": {\"frequency\": 1, \"value\": 0.37579617834394907}, \"0.35147392290249435\": {\"frequency\": 1, \"value\": 0.35147392290249435}, \"0.3309061488673139\": {\"frequency\": 1, \"value\": 0.3309061488673139}, \"0.307909604519774\": {\"frequency\": 1, \"value\": 0.307909604519774}, \"0.36593591905564926\": {\"frequency\": 1, \"value\": 0.36593591905564926}, \"0.3474576271186441\": {\"frequency\": 1, \"value\": 0.3474576271186441}, \"0.3581963758954909\": {\"frequency\": 1, \"value\": 0.3581963758954909}, \"0.37424242424242427\": {\"frequency\": 2, \"value\": 0.37424242424242427}, \"0.3615819209039548\": {\"frequency\": 1, \"value\": 0.3615819209039548}, \"0.3721174004192872\": {\"frequency\": 1, \"value\": 0.3721174004192872}, \"0.3754853022739878\": {\"frequency\": 1, \"value\": 0.3754853022739878}, \"0.39188566159520516\": {\"frequency\": 1, \"value\": 0.39188566159520516}, \"0.34074074074074073\": {\"frequency\": 1, \"value\": 0.34074074074074073}, \"0.3264129181084198\": {\"frequency\": 1, \"value\": 0.3264129181084198}, \"0.34814814814814815\": {\"frequency\": 1, \"value\": 0.34814814814814815}, \"0.363914373088685\": {\"frequency\": 2, \"value\": 0.363914373088685}, \"0.34285714285714286\": {\"frequency\": 1, \"value\": 0.34285714285714286}, \"0.3812636165577342\": {\"frequency\": 1, \"value\": 0.3812636165577342}, \"0.3695906432748538\": {\"frequency\": 1, \"value\": 0.3695906432748538}, \"0.30714285714285716\": {\"frequency\": 1, \"value\": 0.30714285714285716}, \"0.3787878787878788\": {\"frequency\": 1, \"value\": 0.3787878787878788}, \"0.38535453943008613\": {\"frequency\": 1, \"value\": 0.38535453943008613}, \"0.38\": {\"frequency\": 1, \"value\": 0.38}, \"0.33663366336633666\": {\"frequency\": 1, \"value\": 0.33663366336633666}, \"0.34523809523809523\": {\"frequency\": 1, \"value\": 0.34523809523809523}, \"0.3817204301075269\": {\"frequency\": 1, \"value\": 0.3817204301075269}, \"0.3745819397993311\": {\"frequency\": 1, \"value\": 0.3745819397993311}, \"0.34627831715210355\": {\"frequency\": 1, \"value\": 0.34627831715210355}, \"0.4084507042253521\": {\"frequency\": 1, \"value\": 0.4084507042253521}, \"0.35034013605442177\": {\"frequency\": 1, \"value\": 0.35034013605442177}, \"0.32511737089201875\": {\"frequency\": 1, \"value\": 0.32511737089201875}, \"0.3727735368956743\": {\"frequency\": 1, \"value\": 0.3727735368956743}, \"0.36426592797783935\": {\"frequency\": 1, \"value\": 0.36426592797783935}, \"0.3979721166032953\": {\"frequency\": 1, \"value\": 0.3979721166032953}, \"0.31487513572204123\": {\"frequency\": 1, \"value\": 0.31487513572204123}, \"0.3802588996763754\": {\"frequency\": 1, \"value\": 0.3802588996763754}, \"0.3742138364779874\": {\"frequency\": 1, \"value\": 0.3742138364779874}, \"0.3870967741935484\": {\"frequency\": 3, \"value\": 0.3870967741935484}, \"0.3301282051282051\": {\"frequency\": 1, \"value\": 0.3301282051282051}, \"0.3736434108527132\": {\"frequency\": 1, \"value\": 0.3736434108527132}, \"0.36054421768707484\": {\"frequency\": 3, \"value\": 0.36054421768707484}, \"0.4097222222222222\": {\"frequency\": 1, \"value\": 0.4097222222222222}, \"0.37658227848101267\": {\"frequency\": 1, \"value\": 0.37658227848101267}, \"0.3795918367346939\": {\"frequency\": 1, \"value\": 0.3795918367346939}, \"0.3902439024390244\": {\"frequency\": 1, \"value\": 0.3902439024390244}, \"0.42131350681536556\": {\"frequency\": 1, \"value\": 0.42131350681536556}, \"0.34910394265232975\": {\"frequency\": 1, \"value\": 0.34910394265232975}, \"0.3501602564102564\": {\"frequency\": 1, \"value\": 0.3501602564102564}, \"0.3864734299516908\": {\"frequency\": 1, \"value\": 0.3864734299516908}, \"0.3395638629283489\": {\"frequency\": 1, \"value\": 0.3395638629283489}, \"0.3924731182795699\": {\"frequency\": 1, \"value\": 0.3924731182795699}, \"0.3275737940964723\": {\"frequency\": 1, \"value\": 0.3275737940964723}, \"0.43072702331961593\": {\"frequency\": 1, \"value\": 0.43072702331961593}, \"0.32269503546099293\": {\"frequency\": 1, \"value\": 0.32269503546099293}, \"0.3678013273388996\": {\"frequency\": 1, \"value\": 0.3678013273388996}, \"0.3825136612021858\": {\"frequency\": 1, \"value\": 0.3825136612021858}, \"0.3436426116838488\": {\"frequency\": 1, \"value\": 0.3436426116838488}, \"0.38011695906432746\": {\"frequency\": 1, \"value\": 0.38011695906432746}, \"0.360381861575179\": {\"frequency\": 1, \"value\": 0.360381861575179}, \"0.3777120315581854\": {\"frequency\": 1, \"value\": 0.3777120315581854}, \"0.34173669467787116\": {\"frequency\": 1, \"value\": 0.34173669467787116}, \"0.3492063492063492\": {\"frequency\": 1, \"value\": 0.3492063492063492}, \"0.3388888888888889\": {\"frequency\": 1, \"value\": 0.3388888888888889}, \"0.35046728971962615\": {\"frequency\": 1, \"value\": 0.35046728971962615}, \"0.3663003663003663\": {\"frequency\": 1, \"value\": 0.3663003663003663}, \"0.3850574712643678\": {\"frequency\": 1, \"value\": 0.3850574712643678}, \"0.37362637362637363\": {\"frequency\": 1, \"value\": 0.37362637362637363}, \"0.3753501400560224\": {\"frequency\": 2, \"value\": 0.3753501400560224}, \"0.37948717948717947\": {\"frequency\": 1, \"value\": 0.37948717948717947}, \"0.388422035480859\": {\"frequency\": 1, \"value\": 0.388422035480859}, \"0.39819004524886875\": {\"frequency\": 1, \"value\": 0.39819004524886875}, \"0.4\": {\"frequency\": 4, \"value\": 0.4}, \"0.40625\": {\"frequency\": 1, \"value\": 0.40625}, \"0.40896358543417366\": {\"frequency\": 1, \"value\": 0.40896358543417366}, \"0.35858585858585856\": {\"frequency\": 1, \"value\": 0.35858585858585856}, \"0.36824324324324326\": {\"frequency\": 1, \"value\": 0.36824324324324326}, \"0.3924566768603466\": {\"frequency\": 1, \"value\": 0.3924566768603466}, \"0.40784313725490196\": {\"frequency\": 1, \"value\": 0.40784313725490196}, \"0.3820395738203957\": {\"frequency\": 1, \"value\": 0.3820395738203957}, \"0.3708206686930091\": {\"frequency\": 1, \"value\": 0.3708206686930091}, \"0.40371456500488756\": {\"frequency\": 1, \"value\": 0.40371456500488756}, \"0.3360142984807864\": {\"frequency\": 2, \"value\": 0.3360142984807864}, \"0.3847675568743818\": {\"frequency\": 1, \"value\": 0.3847675568743818}, \"0.35119047619047616\": {\"frequency\": 1, \"value\": 0.35119047619047616}, \"0.358678955453149\": {\"frequency\": 1, \"value\": 0.358678955453149}, \"0.384\": {\"frequency\": 1, \"value\": 0.384}, \"0.3681592039800995\": {\"frequency\": 2, \"value\": 0.3681592039800995}, \"0.3872053872053872\": {\"frequency\": 1, \"value\": 0.3872053872053872}, \"0.39050701186623515\": {\"frequency\": 1, \"value\": 0.39050701186623515}, \"0.3773809523809524\": {\"frequency\": 1, \"value\": 0.3773809523809524}, \"0.39832285115303984\": {\"frequency\": 1, \"value\": 0.39832285115303984}, \"0.3655555555555556\": {\"frequency\": 1, \"value\": 0.3655555555555556}, \"0.3619791666666667\": {\"frequency\": 2, \"value\": 0.3619791666666667}, \"0.37112239142695996\": {\"frequency\": 1, \"value\": 0.37112239142695996}, \"0.3748894783377542\": {\"frequency\": 1, \"value\": 0.3748894783377542}, \"0.34812286689419797\": {\"frequency\": 1, \"value\": 0.34812286689419797}, \"0.3673835125448029\": {\"frequency\": 1, \"value\": 0.3673835125448029}, \"0.36767676767676766\": {\"frequency\": 1, \"value\": 0.36767676767676766}, \"0.37471655328798187\": {\"frequency\": 1, \"value\": 0.37471655328798187}, \"0.28484848484848485\": {\"frequency\": 1, \"value\": 0.28484848484848485}, \"0.3929024081115336\": {\"frequency\": 1, \"value\": 0.3929024081115336}, \"0.3602150537634409\": {\"frequency\": 3, \"value\": 0.3602150537634409}, \"0.351213282247765\": {\"frequency\": 1, \"value\": 0.351213282247765}, \"0.378076062639821\": {\"frequency\": 1, \"value\": 0.378076062639821}, \"0.39233038348082594\": {\"frequency\": 2, \"value\": 0.39233038348082594}, \"0.3877551020408163\": {\"frequency\": 1, \"value\": 0.3877551020408163}, \"0.36292270531400966\": {\"frequency\": 1, \"value\": 0.36292270531400966}, \"0.37184873949579833\": {\"frequency\": 1, \"value\": 0.37184873949579833}, \"0.39737991266375544\": {\"frequency\": 2, \"value\": 0.39737991266375544}, \"0.38652482269503546\": {\"frequency\": 1, \"value\": 0.38652482269503546}, \"0.38492063492063494\": {\"frequency\": 1, \"value\": 0.38492063492063494}, \"0.3747072599531616\": {\"frequency\": 1, \"value\": 0.3747072599531616}, \"0.36419753086419754\": {\"frequency\": 1, \"value\": 0.36419753086419754}, \"0.37373737373737376\": {\"frequency\": 1, \"value\": 0.37373737373737376}, \"0.39147286821705424\": {\"frequency\": 1, \"value\": 0.39147286821705424}, \"0.3506944444444444\": {\"frequency\": 2, \"value\": 0.3506944444444444}, \"0.3559027777777778\": {\"frequency\": 1, \"value\": 0.3559027777777778}, \"0.4105263157894737\": {\"frequency\": 1, \"value\": 0.4105263157894737}, \"0.40792540792540793\": {\"frequency\": 1, \"value\": 0.40792540792540793}, \"0.39902676399026765\": {\"frequency\": 1, \"value\": 0.39902676399026765}, \"0.3895216400911162\": {\"frequency\": 1, \"value\": 0.3895216400911162}, \"0.35477582846003897\": {\"frequency\": 1, \"value\": 0.35477582846003897}, \"0.4108527131782946\": {\"frequency\": 1, \"value\": 0.4108527131782946}, \"0.3925925925925926\": {\"frequency\": 2, \"value\": 0.3925925925925926}, \"0.29545454545454547\": {\"frequency\": 1, \"value\": 0.29545454545454547}, \"0.3465346534653465\": {\"frequency\": 1, \"value\": 0.3465346534653465}, \"0.38705234159779617\": {\"frequency\": 1, \"value\": 0.38705234159779617}, \"0.3526570048309179\": {\"frequency\": 1, \"value\": 0.3526570048309179}, \"0.3563218390804598\": {\"frequency\": 1, \"value\": 0.3563218390804598}, \"0.3504761904761905\": {\"frequency\": 1, \"value\": 0.3504761904761905}, \"0.3368421052631579\": {\"frequency\": 1, \"value\": 0.3368421052631579}, \"0.39568345323741005\": {\"frequency\": 1, \"value\": 0.39568345323741005}, \"0.38860971524288107\": {\"frequency\": 1, \"value\": 0.38860971524288107}, \"0.3561643835616438\": {\"frequency\": 3, \"value\": 0.3561643835616438}, \"0.3625\": {\"frequency\": 1, \"value\": 0.3625}, \"0.3786848072562358\": {\"frequency\": 1, \"value\": 0.3786848072562358}, \"0.39054726368159204\": {\"frequency\": 1, \"value\": 0.39054726368159204}, \"0.37520938023450584\": {\"frequency\": 1, \"value\": 0.37520938023450584}, \"0.3983903420523139\": {\"frequency\": 1, \"value\": 0.3983903420523139}, \"0.40066225165562913\": {\"frequency\": 1, \"value\": 0.40066225165562913}, \"0.28502415458937197\": {\"frequency\": 1, \"value\": 0.28502415458937197}, \"0.3953488372093023\": {\"frequency\": 1, \"value\": 0.3953488372093023}, \"0.3881278538812785\": {\"frequency\": 1, \"value\": 0.3881278538812785}, \"0.3922077922077922\": {\"frequency\": 1, \"value\": 0.3922077922077922}, \"0.366412213740458\": {\"frequency\": 1, \"value\": 0.366412213740458}, \"0.3662447257383966\": {\"frequency\": 1, \"value\": 0.3662447257383966}, \"0.3758169934640523\": {\"frequency\": 3, \"value\": 0.3758169934640523}, \"0.3408521303258145\": {\"frequency\": 1, \"value\": 0.3408521303258145}, \"0.3888888888888889\": {\"frequency\": 3, \"value\": 0.3888888888888889}, \"0.33630952380952384\": {\"frequency\": 1, \"value\": 0.33630952380952384}, \"0.37218045112781956\": {\"frequency\": 1, \"value\": 0.37218045112781956}, \"0.36982968369829683\": {\"frequency\": 1, \"value\": 0.36982968369829683}, \"0.3605769230769231\": {\"frequency\": 1, \"value\": 0.3605769230769231}, \"0.35224586288416077\": {\"frequency\": 1, \"value\": 0.35224586288416077}, \"0.3646586345381526\": {\"frequency\": 1, \"value\": 0.3646586345381526}, \"0.371900826446281\": {\"frequency\": 1, \"value\": 0.371900826446281}, \"0.2962962962962963\": {\"frequency\": 1, \"value\": 0.2962962962962963}, \"0.36302895322939865\": {\"frequency\": 1, \"value\": 0.36302895322939865}, \"0.3106060606060606\": {\"frequency\": 1, \"value\": 0.3106060606060606}, \"0.41498881431767337\": {\"frequency\": 1, \"value\": 0.41498881431767337}, \"0.397719651240778\": {\"frequency\": 1, \"value\": 0.397719651240778}, \"0.3490990990990991\": {\"frequency\": 1, \"value\": 0.3490990990990991}, \"0.40111809923130676\": {\"frequency\": 1, \"value\": 0.40111809923130676}, \"0.3418491484184915\": {\"frequency\": 1, \"value\": 0.3418491484184915}, \"0.3515981735159817\": {\"frequency\": 1, \"value\": 0.3515981735159817}, \"0.30730478589420657\": {\"frequency\": 1, \"value\": 0.30730478589420657}, \"0.337037037037037\": {\"frequency\": 1, \"value\": 0.337037037037037}, \"0.40308839190628326\": {\"frequency\": 1, \"value\": 0.40308839190628326}, \"0.35527426160337555\": {\"frequency\": 1, \"value\": 0.35527426160337555}, \"0.34195402298850575\": {\"frequency\": 1, \"value\": 0.34195402298850575}, \"0.40418118466898956\": {\"frequency\": 1, \"value\": 0.40418118466898956}, \"0.35645472061657035\": {\"frequency\": 1, \"value\": 0.35645472061657035}, \"0.35498839907192575\": {\"frequency\": 1, \"value\": 0.35498839907192575}, \"0.3851851851851852\": {\"frequency\": 1, \"value\": 0.3851851851851852}, \"0.3826530612244898\": {\"frequency\": 1, \"value\": 0.3826530612244898}, \"0.3878504672897196\": {\"frequency\": 1, \"value\": 0.3878504672897196}, \"0.32453245324532454\": {\"frequency\": 1, \"value\": 0.32453245324532454}, \"0.3612565445026178\": {\"frequency\": 1, \"value\": 0.3612565445026178}, \"0.3446808510638298\": {\"frequency\": 1, \"value\": 0.3446808510638298}, \"0.42328042328042326\": {\"frequency\": 1, \"value\": 0.42328042328042326}, \"0.3582554517133956\": {\"frequency\": 1, \"value\": 0.3582554517133956}, \"0.37946040034812883\": {\"frequency\": 1, \"value\": 0.37946040034812883}, \"0.3640238704177323\": {\"frequency\": 1, \"value\": 0.3640238704177323}, \"0.34505862646566166\": {\"frequency\": 1, \"value\": 0.34505862646566166}, \"0.39909297052154197\": {\"frequency\": 1, \"value\": 0.39909297052154197}, \"0.3992248062015504\": {\"frequency\": 1, \"value\": 0.3992248062015504}, \"0.34316939890710385\": {\"frequency\": 1, \"value\": 0.34316939890710385}, \"0.41358024691358025\": {\"frequency\": 1, \"value\": 0.41358024691358025}, \"0.39285714285714285\": {\"frequency\": 1, \"value\": 0.39285714285714285}, \"0.4169246646026832\": {\"frequency\": 1, \"value\": 0.4169246646026832}, \"0.2898550724637681\": {\"frequency\": 2, \"value\": 0.2898550724637681}, \"0.325626204238921\": {\"frequency\": 1, \"value\": 0.325626204238921}, \"0.3697632058287796\": {\"frequency\": 1, \"value\": 0.3697632058287796}, \"0.3622526636225266\": {\"frequency\": 1, \"value\": 0.3622526636225266}, \"0.36327345309381237\": {\"frequency\": 1, \"value\": 0.36327345309381237}, \"0.34574468085106386\": {\"frequency\": 1, \"value\": 0.34574468085106386}, \"0.37060041407867494\": {\"frequency\": 1, \"value\": 0.37060041407867494}, \"0.32575757575757575\": {\"frequency\": 1, \"value\": 0.32575757575757575}, \"0.37193627450980393\": {\"frequency\": 1, \"value\": 0.37193627450980393}, \"0.37367303609341823\": {\"frequency\": 1, \"value\": 0.37367303609341823}, \"0.32432432432432434\": {\"frequency\": 1, \"value\": 0.32432432432432434}, \"0.3855932203389831\": {\"frequency\": 1, \"value\": 0.3855932203389831}, \"0.36071987480438183\": {\"frequency\": 1, \"value\": 0.36071987480438183}, \"0.3993231810490694\": {\"frequency\": 1, \"value\": 0.3993231810490694}, \"0.37945492662473795\": {\"frequency\": 1, \"value\": 0.37945492662473795}, \"0.3496932515337423\": {\"frequency\": 1, \"value\": 0.3496932515337423}, \"0.3824561403508772\": {\"frequency\": 1, \"value\": 0.3824561403508772}, \"0.38235294117647056\": {\"frequency\": 1, \"value\": 0.38235294117647056}, \"0.39805825242718446\": {\"frequency\": 1, \"value\": 0.39805825242718446}, \"0.3926645091693635\": {\"frequency\": 1, \"value\": 0.3926645091693635}, \"0.3120567375886525\": {\"frequency\": 1, \"value\": 0.3120567375886525}, \"0.3388581952117864\": {\"frequency\": 1, \"value\": 0.3388581952117864}, \"0.36403508771929827\": {\"frequency\": 1, \"value\": 0.36403508771929827}, \"0.3671274961597542\": {\"frequency\": 1, \"value\": 0.3671274961597542}, \"0.38564102564102565\": {\"frequency\": 1, \"value\": 0.38564102564102565}, \"0.32844932844932845\": {\"frequency\": 1, \"value\": 0.32844932844932845}, \"0.37533875338753386\": {\"frequency\": 1, \"value\": 0.37533875338753386}, \"0.3435897435897436\": {\"frequency\": 1, \"value\": 0.3435897435897436}, \"0.34716459197787\": {\"frequency\": 1, \"value\": 0.34716459197787}, \"0.34841628959276016\": {\"frequency\": 1, \"value\": 0.34841628959276016}, \"0.383399209486166\": {\"frequency\": 1, \"value\": 0.383399209486166}, \"0.3574660633484163\": {\"frequency\": 1, \"value\": 0.3574660633484163}, \"0.3626373626373626\": {\"frequency\": 1, \"value\": 0.3626373626373626}, \"0.36470588235294116\": {\"frequency\": 1, \"value\": 0.36470588235294116}, \"0.36221122112211224\": {\"frequency\": 1, \"value\": 0.36221122112211224}, \"0.3761165961448049\": {\"frequency\": 1, \"value\": 0.3761165961448049}, \"0.36885245901639346\": {\"frequency\": 1, \"value\": 0.36885245901639346}, \"0.3757716049382716\": {\"frequency\": 1, \"value\": 0.3757716049382716}, \"0.3831258644536653\": {\"frequency\": 1, \"value\": 0.3831258644536653}, \"0.4459613196814562\": {\"frequency\": 1, \"value\": 0.4459613196814562}, \"0.39487179487179486\": {\"frequency\": 1, \"value\": 0.39487179487179486}, \"0.3969298245614035\": {\"frequency\": 1, \"value\": 0.3969298245614035}, \"0.35767790262172283\": {\"frequency\": 1, \"value\": 0.35767790262172283}, \"0.33978494623655914\": {\"frequency\": 1, \"value\": 0.33978494623655914}, \"0.358600583090379\": {\"frequency\": 1, \"value\": 0.358600583090379}, \"0.36231884057971014\": {\"frequency\": 3, \"value\": 0.36231884057971014}, \"0.3409090909090909\": {\"frequency\": 1, \"value\": 0.3409090909090909}, \"0.3651685393258427\": {\"frequency\": 1, \"value\": 0.3651685393258427}, \"0.34806629834254144\": {\"frequency\": 1, \"value\": 0.34806629834254144}, \"0.397196261682243\": {\"frequency\": 1, \"value\": 0.397196261682243}, \"0.36519607843137253\": {\"frequency\": 1, \"value\": 0.36519607843137253}, \"0.367601246105919\": {\"frequency\": 2, \"value\": 0.367601246105919}, \"0.35718247365501943\": {\"frequency\": 1, \"value\": 0.35718247365501943}, \"0.3639322916666667\": {\"frequency\": 1, \"value\": 0.3639322916666667}, \"0.37293729372937295\": {\"frequency\": 2, \"value\": 0.37293729372937295}, \"0.3770491803278688\": {\"frequency\": 1, \"value\": 0.3770491803278688}, \"0.3412384716732543\": {\"frequency\": 1, \"value\": 0.3412384716732543}, \"0.3914930555555556\": {\"frequency\": 1, \"value\": 0.3914930555555556}, \"0.3572744014732965\": {\"frequency\": 1, \"value\": 0.3572744014732965}, \"0.35601577909270216\": {\"frequency\": 1, \"value\": 0.35601577909270216}, \"0.4116809116809117\": {\"frequency\": 1, \"value\": 0.4116809116809117}, \"0.3492786636294609\": {\"frequency\": 1, \"value\": 0.3492786636294609}, \"0.33974358974358976\": {\"frequency\": 1, \"value\": 0.33974358974358976}, \"0.3281733746130031\": {\"frequency\": 1, \"value\": 0.3281733746130031}, \"0.39855072463768115\": {\"frequency\": 1, \"value\": 0.39855072463768115}, \"0.38475177304964536\": {\"frequency\": 1, \"value\": 0.38475177304964536}, \"0.3709677419354839\": {\"frequency\": 1, \"value\": 0.3709677419354839}, \"0.37393162393162394\": {\"frequency\": 1, \"value\": 0.37393162393162394}, \"0.40636704119850187\": {\"frequency\": 1, \"value\": 0.40636704119850187}, \"0.301994301994302\": {\"frequency\": 1, \"value\": 0.301994301994302}, \"0.29457364341085274\": {\"frequency\": 1, \"value\": 0.29457364341085274}, \"0.3862815884476534\": {\"frequency\": 1, \"value\": 0.3862815884476534}, \"0.2878787878787879\": {\"frequency\": 1, \"value\": 0.2878787878787879}, \"0.3383458646616541\": {\"frequency\": 1, \"value\": 0.3383458646616541}, \"0.37825059101654845\": {\"frequency\": 1, \"value\": 0.37825059101654845}, \"0.3584905660377358\": {\"frequency\": 2, \"value\": 0.3584905660377358}, \"0.36642156862745096\": {\"frequency\": 1, \"value\": 0.36642156862745096}, \"0.3830321285140562\": {\"frequency\": 1, \"value\": 0.3830321285140562}, \"0.348747591522158\": {\"frequency\": 1, \"value\": 0.348747591522158}, \"0.35327635327635326\": {\"frequency\": 1, \"value\": 0.35327635327635326}, \"0.36792452830188677\": {\"frequency\": 1, \"value\": 0.36792452830188677}, \"0.3628536285362854\": {\"frequency\": 1, \"value\": 0.3628536285362854}, \"0.36606655755591927\": {\"frequency\": 1, \"value\": 0.36606655755591927}, \"0.34844444444444445\": {\"frequency\": 1, \"value\": 0.34844444444444445}, \"0.3805774278215223\": {\"frequency\": 1, \"value\": 0.3805774278215223}, \"0.398989898989899\": {\"frequency\": 1, \"value\": 0.398989898989899}, \"0.29931972789115646\": {\"frequency\": 1, \"value\": 0.29931972789115646}, \"0.38471177944862156\": {\"frequency\": 1, \"value\": 0.38471177944862156}, \"0.3953900709219858\": {\"frequency\": 1, \"value\": 0.3953900709219858}, \"0.37279335410176534\": {\"frequency\": 1, \"value\": 0.37279335410176534}, \"0.3945355191256831\": {\"frequency\": 1, \"value\": 0.3945355191256831}, \"0.37267839687194526\": {\"frequency\": 1, \"value\": 0.37267839687194526}, \"0.3377386196769457\": {\"frequency\": 1, \"value\": 0.3377386196769457}, \"0.3715753424657534\": {\"frequency\": 1, \"value\": 0.3715753424657534}, \"0.3224043715846995\": {\"frequency\": 1, \"value\": 0.3224043715846995}, \"0.40239043824701193\": {\"frequency\": 1, \"value\": 0.40239043824701193}, \"0.39076923076923076\": {\"frequency\": 1, \"value\": 0.39076923076923076}, \"0.3932702418506835\": {\"frequency\": 1, \"value\": 0.3932702418506835}, \"0.36966394187102636\": {\"frequency\": 1, \"value\": 0.36966394187102636}, \"0.42892156862745096\": {\"frequency\": 1, \"value\": 0.42892156862745096}, \"0.30196078431372547\": {\"frequency\": 1, \"value\": 0.30196078431372547}, \"0.3634408602150538\": {\"frequency\": 1, \"value\": 0.3634408602150538}, \"0.35260115606936415\": {\"frequency\": 2, \"value\": 0.35260115606936415}, \"0.40350877192982454\": {\"frequency\": 3, \"value\": 0.40350877192982454}, \"0.3300653594771242\": {\"frequency\": 1, \"value\": 0.3300653594771242}, \"0.35333333333333333\": {\"frequency\": 1, \"value\": 0.35333333333333333}, \"0.3893985728848114\": {\"frequency\": 1, \"value\": 0.3893985728848114}, \"0.3013698630136986\": {\"frequency\": 1, \"value\": 0.3013698630136986}, \"0.28205128205128205\": {\"frequency\": 1, \"value\": 0.28205128205128205}, \"0.3582887700534759\": {\"frequency\": 1, \"value\": 0.3582887700534759}, \"0.36666666666666664\": {\"frequency\": 4, \"value\": 0.36666666666666664}, \"0.36693548387096775\": {\"frequency\": 1, \"value\": 0.36693548387096775}, \"0.33070866141732286\": {\"frequency\": 1, \"value\": 0.33070866141732286}, \"0.36742424242424243\": {\"frequency\": 1, \"value\": 0.36742424242424243}, \"0.365361803084223\": {\"frequency\": 1, \"value\": 0.365361803084223}, \"0.34377967711301044\": {\"frequency\": 1, \"value\": 0.34377967711301044}, \"0.36374067699368906\": {\"frequency\": 1, \"value\": 0.36374067699368906}, \"0.2463768115942029\": {\"frequency\": 1, \"value\": 0.2463768115942029}, \"0.34679543459174716\": {\"frequency\": 1, \"value\": 0.34679543459174716}, \"0.4006568144499179\": {\"frequency\": 1, \"value\": 0.4006568144499179}, \"0.3670498084291188\": {\"frequency\": 1, \"value\": 0.3670498084291188}, \"0.2927927927927928\": {\"frequency\": 1, \"value\": 0.2927927927927928}, \"0.39345991561181437\": {\"frequency\": 1, \"value\": 0.39345991561181437}, \"0.351931330472103\": {\"frequency\": 1, \"value\": 0.351931330472103}, \"0.3950617283950617\": {\"frequency\": 1, \"value\": 0.3950617283950617}, \"0.37209302325581395\": {\"frequency\": 1, \"value\": 0.37209302325581395}, \"0.37272727272727274\": {\"frequency\": 1, \"value\": 0.37272727272727274}, \"0.3417296389588581\": {\"frequency\": 1, \"value\": 0.3417296389588581}, \"0.3710285406569736\": {\"frequency\": 1, \"value\": 0.3710285406569736}, \"0.3614457831325301\": {\"frequency\": 3, \"value\": 0.3614457831325301}, \"0.35733333333333334\": {\"frequency\": 1, \"value\": 0.35733333333333334}, \"0.34683954619124796\": {\"frequency\": 1, \"value\": 0.34683954619124796}, \"0.3776041666666667\": {\"frequency\": 1, \"value\": 0.3776041666666667}, \"0.39740820734341253\": {\"frequency\": 1, \"value\": 0.39740820734341253}, \"0.3932411674347158\": {\"frequency\": 1, \"value\": 0.3932411674347158}, \"0.3620574482297929\": {\"frequency\": 1, \"value\": 0.3620574482297929}, \"0.3359375\": {\"frequency\": 1, \"value\": 0.3359375}, \"0.33756613756613757\": {\"frequency\": 1, \"value\": 0.33756613756613757}, \"0.33728981206726016\": {\"frequency\": 1, \"value\": 0.33728981206726016}, \"0.37727272727272726\": {\"frequency\": 1, \"value\": 0.37727272727272726}, \"0.3357664233576642\": {\"frequency\": 1, \"value\": 0.3357664233576642}, \"0.36063218390804597\": {\"frequency\": 1, \"value\": 0.36063218390804597}, \"0.40668523676880225\": {\"frequency\": 1, \"value\": 0.40668523676880225}, \"0.38752556237218816\": {\"frequency\": 1, \"value\": 0.38752556237218816}, \"0.36024844720496896\": {\"frequency\": 1, \"value\": 0.36024844720496896}, \"0.3885480572597137\": {\"frequency\": 1, \"value\": 0.3885480572597137}, \"0.39178515007898895\": {\"frequency\": 1, \"value\": 0.39178515007898895}, \"0.355463347164592\": {\"frequency\": 1, \"value\": 0.355463347164592}, \"0.45185185185185184\": {\"frequency\": 1, \"value\": 0.45185185185185184}, \"0.38257575757575757\": {\"frequency\": 1, \"value\": 0.38257575757575757}, \"0.4061032863849765\": {\"frequency\": 1, \"value\": 0.4061032863849765}, \"0.38922155688622756\": {\"frequency\": 1, \"value\": 0.38922155688622756}, \"0.3300970873786408\": {\"frequency\": 1, \"value\": 0.3300970873786408}, \"0.37144585601935876\": {\"frequency\": 1, \"value\": 0.37144585601935876}, \"0.3485714285714286\": {\"frequency\": 1, \"value\": 0.3485714285714286}, \"0.35787321063394684\": {\"frequency\": 1, \"value\": 0.35787321063394684}, \"0.4068627450980392\": {\"frequency\": 1, \"value\": 0.4068627450980392}, \"0.399848828420257\": {\"frequency\": 1, \"value\": 0.399848828420257}, \"0.373767258382643\": {\"frequency\": 1, \"value\": 0.373767258382643}, \"0.362962962962963\": {\"frequency\": 1, \"value\": 0.362962962962963}, \"0.3706070287539936\": {\"frequency\": 1, \"value\": 0.3706070287539936}, \"0.29850746268656714\": {\"frequency\": 1, \"value\": 0.29850746268656714}, \"0.38666666666666666\": {\"frequency\": 1, \"value\": 0.38666666666666666}, \"0.31547619047619047\": {\"frequency\": 1, \"value\": 0.31547619047619047}, \"0.39846743295019155\": {\"frequency\": 1, \"value\": 0.39846743295019155}, \"0.4228187919463087\": {\"frequency\": 1, \"value\": 0.4228187919463087}, \"0.3878787878787879\": {\"frequency\": 1, \"value\": 0.3878787878787879}, \"0.41350210970464135\": {\"frequency\": 1, \"value\": 0.41350210970464135}, \"0.3885003885003885\": {\"frequency\": 1, \"value\": 0.3885003885003885}, \"0.37155963302752293\": {\"frequency\": 1, \"value\": 0.37155963302752293}, \"0.3890909090909091\": {\"frequency\": 1, \"value\": 0.3890909090909091}, \"0.37254901960784315\": {\"frequency\": 1, \"value\": 0.37254901960784315}, \"0.3820470717022441\": {\"frequency\": 1, \"value\": 0.3820470717022441}, \"0.37858220211161386\": {\"frequency\": 1, \"value\": 0.37858220211161386}, \"0.4072632944228275\": {\"frequency\": 1, \"value\": 0.4072632944228275}, \"0.35472370766488415\": {\"frequency\": 1, \"value\": 0.35472370766488415}, \"0.36146272855133615\": {\"frequency\": 1, \"value\": 0.36146272855133615}, \"0.36018957345971564\": {\"frequency\": 1, \"value\": 0.36018957345971564}, \"0.39791666666666664\": {\"frequency\": 1, \"value\": 0.39791666666666664}, \"0.36386138613861385\": {\"frequency\": 1, \"value\": 0.36386138613861385}, \"0.3653198653198653\": {\"frequency\": 1, \"value\": 0.3653198653198653}, \"0.3483709273182957\": {\"frequency\": 1, \"value\": 0.3483709273182957}, \"0.39381720430107525\": {\"frequency\": 1, \"value\": 0.39381720430107525}, \"0.3401360544217687\": {\"frequency\": 1, \"value\": 0.3401360544217687}, \"0.30120481927710846\": {\"frequency\": 1, \"value\": 0.30120481927710846}, \"0.31746031746031744\": {\"frequency\": 1, \"value\": 0.31746031746031744}, \"0.35795454545454547\": {\"frequency\": 1, \"value\": 0.35795454545454547}, \"0.3862928348909657\": {\"frequency\": 2, \"value\": 0.3862928348909657}, \"0.3418803418803419\": {\"frequency\": 1, \"value\": 0.3418803418803419}, \"0.36553945249597425\": {\"frequency\": 1, \"value\": 0.36553945249597425}, \"0.358974358974359\": {\"frequency\": 7, \"value\": 0.358974358974359}, \"0.3211009174311927\": {\"frequency\": 1, \"value\": 0.3211009174311927}, \"0.36140350877192984\": {\"frequency\": 1, \"value\": 0.36140350877192984}, \"0.3983739837398374\": {\"frequency\": 1, \"value\": 0.3983739837398374}, \"0.37606837606837606\": {\"frequency\": 1, \"value\": 0.37606837606837606}, \"0.35251798561151076\": {\"frequency\": 1, \"value\": 0.35251798561151076}, \"0.39316239316239315\": {\"frequency\": 1, \"value\": 0.39316239316239315}, \"0.3763020833333333\": {\"frequency\": 1, \"value\": 0.3763020833333333}, \"0.43859649122807015\": {\"frequency\": 1, \"value\": 0.43859649122807015}, \"0.3727422003284072\": {\"frequency\": 2, \"value\": 0.3727422003284072}, \"0.41025641025641024\": {\"frequency\": 1, \"value\": 0.41025641025641024}, \"0.36401673640167365\": {\"frequency\": 1, \"value\": 0.36401673640167365}, \"0.4307692307692308\": {\"frequency\": 1, \"value\": 0.4307692307692308}, \"0.352165725047081\": {\"frequency\": 1, \"value\": 0.352165725047081}, \"0.41951837769328265\": {\"frequency\": 1, \"value\": 0.41951837769328265}, \"0.3194444444444444\": {\"frequency\": 2, \"value\": 0.3194444444444444}, \"0.36089577950043067\": {\"frequency\": 1, \"value\": 0.36089577950043067}, \"0.3426356589147287\": {\"frequency\": 1, \"value\": 0.3426356589147287}, \"0.31873479318734793\": {\"frequency\": 1, \"value\": 0.31873479318734793}, \"0.33514001806684734\": {\"frequency\": 1, \"value\": 0.33514001806684734}, \"0.40515653775322286\": {\"frequency\": 1, \"value\": 0.40515653775322286}, \"0.3826754385964912\": {\"frequency\": 1, \"value\": 0.3826754385964912}, \"0.32463768115942027\": {\"frequency\": 1, \"value\": 0.32463768115942027}, \"0.4064516129032258\": {\"frequency\": 1, \"value\": 0.4064516129032258}, \"0.38480392156862747\": {\"frequency\": 1, \"value\": 0.38480392156862747}, \"0.3351206434316354\": {\"frequency\": 1, \"value\": 0.3351206434316354}, \"0.3997785160575858\": {\"frequency\": 1, \"value\": 0.3997785160575858}, \"0.369727047146402\": {\"frequency\": 1, \"value\": 0.369727047146402}, \"0.2833333333333333\": {\"frequency\": 1, \"value\": 0.2833333333333333}, \"0.36713055003313455\": {\"frequency\": 1, \"value\": 0.36713055003313455}, \"0.38162544169611307\": {\"frequency\": 1, \"value\": 0.38162544169611307}, \"0.38768115942028986\": {\"frequency\": 1, \"value\": 0.38768115942028986}, \"0.41\": {\"frequency\": 1, \"value\": 0.41}, \"0.37657657657657656\": {\"frequency\": 1, \"value\": 0.37657657657657656}, \"0.37410071942446044\": {\"frequency\": 1, \"value\": 0.37410071942446044}, \"0.4166666666666667\": {\"frequency\": 3, \"value\": 0.4166666666666667}, \"0.3393939393939394\": {\"frequency\": 1, \"value\": 0.3393939393939394}, \"0.3615023474178404\": {\"frequency\": 1, \"value\": 0.3615023474178404}, \"0.40524781341107874\": {\"frequency\": 1, \"value\": 0.40524781341107874}, \"0.2978723404255319\": {\"frequency\": 1, \"value\": 0.2978723404255319}, \"0.3351749539594843\": {\"frequency\": 1, \"value\": 0.3351749539594843}, \"0.37359098228663445\": {\"frequency\": 1, \"value\": 0.37359098228663445}, \"0.26126126126126126\": {\"frequency\": 1, \"value\": 0.26126126126126126}, \"0.41363636363636364\": {\"frequency\": 1, \"value\": 0.41363636363636364}, \"0.38396624472573837\": {\"frequency\": 1, \"value\": 0.38396624472573837}, \"0.34\": {\"frequency\": 1, \"value\": 0.34}, \"0.38529411764705884\": {\"frequency\": 1, \"value\": 0.38529411764705884}, \"0.40074906367041196\": {\"frequency\": 1, \"value\": 0.40074906367041196}, \"0.3538011695906433\": {\"frequency\": 1, \"value\": 0.3538011695906433}, \"0.3958333333333333\": {\"frequency\": 2, \"value\": 0.3958333333333333}, \"0.35203520352035206\": {\"frequency\": 1, \"value\": 0.35203520352035206}, \"0.3515358361774744\": {\"frequency\": 1, \"value\": 0.3515358361774744}, \"0.3309178743961353\": {\"frequency\": 1, \"value\": 0.3309178743961353}, \"0.3662674650698603\": {\"frequency\": 1, \"value\": 0.3662674650698603}, \"0.3125\": {\"frequency\": 1, \"value\": 0.3125}, \"0.37555555555555553\": {\"frequency\": 1, \"value\": 0.37555555555555553}, \"0.36101083032490977\": {\"frequency\": 1, \"value\": 0.36101083032490977}, \"0.35778443113772457\": {\"frequency\": 1, \"value\": 0.35778443113772457}, \"0.35706580366774543\": {\"frequency\": 1, \"value\": 0.35706580366774543}, \"0.37757437070938216\": {\"frequency\": 1, \"value\": 0.37757437070938216}, \"0.3620309050772627\": {\"frequency\": 1, \"value\": 0.3620309050772627}, \"0.4046296296296296\": {\"frequency\": 1, \"value\": 0.4046296296296296}, \"0.3512304250559284\": {\"frequency\": 1, \"value\": 0.3512304250559284}, \"0.41220238095238093\": {\"frequency\": 1, \"value\": 0.41220238095238093}, \"0.3548148148148148\": {\"frequency\": 1, \"value\": 0.3548148148148148}, \"0.30654761904761907\": {\"frequency\": 1, \"value\": 0.30654761904761907}, \"0.3617021276595745\": {\"frequency\": 1, \"value\": 0.3617021276595745}, \"0.34772182254196643\": {\"frequency\": 1, \"value\": 0.34772182254196643}, \"0.39546351084812625\": {\"frequency\": 1, \"value\": 0.39546351084812625}, \"0.3850267379679144\": {\"frequency\": 1, \"value\": 0.3850267379679144}, \"0.39944903581267216\": {\"frequency\": 1, \"value\": 0.39944903581267216}, \"0.3767258382642998\": {\"frequency\": 1, \"value\": 0.3767258382642998}, \"0.36578171091445427\": {\"frequency\": 1, \"value\": 0.36578171091445427}, \"0.3469387755102041\": {\"frequency\": 2, \"value\": 0.3469387755102041}, \"0.32525252525252524\": {\"frequency\": 1, \"value\": 0.32525252525252524}, \"0.3706214689265537\": {\"frequency\": 1, \"value\": 0.3706214689265537}, \"0.36651234567901236\": {\"frequency\": 2, \"value\": 0.36651234567901236}, \"0.42473118279569894\": {\"frequency\": 1, \"value\": 0.42473118279569894}, \"0.3837638376383764\": {\"frequency\": 1, \"value\": 0.3837638376383764}, \"0.3840877914951989\": {\"frequency\": 1, \"value\": 0.3840877914951989}, \"0.38065843621399176\": {\"frequency\": 1, \"value\": 0.38065843621399176}, \"0.3817543859649123\": {\"frequency\": 1, \"value\": 0.3817543859649123}, \"0.36909871244635195\": {\"frequency\": 1, \"value\": 0.36909871244635195}, \"0.3699421965317919\": {\"frequency\": 1, \"value\": 0.3699421965317919}, \"0.40425531914893614\": {\"frequency\": 1, \"value\": 0.40425531914893614}, \"0.3884833738848337\": {\"frequency\": 1, \"value\": 0.3884833738848337}, \"0.39501779359430605\": {\"frequency\": 1, \"value\": 0.39501779359430605}, \"0.38477366255144035\": {\"frequency\": 1, \"value\": 0.38477366255144035}, \"0.38478747203579416\": {\"frequency\": 1, \"value\": 0.38478747203579416}, \"0.35714285714285715\": {\"frequency\": 4, \"value\": 0.35714285714285715}, \"0.38164251207729466\": {\"frequency\": 1, \"value\": 0.38164251207729466}, \"0.4085648148148148\": {\"frequency\": 1, \"value\": 0.4085648148148148}, \"0.37050359712230213\": {\"frequency\": 1, \"value\": 0.37050359712230213}, \"0.38701622971285893\": {\"frequency\": 1, \"value\": 0.38701622971285893}, \"0.4201388888888889\": {\"frequency\": 1, \"value\": 0.4201388888888889}, \"0.40037243947858475\": {\"frequency\": 1, \"value\": 0.40037243947858475}, \"0.37735849056603776\": {\"frequency\": 2, \"value\": 0.37735849056603776}, \"0.3669590643274854\": {\"frequency\": 1, \"value\": 0.3669590643274854}, \"0.3526170798898072\": {\"frequency\": 1, \"value\": 0.3526170798898072}, \"0.37530864197530867\": {\"frequency\": 1, \"value\": 0.37530864197530867}, \"0.343042071197411\": {\"frequency\": 2, \"value\": 0.343042071197411}, \"0.424408014571949\": {\"frequency\": 1, \"value\": 0.424408014571949}, \"0.30632716049382713\": {\"frequency\": 1, \"value\": 0.30632716049382713}, \"0.36251920122887865\": {\"frequency\": 1, \"value\": 0.36251920122887865}, \"0.32748538011695905\": {\"frequency\": 1, \"value\": 0.32748538011695905}, \"0.3798449612403101\": {\"frequency\": 1, \"value\": 0.3798449612403101}, \"0.3578154425612053\": {\"frequency\": 1, \"value\": 0.3578154425612053}, \"0.3579059829059829\": {\"frequency\": 1, \"value\": 0.3579059829059829}, \"0.359375\": {\"frequency\": 1, \"value\": 0.359375}, \"0.3653566229985444\": {\"frequency\": 1, \"value\": 0.3653566229985444}, \"0.37003058103975534\": {\"frequency\": 1, \"value\": 0.37003058103975534}, \"0.3853658536585366\": {\"frequency\": 1, \"value\": 0.3853658536585366}, \"0.3661691542288557\": {\"frequency\": 1, \"value\": 0.3661691542288557}, \"0.3241252302025783\": {\"frequency\": 1, \"value\": 0.3241252302025783}, \"0.3507246376811594\": {\"frequency\": 2, \"value\": 0.3507246376811594}, \"0.3700440528634361\": {\"frequency\": 1, \"value\": 0.3700440528634361}, \"0.3947990543735225\": {\"frequency\": 2, \"value\": 0.3947990543735225}, \"0.41762452107279696\": {\"frequency\": 1, \"value\": 0.41762452107279696}, \"0.3909817351598174\": {\"frequency\": 1, \"value\": 0.3909817351598174}, \"0.33499170812603646\": {\"frequency\": 1, \"value\": 0.33499170812603646}, \"0.36264485344239944\": {\"frequency\": 1, \"value\": 0.36264485344239944}, \"0.3780260707635009\": {\"frequency\": 1, \"value\": 0.3780260707635009}, \"0.35815602836879434\": {\"frequency\": 1, \"value\": 0.35815602836879434}, \"0.32894736842105265\": {\"frequency\": 2, \"value\": 0.32894736842105265}, \"0.3915343915343915\": {\"frequency\": 2, \"value\": 0.3915343915343915}, \"0.36826962597616114\": {\"frequency\": 1, \"value\": 0.36826962597616114}, \"0.328537170263789\": {\"frequency\": 1, \"value\": 0.328537170263789}, \"0.26811594202898553\": {\"frequency\": 1, \"value\": 0.26811594202898553}, \"0.36563307493540054\": {\"frequency\": 1, \"value\": 0.36563307493540054}, \"0.3946932006633499\": {\"frequency\": 1, \"value\": 0.3946932006633499}, \"0.3480546792849632\": {\"frequency\": 1, \"value\": 0.3480546792849632}, \"0.3509544787077827\": {\"frequency\": 2, \"value\": 0.3509544787077827}, \"0.3722943722943723\": {\"frequency\": 1, \"value\": 0.3722943722943723}, \"0.3118279569892473\": {\"frequency\": 1, \"value\": 0.3118279569892473}, \"0.4425287356321839\": {\"frequency\": 1, \"value\": 0.4425287356321839}, \"0.4077519379844961\": {\"frequency\": 1, \"value\": 0.4077519379844961}, \"0.3782051282051282\": {\"frequency\": 1, \"value\": 0.3782051282051282}, \"0.3926940639269406\": {\"frequency\": 1, \"value\": 0.3926940639269406}, \"0.3570219966159052\": {\"frequency\": 1, \"value\": 0.3570219966159052}, \"0.3618421052631579\": {\"frequency\": 1, \"value\": 0.3618421052631579}, \"0.3882418191902385\": {\"frequency\": 1, \"value\": 0.3882418191902385}, \"0.36042136945071485\": {\"frequency\": 1, \"value\": 0.36042136945071485}, \"0.32075471698113206\": {\"frequency\": 1, \"value\": 0.32075471698113206}, \"0.3954802259887006\": {\"frequency\": 1, \"value\": 0.3954802259887006}, \"0.3992015968063872\": {\"frequency\": 1, \"value\": 0.3992015968063872}, \"0.3938053097345133\": {\"frequency\": 1, \"value\": 0.3938053097345133}, \"0.3875338753387534\": {\"frequency\": 1, \"value\": 0.3875338753387534}, \"0.36293436293436293\": {\"frequency\": 1, \"value\": 0.36293436293436293}, \"0.3252032520325203\": {\"frequency\": 1, \"value\": 0.3252032520325203}, \"0.35103244837758113\": {\"frequency\": 1, \"value\": 0.35103244837758113}, \"0.4015748031496063\": {\"frequency\": 1, \"value\": 0.4015748031496063}, \"0.36684782608695654\": {\"frequency\": 1, \"value\": 0.36684782608695654}, \"0.3960695389266818\": {\"frequency\": 1, \"value\": 0.3960695389266818}, \"0.35165794066317624\": {\"frequency\": 1, \"value\": 0.35165794066317624}, \"0.36464088397790057\": {\"frequency\": 1, \"value\": 0.36464088397790057}, \"0.3630952380952381\": {\"frequency\": 1, \"value\": 0.3630952380952381}, \"0.3717948717948718\": {\"frequency\": 1, \"value\": 0.3717948717948718}, \"0.3470319634703196\": {\"frequency\": 1, \"value\": 0.3470319634703196}, \"0.4257990867579909\": {\"frequency\": 1, \"value\": 0.4257990867579909}, \"0.38509316770186336\": {\"frequency\": 1, \"value\": 0.38509316770186336}, \"0.39473684210526316\": {\"frequency\": 1, \"value\": 0.39473684210526316}, \"0.3556298773690078\": {\"frequency\": 1, \"value\": 0.3556298773690078}, \"0.37461491065927294\": {\"frequency\": 1, \"value\": 0.37461491065927294}, \"0.3188405797101449\": {\"frequency\": 1, \"value\": 0.3188405797101449}, \"0.4179543782192789\": {\"frequency\": 1, \"value\": 0.4179543782192789}, \"0.29614325068870523\": {\"frequency\": 1, \"value\": 0.29614325068870523}, \"0.34976525821596244\": {\"frequency\": 1, \"value\": 0.34976525821596244}, \"0.3831908831908832\": {\"frequency\": 1, \"value\": 0.3831908831908832}, \"0.38794084186575656\": {\"frequency\": 1, \"value\": 0.38794084186575656}, \"0.34498834498834496\": {\"frequency\": 1, \"value\": 0.34498834498834496}, \"0.3230769230769231\": {\"frequency\": 1, \"value\": 0.3230769230769231}, \"0.37794299876084264\": {\"frequency\": 1, \"value\": 0.37794299876084264}, \"0.330567081604426\": {\"frequency\": 1, \"value\": 0.330567081604426}, \"0.34686346863468637\": {\"frequency\": 1, \"value\": 0.34686346863468637}, \"0.3670557717250324\": {\"frequency\": 1, \"value\": 0.3670557717250324}, \"0.4109848484848485\": {\"frequency\": 1, \"value\": 0.4109848484848485}, \"0.3514328808446455\": {\"frequency\": 1, \"value\": 0.3514328808446455}, \"0.3553113553113553\": {\"frequency\": 1, \"value\": 0.3553113553113553}, \"0.34057971014492755\": {\"frequency\": 1, \"value\": 0.34057971014492755}, \"0.36262203626220363\": {\"frequency\": 1, \"value\": 0.36262203626220363}, \"0.36918767507002803\": {\"frequency\": 1, \"value\": 0.36918767507002803}, \"0.3480825958702065\": {\"frequency\": 2, \"value\": 0.3480825958702065}, \"0.3546099290780142\": {\"frequency\": 1, \"value\": 0.3546099290780142}, \"0.38589211618257263\": {\"frequency\": 1, \"value\": 0.38589211618257263}, \"0.32296296296296295\": {\"frequency\": 1, \"value\": 0.32296296296296295}, \"0.3170995670995671\": {\"frequency\": 1, \"value\": 0.3170995670995671}, \"0.36981757877280264\": {\"frequency\": 1, \"value\": 0.36981757877280264}, \"0.3800959232613909\": {\"frequency\": 1, \"value\": 0.3800959232613909}, \"0.4065934065934066\": {\"frequency\": 1, \"value\": 0.4065934065934066}, \"0.34156378600823045\": {\"frequency\": 1, \"value\": 0.34156378600823045}, \"0.39800995024875624\": {\"frequency\": 1, \"value\": 0.39800995024875624}, \"0.35580524344569286\": {\"frequency\": 1, \"value\": 0.35580524344569286}, \"0.33983739837398375\": {\"frequency\": 1, \"value\": 0.33983739837398375}, \"0.3837837837837838\": {\"frequency\": 2, \"value\": 0.3837837837837838}, \"0.3967828418230563\": {\"frequency\": 1, \"value\": 0.3967828418230563}, \"0.3828470380194518\": {\"frequency\": 2, \"value\": 0.3828470380194518}, \"0.42036124794745483\": {\"frequency\": 1, \"value\": 0.42036124794745483}, \"0.31564625850340133\": {\"frequency\": 1, \"value\": 0.31564625850340133}, \"0.37092731829573933\": {\"frequency\": 1, \"value\": 0.37092731829573933}, \"0.3355263157894737\": {\"frequency\": 2, \"value\": 0.3355263157894737}, \"0.3707865168539326\": {\"frequency\": 1, \"value\": 0.3707865168539326}, \"0.40663176265270506\": {\"frequency\": 1, \"value\": 0.40663176265270506}, \"0.34036144578313254\": {\"frequency\": 1, \"value\": 0.34036144578313254}, \"0.40229885057471265\": {\"frequency\": 1, \"value\": 0.40229885057471265}, \"0.39590443686006827\": {\"frequency\": 1, \"value\": 0.39590443686006827}, \"0.3779342723004695\": {\"frequency\": 1, \"value\": 0.3779342723004695}, \"0.3793103448275862\": {\"frequency\": 1, \"value\": 0.3793103448275862}, \"0.3446418955304254\": {\"frequency\": 1, \"value\": 0.3446418955304254}, \"0.2564102564102564\": {\"frequency\": 1, \"value\": 0.2564102564102564}, \"0.3873015873015873\": {\"frequency\": 1, \"value\": 0.3873015873015873}, \"0.3466666666666667\": {\"frequency\": 1, \"value\": 0.3466666666666667}, \"0.3641456582633053\": {\"frequency\": 1, \"value\": 0.3641456582633053}, \"0.34838709677419355\": {\"frequency\": 1, \"value\": 0.34838709677419355}, \"0.4093567251461988\": {\"frequency\": 1, \"value\": 0.4093567251461988}, \"0.3684210526315789\": {\"frequency\": 1, \"value\": 0.3684210526315789}, \"0.34959349593495936\": {\"frequency\": 1, \"value\": 0.34959349593495936}, \"0.4172494172494173\": {\"frequency\": 1, \"value\": 0.4172494172494173}, \"0.3479938271604938\": {\"frequency\": 1, \"value\": 0.3479938271604938}, \"0.35209713024282563\": {\"frequency\": 1, \"value\": 0.35209713024282563}, \"0.33157894736842103\": {\"frequency\": 1, \"value\": 0.33157894736842103}, \"0.3421828908554572\": {\"frequency\": 1, \"value\": 0.3421828908554572}, \"0.3786764705882353\": {\"frequency\": 1, \"value\": 0.3786764705882353}, \"0.35361792310021195\": {\"frequency\": 1, \"value\": 0.35361792310021195}, \"0.4091954022988506\": {\"frequency\": 1, \"value\": 0.4091954022988506}, \"0.38961038961038963\": {\"frequency\": 1, \"value\": 0.38961038961038963}, \"0.36502347417840375\": {\"frequency\": 2, \"value\": 0.36502347417840375}, \"0.3386243386243386\": {\"frequency\": 1, \"value\": 0.3386243386243386}, \"0.3964401294498382\": {\"frequency\": 1, \"value\": 0.3964401294498382}, \"0.37571312143439284\": {\"frequency\": 1, \"value\": 0.37571312143439284}, \"0.3800766283524904\": {\"frequency\": 1, \"value\": 0.3800766283524904}, \"0.36936936936936937\": {\"frequency\": 2, \"value\": 0.36936936936936937}, \"0.3560606060606061\": {\"frequency\": 3, \"value\": 0.3560606060606061}, \"0.3898635477582846\": {\"frequency\": 2, \"value\": 0.3898635477582846}, \"0.38524590163934425\": {\"frequency\": 1, \"value\": 0.38524590163934425}, \"0.3855165069222577\": {\"frequency\": 1, \"value\": 0.3855165069222577}, \"0.38472519628836543\": {\"frequency\": 1, \"value\": 0.38472519628836543}, \"0.3225108225108225\": {\"frequency\": 1, \"value\": 0.3225108225108225}, \"0.30144927536231886\": {\"frequency\": 2, \"value\": 0.30144927536231886}, \"0.3783231083844581\": {\"frequency\": 1, \"value\": 0.3783231083844581}, \"0.36200716845878134\": {\"frequency\": 1, \"value\": 0.36200716845878134}, \"0.4060077519379845\": {\"frequency\": 1, \"value\": 0.4060077519379845}, \"0.37116764514024786\": {\"frequency\": 1, \"value\": 0.37116764514024786}, \"0.3897058823529412\": {\"frequency\": 1, \"value\": 0.3897058823529412}, \"0.402020202020202\": {\"frequency\": 1, \"value\": 0.402020202020202}, \"0.3402777777777778\": {\"frequency\": 2, \"value\": 0.3402777777777778}, \"0.3564625850340136\": {\"frequency\": 2, \"value\": 0.3564625850340136}, \"0.38676844783715014\": {\"frequency\": 2, \"value\": 0.38676844783715014}, \"0.3886217948717949\": {\"frequency\": 1, \"value\": 0.3886217948717949}, \"0.3902053712480253\": {\"frequency\": 1, \"value\": 0.3902053712480253}, \"0.3374233128834356\": {\"frequency\": 1, \"value\": 0.3374233128834356}, \"0.38778220451527223\": {\"frequency\": 1, \"value\": 0.38778220451527223}, \"0.344\": {\"frequency\": 1, \"value\": 0.344}, \"0.38390092879256965\": {\"frequency\": 1, \"value\": 0.38390092879256965}, \"0.3314500941619586\": {\"frequency\": 1, \"value\": 0.3314500941619586}, \"0.40058479532163743\": {\"frequency\": 1, \"value\": 0.40058479532163743}, \"0.3591549295774648\": {\"frequency\": 1, \"value\": 0.3591549295774648}, \"0.3648373983739837\": {\"frequency\": 1, \"value\": 0.3648373983739837}, \"0.385\": {\"frequency\": 1, \"value\": 0.385}, \"0.3726851851851852\": {\"frequency\": 1, \"value\": 0.3726851851851852}, \"0.31013431013431014\": {\"frequency\": 1, \"value\": 0.31013431013431014}, \"0.38555347091932457\": {\"frequency\": 1, \"value\": 0.38555347091932457}, \"0.33658536585365856\": {\"frequency\": 1, \"value\": 0.33658536585365856}, \"0.37160493827160496\": {\"frequency\": 1, \"value\": 0.37160493827160496}, \"0.38571428571428573\": {\"frequency\": 3, \"value\": 0.38571428571428573}, \"0.39019607843137255\": {\"frequency\": 1, \"value\": 0.39019607843137255}, \"0.26356589147286824\": {\"frequency\": 1, \"value\": 0.26356589147286824}, \"0.3974358974358974\": {\"frequency\": 1, \"value\": 0.3974358974358974}, \"0.3952802359882006\": {\"frequency\": 1, \"value\": 0.3952802359882006}, \"0.40476190476190477\": {\"frequency\": 1, \"value\": 0.40476190476190477}, \"0.36133333333333334\": {\"frequency\": 1, \"value\": 0.36133333333333334}, \"0.39466666666666667\": {\"frequency\": 1, \"value\": 0.39466666666666667}, \"0.3714859437751004\": {\"frequency\": 1, \"value\": 0.3714859437751004}, \"0.3091247672253259\": {\"frequency\": 1, \"value\": 0.3091247672253259}, \"0.3712121212121212\": {\"frequency\": 1, \"value\": 0.3712121212121212}, \"0.3741496598639456\": {\"frequency\": 1, \"value\": 0.3741496598639456}, \"0.37166666666666665\": {\"frequency\": 1, \"value\": 0.37166666666666665}, \"0.3838006230529595\": {\"frequency\": 1, \"value\": 0.3838006230529595}, \"0.3781094527363184\": {\"frequency\": 1, \"value\": 0.3781094527363184}, \"0.4044943820224719\": {\"frequency\": 1, \"value\": 0.4044943820224719}, \"0.34972677595628415\": {\"frequency\": 1, \"value\": 0.34972677595628415}, \"0.35833333333333334\": {\"frequency\": 1, \"value\": 0.35833333333333334}, \"0.33766233766233766\": {\"frequency\": 1, \"value\": 0.33766233766233766}, \"0.3996802557953637\": {\"frequency\": 1, \"value\": 0.3996802557953637}, \"0.38238573021181715\": {\"frequency\": 1, \"value\": 0.38238573021181715}, \"0.39711465451784356\": {\"frequency\": 1, \"value\": 0.39711465451784356}, \"0.3699186991869919\": {\"frequency\": 1, \"value\": 0.3699186991869919}, \"0.37575757575757573\": {\"frequency\": 1, \"value\": 0.37575757575757573}, \"0.4025423728813559\": {\"frequency\": 1, \"value\": 0.4025423728813559}, \"0.3475177304964539\": {\"frequency\": 2, \"value\": 0.3475177304964539}, \"0.3442982456140351\": {\"frequency\": 1, \"value\": 0.3442982456140351}, \"0.3644859813084112\": {\"frequency\": 1, \"value\": 0.3644859813084112}, \"0.37353433835845895\": {\"frequency\": 1, \"value\": 0.37353433835845895}, \"0.33604336043360433\": {\"frequency\": 1, \"value\": 0.33604336043360433}, \"0.35960591133004927\": {\"frequency\": 1, \"value\": 0.35960591133004927}, \"0.35476718403547675\": {\"frequency\": 1, \"value\": 0.35476718403547675}, \"0.3790322580645161\": {\"frequency\": 1, \"value\": 0.3790322580645161}, \"0.3443223443223443\": {\"frequency\": 1, \"value\": 0.3443223443223443}, \"0.3925318761384335\": {\"frequency\": 1, \"value\": 0.3925318761384335}, \"0.4240437158469945\": {\"frequency\": 1, \"value\": 0.4240437158469945}, \"0.33964646464646464\": {\"frequency\": 1, \"value\": 0.33964646464646464}, \"0.38181818181818183\": {\"frequency\": 1, \"value\": 0.38181818181818183}, \"0.3630573248407643\": {\"frequency\": 2, \"value\": 0.3630573248407643}, \"0.3908413205537806\": {\"frequency\": 1, \"value\": 0.3908413205537806}, \"0.35968379446640314\": {\"frequency\": 1, \"value\": 0.35968379446640314}, \"0.371571072319202\": {\"frequency\": 1, \"value\": 0.371571072319202}, \"0.3770053475935829\": {\"frequency\": 1, \"value\": 0.3770053475935829}, \"0.3559096945551129\": {\"frequency\": 1, \"value\": 0.3559096945551129}, \"0.3936651583710407\": {\"frequency\": 1, \"value\": 0.3936651583710407}, \"0.3695150115473441\": {\"frequency\": 1, \"value\": 0.3695150115473441}, \"0.38013371537726837\": {\"frequency\": 1, \"value\": 0.38013371537726837}, \"0.3807740324594257\": {\"frequency\": 1, \"value\": 0.3807740324594257}, \"0.4024691358024691\": {\"frequency\": 1, \"value\": 0.4024691358024691}, \"0.3734015345268542\": {\"frequency\": 1, \"value\": 0.3734015345268542}, \"0.3881720430107527\": {\"frequency\": 1, \"value\": 0.3881720430107527}, \"0.3839080459770115\": {\"frequency\": 1, \"value\": 0.3839080459770115}, \"0.38303030303030305\": {\"frequency\": 1, \"value\": 0.38303030303030305}, \"0.36541143654114366\": {\"frequency\": 1, \"value\": 0.36541143654114366}, \"0.38154484188698806\": {\"frequency\": 1, \"value\": 0.38154484188698806}, \"0.38922764227642276\": {\"frequency\": 1, \"value\": 0.38922764227642276}, \"0.4067796610169492\": {\"frequency\": 2, \"value\": 0.4067796610169492}, \"0.3509933774834437\": {\"frequency\": 1, \"value\": 0.3509933774834437}, \"0.3800738007380074\": {\"frequency\": 1, \"value\": 0.3800738007380074}, \"0.3789954337899543\": {\"frequency\": 1, \"value\": 0.3789954337899543}, \"0.36041666666666666\": {\"frequency\": 1, \"value\": 0.36041666666666666}, \"0.39186991869918697\": {\"frequency\": 1, \"value\": 0.39186991869918697}, \"0.39162112932604737\": {\"frequency\": 1, \"value\": 0.39162112932604737}, \"0.35323383084577115\": {\"frequency\": 2, \"value\": 0.35323383084577115}, \"0.33541666666666664\": {\"frequency\": 1, \"value\": 0.33541666666666664}, \"0.3933333333333333\": {\"frequency\": 1, \"value\": 0.3933333333333333}, \"0.3617339312406577\": {\"frequency\": 1, \"value\": 0.3617339312406577}, \"0.3642611683848797\": {\"frequency\": 3, \"value\": 0.3642611683848797}, \"0.3583138173302108\": {\"frequency\": 1, \"value\": 0.3583138173302108}, \"0.3757062146892655\": {\"frequency\": 1, \"value\": 0.3757062146892655}, \"0.31794871794871793\": {\"frequency\": 1, \"value\": 0.31794871794871793}, \"0.36716791979949875\": {\"frequency\": 1, \"value\": 0.36716791979949875}, \"0.32941176470588235\": {\"frequency\": 1, \"value\": 0.32941176470588235}, \"0.38101319710515114\": {\"frequency\": 1, \"value\": 0.38101319710515114}, \"0.38320864505403157\": {\"frequency\": 1, \"value\": 0.38320864505403157}, \"0.3221476510067114\": {\"frequency\": 1, \"value\": 0.3221476510067114}, \"0.3516483516483517\": {\"frequency\": 1, \"value\": 0.3516483516483517}, \"0.35555555555555557\": {\"frequency\": 1, \"value\": 0.35555555555555557}, \"0.36199095022624433\": {\"frequency\": 1, \"value\": 0.36199095022624433}, \"0.3660130718954248\": {\"frequency\": 1, \"value\": 0.3660130718954248}, \"0.37104072398190047\": {\"frequency\": 1, \"value\": 0.37104072398190047}, \"0.3837493881546745\": {\"frequency\": 1, \"value\": 0.3837493881546745}, \"0.3790849673202614\": {\"frequency\": 1, \"value\": 0.3790849673202614}, \"0.3445692883895131\": {\"frequency\": 1, \"value\": 0.3445692883895131}, \"0.356234096692112\": {\"frequency\": 1, \"value\": 0.356234096692112}, \"0.39215686274509803\": {\"frequency\": 1, \"value\": 0.39215686274509803}, \"0.3640552995391705\": {\"frequency\": 1, \"value\": 0.3640552995391705}, \"0.3768613974799542\": {\"frequency\": 1, \"value\": 0.3768613974799542}, \"0.3743781094527363\": {\"frequency\": 1, \"value\": 0.3743781094527363}, \"0.3857271906052394\": {\"frequency\": 1, \"value\": 0.3857271906052394}, \"0.36255707762557077\": {\"frequency\": 1, \"value\": 0.36255707762557077}, \"0.32448377581120946\": {\"frequency\": 1, \"value\": 0.32448377581120946}, \"0.38407960199004976\": {\"frequency\": 1, \"value\": 0.38407960199004976}, \"0.37383177570093457\": {\"frequency\": 1, \"value\": 0.37383177570093457}, \"0.3662182361733931\": {\"frequency\": 1, \"value\": 0.3662182361733931}, \"0.3948481353325644\": {\"frequency\": 1, \"value\": 0.3948481353325644}, \"0.36796536796536794\": {\"frequency\": 1, \"value\": 0.36796536796536794}, \"0.38227513227513227\": {\"frequency\": 1, \"value\": 0.38227513227513227}, \"0.4057084607543323\": {\"frequency\": 1, \"value\": 0.4057084607543323}, \"0.3656821378340366\": {\"frequency\": 2, \"value\": 0.3656821378340366}, \"0.3682373472949389\": {\"frequency\": 1, \"value\": 0.3682373472949389}, \"0.3112244897959184\": {\"frequency\": 1, \"value\": 0.3112244897959184}, \"0.3224932249322493\": {\"frequency\": 1, \"value\": 0.3224932249322493}, \"0.3357142857142857\": {\"frequency\": 1, \"value\": 0.3357142857142857}, \"0.3556581986143187\": {\"frequency\": 1, \"value\": 0.3556581986143187}, \"0.3854166666666667\": {\"frequency\": 1, \"value\": 0.3854166666666667}, \"0.3872832369942196\": {\"frequency\": 1, \"value\": 0.3872832369942196}, \"0.40117994100294985\": {\"frequency\": 1, \"value\": 0.40117994100294985}, \"0.4014336917562724\": {\"frequency\": 1, \"value\": 0.4014336917562724}, \"0.35233918128654973\": {\"frequency\": 1, \"value\": 0.35233918128654973}, \"0.39322033898305087\": {\"frequency\": 1, \"value\": 0.39322033898305087}, \"0.4031339031339031\": {\"frequency\": 1, \"value\": 0.4031339031339031}, \"0.3581780538302277\": {\"frequency\": 1, \"value\": 0.3581780538302277}, \"0.36009732360097324\": {\"frequency\": 1, \"value\": 0.36009732360097324}, \"0.3732303732303732\": {\"frequency\": 1, \"value\": 0.3732303732303732}, \"0.3480392156862745\": {\"frequency\": 3, \"value\": 0.3480392156862745}, \"0.38967136150234744\": {\"frequency\": 2, \"value\": 0.38967136150234744}, \"0.3687150837988827\": {\"frequency\": 1, \"value\": 0.3687150837988827}, \"0.39299610894941633\": {\"frequency\": 1, \"value\": 0.39299610894941633}, \"0.3595238095238095\": {\"frequency\": 1, \"value\": 0.3595238095238095}, \"0.36538461538461536\": {\"frequency\": 1, \"value\": 0.36538461538461536}, \"0.34075907590759075\": {\"frequency\": 1, \"value\": 0.34075907590759075}, \"0.3671933784800602\": {\"frequency\": 1, \"value\": 0.3671933784800602}, \"0.3250414593698176\": {\"frequency\": 1, \"value\": 0.3250414593698176}, \"0.37349397590361444\": {\"frequency\": 2, \"value\": 0.37349397590361444}, \"0.3976190476190476\": {\"frequency\": 1, \"value\": 0.3976190476190476}, \"0.4146981627296588\": {\"frequency\": 1, \"value\": 0.4146981627296588}, \"0.39464882943143814\": {\"frequency\": 1, \"value\": 0.39464882943143814}, \"0.3611111111111111\": {\"frequency\": 2, \"value\": 0.3611111111111111}, \"0.367816091954023\": {\"frequency\": 2, \"value\": 0.367816091954023}, \"0.379746835443038\": {\"frequency\": 1, \"value\": 0.379746835443038}, \"0.3489208633093525\": {\"frequency\": 1, \"value\": 0.3489208633093525}, \"0.39937106918238996\": {\"frequency\": 1, \"value\": 0.39937106918238996}, \"0.3495238095238095\": {\"frequency\": 1, \"value\": 0.3495238095238095}, \"0.37369207772795215\": {\"frequency\": 1, \"value\": 0.37369207772795215}, \"0.37703252032520324\": {\"frequency\": 1, \"value\": 0.37703252032520324}, \"0.39361702127659576\": {\"frequency\": 1, \"value\": 0.39361702127659576}, \"0.3862433862433862\": {\"frequency\": 1, \"value\": 0.3862433862433862}, \"0.3587570621468927\": {\"frequency\": 3, \"value\": 0.3587570621468927}, \"0.3638676844783715\": {\"frequency\": 1, \"value\": 0.3638676844783715}, \"0.37831603229527105\": {\"frequency\": 1, \"value\": 0.37831603229527105}, \"0.39485458612975394\": {\"frequency\": 1, \"value\": 0.39485458612975394}, \"0.367003367003367\": {\"frequency\": 1, \"value\": 0.367003367003367}, \"0.3766434648105182\": {\"frequency\": 1, \"value\": 0.3766434648105182}, \"0.3817109144542773\": {\"frequency\": 1, \"value\": 0.3817109144542773}, \"0.3756003842459174\": {\"frequency\": 1, \"value\": 0.3756003842459174}, \"0.3418079096045198\": {\"frequency\": 1, \"value\": 0.3418079096045198}, \"0.4069529652351738\": {\"frequency\": 1, \"value\": 0.4069529652351738}, \"0.3765932792584009\": {\"frequency\": 1, \"value\": 0.3765932792584009}, \"0.4314214463840399\": {\"frequency\": 1, \"value\": 0.4314214463840399}, \"0.3659832953682612\": {\"frequency\": 1, \"value\": 0.3659832953682612}, \"0.33775811209439527\": {\"frequency\": 2, \"value\": 0.33775811209439527}, \"0.35635964912280704\": {\"frequency\": 1, \"value\": 0.35635964912280704}, \"0.33024691358024694\": {\"frequency\": 1, \"value\": 0.33024691358024694}, \"0.4280078895463511\": {\"frequency\": 1, \"value\": 0.4280078895463511}, \"0.38288920056100983\": {\"frequency\": 1, \"value\": 0.38288920056100983}, \"0.3718518518518519\": {\"frequency\": 1, \"value\": 0.3718518518518519}, \"0.37924151696606784\": {\"frequency\": 1, \"value\": 0.37924151696606784}, \"0.4235517568850902\": {\"frequency\": 1, \"value\": 0.4235517568850902}, \"0.37557755775577556\": {\"frequency\": 1, \"value\": 0.37557755775577556}, \"0.3630705394190871\": {\"frequency\": 1, \"value\": 0.3630705394190871}, \"0.3871196036801132\": {\"frequency\": 1, \"value\": 0.3871196036801132}, \"0.40955631399317405\": {\"frequency\": 1, \"value\": 0.40955631399317405}, \"0.3464566929133858\": {\"frequency\": 1, \"value\": 0.3464566929133858}, \"0.3672603901611535\": {\"frequency\": 1, \"value\": 0.3672603901611535}, \"0.4235474006116208\": {\"frequency\": 1, \"value\": 0.4235474006116208}, \"0.3250230840258541\": {\"frequency\": 1, \"value\": 0.3250230840258541}, \"0.3961352657004831\": {\"frequency\": 1, \"value\": 0.3961352657004831}, \"0.32398753894080995\": {\"frequency\": 1, \"value\": 0.32398753894080995}, \"0.3686868686868687\": {\"frequency\": 1, \"value\": 0.3686868686868687}, \"0.37587168758716877\": {\"frequency\": 1, \"value\": 0.37587168758716877}, \"0.39191919191919194\": {\"frequency\": 2, \"value\": 0.39191919191919194}, \"0.3618721461187215\": {\"frequency\": 1, \"value\": 0.3618721461187215}, \"0.35697399527186763\": {\"frequency\": 1, \"value\": 0.35697399527186763}, \"0.37800687285223367\": {\"frequency\": 1, \"value\": 0.37800687285223367}, \"0.3697916666666667\": {\"frequency\": 3, \"value\": 0.3697916666666667}, \"0.3638095238095238\": {\"frequency\": 1, \"value\": 0.3638095238095238}, \"0.32604735883424407\": {\"frequency\": 1, \"value\": 0.32604735883424407}, \"0.36895674300254455\": {\"frequency\": 1, \"value\": 0.36895674300254455}, \"0.3772609819121447\": {\"frequency\": 1, \"value\": 0.3772609819121447}, \"0.3784860557768924\": {\"frequency\": 1, \"value\": 0.3784860557768924}, \"0.3785919540229885\": {\"frequency\": 1, \"value\": 0.3785919540229885}, \"0.3944603629417383\": {\"frequency\": 1, \"value\": 0.3944603629417383}, \"0.36248415716096327\": {\"frequency\": 1, \"value\": 0.36248415716096327}, \"0.374031007751938\": {\"frequency\": 1, \"value\": 0.374031007751938}, \"0.37937384898710863\": {\"frequency\": 1, \"value\": 0.37937384898710863}, \"0.351981351981352\": {\"frequency\": 1, \"value\": 0.351981351981352}, \"0.35964912280701755\": {\"frequency\": 2, \"value\": 0.35964912280701755}, \"0.3837084673097535\": {\"frequency\": 1, \"value\": 0.3837084673097535}, \"0.3584029712163417\": {\"frequency\": 1, \"value\": 0.3584029712163417}, \"0.36893203883495146\": {\"frequency\": 1, \"value\": 0.36893203883495146}, \"0.40899795501022496\": {\"frequency\": 1, \"value\": 0.40899795501022496}, \"0.37646001796945194\": {\"frequency\": 1, \"value\": 0.37646001796945194}, \"0.3749287749287749\": {\"frequency\": 1, \"value\": 0.3749287749287749}, \"0.3795045045045045\": {\"frequency\": 1, \"value\": 0.3795045045045045}, \"0.3163265306122449\": {\"frequency\": 1, \"value\": 0.3163265306122449}, \"0.3735224586288416\": {\"frequency\": 1, \"value\": 0.3735224586288416}, \"0.36341756919374246\": {\"frequency\": 1, \"value\": 0.36341756919374246}, \"0.32280701754385965\": {\"frequency\": 1, \"value\": 0.32280701754385965}, \"0.37969094922737306\": {\"frequency\": 1, \"value\": 0.37969094922737306}, \"0.28735632183908044\": {\"frequency\": 1, \"value\": 0.28735632183908044}, \"0.33760683760683763\": {\"frequency\": 2, \"value\": 0.33760683760683763}, \"0.36103151862464183\": {\"frequency\": 1, \"value\": 0.36103151862464183}, \"0.35185185185185186\": {\"frequency\": 2, \"value\": 0.35185185185185186}, \"0.4022222222222222\": {\"frequency\": 1, \"value\": 0.4022222222222222}, \"0.3815142576204523\": {\"frequency\": 1, \"value\": 0.3815142576204523}, \"0.3672316384180791\": {\"frequency\": 1, \"value\": 0.3672316384180791}, \"0.4125\": {\"frequency\": 1, \"value\": 0.4125}, \"0.37777777777777777\": {\"frequency\": 1, \"value\": 0.37777777777777777}, \"0.33611111111111114\": {\"frequency\": 1, \"value\": 0.33611111111111114}, \"0.32437275985663083\": {\"frequency\": 1, \"value\": 0.32437275985663083}, \"0.4262295081967213\": {\"frequency\": 1, \"value\": 0.4262295081967213}, \"0.381646030589949\": {\"frequency\": 1, \"value\": 0.381646030589949}, \"0.3668903803131991\": {\"frequency\": 1, \"value\": 0.3668903803131991}, \"0.39447731755424065\": {\"frequency\": 2, \"value\": 0.39447731755424065}, \"0.38317757009345793\": {\"frequency\": 1, \"value\": 0.38317757009345793}, \"0.3932748538011696\": {\"frequency\": 1, \"value\": 0.3932748538011696}, \"0.39154929577464787\": {\"frequency\": 1, \"value\": 0.39154929577464787}, \"0.38796155791603437\": {\"frequency\": 1, \"value\": 0.38796155791603437}, \"0.38229166666666664\": {\"frequency\": 1, \"value\": 0.38229166666666664}, \"0.3596014492753623\": {\"frequency\": 1, \"value\": 0.3596014492753623}, \"0.36859781696053734\": {\"frequency\": 1, \"value\": 0.36859781696053734}, \"0.4049586776859504\": {\"frequency\": 1, \"value\": 0.4049586776859504}, \"0.3488372093023256\": {\"frequency\": 1, \"value\": 0.3488372093023256}, \"0.387434554973822\": {\"frequency\": 1, \"value\": 0.387434554973822}, \"0.3717245581962218\": {\"frequency\": 2, \"value\": 0.3717245581962218}, \"0.38738738738738737\": {\"frequency\": 2, \"value\": 0.38738738738738737}, \"0.367612293144208\": {\"frequency\": 1, \"value\": 0.367612293144208}, \"0.37286324786324787\": {\"frequency\": 1, \"value\": 0.37286324786324787}, \"0.39416058394160586\": {\"frequency\": 1, \"value\": 0.39416058394160586}, \"0.3647619047619048\": {\"frequency\": 1, \"value\": 0.3647619047619048}, \"0.3853727144866385\": {\"frequency\": 1, \"value\": 0.3853727144866385}, \"0.3736111111111111\": {\"frequency\": 1, \"value\": 0.3736111111111111}, \"0.34455128205128205\": {\"frequency\": 1, \"value\": 0.34455128205128205}, \"0.29901960784313725\": {\"frequency\": 1, \"value\": 0.29901960784313725}, \"0.3637901861252115\": {\"frequency\": 1, \"value\": 0.3637901861252115}, \"0.3763440860215054\": {\"frequency\": 1, \"value\": 0.3763440860215054}, \"0.37886178861788616\": {\"frequency\": 1, \"value\": 0.37886178861788616}, \"0.3376251788268956\": {\"frequency\": 1, \"value\": 0.3376251788268956}, \"0.38266666666666665\": {\"frequency\": 2, \"value\": 0.38266666666666665}, \"0.37761377613776137\": {\"frequency\": 1, \"value\": 0.37761377613776137}, \"0.37037037037037035\": {\"frequency\": 4, \"value\": 0.37037037037037035}, \"0.3645833333333333\": {\"frequency\": 4, \"value\": 0.3645833333333333}, \"0.3389355742296919\": {\"frequency\": 1, \"value\": 0.3389355742296919}, \"0.36855036855036855\": {\"frequency\": 1, \"value\": 0.36855036855036855}, \"0.35947712418300654\": {\"frequency\": 1, \"value\": 0.35947712418300654}, \"0.3775593775593776\": {\"frequency\": 1, \"value\": 0.3775593775593776}, \"0.3645083932853717\": {\"frequency\": 3, \"value\": 0.3645083932853717}, \"0.34210526315789475\": {\"frequency\": 2, \"value\": 0.34210526315789475}, \"0.30450733752620546\": {\"frequency\": 1, \"value\": 0.30450733752620546}, \"0.29341963322545844\": {\"frequency\": 1, \"value\": 0.29341963322545844}, \"0.31601731601731603\": {\"frequency\": 1, \"value\": 0.31601731601731603}, \"0.4025157232704403\": {\"frequency\": 3, \"value\": 0.4025157232704403}, \"0.3930905695611578\": {\"frequency\": 1, \"value\": 0.3930905695611578}, \"0.396078431372549\": {\"frequency\": 1, \"value\": 0.396078431372549}, \"0.36488340192043894\": {\"frequency\": 1, \"value\": 0.36488340192043894}, \"0.3382113821138211\": {\"frequency\": 1, \"value\": 0.3382113821138211}, \"0.3617283950617284\": {\"frequency\": 1, \"value\": 0.3617283950617284}, \"0.35507246376811596\": {\"frequency\": 1, \"value\": 0.35507246376811596}, \"0.3972602739726027\": {\"frequency\": 1, \"value\": 0.3972602739726027}, \"0.3886292834890966\": {\"frequency\": 1, \"value\": 0.3886292834890966}, \"0.3878739740534816\": {\"frequency\": 1, \"value\": 0.3878739740534816}, \"0.36218905472636814\": {\"frequency\": 1, \"value\": 0.36218905472636814}, \"0.36944444444444446\": {\"frequency\": 1, \"value\": 0.36944444444444446}, \"0.37377690802348335\": {\"frequency\": 1, \"value\": 0.37377690802348335}, \"0.36467751657625075\": {\"frequency\": 1, \"value\": 0.36467751657625075}, \"0.3522012578616352\": {\"frequency\": 1, \"value\": 0.3522012578616352}, \"0.36504253673627224\": {\"frequency\": 1, \"value\": 0.36504253673627224}, \"0.3691460055096419\": {\"frequency\": 2, \"value\": 0.3691460055096419}, \"0.34893617021276596\": {\"frequency\": 1, \"value\": 0.34893617021276596}, \"0.39849624060150374\": {\"frequency\": 1, \"value\": 0.39849624060150374}, \"0.3263888888888889\": {\"frequency\": 1, \"value\": 0.3263888888888889}, \"0.37089201877934275\": {\"frequency\": 3, \"value\": 0.37089201877934275}, \"0.3663133097762073\": {\"frequency\": 1, \"value\": 0.3663133097762073}, \"0.36386292834890965\": {\"frequency\": 1, \"value\": 0.36386292834890965}, \"0.38202247191011235\": {\"frequency\": 1, \"value\": 0.38202247191011235}, \"0.4444444444444444\": {\"frequency\": 1, \"value\": 0.4444444444444444}, \"0.38703140830800403\": {\"frequency\": 1, \"value\": 0.38703140830800403}, \"0.38425925925925924\": {\"frequency\": 1, \"value\": 0.38425925925925924}, \"0.3602693602693603\": {\"frequency\": 1, \"value\": 0.3602693602693603}, \"0.3816793893129771\": {\"frequency\": 1, \"value\": 0.3816793893129771}, \"0.391304347826087\": {\"frequency\": 1, \"value\": 0.391304347826087}, \"0.3448275862068966\": {\"frequency\": 2, \"value\": 0.3448275862068966}, \"0.39767932489451474\": {\"frequency\": 1, \"value\": 0.39767932489451474}, \"0.3448940269749518\": {\"frequency\": 1, \"value\": 0.3448940269749518}, \"0.35939643347050754\": {\"frequency\": 1, \"value\": 0.35939643347050754}, \"0.3544395924308588\": {\"frequency\": 1, \"value\": 0.3544395924308588}, \"0.36036036036036034\": {\"frequency\": 1, \"value\": 0.36036036036036034}, \"0.37327823691460055\": {\"frequency\": 1, \"value\": 0.37327823691460055}, \"0.41575757575757577\": {\"frequency\": 1, \"value\": 0.41575757575757577}, \"0.3550446998722861\": {\"frequency\": 1, \"value\": 0.3550446998722861}, \"0.3340857787810384\": {\"frequency\": 1, \"value\": 0.3340857787810384}, \"0.3424036281179138\": {\"frequency\": 1, \"value\": 0.3424036281179138}, \"0.3508771929824561\": {\"frequency\": 2, \"value\": 0.3508771929824561}, \"0.3633440514469453\": {\"frequency\": 1, \"value\": 0.3633440514469453}, \"0.3503787878787879\": {\"frequency\": 1, \"value\": 0.3503787878787879}, \"0.39705882352941174\": {\"frequency\": 1, \"value\": 0.39705882352941174}, \"0.3949820788530466\": {\"frequency\": 1, \"value\": 0.3949820788530466}, \"0.40714285714285714\": {\"frequency\": 1, \"value\": 0.40714285714285714}, \"0.38447488584474887\": {\"frequency\": 1, \"value\": 0.38447488584474887}, \"0.3213429256594724\": {\"frequency\": 1, \"value\": 0.3213429256594724}, \"0.36374269005847953\": {\"frequency\": 1, \"value\": 0.36374269005847953}, \"0.3333333333333333\": {\"frequency\": 18, \"value\": 0.3333333333333333}, \"0.3683683683683684\": {\"frequency\": 1, \"value\": 0.3683683683683684}, \"0.35336194563662376\": {\"frequency\": 1, \"value\": 0.35336194563662376}, \"0.3919925512104283\": {\"frequency\": 1, \"value\": 0.3919925512104283}, \"0.3541666666666667\": {\"frequency\": 2, \"value\": 0.3541666666666667}, \"0.38619676945668135\": {\"frequency\": 1, \"value\": 0.38619676945668135}, \"0.3559870550161812\": {\"frequency\": 1, \"value\": 0.3559870550161812}, \"0.38082437275985664\": {\"frequency\": 1, \"value\": 0.38082437275985664}, \"0.3742690058479532\": {\"frequency\": 1, \"value\": 0.3742690058479532}, \"0.3673036093418259\": {\"frequency\": 1, \"value\": 0.3673036093418259}, \"0.37206085753803597\": {\"frequency\": 1, \"value\": 0.37206085753803597}, \"0.386411889596603\": {\"frequency\": 1, \"value\": 0.386411889596603}, \"0.3778501628664495\": {\"frequency\": 1, \"value\": 0.3778501628664495}, \"0.3713646532438479\": {\"frequency\": 1, \"value\": 0.3713646532438479}, \"0.38075017692852087\": {\"frequency\": 1, \"value\": 0.38075017692852087}, \"0.36049382716049383\": {\"frequency\": 1, \"value\": 0.36049382716049383}, \"0.4041184041184041\": {\"frequency\": 1, \"value\": 0.4041184041184041}, \"0.35207496653279785\": {\"frequency\": 1, \"value\": 0.35207496653279785}, \"0.36271186440677966\": {\"frequency\": 1, \"value\": 0.36271186440677966}, \"0.3401826484018265\": {\"frequency\": 1, \"value\": 0.3401826484018265}, \"0.2928802588996764\": {\"frequency\": 1, \"value\": 0.2928802588996764}, \"0.37185660781166396\": {\"frequency\": 1, \"value\": 0.37185660781166396}, \"0.40717299578059074\": {\"frequency\": 1, \"value\": 0.40717299578059074}, \"0.374189364461738\": {\"frequency\": 1, \"value\": 0.374189364461738}, \"0.4037940379403794\": {\"frequency\": 1, \"value\": 0.4037940379403794}, \"0.36236559139784946\": {\"frequency\": 1, \"value\": 0.36236559139784946}, \"0.3858974358974359\": {\"frequency\": 1, \"value\": 0.3858974358974359}, \"0.3554083885209713\": {\"frequency\": 1, \"value\": 0.3554083885209713}, \"0.328042328042328\": {\"frequency\": 1, \"value\": 0.328042328042328}, \"0.3721461187214612\": {\"frequency\": 1, \"value\": 0.3721461187214612}, \"0.40942028985507245\": {\"frequency\": 1, \"value\": 0.40942028985507245}, \"0.39225589225589225\": {\"frequency\": 1, \"value\": 0.39225589225589225}, \"0.40069686411149824\": {\"frequency\": 1, \"value\": 0.40069686411149824}, \"0.3154121863799283\": {\"frequency\": 1, \"value\": 0.3154121863799283}, \"0.37894736842105264\": {\"frequency\": 2, \"value\": 0.37894736842105264}, \"0.39572192513368987\": {\"frequency\": 1, \"value\": 0.39572192513368987}, \"0.3815261044176707\": {\"frequency\": 2, \"value\": 0.3815261044176707}, \"0.39344262295081966\": {\"frequency\": 1, \"value\": 0.39344262295081966}, \"0.373015873015873\": {\"frequency\": 1, \"value\": 0.373015873015873}, \"0.3427230046948357\": {\"frequency\": 1, \"value\": 0.3427230046948357}, \"0.40480708412397215\": {\"frequency\": 1, \"value\": 0.40480708412397215}, \"0.39355742296918766\": {\"frequency\": 1, \"value\": 0.39355742296918766}, \"0.36486486486486486\": {\"frequency\": 1, \"value\": 0.36486486486486486}, \"0.3282828282828283\": {\"frequency\": 1, \"value\": 0.3282828282828283}, \"0.3378226711560045\": {\"frequency\": 1, \"value\": 0.3378226711560045}, \"0.3148148148148148\": {\"frequency\": 1, \"value\": 0.3148148148148148}, \"0.40497076023391815\": {\"frequency\": 1, \"value\": 0.40497076023391815}, \"0.3177570093457944\": {\"frequency\": 2, \"value\": 0.3177570093457944}, \"0.3821907013396375\": {\"frequency\": 1, \"value\": 0.3821907013396375}, \"0.3832199546485261\": {\"frequency\": 2, \"value\": 0.3832199546485261}, \"0.3723577235772358\": {\"frequency\": 1, \"value\": 0.3723577235772358}, \"0.3567708333333333\": {\"frequency\": 2, \"value\": 0.3567708333333333}, \"0.3385416666666667\": {\"frequency\": 1, \"value\": 0.3385416666666667}, \"0.37333333333333335\": {\"frequency\": 2, \"value\": 0.37333333333333335}, \"0.4004127966976264\": {\"frequency\": 1, \"value\": 0.4004127966976264}, \"0.3912568306010929\": {\"frequency\": 1, \"value\": 0.3912568306010929}, \"0.3470790378006873\": {\"frequency\": 1, \"value\": 0.3470790378006873}, \"0.366120218579235\": {\"frequency\": 1, \"value\": 0.366120218579235}, \"0.3455964325529543\": {\"frequency\": 1, \"value\": 0.3455964325529543}}, \"mean\": 0.3671807012189781}, \"selected_variable\": {\"name\": [\"<SArray>\"], \"dtype\": \"float\", \"view_component\": \"Numeric\", \"view_file\": \"sarray\", \"descriptives\": {\"rows\": 1575}, \"type\": \"SArray\", \"view_components\": [\"Numeric\", \"Categorical\"]}, \"histogram\": {\"progress\": 1.0, \"histogram\": {\"max\": 0.4841891384260379, \"bins\": [5, 5, 32, 66, 175, 376, 457, 297, 89, 14, 3, 1], \"min\": 0.2448910622769594}, \"min\": 0.2463768115942029, \"complete\": 1, \"max\": 0.4824561403508772}}, e);\n",
       "                });\n",
       "            })();\n",
       "        "
      ]
     },
     "metadata": {},
     "output_type": "display_data"
    }
   ],
   "source": [
    "graphlab.canvas.set_target('ipynb')\n",
    "mergedTbl1['Gene_GC'].show()"
   ]
  },
  {
   "cell_type": "code",
   "execution_count": null,
   "metadata": {
    "collapsed": true
   },
   "outputs": [],
   "source": []
  },
  {
   "cell_type": "code",
   "execution_count": 59,
   "metadata": {
    "collapsed": false
   },
   "outputs": [
    {
     "ename": "ImportError",
     "evalue": "No module named Bio",
     "output_type": "error",
     "traceback": [
      "\u001b[1;31m---------------------------------------------------------------------------\u001b[0m",
      "\u001b[1;31mImportError\u001b[0m                               Traceback (most recent call last)",
      "\u001b[1;32m<ipython-input-59-8f71aa6c445c>\u001b[0m in \u001b[0;36m<module>\u001b[1;34m()\u001b[0m\n\u001b[1;32m----> 1\u001b[1;33m \u001b[1;32mfrom\u001b[0m \u001b[0mBio\u001b[0m \u001b[1;32mimport\u001b[0m \u001b[0mSeqIO\u001b[0m\u001b[1;33m\u001b[0m\u001b[0m\n\u001b[0m",
      "\u001b[1;31mImportError\u001b[0m: No module named Bio"
     ]
    }
   ],
   "source": [
    "from Bio import SeqIO"
   ]
  },
  {
   "cell_type": "code",
   "execution_count": null,
   "metadata": {
    "collapsed": true
   },
   "outputs": [],
   "source": []
  },
  {
   "cell_type": "code",
   "execution_count": null,
   "metadata": {
    "collapsed": true
   },
   "outputs": [],
   "source": []
  },
  {
   "cell_type": "code",
   "execution_count": null,
   "metadata": {
    "collapsed": true
   },
   "outputs": [],
   "source": []
  },
  {
   "cell_type": "code",
   "execution_count": null,
   "metadata": {
    "collapsed": true
   },
   "outputs": [],
   "source": []
  },
  {
   "cell_type": "code",
   "execution_count": null,
   "metadata": {
    "collapsed": true
   },
   "outputs": [],
   "source": []
  },
  {
   "cell_type": "code",
   "execution_count": null,
   "metadata": {
    "collapsed": true
   },
   "outputs": [],
   "source": []
  },
  {
   "cell_type": "code",
   "execution_count": 5,
   "metadata": {
    "collapsed": false
   },
   "outputs": [
    {
     "data": {
      "text/html": [
       "<div style=\"max-height:1000px;max-width:1500px;overflow:auto;\"><table frame=\"box\" rules=\"cols\">\n",
       "    <tr>\n",
       "        <th style=\"padding-left: 1em; padding-right: 1em; text-align: center\">First Name</th>\n",
       "        <th style=\"padding-left: 1em; padding-right: 1em; text-align: center\">Last Name</th>\n",
       "        <th style=\"padding-left: 1em; padding-right: 1em; text-align: center\">Country</th>\n",
       "        <th style=\"padding-left: 1em; padding-right: 1em; text-align: center\">age</th>\n",
       "    </tr>\n",
       "    <tr>\n",
       "        <td style=\"padding-left: 1em; padding-right: 1em; text-align: center; vertical-align: top\">Bob</td>\n",
       "        <td style=\"padding-left: 1em; padding-right: 1em; text-align: center; vertical-align: top\">Smith</td>\n",
       "        <td style=\"padding-left: 1em; padding-right: 1em; text-align: center; vertical-align: top\">United States</td>\n",
       "        <td style=\"padding-left: 1em; padding-right: 1em; text-align: center; vertical-align: top\">24</td>\n",
       "    </tr>\n",
       "    <tr>\n",
       "        <td style=\"padding-left: 1em; padding-right: 1em; text-align: center; vertical-align: top\">Alice</td>\n",
       "        <td style=\"padding-left: 1em; padding-right: 1em; text-align: center; vertical-align: top\">Williams</td>\n",
       "        <td style=\"padding-left: 1em; padding-right: 1em; text-align: center; vertical-align: top\">Canada</td>\n",
       "        <td style=\"padding-left: 1em; padding-right: 1em; text-align: center; vertical-align: top\">23</td>\n",
       "    </tr>\n",
       "    <tr>\n",
       "        <td style=\"padding-left: 1em; padding-right: 1em; text-align: center; vertical-align: top\">Malcolm</td>\n",
       "        <td style=\"padding-left: 1em; padding-right: 1em; text-align: center; vertical-align: top\">Jone</td>\n",
       "        <td style=\"padding-left: 1em; padding-right: 1em; text-align: center; vertical-align: top\">England</td>\n",
       "        <td style=\"padding-left: 1em; padding-right: 1em; text-align: center; vertical-align: top\">22</td>\n",
       "    </tr>\n",
       "    <tr>\n",
       "        <td style=\"padding-left: 1em; padding-right: 1em; text-align: center; vertical-align: top\">Felix</td>\n",
       "        <td style=\"padding-left: 1em; padding-right: 1em; text-align: center; vertical-align: top\">Brown</td>\n",
       "        <td style=\"padding-left: 1em; padding-right: 1em; text-align: center; vertical-align: top\">USA</td>\n",
       "        <td style=\"padding-left: 1em; padding-right: 1em; text-align: center; vertical-align: top\">23</td>\n",
       "    </tr>\n",
       "    <tr>\n",
       "        <td style=\"padding-left: 1em; padding-right: 1em; text-align: center; vertical-align: top\">Alex</td>\n",
       "        <td style=\"padding-left: 1em; padding-right: 1em; text-align: center; vertical-align: top\">Cooper</td>\n",
       "        <td style=\"padding-left: 1em; padding-right: 1em; text-align: center; vertical-align: top\">Poland</td>\n",
       "        <td style=\"padding-left: 1em; padding-right: 1em; text-align: center; vertical-align: top\">23</td>\n",
       "    </tr>\n",
       "    <tr>\n",
       "        <td style=\"padding-left: 1em; padding-right: 1em; text-align: center; vertical-align: top\">Tod</td>\n",
       "        <td style=\"padding-left: 1em; padding-right: 1em; text-align: center; vertical-align: top\">Campbell</td>\n",
       "        <td style=\"padding-left: 1em; padding-right: 1em; text-align: center; vertical-align: top\">United States</td>\n",
       "        <td style=\"padding-left: 1em; padding-right: 1em; text-align: center; vertical-align: top\">22</td>\n",
       "    </tr>\n",
       "    <tr>\n",
       "        <td style=\"padding-left: 1em; padding-right: 1em; text-align: center; vertical-align: top\">Derek</td>\n",
       "        <td style=\"padding-left: 1em; padding-right: 1em; text-align: center; vertical-align: top\">Ward</td>\n",
       "        <td style=\"padding-left: 1em; padding-right: 1em; text-align: center; vertical-align: top\">Switzerland</td>\n",
       "        <td style=\"padding-left: 1em; padding-right: 1em; text-align: center; vertical-align: top\">25</td>\n",
       "    </tr>\n",
       "</table>\n",
       "[7 rows x 4 columns]<br/>\n",
       "</div>"
      ],
      "text/plain": [
       "Columns:\n",
       "\tFirst Name\tstr\n",
       "\tLast Name\tstr\n",
       "\tCountry\tstr\n",
       "\tage\tint\n",
       "\n",
       "Rows: 7\n",
       "\n",
       "Data:\n",
       "+------------+-----------+---------------+-----+\n",
       "| First Name | Last Name |    Country    | age |\n",
       "+------------+-----------+---------------+-----+\n",
       "|    Bob     |   Smith   | United States |  24 |\n",
       "|   Alice    |  Williams |     Canada    |  23 |\n",
       "|  Malcolm   |    Jone   |    England    |  22 |\n",
       "|   Felix    |   Brown   |      USA      |  23 |\n",
       "|    Alex    |   Cooper  |     Poland    |  23 |\n",
       "|    Tod     |  Campbell | United States |  22 |\n",
       "|   Derek    |    Ward   |  Switzerland  |  25 |\n",
       "+------------+-----------+---------------+-----+\n",
       "[7 rows x 4 columns]"
      ]
     },
     "execution_count": 5,
     "metadata": {},
     "output_type": "execute_result"
    }
   ],
   "source": [
    "sf.head()"
   ]
  },
  {
   "cell_type": "code",
   "execution_count": null,
   "metadata": {
    "collapsed": true
   },
   "outputs": [],
   "source": []
  },
  {
   "cell_type": "code",
   "execution_count": null,
   "metadata": {
    "collapsed": true
   },
   "outputs": [],
   "source": []
  },
  {
   "cell_type": "code",
   "execution_count": null,
   "metadata": {
    "collapsed": true
   },
   "outputs": [],
   "source": []
  },
  {
   "cell_type": "code",
   "execution_count": null,
   "metadata": {
    "collapsed": true
   },
   "outputs": [],
   "source": []
  },
  {
   "cell_type": "code",
   "execution_count": null,
   "metadata": {
    "collapsed": true
   },
   "outputs": [],
   "source": []
  },
  {
   "cell_type": "code",
   "execution_count": null,
   "metadata": {
    "collapsed": true
   },
   "outputs": [],
   "source": []
  },
  {
   "cell_type": "code",
   "execution_count": 6,
   "metadata": {
    "collapsed": false
   },
   "outputs": [
    {
     "data": {
      "text/html": [
       "<div style=\"max-height:1000px;max-width:1500px;overflow:auto;\"><table frame=\"box\" rules=\"cols\">\n",
       "    <tr>\n",
       "        <th style=\"padding-left: 1em; padding-right: 1em; text-align: center\">First Name</th>\n",
       "        <th style=\"padding-left: 1em; padding-right: 1em; text-align: center\">Last Name</th>\n",
       "        <th style=\"padding-left: 1em; padding-right: 1em; text-align: center\">Country</th>\n",
       "        <th style=\"padding-left: 1em; padding-right: 1em; text-align: center\">age</th>\n",
       "    </tr>\n",
       "    <tr>\n",
       "        <td style=\"padding-left: 1em; padding-right: 1em; text-align: center; vertical-align: top\">Bob</td>\n",
       "        <td style=\"padding-left: 1em; padding-right: 1em; text-align: center; vertical-align: top\">Smith</td>\n",
       "        <td style=\"padding-left: 1em; padding-right: 1em; text-align: center; vertical-align: top\">United States</td>\n",
       "        <td style=\"padding-left: 1em; padding-right: 1em; text-align: center; vertical-align: top\">24</td>\n",
       "    </tr>\n",
       "    <tr>\n",
       "        <td style=\"padding-left: 1em; padding-right: 1em; text-align: center; vertical-align: top\">Alice</td>\n",
       "        <td style=\"padding-left: 1em; padding-right: 1em; text-align: center; vertical-align: top\">Williams</td>\n",
       "        <td style=\"padding-left: 1em; padding-right: 1em; text-align: center; vertical-align: top\">Canada</td>\n",
       "        <td style=\"padding-left: 1em; padding-right: 1em; text-align: center; vertical-align: top\">23</td>\n",
       "    </tr>\n",
       "    <tr>\n",
       "        <td style=\"padding-left: 1em; padding-right: 1em; text-align: center; vertical-align: top\">Malcolm</td>\n",
       "        <td style=\"padding-left: 1em; padding-right: 1em; text-align: center; vertical-align: top\">Jone</td>\n",
       "        <td style=\"padding-left: 1em; padding-right: 1em; text-align: center; vertical-align: top\">England</td>\n",
       "        <td style=\"padding-left: 1em; padding-right: 1em; text-align: center; vertical-align: top\">22</td>\n",
       "    </tr>\n",
       "    <tr>\n",
       "        <td style=\"padding-left: 1em; padding-right: 1em; text-align: center; vertical-align: top\">Felix</td>\n",
       "        <td style=\"padding-left: 1em; padding-right: 1em; text-align: center; vertical-align: top\">Brown</td>\n",
       "        <td style=\"padding-left: 1em; padding-right: 1em; text-align: center; vertical-align: top\">USA</td>\n",
       "        <td style=\"padding-left: 1em; padding-right: 1em; text-align: center; vertical-align: top\">23</td>\n",
       "    </tr>\n",
       "    <tr>\n",
       "        <td style=\"padding-left: 1em; padding-right: 1em; text-align: center; vertical-align: top\">Alex</td>\n",
       "        <td style=\"padding-left: 1em; padding-right: 1em; text-align: center; vertical-align: top\">Cooper</td>\n",
       "        <td style=\"padding-left: 1em; padding-right: 1em; text-align: center; vertical-align: top\">Poland</td>\n",
       "        <td style=\"padding-left: 1em; padding-right: 1em; text-align: center; vertical-align: top\">23</td>\n",
       "    </tr>\n",
       "    <tr>\n",
       "        <td style=\"padding-left: 1em; padding-right: 1em; text-align: center; vertical-align: top\">Tod</td>\n",
       "        <td style=\"padding-left: 1em; padding-right: 1em; text-align: center; vertical-align: top\">Campbell</td>\n",
       "        <td style=\"padding-left: 1em; padding-right: 1em; text-align: center; vertical-align: top\">United States</td>\n",
       "        <td style=\"padding-left: 1em; padding-right: 1em; text-align: center; vertical-align: top\">22</td>\n",
       "    </tr>\n",
       "    <tr>\n",
       "        <td style=\"padding-left: 1em; padding-right: 1em; text-align: center; vertical-align: top\">Derek</td>\n",
       "        <td style=\"padding-left: 1em; padding-right: 1em; text-align: center; vertical-align: top\">Ward</td>\n",
       "        <td style=\"padding-left: 1em; padding-right: 1em; text-align: center; vertical-align: top\">Switzerland</td>\n",
       "        <td style=\"padding-left: 1em; padding-right: 1em; text-align: center; vertical-align: top\">25</td>\n",
       "    </tr>\n",
       "</table>\n",
       "[7 rows x 4 columns]<br/>\n",
       "</div>"
      ],
      "text/plain": [
       "Columns:\n",
       "\tFirst Name\tstr\n",
       "\tLast Name\tstr\n",
       "\tCountry\tstr\n",
       "\tage\tint\n",
       "\n",
       "Rows: 7\n",
       "\n",
       "Data:\n",
       "+------------+-----------+---------------+-----+\n",
       "| First Name | Last Name |    Country    | age |\n",
       "+------------+-----------+---------------+-----+\n",
       "|    Bob     |   Smith   | United States |  24 |\n",
       "|   Alice    |  Williams |     Canada    |  23 |\n",
       "|  Malcolm   |    Jone   |    England    |  22 |\n",
       "|   Felix    |   Brown   |      USA      |  23 |\n",
       "|    Alex    |   Cooper  |     Poland    |  23 |\n",
       "|    Tod     |  Campbell | United States |  22 |\n",
       "|   Derek    |    Ward   |  Switzerland  |  25 |\n",
       "+------------+-----------+---------------+-----+\n",
       "[7 rows x 4 columns]"
      ]
     },
     "execution_count": 6,
     "metadata": {},
     "output_type": "execute_result"
    }
   ],
   "source": [
    "sf.tail()"
   ]
  },
  {
   "cell_type": "markdown",
   "metadata": {},
   "source": [
    "#GraphLab Canvas"
   ]
  },
  {
   "cell_type": "code",
   "execution_count": 7,
   "metadata": {
    "collapsed": false
   },
   "outputs": [
    {
     "name": "stdout",
     "output_type": "stream",
     "text": [
      "Canvas is accessible via web browser at the URL: http://localhost:60305/index.html\n",
      "Opening Canvas in default web browser.\n",
      "Canvas is accessible via web browser at the URL: http://localhost:60305/index.html\n",
      "Opening Canvas in default web browser.\n"
     ]
    }
   ],
   "source": [
    "#Any data structure in GraphLab Create\n",
    "sf.show()\n",
    "table1.show()"
   ]
  },
  {
   "cell_type": "code",
   "execution_count": 8,
   "metadata": {
    "collapsed": true
   },
   "outputs": [],
   "source": [
    "graphlab.canvas.set_target('ipynb')"
   ]
  },
  {
   "cell_type": "code",
   "execution_count": 11,
   "metadata": {
    "collapsed": false
   },
   "outputs": [
    {
     "data": {
      "application/javascript": [
       "$(\"head\").append($(\"<link/>\").attr({\n",
       "  rel:  \"stylesheet\",\n",
       "  type: \"text/css\",\n",
       "  href: \"//cdnjs.cloudflare.com/ajax/libs/font-awesome/4.1.0/css/font-awesome.min.css\"\n",
       "}));\n",
       "$(\"head\").append($(\"<link/>\").attr({\n",
       "  rel:  \"stylesheet\",\n",
       "  type: \"text/css\",\n",
       "  href: \"//dato.com/files/canvas/1.6.1/css/canvas.css\"\n",
       "}));\n",
       "\n",
       "            (function(){\n",
       "\n",
       "                var e = null;\n",
       "                if (typeof element == 'undefined') {\n",
       "                    var scripts = document.getElementsByTagName('script');\n",
       "                    var thisScriptTag = scripts[scripts.length-1];\n",
       "                    var parentDiv = thisScriptTag.parentNode;\n",
       "                    e = document.createElement('div');\n",
       "                    parentDiv.appendChild(e);\n",
       "                } else {\n",
       "                    e = element[0];\n",
       "                }\n",
       "\n",
       "                if (typeof requirejs !== 'undefined') {\n",
       "                    // disable load timeout; ipython_app.js is large and can take a while to load.\n",
       "                    requirejs.config({waitSeconds: 0});\n",
       "                }\n",
       "\n",
       "                require(['//dato.com/files/canvas/1.6.1/js/ipython_app.js'], function(IPythonApp){\n",
       "                    var app = new IPythonApp();\n",
       "                    app.attachView('sarray','Categorical', {\"ipython\": true, \"sketch\": {\"std\": 0.9897433186107858, \"complete\": true, \"min\": 22.0, \"max\": 25.0, \"quantile\": [22.0, 22.0, 22.0, 22.0, 22.0, 22.0, 22.0, 22.0, 22.0, 22.0, 22.0, 22.0, 22.0, 22.0, 22.0, 22.0, 22.0, 22.0, 22.0, 22.0, 22.0, 22.0, 22.0, 22.0, 22.0, 22.0, 22.0, 22.0, 22.0, 23.0, 23.0, 23.0, 23.0, 23.0, 23.0, 23.0, 23.0, 23.0, 23.0, 23.0, 23.0, 23.0, 23.0, 23.0, 23.0, 23.0, 23.0, 23.0, 23.0, 23.0, 23.0, 23.0, 23.0, 23.0, 23.0, 23.0, 23.0, 23.0, 23.0, 23.0, 23.0, 23.0, 23.0, 23.0, 23.0, 23.0, 23.0, 23.0, 23.0, 23.0, 23.0, 23.0, 24.0, 24.0, 24.0, 24.0, 24.0, 24.0, 24.0, 24.0, 24.0, 24.0, 24.0, 24.0, 24.0, 24.0, 25.0, 25.0, 25.0, 25.0, 25.0, 25.0, 25.0, 25.0, 25.0, 25.0, 25.0, 25.0, 25.0, 25.0, 25.0], \"median\": 23.0, \"numeric\": true, \"num_unique\": 4, \"num_undefined\": 0, \"var\": 0.9795918367346915, \"progress\": 1.0, \"size\": 7, \"frequent_items\": {\"24\": {\"frequency\": 1, \"value\": 24}, \"25\": {\"frequency\": 1, \"value\": 25}, \"22\": {\"frequency\": 2, \"value\": 22}, \"23\": {\"frequency\": 3, \"value\": 23}}, \"mean\": 23.142857142857146}, \"selected_variable\": {\"name\": [\"<SArray>\"], \"dtype\": \"int\", \"view_component\": \"Categorical\", \"view_file\": \"sarray\", \"descriptives\": {\"rows\": 7}, \"type\": \"SArray\", \"view_components\": [\"Numeric\", \"Categorical\"]}, \"histogram\": {\"progress\": 1.0, \"histogram\": {\"max\": 25.016, \"bins\": [2, 0, 0, 0, 3, 0, 0, 1, 0, 0, 0, 1], \"min\": 21.992}, \"min\": 22, \"complete\": 1, \"max\": 25}}, e);\n",
       "                });\n",
       "            })();\n",
       "        "
      ]
     },
     "metadata": {},
     "output_type": "display_data"
    }
   ],
   "source": [
    "sf['age'].show(view=\"Categorical\")"
   ]
  },
  {
   "cell_type": "markdown",
   "metadata": {},
   "source": [
    "#Inspect some columns of dataset"
   ]
  },
  {
   "cell_type": "code",
   "execution_count": 9,
   "metadata": {
    "collapsed": false
   },
   "outputs": [
    {
     "data": {
      "text/plain": [
       "dtype: int\n",
       "Rows: 1575\n",
       "[492L, 909L, 1236L, 786L, 540L, 756L, 915L, 1179L, 1656L, 465L, 1374L, 1329L, 1029L, 819L, 603L, 534L, 651L, 2373L, 969L, 324L, 672L, 1323L, 150L, 450L, 1089L, 1047L, 1146L, 480L, 708L, 309L, 792L, 2433L, 306L, 273L, 249L, 498L, 723L, 1305L, 384L, 1395L, 1368L, 1182L, 1533L, 732L, 867L, 645L, 1011L, 1092L, 813L, 360L, 1092L, 903L, 681L, 123L, 804L, 615L, 399L, 135L, 1212L, 1851L, 1044L, 1281L, 900L, 1566L, 1110L, 537L, 1644L, 114L, 207L, 435L, 330L, 723L, 1155L, 837L, 789L, 1071L, 537L, 729L, 693L, 1539L, 159L, 192L, 330L, 657L, 1335L, 726L, 564L, 597L, 615L, 756L, 549L, 759L, 621L, 489L, 564L, 570L, 4092L, 729L, 999L, 996L, ... ]"
      ]
     },
     "execution_count": 9,
     "metadata": {},
     "output_type": "execute_result"
    }
   ],
   "source": [
    "sf[\"Country\"]\n",
    "table1[\"Length (bp)\"]"
   ]
  },
  {
   "cell_type": "code",
   "execution_count": 13,
   "metadata": {
    "collapsed": false
   },
   "outputs": [
    {
     "data": {
      "text/plain": [
       "dtype: int\n",
       "Rows: 7\n",
       "[24L, 23L, 22L, 23L, 23L, 22L, 25L]"
      ]
     },
     "execution_count": 13,
     "metadata": {},
     "output_type": "execute_result"
    }
   ],
   "source": [
    "sf['age']"
   ]
  },
  {
   "cell_type": "code",
   "execution_count": 14,
   "metadata": {
    "collapsed": false
   },
   "outputs": [
    {
     "data": {
      "text/plain": [
       "23.142857142857146"
      ]
     },
     "execution_count": 14,
     "metadata": {},
     "output_type": "execute_result"
    }
   ],
   "source": [
    "sf['age'].mean()"
   ]
  },
  {
   "cell_type": "code",
   "execution_count": 15,
   "metadata": {
    "collapsed": false
   },
   "outputs": [
    {
     "data": {
      "text/plain": [
       "25L"
      ]
     },
     "execution_count": 15,
     "metadata": {},
     "output_type": "execute_result"
    }
   ],
   "source": [
    "sf['age'].max()"
   ]
  },
  {
   "cell_type": "markdown",
   "metadata": {},
   "source": [
    "#Create new columns in our SFrame"
   ]
  },
  {
   "cell_type": "code",
   "execution_count": 10,
   "metadata": {
    "collapsed": false
   },
   "outputs": [
    {
     "ename": "RuntimeError",
     "evalue": "Runtime Exception. Column name Seq_nt does not exist.",
     "output_type": "error",
     "traceback": [
      "\u001b[1;31m---------------------------------------------------------------------------\u001b[0m",
      "\u001b[1;31mRuntimeError\u001b[0m                              Traceback (most recent call last)",
      "\u001b[1;32m<ipython-input-10-7a7c46285d97>\u001b[0m in \u001b[0;36m<module>\u001b[1;34m()\u001b[0m\n\u001b[0;32m      1\u001b[0m \u001b[0msf\u001b[0m\u001b[1;33m[\u001b[0m\u001b[1;34m\"Full Name\"\u001b[0m\u001b[1;33m]\u001b[0m\u001b[1;33m=\u001b[0m\u001b[0msf\u001b[0m\u001b[1;33m[\u001b[0m\u001b[1;34m'First Name'\u001b[0m\u001b[1;33m]\u001b[0m\u001b[1;33m+\u001b[0m\u001b[1;34m' '\u001b[0m\u001b[1;33m+\u001b[0m\u001b[0msf\u001b[0m\u001b[1;33m[\u001b[0m\u001b[1;34m'Last Name'\u001b[0m\u001b[1;33m]\u001b[0m\u001b[1;33m\u001b[0m\u001b[0m\n\u001b[1;32m----> 2\u001b[1;33m \u001b[0mtable1\u001b[0m\u001b[1;33m[\u001b[0m\u001b[1;34m\"Seq_nt\"\u001b[0m\u001b[1;33m]\u001b[0m\u001b[1;33m\u001b[0m\u001b[0m\n\u001b[0m",
      "\u001b[1;32mC:\\Anaconda\\lib\\site-packages\\graphlab\\data_structures\\sframe.pyc\u001b[0m in \u001b[0;36m__getitem__\u001b[1;34m(self, key)\u001b[0m\n\u001b[0;32m   3536\u001b[0m             \u001b[1;32mreturn\u001b[0m \u001b[0mself\u001b[0m\u001b[1;33m.\u001b[0m\u001b[0m_row_selector\u001b[0m\u001b[1;33m(\u001b[0m\u001b[0mkey\u001b[0m\u001b[1;33m)\u001b[0m\u001b[1;33m\u001b[0m\u001b[0m\n\u001b[0;32m   3537\u001b[0m         \u001b[1;32melif\u001b[0m \u001b[0mtype\u001b[0m\u001b[1;33m(\u001b[0m\u001b[0mkey\u001b[0m\u001b[1;33m)\u001b[0m \u001b[1;32mis\u001b[0m \u001b[0mstr\u001b[0m\u001b[1;33m:\u001b[0m\u001b[1;33m\u001b[0m\u001b[0m\n\u001b[1;32m-> 3538\u001b[1;33m             \u001b[1;32mreturn\u001b[0m \u001b[0mself\u001b[0m\u001b[1;33m.\u001b[0m\u001b[0mselect_column\u001b[0m\u001b[1;33m(\u001b[0m\u001b[0mkey\u001b[0m\u001b[1;33m)\u001b[0m\u001b[1;33m\u001b[0m\u001b[0m\n\u001b[0m\u001b[0;32m   3539\u001b[0m         \u001b[1;32melif\u001b[0m \u001b[0mtype\u001b[0m\u001b[1;33m(\u001b[0m\u001b[0mkey\u001b[0m\u001b[1;33m)\u001b[0m \u001b[1;32mis\u001b[0m \u001b[0mtype\u001b[0m\u001b[1;33m:\u001b[0m\u001b[1;33m\u001b[0m\u001b[0m\n\u001b[0;32m   3540\u001b[0m             \u001b[1;32mreturn\u001b[0m \u001b[0mself\u001b[0m\u001b[1;33m.\u001b[0m\u001b[0mselect_columns\u001b[0m\u001b[1;33m(\u001b[0m\u001b[1;33m[\u001b[0m\u001b[0mkey\u001b[0m\u001b[1;33m]\u001b[0m\u001b[1;33m)\u001b[0m\u001b[1;33m\u001b[0m\u001b[0m\n",
      "\u001b[1;32mC:\\Anaconda\\lib\\site-packages\\graphlab\\data_structures\\sframe.pyc\u001b[0m in \u001b[0;36mselect_column\u001b[1;34m(self, key)\u001b[0m\n\u001b[0;32m   3141\u001b[0m             \u001b[1;32mraise\u001b[0m \u001b[0mTypeError\u001b[0m\u001b[1;33m(\u001b[0m\u001b[1;34m\"Invalid key type: must be str\"\u001b[0m\u001b[1;33m)\u001b[0m\u001b[1;33m\u001b[0m\u001b[0m\n\u001b[0;32m   3142\u001b[0m         \u001b[1;32mwith\u001b[0m \u001b[0mcython_context\u001b[0m\u001b[1;33m(\u001b[0m\u001b[1;33m)\u001b[0m\u001b[1;33m:\u001b[0m\u001b[1;33m\u001b[0m\u001b[0m\n\u001b[1;32m-> 3143\u001b[1;33m             \u001b[1;32mreturn\u001b[0m \u001b[0mSArray\u001b[0m\u001b[1;33m(\u001b[0m\u001b[0mdata\u001b[0m\u001b[1;33m=\u001b[0m\u001b[1;33m[\u001b[0m\u001b[1;33m]\u001b[0m\u001b[1;33m,\u001b[0m \u001b[0m_proxy\u001b[0m\u001b[1;33m=\u001b[0m\u001b[0mself\u001b[0m\u001b[1;33m.\u001b[0m\u001b[0m__proxy__\u001b[0m\u001b[1;33m.\u001b[0m\u001b[0mselect_column\u001b[0m\u001b[1;33m(\u001b[0m\u001b[0mkey\u001b[0m\u001b[1;33m)\u001b[0m\u001b[1;33m)\u001b[0m\u001b[1;33m\u001b[0m\u001b[0m\n\u001b[0m\u001b[0;32m   3144\u001b[0m \u001b[1;33m\u001b[0m\u001b[0m\n\u001b[0;32m   3145\u001b[0m     \u001b[1;32mdef\u001b[0m \u001b[0mselect_columns\u001b[0m\u001b[1;33m(\u001b[0m\u001b[0mself\u001b[0m\u001b[1;33m,\u001b[0m \u001b[0mkeylist\u001b[0m\u001b[1;33m)\u001b[0m\u001b[1;33m:\u001b[0m\u001b[1;33m\u001b[0m\u001b[0m\n",
      "\u001b[1;32mC:\\Anaconda\\lib\\site-packages\\graphlab\\cython\\context.pyc\u001b[0m in \u001b[0;36m__exit__\u001b[1;34m(self, exc_type, exc_value, traceback)\u001b[0m\n\u001b[0;32m     47\u001b[0m             \u001b[1;32mif\u001b[0m \u001b[1;32mnot\u001b[0m \u001b[0mself\u001b[0m\u001b[1;33m.\u001b[0m\u001b[0mshow_cython_trace\u001b[0m\u001b[1;33m:\u001b[0m\u001b[1;33m\u001b[0m\u001b[0m\n\u001b[0;32m     48\u001b[0m                 \u001b[1;31m# To hide cython trace, we re-raise from here\u001b[0m\u001b[1;33m\u001b[0m\u001b[1;33m\u001b[0m\u001b[0m\n\u001b[1;32m---> 49\u001b[1;33m                 \u001b[1;32mraise\u001b[0m \u001b[0mexc_type\u001b[0m\u001b[1;33m(\u001b[0m\u001b[0mexc_value\u001b[0m\u001b[1;33m)\u001b[0m\u001b[1;33m\u001b[0m\u001b[0m\n\u001b[0m\u001b[0;32m     50\u001b[0m             \u001b[1;32melse\u001b[0m\u001b[1;33m:\u001b[0m\u001b[1;33m\u001b[0m\u001b[0m\n\u001b[0;32m     51\u001b[0m                 \u001b[1;31m# To show the full trace, we do nothing and let exception propagate\u001b[0m\u001b[1;33m\u001b[0m\u001b[1;33m\u001b[0m\u001b[0m\n",
      "\u001b[1;31mRuntimeError\u001b[0m: Runtime Exception. Column name Seq_nt does not exist."
     ]
    }
   ],
   "source": [
    "sf[\"Full Name\"]=sf['First Name']+' '+sf['Last Name']\n"
   ]
  },
  {
   "cell_type": "code",
   "execution_count": 18,
   "metadata": {
    "collapsed": false
   },
   "outputs": [
    {
     "data": {
      "text/html": [
       "<div style=\"max-height:1000px;max-width:1500px;overflow:auto;\"><table frame=\"box\" rules=\"cols\">\n",
       "    <tr>\n",
       "        <th style=\"padding-left: 1em; padding-right: 1em; text-align: center\">First Name</th>\n",
       "        <th style=\"padding-left: 1em; padding-right: 1em; text-align: center\">Last Name</th>\n",
       "        <th style=\"padding-left: 1em; padding-right: 1em; text-align: center\">Country</th>\n",
       "        <th style=\"padding-left: 1em; padding-right: 1em; text-align: center\">age</th>\n",
       "        <th style=\"padding-left: 1em; padding-right: 1em; text-align: center\">Full Name</th>\n",
       "    </tr>\n",
       "    <tr>\n",
       "        <td style=\"padding-left: 1em; padding-right: 1em; text-align: center; vertical-align: top\">Bob</td>\n",
       "        <td style=\"padding-left: 1em; padding-right: 1em; text-align: center; vertical-align: top\">Smith</td>\n",
       "        <td style=\"padding-left: 1em; padding-right: 1em; text-align: center; vertical-align: top\">United States</td>\n",
       "        <td style=\"padding-left: 1em; padding-right: 1em; text-align: center; vertical-align: top\">24</td>\n",
       "        <td style=\"padding-left: 1em; padding-right: 1em; text-align: center; vertical-align: top\">Bob Smith</td>\n",
       "    </tr>\n",
       "    <tr>\n",
       "        <td style=\"padding-left: 1em; padding-right: 1em; text-align: center; vertical-align: top\">Alice</td>\n",
       "        <td style=\"padding-left: 1em; padding-right: 1em; text-align: center; vertical-align: top\">Williams</td>\n",
       "        <td style=\"padding-left: 1em; padding-right: 1em; text-align: center; vertical-align: top\">Canada</td>\n",
       "        <td style=\"padding-left: 1em; padding-right: 1em; text-align: center; vertical-align: top\">23</td>\n",
       "        <td style=\"padding-left: 1em; padding-right: 1em; text-align: center; vertical-align: top\">Alice Williams</td>\n",
       "    </tr>\n",
       "    <tr>\n",
       "        <td style=\"padding-left: 1em; padding-right: 1em; text-align: center; vertical-align: top\">Malcolm</td>\n",
       "        <td style=\"padding-left: 1em; padding-right: 1em; text-align: center; vertical-align: top\">Jone</td>\n",
       "        <td style=\"padding-left: 1em; padding-right: 1em; text-align: center; vertical-align: top\">England</td>\n",
       "        <td style=\"padding-left: 1em; padding-right: 1em; text-align: center; vertical-align: top\">22</td>\n",
       "        <td style=\"padding-left: 1em; padding-right: 1em; text-align: center; vertical-align: top\">Malcolm Jone</td>\n",
       "    </tr>\n",
       "    <tr>\n",
       "        <td style=\"padding-left: 1em; padding-right: 1em; text-align: center; vertical-align: top\">Felix</td>\n",
       "        <td style=\"padding-left: 1em; padding-right: 1em; text-align: center; vertical-align: top\">Brown</td>\n",
       "        <td style=\"padding-left: 1em; padding-right: 1em; text-align: center; vertical-align: top\">USA</td>\n",
       "        <td style=\"padding-left: 1em; padding-right: 1em; text-align: center; vertical-align: top\">23</td>\n",
       "        <td style=\"padding-left: 1em; padding-right: 1em; text-align: center; vertical-align: top\">Felix Brown</td>\n",
       "    </tr>\n",
       "    <tr>\n",
       "        <td style=\"padding-left: 1em; padding-right: 1em; text-align: center; vertical-align: top\">Alex</td>\n",
       "        <td style=\"padding-left: 1em; padding-right: 1em; text-align: center; vertical-align: top\">Cooper</td>\n",
       "        <td style=\"padding-left: 1em; padding-right: 1em; text-align: center; vertical-align: top\">Poland</td>\n",
       "        <td style=\"padding-left: 1em; padding-right: 1em; text-align: center; vertical-align: top\">23</td>\n",
       "        <td style=\"padding-left: 1em; padding-right: 1em; text-align: center; vertical-align: top\">Alex Cooper</td>\n",
       "    </tr>\n",
       "    <tr>\n",
       "        <td style=\"padding-left: 1em; padding-right: 1em; text-align: center; vertical-align: top\">Tod</td>\n",
       "        <td style=\"padding-left: 1em; padding-right: 1em; text-align: center; vertical-align: top\">Campbell</td>\n",
       "        <td style=\"padding-left: 1em; padding-right: 1em; text-align: center; vertical-align: top\">United States</td>\n",
       "        <td style=\"padding-left: 1em; padding-right: 1em; text-align: center; vertical-align: top\">22</td>\n",
       "        <td style=\"padding-left: 1em; padding-right: 1em; text-align: center; vertical-align: top\">Tod Campbell</td>\n",
       "    </tr>\n",
       "    <tr>\n",
       "        <td style=\"padding-left: 1em; padding-right: 1em; text-align: center; vertical-align: top\">Derek</td>\n",
       "        <td style=\"padding-left: 1em; padding-right: 1em; text-align: center; vertical-align: top\">Ward</td>\n",
       "        <td style=\"padding-left: 1em; padding-right: 1em; text-align: center; vertical-align: top\">Switzerland</td>\n",
       "        <td style=\"padding-left: 1em; padding-right: 1em; text-align: center; vertical-align: top\">25</td>\n",
       "        <td style=\"padding-left: 1em; padding-right: 1em; text-align: center; vertical-align: top\">Derek Ward</td>\n",
       "    </tr>\n",
       "</table>\n",
       "[7 rows x 5 columns]<br/>\n",
       "</div>"
      ],
      "text/plain": [
       "Columns:\n",
       "\tFirst Name\tstr\n",
       "\tLast Name\tstr\n",
       "\tCountry\tstr\n",
       "\tage\tint\n",
       "\tFull Name\tstr\n",
       "\n",
       "Rows: 7\n",
       "\n",
       "Data:\n",
       "+------------+-----------+---------------+-----+----------------+\n",
       "| First Name | Last Name |    Country    | age |   Full Name    |\n",
       "+------------+-----------+---------------+-----+----------------+\n",
       "|    Bob     |   Smith   | United States |  24 |   Bob Smith    |\n",
       "|   Alice    |  Williams |     Canada    |  23 | Alice Williams |\n",
       "|  Malcolm   |    Jone   |    England    |  22 |  Malcolm Jone  |\n",
       "|   Felix    |   Brown   |      USA      |  23 |  Felix Brown   |\n",
       "|    Alex    |   Cooper  |     Poland    |  23 |  Alex Cooper   |\n",
       "|    Tod     |  Campbell | United States |  22 |  Tod Campbell  |\n",
       "|   Derek    |    Ward   |  Switzerland  |  25 |   Derek Ward   |\n",
       "+------------+-----------+---------------+-----+----------------+\n",
       "[7 rows x 5 columns]"
      ]
     },
     "execution_count": 18,
     "metadata": {},
     "output_type": "execute_result"
    }
   ],
   "source": [
    "sf"
   ]
  },
  {
   "cell_type": "code",
   "execution_count": 20,
   "metadata": {
    "collapsed": false
   },
   "outputs": [
    {
     "data": {
      "text/plain": [
       "dtype: int\n",
       "Rows: 7\n",
       "[26L, 25L, 24L, 25L, 25L, 24L, 27L]"
      ]
     },
     "execution_count": 20,
     "metadata": {},
     "output_type": "execute_result"
    }
   ],
   "source": [
    "sf['age']+2\n"
   ]
  },
  {
   "cell_type": "code",
   "execution_count": 21,
   "metadata": {
    "collapsed": true
   },
   "outputs": [],
   "source": [
    "sf['age']=sf['age']+2"
   ]
  },
  {
   "cell_type": "code",
   "execution_count": 22,
   "metadata": {
    "collapsed": false
   },
   "outputs": [
    {
     "data": {
      "text/html": [
       "<div style=\"max-height:1000px;max-width:1500px;overflow:auto;\"><table frame=\"box\" rules=\"cols\">\n",
       "    <tr>\n",
       "        <th style=\"padding-left: 1em; padding-right: 1em; text-align: center\">First Name</th>\n",
       "        <th style=\"padding-left: 1em; padding-right: 1em; text-align: center\">Last Name</th>\n",
       "        <th style=\"padding-left: 1em; padding-right: 1em; text-align: center\">Country</th>\n",
       "        <th style=\"padding-left: 1em; padding-right: 1em; text-align: center\">age</th>\n",
       "        <th style=\"padding-left: 1em; padding-right: 1em; text-align: center\">Full Name</th>\n",
       "    </tr>\n",
       "    <tr>\n",
       "        <td style=\"padding-left: 1em; padding-right: 1em; text-align: center; vertical-align: top\">Bob</td>\n",
       "        <td style=\"padding-left: 1em; padding-right: 1em; text-align: center; vertical-align: top\">Smith</td>\n",
       "        <td style=\"padding-left: 1em; padding-right: 1em; text-align: center; vertical-align: top\">United States</td>\n",
       "        <td style=\"padding-left: 1em; padding-right: 1em; text-align: center; vertical-align: top\">26</td>\n",
       "        <td style=\"padding-left: 1em; padding-right: 1em; text-align: center; vertical-align: top\">Bob Smith</td>\n",
       "    </tr>\n",
       "    <tr>\n",
       "        <td style=\"padding-left: 1em; padding-right: 1em; text-align: center; vertical-align: top\">Alice</td>\n",
       "        <td style=\"padding-left: 1em; padding-right: 1em; text-align: center; vertical-align: top\">Williams</td>\n",
       "        <td style=\"padding-left: 1em; padding-right: 1em; text-align: center; vertical-align: top\">Canada</td>\n",
       "        <td style=\"padding-left: 1em; padding-right: 1em; text-align: center; vertical-align: top\">25</td>\n",
       "        <td style=\"padding-left: 1em; padding-right: 1em; text-align: center; vertical-align: top\">Alice Williams</td>\n",
       "    </tr>\n",
       "    <tr>\n",
       "        <td style=\"padding-left: 1em; padding-right: 1em; text-align: center; vertical-align: top\">Malcolm</td>\n",
       "        <td style=\"padding-left: 1em; padding-right: 1em; text-align: center; vertical-align: top\">Jone</td>\n",
       "        <td style=\"padding-left: 1em; padding-right: 1em; text-align: center; vertical-align: top\">England</td>\n",
       "        <td style=\"padding-left: 1em; padding-right: 1em; text-align: center; vertical-align: top\">24</td>\n",
       "        <td style=\"padding-left: 1em; padding-right: 1em; text-align: center; vertical-align: top\">Malcolm Jone</td>\n",
       "    </tr>\n",
       "    <tr>\n",
       "        <td style=\"padding-left: 1em; padding-right: 1em; text-align: center; vertical-align: top\">Felix</td>\n",
       "        <td style=\"padding-left: 1em; padding-right: 1em; text-align: center; vertical-align: top\">Brown</td>\n",
       "        <td style=\"padding-left: 1em; padding-right: 1em; text-align: center; vertical-align: top\">USA</td>\n",
       "        <td style=\"padding-left: 1em; padding-right: 1em; text-align: center; vertical-align: top\">25</td>\n",
       "        <td style=\"padding-left: 1em; padding-right: 1em; text-align: center; vertical-align: top\">Felix Brown</td>\n",
       "    </tr>\n",
       "    <tr>\n",
       "        <td style=\"padding-left: 1em; padding-right: 1em; text-align: center; vertical-align: top\">Alex</td>\n",
       "        <td style=\"padding-left: 1em; padding-right: 1em; text-align: center; vertical-align: top\">Cooper</td>\n",
       "        <td style=\"padding-left: 1em; padding-right: 1em; text-align: center; vertical-align: top\">Poland</td>\n",
       "        <td style=\"padding-left: 1em; padding-right: 1em; text-align: center; vertical-align: top\">25</td>\n",
       "        <td style=\"padding-left: 1em; padding-right: 1em; text-align: center; vertical-align: top\">Alex Cooper</td>\n",
       "    </tr>\n",
       "    <tr>\n",
       "        <td style=\"padding-left: 1em; padding-right: 1em; text-align: center; vertical-align: top\">Tod</td>\n",
       "        <td style=\"padding-left: 1em; padding-right: 1em; text-align: center; vertical-align: top\">Campbell</td>\n",
       "        <td style=\"padding-left: 1em; padding-right: 1em; text-align: center; vertical-align: top\">United States</td>\n",
       "        <td style=\"padding-left: 1em; padding-right: 1em; text-align: center; vertical-align: top\">24</td>\n",
       "        <td style=\"padding-left: 1em; padding-right: 1em; text-align: center; vertical-align: top\">Tod Campbell</td>\n",
       "    </tr>\n",
       "    <tr>\n",
       "        <td style=\"padding-left: 1em; padding-right: 1em; text-align: center; vertical-align: top\">Derek</td>\n",
       "        <td style=\"padding-left: 1em; padding-right: 1em; text-align: center; vertical-align: top\">Ward</td>\n",
       "        <td style=\"padding-left: 1em; padding-right: 1em; text-align: center; vertical-align: top\">Switzerland</td>\n",
       "        <td style=\"padding-left: 1em; padding-right: 1em; text-align: center; vertical-align: top\">27</td>\n",
       "        <td style=\"padding-left: 1em; padding-right: 1em; text-align: center; vertical-align: top\">Derek Ward</td>\n",
       "    </tr>\n",
       "</table>\n",
       "[7 rows x 5 columns]<br/>\n",
       "</div>"
      ],
      "text/plain": [
       "Columns:\n",
       "\tFirst Name\tstr\n",
       "\tLast Name\tstr\n",
       "\tCountry\tstr\n",
       "\tage\tint\n",
       "\tFull Name\tstr\n",
       "\n",
       "Rows: 7\n",
       "\n",
       "Data:\n",
       "+------------+-----------+---------------+-----+----------------+\n",
       "| First Name | Last Name |    Country    | age |   Full Name    |\n",
       "+------------+-----------+---------------+-----+----------------+\n",
       "|    Bob     |   Smith   | United States |  26 |   Bob Smith    |\n",
       "|   Alice    |  Williams |     Canada    |  25 | Alice Williams |\n",
       "|  Malcolm   |    Jone   |    England    |  24 |  Malcolm Jone  |\n",
       "|   Felix    |   Brown   |      USA      |  25 |  Felix Brown   |\n",
       "|    Alex    |   Cooper  |     Poland    |  25 |  Alex Cooper   |\n",
       "|    Tod     |  Campbell | United States |  24 |  Tod Campbell  |\n",
       "|   Derek    |    Ward   |  Switzerland  |  27 |   Derek Ward   |\n",
       "+------------+-----------+---------------+-----+----------------+\n",
       "[7 rows x 5 columns]"
      ]
     },
     "execution_count": 22,
     "metadata": {},
     "output_type": "execute_result"
    }
   ],
   "source": [
    "sf"
   ]
  },
  {
   "cell_type": "markdown",
   "metadata": {},
   "source": [
    "#Use the apply function to do an advanced transformation of our data"
   ]
  },
  {
   "cell_type": "code",
   "execution_count": 23,
   "metadata": {
    "collapsed": false
   },
   "outputs": [
    {
     "ename": "NameError",
     "evalue": "name 'sfpp' is not defined",
     "output_type": "error",
     "traceback": [
      "\u001b[1;31m---------------------------------------------------------------------------\u001b[0m",
      "\u001b[1;31mNameError\u001b[0m                                 Traceback (most recent call last)",
      "\u001b[1;32m<ipython-input-23-af42b1b35ea2>\u001b[0m in \u001b[0;36m<module>\u001b[1;34m()\u001b[0m\n\u001b[1;32m----> 1\u001b[1;33m \u001b[0msfpp\u001b[0m\u001b[1;33m[\u001b[0m\u001b[1;34m'Country'\u001b[0m\u001b[1;33m]\u001b[0m\u001b[1;33m\u001b[0m\u001b[0m\n\u001b[0m",
      "\u001b[1;31mNameError\u001b[0m: name 'sfpp' is not defined"
     ]
    }
   ],
   "source": [
    "sfpp['Country']"
   ]
  },
  {
   "cell_type": "code",
   "execution_count": 24,
   "metadata": {
    "collapsed": false
   },
   "outputs": [
    {
     "data": {
      "text/plain": [
       "dtype: str\n",
       "Rows: 7\n",
       "['United States', 'Canada', 'England', 'USA', 'Poland', 'United States', 'Switzerland']"
      ]
     },
     "execution_count": 24,
     "metadata": {},
     "output_type": "execute_result"
    }
   ],
   "source": [
    "sf['Country']"
   ]
  },
  {
   "cell_type": "code",
   "execution_count": 25,
   "metadata": {
    "collapsed": false
   },
   "outputs": [
    {
     "data": {
      "application/javascript": [
       "$(\"head\").append($(\"<link/>\").attr({\n",
       "  rel:  \"stylesheet\",\n",
       "  type: \"text/css\",\n",
       "  href: \"//cdnjs.cloudflare.com/ajax/libs/font-awesome/4.1.0/css/font-awesome.min.css\"\n",
       "}));\n",
       "$(\"head\").append($(\"<link/>\").attr({\n",
       "  rel:  \"stylesheet\",\n",
       "  type: \"text/css\",\n",
       "  href: \"//dato.com/files/canvas/1.6.1/css/canvas.css\"\n",
       "}));\n",
       "\n",
       "            (function(){\n",
       "\n",
       "                var e = null;\n",
       "                if (typeof element == 'undefined') {\n",
       "                    var scripts = document.getElementsByTagName('script');\n",
       "                    var thisScriptTag = scripts[scripts.length-1];\n",
       "                    var parentDiv = thisScriptTag.parentNode;\n",
       "                    e = document.createElement('div');\n",
       "                    parentDiv.appendChild(e);\n",
       "                } else {\n",
       "                    e = element[0];\n",
       "                }\n",
       "\n",
       "                if (typeof requirejs !== 'undefined') {\n",
       "                    // disable load timeout; ipython_app.js is large and can take a while to load.\n",
       "                    requirejs.config({waitSeconds: 0});\n",
       "                }\n",
       "\n",
       "                require(['//dato.com/files/canvas/1.6.1/js/ipython_app.js'], function(IPythonApp){\n",
       "                    var app = new IPythonApp();\n",
       "                    app.attachView('sarray','Categorical', {\"ipython\": true, \"sketch\": {\"complete\": true, \"numeric\": false, \"num_unique\": 6, \"num_undefined\": 0, \"progress\": 1.0, \"frequent_items\": {\"Canada\": {\"frequency\": 1, \"value\": \"Canada\"}, \"England\": {\"frequency\": 1, \"value\": \"England\"}, \"USA\": {\"frequency\": 1, \"value\": \"USA\"}, \"Poland\": {\"frequency\": 1, \"value\": \"Poland\"}, \"United States\": {\"frequency\": 2, \"value\": \"United States\"}, \"Switzerland\": {\"frequency\": 1, \"value\": \"Switzerland\"}}, \"size\": 7}, \"selected_variable\": {\"name\": [\"<SArray>\"], \"dtype\": \"str\", \"view_component\": \"Categorical\", \"view_file\": \"sarray\", \"descriptives\": {\"rows\": 7}, \"type\": \"SArray\", \"view_components\": [\"Categorical\"]}, \"histogram\": null}, e);\n",
       "                });\n",
       "            })();\n",
       "        "
      ]
     },
     "metadata": {},
     "output_type": "display_data"
    }
   ],
   "source": [
    "sf['Country'].show()"
   ]
  },
  {
   "cell_type": "code",
   "execution_count": 26,
   "metadata": {
    "collapsed": true
   },
   "outputs": [],
   "source": [
    "def transform_country(country):\n",
    "    if country == 'USA':\n",
    "        return 'United States'\n",
    "    else:\n",
    "        return country"
   ]
  },
  {
   "cell_type": "code",
   "execution_count": 27,
   "metadata": {
    "collapsed": false
   },
   "outputs": [
    {
     "data": {
      "text/plain": [
       "'Brazil'"
      ]
     },
     "execution_count": 27,
     "metadata": {},
     "output_type": "execute_result"
    }
   ],
   "source": [
    "transform_country('Brazil')"
   ]
  },
  {
   "cell_type": "code",
   "execution_count": 28,
   "metadata": {
    "collapsed": false
   },
   "outputs": [
    {
     "data": {
      "text/plain": [
       "'United States'"
      ]
     },
     "execution_count": 28,
     "metadata": {},
     "output_type": "execute_result"
    }
   ],
   "source": [
    "transform_country('USA')"
   ]
  },
  {
   "cell_type": "code",
   "execution_count": 29,
   "metadata": {
    "collapsed": false
   },
   "outputs": [
    {
     "ename": "NameError",
     "evalue": "name 'transform' is not defined",
     "output_type": "error",
     "traceback": [
      "\u001b[1;31m---------------------------------------------------------------------------\u001b[0m",
      "\u001b[1;31mNameError\u001b[0m                                 Traceback (most recent call last)",
      "\u001b[1;32m<ipython-input-29-ebb4bbbf4ccf>\u001b[0m in \u001b[0;36m<module>\u001b[1;34m()\u001b[0m\n\u001b[1;32m----> 1\u001b[1;33m \u001b[0msf\u001b[0m\u001b[1;33m[\u001b[0m\u001b[1;34m'Country'\u001b[0m\u001b[1;33m]\u001b[0m\u001b[1;33m.\u001b[0m\u001b[0mapply\u001b[0m\u001b[1;33m(\u001b[0m\u001b[0mtransform\u001b[0m\u001b[1;33m.\u001b[0m\u001b[0mcountry\u001b[0m\u001b[1;33m)\u001b[0m\u001b[1;33m\u001b[0m\u001b[0m\n\u001b[0m",
      "\u001b[1;31mNameError\u001b[0m: name 'transform' is not defined"
     ]
    }
   ],
   "source": [
    "sf['Country'].apply(transform.country)"
   ]
  },
  {
   "cell_type": "code",
   "execution_count": 30,
   "metadata": {
    "collapsed": false
   },
   "outputs": [
    {
     "data": {
      "text/plain": [
       "dtype: str\n",
       "Rows: 7\n",
       "['United States', 'Canada', 'England', 'United States', 'Poland', 'United States', 'Switzerland']"
      ]
     },
     "execution_count": 30,
     "metadata": {},
     "output_type": "execute_result"
    }
   ],
   "source": [
    "sf['Country'].apply(transform_country)"
   ]
  },
  {
   "cell_type": "code",
   "execution_count": 31,
   "metadata": {
    "collapsed": true
   },
   "outputs": [],
   "source": [
    "sf['Country']=sf['Country'].apply(transform_country)"
   ]
  },
  {
   "cell_type": "code",
   "execution_count": 32,
   "metadata": {
    "collapsed": false
   },
   "outputs": [
    {
     "data": {
      "text/html": [
       "<div style=\"max-height:1000px;max-width:1500px;overflow:auto;\"><table frame=\"box\" rules=\"cols\">\n",
       "    <tr>\n",
       "        <th style=\"padding-left: 1em; padding-right: 1em; text-align: center\">First Name</th>\n",
       "        <th style=\"padding-left: 1em; padding-right: 1em; text-align: center\">Last Name</th>\n",
       "        <th style=\"padding-left: 1em; padding-right: 1em; text-align: center\">Country</th>\n",
       "        <th style=\"padding-left: 1em; padding-right: 1em; text-align: center\">age</th>\n",
       "        <th style=\"padding-left: 1em; padding-right: 1em; text-align: center\">Full Name</th>\n",
       "    </tr>\n",
       "    <tr>\n",
       "        <td style=\"padding-left: 1em; padding-right: 1em; text-align: center; vertical-align: top\">Bob</td>\n",
       "        <td style=\"padding-left: 1em; padding-right: 1em; text-align: center; vertical-align: top\">Smith</td>\n",
       "        <td style=\"padding-left: 1em; padding-right: 1em; text-align: center; vertical-align: top\">United States</td>\n",
       "        <td style=\"padding-left: 1em; padding-right: 1em; text-align: center; vertical-align: top\">26</td>\n",
       "        <td style=\"padding-left: 1em; padding-right: 1em; text-align: center; vertical-align: top\">Bob Smith</td>\n",
       "    </tr>\n",
       "    <tr>\n",
       "        <td style=\"padding-left: 1em; padding-right: 1em; text-align: center; vertical-align: top\">Alice</td>\n",
       "        <td style=\"padding-left: 1em; padding-right: 1em; text-align: center; vertical-align: top\">Williams</td>\n",
       "        <td style=\"padding-left: 1em; padding-right: 1em; text-align: center; vertical-align: top\">Canada</td>\n",
       "        <td style=\"padding-left: 1em; padding-right: 1em; text-align: center; vertical-align: top\">25</td>\n",
       "        <td style=\"padding-left: 1em; padding-right: 1em; text-align: center; vertical-align: top\">Alice Williams</td>\n",
       "    </tr>\n",
       "    <tr>\n",
       "        <td style=\"padding-left: 1em; padding-right: 1em; text-align: center; vertical-align: top\">Malcolm</td>\n",
       "        <td style=\"padding-left: 1em; padding-right: 1em; text-align: center; vertical-align: top\">Jone</td>\n",
       "        <td style=\"padding-left: 1em; padding-right: 1em; text-align: center; vertical-align: top\">England</td>\n",
       "        <td style=\"padding-left: 1em; padding-right: 1em; text-align: center; vertical-align: top\">24</td>\n",
       "        <td style=\"padding-left: 1em; padding-right: 1em; text-align: center; vertical-align: top\">Malcolm Jone</td>\n",
       "    </tr>\n",
       "    <tr>\n",
       "        <td style=\"padding-left: 1em; padding-right: 1em; text-align: center; vertical-align: top\">Felix</td>\n",
       "        <td style=\"padding-left: 1em; padding-right: 1em; text-align: center; vertical-align: top\">Brown</td>\n",
       "        <td style=\"padding-left: 1em; padding-right: 1em; text-align: center; vertical-align: top\">United States</td>\n",
       "        <td style=\"padding-left: 1em; padding-right: 1em; text-align: center; vertical-align: top\">25</td>\n",
       "        <td style=\"padding-left: 1em; padding-right: 1em; text-align: center; vertical-align: top\">Felix Brown</td>\n",
       "    </tr>\n",
       "    <tr>\n",
       "        <td style=\"padding-left: 1em; padding-right: 1em; text-align: center; vertical-align: top\">Alex</td>\n",
       "        <td style=\"padding-left: 1em; padding-right: 1em; text-align: center; vertical-align: top\">Cooper</td>\n",
       "        <td style=\"padding-left: 1em; padding-right: 1em; text-align: center; vertical-align: top\">Poland</td>\n",
       "        <td style=\"padding-left: 1em; padding-right: 1em; text-align: center; vertical-align: top\">25</td>\n",
       "        <td style=\"padding-left: 1em; padding-right: 1em; text-align: center; vertical-align: top\">Alex Cooper</td>\n",
       "    </tr>\n",
       "    <tr>\n",
       "        <td style=\"padding-left: 1em; padding-right: 1em; text-align: center; vertical-align: top\">Tod</td>\n",
       "        <td style=\"padding-left: 1em; padding-right: 1em; text-align: center; vertical-align: top\">Campbell</td>\n",
       "        <td style=\"padding-left: 1em; padding-right: 1em; text-align: center; vertical-align: top\">United States</td>\n",
       "        <td style=\"padding-left: 1em; padding-right: 1em; text-align: center; vertical-align: top\">24</td>\n",
       "        <td style=\"padding-left: 1em; padding-right: 1em; text-align: center; vertical-align: top\">Tod Campbell</td>\n",
       "    </tr>\n",
       "    <tr>\n",
       "        <td style=\"padding-left: 1em; padding-right: 1em; text-align: center; vertical-align: top\">Derek</td>\n",
       "        <td style=\"padding-left: 1em; padding-right: 1em; text-align: center; vertical-align: top\">Ward</td>\n",
       "        <td style=\"padding-left: 1em; padding-right: 1em; text-align: center; vertical-align: top\">Switzerland</td>\n",
       "        <td style=\"padding-left: 1em; padding-right: 1em; text-align: center; vertical-align: top\">27</td>\n",
       "        <td style=\"padding-left: 1em; padding-right: 1em; text-align: center; vertical-align: top\">Derek Ward</td>\n",
       "    </tr>\n",
       "</table>\n",
       "[7 rows x 5 columns]<br/>\n",
       "</div>"
      ],
      "text/plain": [
       "Columns:\n",
       "\tFirst Name\tstr\n",
       "\tLast Name\tstr\n",
       "\tCountry\tstr\n",
       "\tage\tint\n",
       "\tFull Name\tstr\n",
       "\n",
       "Rows: 7\n",
       "\n",
       "Data:\n",
       "+------------+-----------+---------------+-----+----------------+\n",
       "| First Name | Last Name |    Country    | age |   Full Name    |\n",
       "+------------+-----------+---------------+-----+----------------+\n",
       "|    Bob     |   Smith   | United States |  26 |   Bob Smith    |\n",
       "|   Alice    |  Williams |     Canada    |  25 | Alice Williams |\n",
       "|  Malcolm   |    Jone   |    England    |  24 |  Malcolm Jone  |\n",
       "|   Felix    |   Brown   | United States |  25 |  Felix Brown   |\n",
       "|    Alex    |   Cooper  |     Poland    |  25 |  Alex Cooper   |\n",
       "|    Tod     |  Campbell | United States |  24 |  Tod Campbell  |\n",
       "|   Derek    |    Ward   |  Switzerland  |  27 |   Derek Ward   |\n",
       "+------------+-----------+---------------+-----+----------------+\n",
       "[7 rows x 5 columns]"
      ]
     },
     "execution_count": 32,
     "metadata": {},
     "output_type": "execute_result"
    }
   ],
   "source": [
    "sf"
   ]
  },
  {
   "cell_type": "code",
   "execution_count": null,
   "metadata": {
    "collapsed": true
   },
   "outputs": [],
   "source": []
  }
 ],
 "metadata": {
  "kernelspec": {
   "display_name": "Python 2",
   "language": "python",
   "name": "python2"
  },
  "language_info": {
   "codemirror_mode": {
    "name": "ipython",
    "version": 2
   },
   "file_extension": ".py",
   "mimetype": "text/x-python",
   "name": "python",
   "nbconvert_exporter": "python",
   "pygments_lexer": "ipython2",
   "version": "2.7.10"
  }
 },
 "nbformat": 4,
 "nbformat_minor": 0
}
